{
 "cells": [
  {
   "cell_type": "code",
   "execution_count": 1,
   "id": "17f9ace3",
   "metadata": {},
   "outputs": [],
   "source": [
    "import pandas as pd\n",
    "import numpy as np\n",
    "from math import sqrt\n",
    "from scipy import stats \n",
    "import matplotlib.pyplot as plt\n",
    "from scipy.stats import pearsonr\n",
    "import statsmodels.api as sm \n",
    "import seaborn as sns\n",
    "import xgboost as xg\n",
    "from sklearn import datasets\n",
    "from sklearn.model_selection import train_test_split\n",
    "from sklearn.linear_model import LinearRegression\n",
    "from sklearn.preprocessing import MinMaxScaler as mms\n",
    "from sklearn import datasets,linear_model,metrics\n",
    "from sklearn.metrics import mean_squared_error,confusion_matrix,accuracy_score,classification_report\n",
    "from sklearn.linear_model import LogisticRegression\n",
    "from sklearn.tree import DecisionTreeClassifier,DecisionTreeRegressor \n",
    "from sklearn.datasets import make_classification\n",
    "from sklearn.datasets import make_hastie_10_2\n",
    "from sklearn.ensemble import GradientBoostingClassifier,AdaBoostClassifier,RandomForestClassifier,BaggingClassifier\n",
    "from sklearn.datasets import make_regression\n",
    "from sklearn.ensemble import GradientBoostingRegressor,AdaBoostRegressor,RandomForestRegressor\n",
    "from sklearn.decomposition import PCA\n",
    "from sklearn.model_selection import GridSearchCV\n",
    "import warnings\n",
    "warnings.simplefilter(\"ignore\")"
   ]
  },
  {
   "cell_type": "code",
   "execution_count": 2,
   "id": "f8a191ea",
   "metadata": {},
   "outputs": [
    {
     "data": {
      "text/html": [
       "<div>\n",
       "<style scoped>\n",
       "    .dataframe tbody tr th:only-of-type {\n",
       "        vertical-align: middle;\n",
       "    }\n",
       "\n",
       "    .dataframe tbody tr th {\n",
       "        vertical-align: top;\n",
       "    }\n",
       "\n",
       "    .dataframe thead th {\n",
       "        text-align: right;\n",
       "    }\n",
       "</style>\n",
       "<table border=\"1\" class=\"dataframe\">\n",
       "  <thead>\n",
       "    <tr style=\"text-align: right;\">\n",
       "      <th></th>\n",
       "      <th>unique_id</th>\n",
       "      <th>amount</th>\n",
       "      <th>date_time_of_pickup</th>\n",
       "      <th>longitude_of_pickup</th>\n",
       "      <th>latitude_of_pickup</th>\n",
       "      <th>longitude_of_dropoff</th>\n",
       "      <th>latitude_of_dropoff</th>\n",
       "      <th>no_of_passenger</th>\n",
       "    </tr>\n",
       "  </thead>\n",
       "  <tbody>\n",
       "    <tr>\n",
       "      <th>0</th>\n",
       "      <td>26:21.0</td>\n",
       "      <td>4.5</td>\n",
       "      <td>2009-06-15 17:26:21 UTC</td>\n",
       "      <td>-73.844311</td>\n",
       "      <td>40.721319</td>\n",
       "      <td>-73.841610</td>\n",
       "      <td>40.712278</td>\n",
       "      <td>1</td>\n",
       "    </tr>\n",
       "    <tr>\n",
       "      <th>1</th>\n",
       "      <td>52:16.0</td>\n",
       "      <td>16.9</td>\n",
       "      <td>2010-01-05 16:52:16 UTC</td>\n",
       "      <td>-74.016048</td>\n",
       "      <td>40.711303</td>\n",
       "      <td>-73.979268</td>\n",
       "      <td>40.782004</td>\n",
       "      <td>1</td>\n",
       "    </tr>\n",
       "    <tr>\n",
       "      <th>2</th>\n",
       "      <td>35:00.0</td>\n",
       "      <td>5.7</td>\n",
       "      <td>2011-08-18 00:35:00 UTC</td>\n",
       "      <td>-73.982738</td>\n",
       "      <td>40.761270</td>\n",
       "      <td>-73.991242</td>\n",
       "      <td>40.750562</td>\n",
       "      <td>2</td>\n",
       "    </tr>\n",
       "    <tr>\n",
       "      <th>3</th>\n",
       "      <td>30:42.0</td>\n",
       "      <td>7.7</td>\n",
       "      <td>2012-04-21 04:30:42 UTC</td>\n",
       "      <td>-73.987130</td>\n",
       "      <td>40.733143</td>\n",
       "      <td>-73.991567</td>\n",
       "      <td>40.758092</td>\n",
       "      <td>1</td>\n",
       "    </tr>\n",
       "    <tr>\n",
       "      <th>4</th>\n",
       "      <td>51:00.0</td>\n",
       "      <td>5.3</td>\n",
       "      <td>2010-03-09 07:51:00 UTC</td>\n",
       "      <td>-73.968095</td>\n",
       "      <td>40.768008</td>\n",
       "      <td>-73.956655</td>\n",
       "      <td>40.783762</td>\n",
       "      <td>1</td>\n",
       "    </tr>\n",
       "    <tr>\n",
       "      <th>...</th>\n",
       "      <td>...</td>\n",
       "      <td>...</td>\n",
       "      <td>...</td>\n",
       "      <td>...</td>\n",
       "      <td>...</td>\n",
       "      <td>...</td>\n",
       "      <td>...</td>\n",
       "      <td>...</td>\n",
       "    </tr>\n",
       "    <tr>\n",
       "      <th>49995</th>\n",
       "      <td>25:15.0</td>\n",
       "      <td>15.0</td>\n",
       "      <td>2013-06-12 23:25:15 UTC</td>\n",
       "      <td>-73.999973</td>\n",
       "      <td>40.748531</td>\n",
       "      <td>-74.016899</td>\n",
       "      <td>40.705993</td>\n",
       "      <td>1</td>\n",
       "    </tr>\n",
       "    <tr>\n",
       "      <th>49996</th>\n",
       "      <td>19:18.0</td>\n",
       "      <td>7.5</td>\n",
       "      <td>2015-06-22 17:19:18 UTC</td>\n",
       "      <td>-73.984756</td>\n",
       "      <td>40.768211</td>\n",
       "      <td>-73.987366</td>\n",
       "      <td>40.760597</td>\n",
       "      <td>1</td>\n",
       "    </tr>\n",
       "    <tr>\n",
       "      <th>49997</th>\n",
       "      <td>53:00.0</td>\n",
       "      <td>6.9</td>\n",
       "      <td>2011-01-30 04:53:00 UTC</td>\n",
       "      <td>-74.002698</td>\n",
       "      <td>40.739428</td>\n",
       "      <td>-73.998108</td>\n",
       "      <td>40.759483</td>\n",
       "      <td>1</td>\n",
       "    </tr>\n",
       "    <tr>\n",
       "      <th>49998</th>\n",
       "      <td>09:00.0</td>\n",
       "      <td>4.5</td>\n",
       "      <td>2012-11-06 07:09:00 UTC</td>\n",
       "      <td>-73.946062</td>\n",
       "      <td>40.777567</td>\n",
       "      <td>-73.953450</td>\n",
       "      <td>40.779687</td>\n",
       "      <td>2</td>\n",
       "    </tr>\n",
       "    <tr>\n",
       "      <th>49999</th>\n",
       "      <td>13:14.0</td>\n",
       "      <td>10.9</td>\n",
       "      <td>2010-01-13 08:13:14 UTC</td>\n",
       "      <td>-73.932603</td>\n",
       "      <td>40.763805</td>\n",
       "      <td>-73.932603</td>\n",
       "      <td>40.763805</td>\n",
       "      <td>1</td>\n",
       "    </tr>\n",
       "  </tbody>\n",
       "</table>\n",
       "<p>50000 rows × 8 columns</p>\n",
       "</div>"
      ],
      "text/plain": [
       "      unique_id  amount      date_time_of_pickup  longitude_of_pickup  \\\n",
       "0       26:21.0     4.5  2009-06-15 17:26:21 UTC           -73.844311   \n",
       "1       52:16.0    16.9  2010-01-05 16:52:16 UTC           -74.016048   \n",
       "2       35:00.0     5.7  2011-08-18 00:35:00 UTC           -73.982738   \n",
       "3       30:42.0     7.7  2012-04-21 04:30:42 UTC           -73.987130   \n",
       "4       51:00.0     5.3  2010-03-09 07:51:00 UTC           -73.968095   \n",
       "...         ...     ...                      ...                  ...   \n",
       "49995   25:15.0    15.0  2013-06-12 23:25:15 UTC           -73.999973   \n",
       "49996   19:18.0     7.5  2015-06-22 17:19:18 UTC           -73.984756   \n",
       "49997   53:00.0     6.9  2011-01-30 04:53:00 UTC           -74.002698   \n",
       "49998   09:00.0     4.5  2012-11-06 07:09:00 UTC           -73.946062   \n",
       "49999   13:14.0    10.9  2010-01-13 08:13:14 UTC           -73.932603   \n",
       "\n",
       "       latitude_of_pickup  longitude_of_dropoff  latitude_of_dropoff  \\\n",
       "0               40.721319            -73.841610            40.712278   \n",
       "1               40.711303            -73.979268            40.782004   \n",
       "2               40.761270            -73.991242            40.750562   \n",
       "3               40.733143            -73.991567            40.758092   \n",
       "4               40.768008            -73.956655            40.783762   \n",
       "...                   ...                   ...                  ...   \n",
       "49995           40.748531            -74.016899            40.705993   \n",
       "49996           40.768211            -73.987366            40.760597   \n",
       "49997           40.739428            -73.998108            40.759483   \n",
       "49998           40.777567            -73.953450            40.779687   \n",
       "49999           40.763805            -73.932603            40.763805   \n",
       "\n",
       "       no_of_passenger  \n",
       "0                    1  \n",
       "1                    1  \n",
       "2                    2  \n",
       "3                    1  \n",
       "4                    1  \n",
       "...                ...  \n",
       "49995                1  \n",
       "49996                1  \n",
       "49997                1  \n",
       "49998                2  \n",
       "49999                1  \n",
       "\n",
       "[50000 rows x 8 columns]"
      ]
     },
     "execution_count": 2,
     "metadata": {},
     "output_type": "execute_result"
    }
   ],
   "source": [
    "data=pd.read_csv(r\"C:\\Users\\sudarson.SUDARSON\\Desktop\\Imarticus\\8 Random Forest\\TaxiFarePrediction (1)\\Taxi Fare Prediction\\Dataset\\TaxiFare.csv\")\n",
    "data"
   ]
  },
  {
   "cell_type": "code",
   "execution_count": 3,
   "id": "b248c55e",
   "metadata": {},
   "outputs": [
    {
     "name": "stdout",
     "output_type": "stream",
     "text": [
      "<class 'pandas.core.frame.DataFrame'>\n",
      "RangeIndex: 50000 entries, 0 to 49999\n",
      "Data columns (total 8 columns):\n",
      " #   Column                Non-Null Count  Dtype  \n",
      "---  ------                --------------  -----  \n",
      " 0   unique_id             50000 non-null  object \n",
      " 1   amount                50000 non-null  float64\n",
      " 2   date_time_of_pickup   50000 non-null  object \n",
      " 3   longitude_of_pickup   50000 non-null  float64\n",
      " 4   latitude_of_pickup    50000 non-null  float64\n",
      " 5   longitude_of_dropoff  50000 non-null  float64\n",
      " 6   latitude_of_dropoff   50000 non-null  float64\n",
      " 7   no_of_passenger       50000 non-null  int64  \n",
      "dtypes: float64(5), int64(1), object(2)\n",
      "memory usage: 3.1+ MB\n"
     ]
    }
   ],
   "source": [
    "data.info()"
   ]
  },
  {
   "cell_type": "code",
   "execution_count": 4,
   "id": "ad6e1422",
   "metadata": {},
   "outputs": [
    {
     "data": {
      "text/plain": [
       "Index(['unique_id', 'amount', 'date_time_of_pickup', 'longitude_of_pickup',\n",
       "       'latitude_of_pickup', 'longitude_of_dropoff', 'latitude_of_dropoff',\n",
       "       'no_of_passenger'],\n",
       "      dtype='object')"
      ]
     },
     "execution_count": 4,
     "metadata": {},
     "output_type": "execute_result"
    }
   ],
   "source": [
    "col=data.columns\n",
    "col"
   ]
  },
  {
   "cell_type": "code",
   "execution_count": 5,
   "id": "4b98707d",
   "metadata": {},
   "outputs": [
    {
     "name": "stdout",
     "output_type": "stream",
     "text": [
      "display(' unique_id ')  ,display(data['unique_id'].unique())\n",
      "display(' amount ')  ,display(data['amount'].unique())\n",
      "display(' date_time_of_pickup ')  ,display(data['date_time_of_pickup'].unique())\n",
      "display(' longitude_of_pickup ')  ,display(data['longitude_of_pickup'].unique())\n",
      "display(' latitude_of_pickup ')  ,display(data['latitude_of_pickup'].unique())\n",
      "display(' longitude_of_dropoff ')  ,display(data['longitude_of_dropoff'].unique())\n",
      "display(' latitude_of_dropoff ')  ,display(data['latitude_of_dropoff'].unique())\n",
      "display(' no_of_passenger ')  ,display(data['no_of_passenger'].unique())\n"
     ]
    }
   ],
   "source": [
    "for j in col:\n",
    "    print(\"display('\",j,\"')\",\" ,display(data['\"+j+\"'].unique())\")"
   ]
  },
  {
   "cell_type": "code",
   "execution_count": 6,
   "id": "8157b85e",
   "metadata": {},
   "outputs": [
    {
     "data": {
      "text/plain": [
       "' unique_id '"
      ]
     },
     "metadata": {},
     "output_type": "display_data"
    },
    {
     "data": {
      "text/plain": [
       "array(['26:21.0', '52:16.0', '35:00.0', ..., '38:13.0', '04:12.0',\n",
       "       '53:22.0'], dtype=object)"
      ]
     },
     "metadata": {},
     "output_type": "display_data"
    },
    {
     "data": {
      "text/plain": [
       "' amount '"
      ]
     },
     "metadata": {},
     "output_type": "display_data"
    },
    {
     "data": {
      "text/plain": [
       "array([ 4.5000e+00,  1.6900e+01,  5.7000e+00,  7.7000e+00,  5.3000e+00,\n",
       "        1.2100e+01,  7.5000e+00,  1.6500e+01,  9.0000e+00,  8.9000e+00,\n",
       "        5.5000e+00,  4.1000e+00,  7.0000e+00,  5.0000e+00,  1.2500e+01,\n",
       "        4.0000e+00,  1.0500e+01,  1.1500e+01,  4.9000e+00,  6.1000e+00,\n",
       "        7.3000e+00,  6.5000e+00,  9.3000e+00,  2.2540e+01,  3.1900e+01,\n",
       "        1.8100e+01,  5.8000e+01,  9.8000e+00,  8.1000e+00,  1.0900e+01,\n",
       "        1.7500e+01,  6.9000e+00,  3.3000e+00,  9.7000e+00,  8.0000e+00,\n",
       "        2.5500e+01,  1.5300e+01,  3.4670e+01,  1.3700e+01,  8.5000e+00,\n",
       "        3.7000e+00,  1.0100e+01,  1.5070e+01,  2.4900e+01,  1.7000e+01,\n",
       "        1.2000e+01,  1.1000e+01,  1.3500e+01,  1.4000e+01,  1.0000e+01,\n",
       "        1.4100e+01,  5.2000e+01,  1.1300e+01,  1.2900e+01,  9.5000e+00,\n",
       "        3.5000e+01,  1.4500e+01,  3.2500e+01,  1.7700e+01,  1.9000e+01,\n",
       "        4.9570e+01,  2.2500e+01,  5.2500e+01,  1.6000e+01,  1.7300e+01,\n",
       "        2.1500e+01,  1.4900e+01,  3.5500e+01,  1.1700e+01,  2.3000e+01,\n",
       "        2.4500e+01,  6.0000e+00,  2.7000e+01,  1.6100e+01,  1.5700e+01,\n",
       "        2.6900e+01,  4.2500e+01,  1.5500e+01,  3.0900e+01,  2.5000e+00,\n",
       "        6.7000e+00,  1.3000e+01,  1.8000e+01,  2.5300e+01,  5.7330e+01,\n",
       "        2.6670e+01,  2.5000e+01,  4.3500e+01,  8.7000e+00,  2.0500e+01,\n",
       "        3.4000e+01,  5.2830e+01,  2.0000e+01,  2.6500e+01,  1.0600e+01,\n",
       "        1.8500e+01,  2.3500e+01,  2.0330e+01,  3.3070e+01,  3.6500e+01,\n",
       "        3.3830e+01,  2.5700e+01,  2.9000e+01,  2.1000e+01,  3.2900e+01,\n",
       "        1.5000e+01,  4.9800e+01,  1.3300e+01,  5.6800e+01,  2.2000e+01,\n",
       "        2.4000e+01,  2.8000e+01,  3.8500e+01,  3.0000e+00,  3.8800e+01,\n",
       "        3.8100e+01,  2.9000e+00,  3.8830e+01,  2.8500e+01,  6.6300e+01,\n",
       "        3.5000e+00,  1.9700e+01,  3.8330e+01,  1.8900e+01,  4.5000e+01,\n",
       "        3.1200e+01,  3.4100e+01,  3.5070e+01,  2.8100e+01,  2.3700e+01,\n",
       "        3.1830e+01,  2.5450e+01,  6.6000e+00,  5.3000e+01,  3.0830e+01,\n",
       "        3.1500e+01,  2.2100e+01,  2.9300e+01,  6.3000e+00,  4.9150e+01,\n",
       "        3.0800e+01,  3.6100e+01,  1.9300e+01,  9.4000e+00,  2.4100e+01,\n",
       "        1.4700e+01,  5.4000e+01,  6.2000e+00,  2.0700e+01,  3.1870e+01,\n",
       "        4.0330e+01,  2.9500e+01,  3.3000e+01,  2.0900e+01,  2.7100e+01,\n",
       "        4.8330e+01,  1.9500e+01,  3.2830e+01,  1.8000e+02,  4.3000e+01,\n",
       "        3.0100e+01,  3.9700e+01,  2.8270e+01,  4.0830e+01,  5.5830e+01,\n",
       "        1.6500e+02,  4.5840e+01,  4.3540e+01,  7.0000e+01,  2.1700e+01,\n",
       "        2.9700e+01,  3.1700e+01,  4.6000e+00,  3.0500e+01,  3.3700e+01,\n",
       "        4.0100e+01,  2.9600e+01,  3.3330e+01,  3.0000e+01,  6.5500e+01,\n",
       "        1.8350e+01,  2.6270e+01,  3.2400e+01,  2.1300e+01,  3.6330e+01,\n",
       "        4.6000e+01,  2.8800e+01,  2.6800e+01,  2.5830e+01,  7.7000e+01,\n",
       "        3.0400e+01,  2.7300e+01, -2.9000e+00,  2.0100e+01,  1.4200e+01,\n",
       "        2.3300e+01,  3.9870e+01,  2.9470e+01,  3.9330e+01,  3.4900e+01,\n",
       "        3.5830e+01,  5.7540e+01,  2.9830e+01,  2.7070e+01,  3.1800e+01,\n",
       "        6.3000e+01,  5.8000e+00,  2.8670e+01,  5.8600e+01,  1.5400e+01,\n",
       "       -2.5000e+00,  3.2100e+01,  4.5300e+01,  2.2900e+01,  5.0000e+01,\n",
       "        3.7000e+01,  3.3800e+01,  7.9000e+01,  2.6700e+01,  4.2000e+00,\n",
       "        7.9000e+00,  1.0000e-02,  3.0670e+01,  4.2330e+01,  1.7900e+01,\n",
       "        3.1450e+01,  8.2000e+00,  3.8000e+00,  2.7830e+01,  5.5250e+01,\n",
       "        3.3300e+01,  3.1300e+01,  4.2000e+01,  3.2050e+01,  5.4000e+00,\n",
       "        2.3470e+01,  4.0270e+01,  1.2700e+01,  1.1400e+01,  3.9500e+01,\n",
       "        3.5200e+01,  2.8540e+01,  4.1330e+01,  3.1470e+01,  4.6330e+01,\n",
       "        4.1300e+01,  3.5330e+01,  2.4200e+01,  3.4330e+01,  4.9300e+01,\n",
       "        2.6000e+01,  3.2670e+01,  2.7470e+01,  2.9330e+01,  2.5200e+01,\n",
       "        3.7540e+01,  1.2600e+01,  2.8040e+01,  2.4270e+01,  1.0200e+01,\n",
       "        2.2270e+01,  7.7700e+01,  2.9800e+01,  3.1850e+01,  6.9700e+01,\n",
       "        2.6100e+01,  3.0040e+01,  2.7700e+01,  3.2330e+01,  5.3300e+01,\n",
       "        5.0100e+01,  3.5300e+01,  3.2000e+01,  3.7470e+01,  4.9500e+01,\n",
       "        3.1000e+01,  4.8040e+01,  3.3870e+01,  9.1000e+00,  8.5500e+01,\n",
       "        3.7870e+01,  2.5850e+01,  5.5000e+01,  2.8900e+01,  3.6000e+01,\n",
       "        3.3500e+01,  5.2900e+01,  7.8000e+00,  3.0270e+01,  3.3470e+01,\n",
       "        3.0330e+01,  3.6040e+01,  2.0830e+01,  5.1100e+01,  7.4000e+00,\n",
       "        4.0000e+01,  2.5470e+01,  3.9830e+01,  4.3330e+01,  3.4830e+01,\n",
       "        1.2300e+01,  3.7070e+01,  2.1330e+01,  1.1800e+01,  3.7500e+01,\n",
       "        1.9330e+01,  2.7500e+01,  2.9450e+01,  4.4830e+01,  5.7000e+01,\n",
       "        3.5800e+01,  4.4330e+01,  2.9400e+01,  3.5470e+01,  3.0300e+01,\n",
       "        3.3290e+01,  4.0540e+01,  2.2830e+01,  3.2800e+01,  1.2883e+02,\n",
       "        3.8300e+01,  3.7040e+01,  7.6800e+01,  1.1900e+01,  5.5500e+01,\n",
       "        5.6500e+01,  2.5800e+01,  3.8900e+01,  3.1330e+01,  5.0500e+01,\n",
       "        5.1330e+01,  4.4100e+01,  2.6330e+01,  3.7330e+01,  2.2330e+01,\n",
       "        8.3000e+00,  5.9000e+00,  5.9100e+01,  5.1500e+01,  3.9440e+01,\n",
       "        5.4300e+01,  4.8100e+01,  9.5000e+01,  7.1000e+00,  4.1000e+01,\n",
       "        3.4500e+01,  3.2250e+01,  4.1500e+01,  7.6000e+01,  1.6200e+01,\n",
       "        2.8250e+01,  4.5500e+01,  5.4610e+01,  4.2830e+01,  3.1050e+01,\n",
       "        3.4270e+01,  2.6830e+01,  2.0270e+01,  2.1540e+01,  3.9000e+01,\n",
       "        4.6500e+01,  1.2200e+01,  8.8000e+01,  2.7870e+01,  4.4500e+01,\n",
       "        1.5800e+01,  6.3500e+01,  4.0040e+01,  3.7530e+01,  2.5070e+01,\n",
       "        0.0000e+00,  5.2330e+01,  4.7830e+01,  8.7300e+01,  5.7100e+01,\n",
       "        4.9830e+01,  4.3830e+01,  7.5800e+01,  2.5050e+01,  3.1070e+01,\n",
       "        3.3040e+01,  3.7300e+01,  2.6300e+01,  5.0830e+01,  7.5330e+01,\n",
       "        4.5830e+01,  3.2270e+01,  2.8330e+01,  4.5330e+01,  3.9300e+01,\n",
       "        4.1800e+01,  5.9500e+01,  5.1700e+01,  4.3800e+01,  2.8650e+01,\n",
       "        5.3100e+01,  4.8900e+01,  3.7830e+01,  3.9040e+01,  2.4670e+01,\n",
       "        4.0500e+01,  3.6830e+01,  3.5850e+01,  4.8270e+01,  3.1540e+01,\n",
       "        4.1830e+01,  6.1040e+01,  1.0467e+02,  8.0750e+01,  3.6900e+01,\n",
       "        8.7000e+01,  5.2100e+01,  4.4800e+01,  5.1000e+00,  8.6000e+00,\n",
       "        3.4300e+01,  9.6000e+01,  5.4100e+01, -3.0000e+00,  3.2300e+01,\n",
       "        3.5700e+01,  2.3870e+01,  3.4800e+01,  4.3700e+01,  2.9070e+01,\n",
       "        1.0300e+01,  1.9800e+01,  2.8830e+01,  3.7700e+01,  7.5000e+01,\n",
       "        1.9900e+01,  4.7800e+01,  1.1100e+01,  3.1040e+01,  7.7150e+01,\n",
       "        2.0200e+01,  1.0800e+02,  1.6600e+01,  4.8000e+01,  1.3100e+01,\n",
       "        2.6540e+01,  2.5330e+01,  1.8330e+01,  8.2500e+01,  4.2670e+01,\n",
       "        4.1040e+01,  1.0700e+01,  1.2670e+01,  1.9470e+01,  7.3300e+01,\n",
       "        5.7830e+01,  3.3540e+01,  4.7000e+00,  4.0800e+01,  3.4440e+01,\n",
       "        4.8670e+01,  3.0200e+01,  3.1600e+01,  2.5870e+01,  3.8000e+01,\n",
       "        4.7040e+01,  4.8300e+01,  4.2540e+01,  4.1870e+01,  7.8000e+01,\n",
       "        4.9000e+01,  7.1100e+01,  3.5440e+01,  4.8830e+01,  6.1600e+01,\n",
       "        1.3850e+01,  8.5000e+01,  1.4800e+01,  5.1000e+01,  6.1250e+01,\n",
       "        3.6300e+01,  4.7500e+01,  2.6650e+01,  2.5900e+01,  2.7540e+01,\n",
       "        6.2300e+01,  7.6750e+01,  1.6300e+01,  8.0350e+01,  2.7330e+01,\n",
       "        6.3100e+01,  1.8200e+01,  1.6830e+01,  6.5000e+01,  1.3900e+01,\n",
       "        3.2200e+01,  2.5040e+01,  6.7400e+01,  5.3500e+01,  7.9250e+01,\n",
       "        2.4830e+01,  1.2000e+02,  7.1000e+01,  3.6670e+01,  6.1900e+01,\n",
       "        2.4600e+01,  3.8540e+01,  6.1500e+01,  4.0900e+01,  4.4270e+01,\n",
       "        2.8050e+01,  2.7940e+01,  6.3830e+01,  3.7800e+01,  2.6250e+01,\n",
       "        3.6270e+01,  5.2400e+01,  6.3160e+01,  4.7000e+01,  3.5050e+01,\n",
       "        6.0000e+01,  2.6600e+01,  2.9870e+01,  2.5390e+01,  1.4270e+01,\n",
       "        3.8270e+01,  1.0000e+02,  7.6500e+01,  2.7800e+01,  4.4900e+01,\n",
       "        4.2040e+01,  5.0670e+01,  3.2850e+01,  1.9400e+01,  2.3330e+01,\n",
       "        1.3400e+01,  1.3500e+02,  7.0200e+01,  5.6000e+01,  2.3400e+01,\n",
       "        3.5600e+01,  9.9000e+00,  3.0650e+01,  3.8670e+01,  1.8830e+01,\n",
       "        1.7800e+01,  1.1000e+02,  2.8300e+01,  4.3300e+01,  5.1300e+01,\n",
       "        1.4900e+02,  2.4250e+01,  5.5100e+01,  5.8900e+01,  4.5450e+01,\n",
       "        2.7900e+01,  4.6830e+01,  2.3950e+01,  4.9040e+01,  6.8300e+01,\n",
       "        6.5550e+01,  5.2700e+01,  6.6500e+00,  1.9830e+01,  1.5870e+01,\n",
       "        2.2700e+01,  5.4830e+01,  4.7330e+01,  7.3500e+01,  4.2900e+01,\n",
       "        4.4540e+01,  4.9540e+01,  7.8500e+01,  3.4450e+01,  4.2100e+01,\n",
       "        4.1700e+01,  2.0000e+02,  1.9050e+01,  4.8500e+01,  2.7600e+01,\n",
       "        3.6650e+01,  5.3070e+01,  2.1470e+01,  6.6540e+01,  2.4590e+01,\n",
       "        2.7450e+01,  6.0300e+01,  7.2000e+01,  7.8600e+01,  6.2660e+01,\n",
       "        2.2670e+01,  5.8500e+01,  4.5070e+01,  6.9240e+01,  4.9330e+01,\n",
       "        4.1470e+01,  6.0500e+01,  3.6800e+01,  2.0600e+01,  5.5700e+01,\n",
       "        6.1100e+01,  2.4040e+01,  2.9850e+01,  1.4600e+01,  6.4300e+01,\n",
       "        2.2650e+01,  9.6250e+01,  1.3600e+02,  5.4500e+01,  6.1830e+01,\n",
       "        4.4000e+01,  5.5300e+01,  4.5800e+01,  3.2970e+01,  7.5250e+01,\n",
       "        4.3850e+01,  7.4000e+01,  6.1000e+01,  1.3070e+01,  5.3830e+01,\n",
       "        3.8590e+01,  2.3790e+01,  4.3600e+01,  5.8830e+01,  9.3750e+01,\n",
       "        1.3540e+01,  8.4500e+01,  4.3000e+00,  1.2861e+02,  8.9900e+01,\n",
       "        9.1000e+01,  4.7700e+01,  2.5400e+01,  3.9540e+01,  6.8000e+01,\n",
       "        1.8400e+01,  4.7540e+01,  6.3700e+01,  4.3040e+01,  7.2600e+01,\n",
       "        5.4600e+01,  1.1650e+01,  4.4040e+01,  9.2490e+01,  3.2540e+01,\n",
       "        6.1800e+01,  1.7830e+01,  1.8270e+01,  3.2590e+01,  1.3470e+01,\n",
       "        3.9800e+01,  2.2040e+01,  4.3470e+01,  2.1070e+01,  3.4540e+01,\n",
       "        1.3800e+01,  3.5870e+01,  1.4300e+01,  6.7500e+01,  6.7250e+01,\n",
       "        5.6700e+01,  8.2570e+01,  5.6300e+01,  5.8300e+01, -5.0000e+00,\n",
       "        5.5800e+01,  5.4330e+01,  1.4300e+02,  3.9070e+01,  8.8250e+01,\n",
       "        2.7200e+01,  6.6000e+01,  3.2040e+01,  4.5040e+01,  4.6800e+01,\n",
       "        4.6900e+01,  5.7200e+01,  3.4190e+01,  6.2000e+01,  2.1830e+01,\n",
       "        1.6700e+01,  4.6100e+01,  2.2800e+01,  8.6750e+01,  1.0300e+02,\n",
       "        7.4500e+01,  1.6000e+02,  7.4100e+01,  6.7240e+01,  9.0500e+01,\n",
       "        2.8260e+01,  4.2800e+01,  3.7160e+01,  2.3800e+01,  2.1800e+01,\n",
       "        3.8040e+01,  3.2650e+01,  4.9350e+01,  8.0500e+01,  1.9040e+01,\n",
       "        3.0540e+01,  5.1830e+01,  5.1540e+01,  5.0330e+01,  3.3600e+01,\n",
       "        6.6700e+01,  3.1550e+01,  2.7050e+01])"
      ]
     },
     "metadata": {},
     "output_type": "display_data"
    },
    {
     "data": {
      "text/plain": [
       "' date_time_of_pickup '"
      ]
     },
     "metadata": {},
     "output_type": "display_data"
    },
    {
     "data": {
      "text/plain": [
       "array(['2009-06-15 17:26:21 UTC', '2010-01-05 16:52:16 UTC',\n",
       "       '2011-08-18 00:35:00 UTC', ..., '2011-01-30 04:53:00 UTC',\n",
       "       '2012-11-06 07:09:00 UTC', '2010-01-13 08:13:14 UTC'], dtype=object)"
      ]
     },
     "metadata": {},
     "output_type": "display_data"
    },
    {
     "data": {
      "text/plain": [
       "' longitude_of_pickup '"
      ]
     },
     "metadata": {},
     "output_type": "display_data"
    },
    {
     "data": {
      "text/plain": [
       "array([-73.844311, -74.016048, -73.982738, ..., -73.998573, -73.946062,\n",
       "       -73.932603])"
      ]
     },
     "metadata": {},
     "output_type": "display_data"
    },
    {
     "data": {
      "text/plain": [
       "' latitude_of_pickup '"
      ]
     },
     "metadata": {},
     "output_type": "display_data"
    },
    {
     "data": {
      "text/plain": [
       "array([40.721319, 40.711303, 40.76127 , ..., 40.719868, 40.739494,\n",
       "       40.768434])"
      ]
     },
     "metadata": {},
     "output_type": "display_data"
    },
    {
     "data": {
      "text/plain": [
       "' longitude_of_dropoff '"
      ]
     },
     "metadata": {},
     "output_type": "display_data"
    },
    {
     "data": {
      "text/plain": [
       "array([-73.84161   , -73.979268  , -73.991242  , ..., -74.016899  ,\n",
       "       -73.98736572, -73.932603  ])"
      ]
     },
     "metadata": {},
     "output_type": "display_data"
    },
    {
     "data": {
      "text/plain": [
       "' latitude_of_dropoff '"
      ]
     },
     "metadata": {},
     "output_type": "display_data"
    },
    {
     "data": {
      "text/plain": [
       "array([40.712278  , 40.782004  , 40.750562  , ..., 40.705993  ,\n",
       "       40.76059723, 40.763805  ])"
      ]
     },
     "metadata": {},
     "output_type": "display_data"
    },
    {
     "data": {
      "text/plain": [
       "' no_of_passenger '"
      ]
     },
     "metadata": {},
     "output_type": "display_data"
    },
    {
     "data": {
      "text/plain": [
       "array([1, 2, 3, 6, 5, 4, 0], dtype=int64)"
      ]
     },
     "metadata": {},
     "output_type": "display_data"
    },
    {
     "data": {
      "text/plain": [
       "(None, None)"
      ]
     },
     "execution_count": 6,
     "metadata": {},
     "output_type": "execute_result"
    }
   ],
   "source": [
    "display(' unique_id ')  ,display(data['unique_id'].unique())\n",
    "display(' amount ')  ,display(data['amount'].unique())\n",
    "display(' date_time_of_pickup ')  ,display(data['date_time_of_pickup'].unique())\n",
    "display(' longitude_of_pickup ')  ,display(data['longitude_of_pickup'].unique())\n",
    "display(' latitude_of_pickup ')  ,display(data['latitude_of_pickup'].unique())\n",
    "display(' longitude_of_dropoff ')  ,display(data['longitude_of_dropoff'].unique())\n",
    "display(' latitude_of_dropoff ')  ,display(data['latitude_of_dropoff'].unique())\n",
    "display(' no_of_passenger ')  ,display(data['no_of_passenger'].unique())"
   ]
  },
  {
   "cell_type": "code",
   "execution_count": 7,
   "id": "c9bf4987",
   "metadata": {},
   "outputs": [],
   "source": [
    "data[\"date_time_of_pickup\"]=pd.to_datetime(data[\"date_time_of_pickup\"])"
   ]
  },
  {
   "cell_type": "code",
   "execution_count": 8,
   "id": "f5e1f5fd",
   "metadata": {},
   "outputs": [
    {
     "data": {
      "text/html": [
       "<div>\n",
       "<style scoped>\n",
       "    .dataframe tbody tr th:only-of-type {\n",
       "        vertical-align: middle;\n",
       "    }\n",
       "\n",
       "    .dataframe tbody tr th {\n",
       "        vertical-align: top;\n",
       "    }\n",
       "\n",
       "    .dataframe thead th {\n",
       "        text-align: right;\n",
       "    }\n",
       "</style>\n",
       "<table border=\"1\" class=\"dataframe\">\n",
       "  <thead>\n",
       "    <tr style=\"text-align: right;\">\n",
       "      <th></th>\n",
       "      <th>longitude_of_pickup</th>\n",
       "      <th>latitude_of_pickup</th>\n",
       "      <th>longitude_of_dropoff</th>\n",
       "      <th>latitude_of_dropoff</th>\n",
       "      <th>no_of_passenger</th>\n",
       "    </tr>\n",
       "  </thead>\n",
       "  <tbody>\n",
       "    <tr>\n",
       "      <th>0</th>\n",
       "      <td>-73.844311</td>\n",
       "      <td>40.721319</td>\n",
       "      <td>-73.841610</td>\n",
       "      <td>40.712278</td>\n",
       "      <td>1</td>\n",
       "    </tr>\n",
       "    <tr>\n",
       "      <th>1</th>\n",
       "      <td>-74.016048</td>\n",
       "      <td>40.711303</td>\n",
       "      <td>-73.979268</td>\n",
       "      <td>40.782004</td>\n",
       "      <td>1</td>\n",
       "    </tr>\n",
       "    <tr>\n",
       "      <th>2</th>\n",
       "      <td>-73.982738</td>\n",
       "      <td>40.761270</td>\n",
       "      <td>-73.991242</td>\n",
       "      <td>40.750562</td>\n",
       "      <td>2</td>\n",
       "    </tr>\n",
       "    <tr>\n",
       "      <th>3</th>\n",
       "      <td>-73.987130</td>\n",
       "      <td>40.733143</td>\n",
       "      <td>-73.991567</td>\n",
       "      <td>40.758092</td>\n",
       "      <td>1</td>\n",
       "    </tr>\n",
       "    <tr>\n",
       "      <th>4</th>\n",
       "      <td>-73.968095</td>\n",
       "      <td>40.768008</td>\n",
       "      <td>-73.956655</td>\n",
       "      <td>40.783762</td>\n",
       "      <td>1</td>\n",
       "    </tr>\n",
       "    <tr>\n",
       "      <th>...</th>\n",
       "      <td>...</td>\n",
       "      <td>...</td>\n",
       "      <td>...</td>\n",
       "      <td>...</td>\n",
       "      <td>...</td>\n",
       "    </tr>\n",
       "    <tr>\n",
       "      <th>49995</th>\n",
       "      <td>-73.999973</td>\n",
       "      <td>40.748531</td>\n",
       "      <td>-74.016899</td>\n",
       "      <td>40.705993</td>\n",
       "      <td>1</td>\n",
       "    </tr>\n",
       "    <tr>\n",
       "      <th>49996</th>\n",
       "      <td>-73.984756</td>\n",
       "      <td>40.768211</td>\n",
       "      <td>-73.987366</td>\n",
       "      <td>40.760597</td>\n",
       "      <td>1</td>\n",
       "    </tr>\n",
       "    <tr>\n",
       "      <th>49997</th>\n",
       "      <td>-74.002698</td>\n",
       "      <td>40.739428</td>\n",
       "      <td>-73.998108</td>\n",
       "      <td>40.759483</td>\n",
       "      <td>1</td>\n",
       "    </tr>\n",
       "    <tr>\n",
       "      <th>49998</th>\n",
       "      <td>-73.946062</td>\n",
       "      <td>40.777567</td>\n",
       "      <td>-73.953450</td>\n",
       "      <td>40.779687</td>\n",
       "      <td>2</td>\n",
       "    </tr>\n",
       "    <tr>\n",
       "      <th>49999</th>\n",
       "      <td>-73.932603</td>\n",
       "      <td>40.763805</td>\n",
       "      <td>-73.932603</td>\n",
       "      <td>40.763805</td>\n",
       "      <td>1</td>\n",
       "    </tr>\n",
       "  </tbody>\n",
       "</table>\n",
       "<p>50000 rows × 5 columns</p>\n",
       "</div>"
      ],
      "text/plain": [
       "       longitude_of_pickup  latitude_of_pickup  longitude_of_dropoff  \\\n",
       "0               -73.844311           40.721319            -73.841610   \n",
       "1               -74.016048           40.711303            -73.979268   \n",
       "2               -73.982738           40.761270            -73.991242   \n",
       "3               -73.987130           40.733143            -73.991567   \n",
       "4               -73.968095           40.768008            -73.956655   \n",
       "...                    ...                 ...                   ...   \n",
       "49995           -73.999973           40.748531            -74.016899   \n",
       "49996           -73.984756           40.768211            -73.987366   \n",
       "49997           -74.002698           40.739428            -73.998108   \n",
       "49998           -73.946062           40.777567            -73.953450   \n",
       "49999           -73.932603           40.763805            -73.932603   \n",
       "\n",
       "       latitude_of_dropoff  no_of_passenger  \n",
       "0                40.712278                1  \n",
       "1                40.782004                1  \n",
       "2                40.750562                2  \n",
       "3                40.758092                1  \n",
       "4                40.783762                1  \n",
       "...                    ...              ...  \n",
       "49995            40.705993                1  \n",
       "49996            40.760597                1  \n",
       "49997            40.759483                1  \n",
       "49998            40.779687                2  \n",
       "49999            40.763805                1  \n",
       "\n",
       "[50000 rows x 5 columns]"
      ]
     },
     "execution_count": 8,
     "metadata": {},
     "output_type": "execute_result"
    }
   ],
   "source": [
    "x=data.iloc[0:,3:]\n",
    "x"
   ]
  },
  {
   "cell_type": "code",
   "execution_count": 9,
   "id": "ab00f245",
   "metadata": {},
   "outputs": [
    {
     "data": {
      "text/plain": [
       "0         4.5\n",
       "1        16.9\n",
       "2         5.7\n",
       "3         7.7\n",
       "4         5.3\n",
       "         ... \n",
       "49995    15.0\n",
       "49996     7.5\n",
       "49997     6.9\n",
       "49998     4.5\n",
       "49999    10.9\n",
       "Name: amount, Length: 50000, dtype: float64"
      ]
     },
     "execution_count": 9,
     "metadata": {},
     "output_type": "execute_result"
    }
   ],
   "source": [
    "y=data[\"amount\"]\n",
    "y"
   ]
  },
  {
   "cell_type": "code",
   "execution_count": 10,
   "id": "9f49d09e",
   "metadata": {},
   "outputs": [],
   "source": [
    "trainx,testx,trainy,testy = train_test_split(x,y,test_size = 0.2)"
   ]
  },
  {
   "cell_type": "code",
   "execution_count": 11,
   "id": "31cffa57",
   "metadata": {},
   "outputs": [],
   "source": [
    "randomreg= RandomForestRegressor(max_depth=50, random_state=50).fit(trainx,trainy)\n",
    "randomreg.predict(testx)\n",
    "randomrms=sqrt(mean_squared_error(testy,randomreg.predict(testx),squared=False))"
   ]
  },
  {
   "cell_type": "markdown",
   "id": "289c7517",
   "metadata": {},
   "source": [
    "# Taxi Fare Price Prediction Predicted"
   ]
  },
  {
   "cell_type": "code",
   "execution_count": 12,
   "id": "f9fe562d",
   "metadata": {},
   "outputs": [
    {
     "name": "stdout",
     "output_type": "stream",
     "text": [
      "RandomForestRegressor       =  0.7466701867765195\n",
      "RandomForestRegressor rms   =  2.2024228667992602\n"
     ]
    }
   ],
   "source": [
    "print(\"RandomForestRegressor       = \",randomreg.score(testx,testy))\n",
    "print(\"RandomForestRegressor rms   = \",randomrms)"
   ]
  },
  {
   "cell_type": "code",
   "execution_count": 14,
   "id": "caff6a2a",
   "metadata": {},
   "outputs": [
    {
     "data": {
      "text/plain": [
       "\"param_grid = {\\n'n_estimators': [100, 80, 60, 55, 51, 45],  \\n'max_depth': [7, 8],\\n'random_state':[1,2,3,4,5]\\n}\\n# Grid Search CV implementation\\nrandomreg= RandomForestRegressor()\\ngrid_cv = GridSearchCV(randomreg, param_grid ,cv=3)\\ngrid_cv.fit(x,y)\\n# Return set of parameters with the best performance\\ndisplay(grid_cv.best_params_)\\n# Return the performance metric score\\ndisplay(grid_cv.best_score_)\""
      ]
     },
     "execution_count": 14,
     "metadata": {},
     "output_type": "execute_result"
    }
   ],
   "source": [
    "'''param_grid = {\n",
    "'n_estimators': [100, 80, 60, 55, 51, 45],  \n",
    "'max_depth': [7, 8],\n",
    "'random_state':[1,2,3,4,5]\n",
    "}\n",
    "# Grid Search CV implementation\n",
    "randomreg= RandomForestRegressor()\n",
    "grid_cv = GridSearchCV(randomreg, param_grid ,cv=3)\n",
    "grid_cv.fit(x,y)\n",
    "# Return set of parameters with the best performance\n",
    "display(grid_cv.best_params_)\n",
    "# Return the performance metric score\n",
    "display(grid_cv.best_score_)'''"
   ]
  },
  {
   "cell_type": "code",
   "execution_count": 15,
   "id": "bd052d99",
   "metadata": {},
   "outputs": [],
   "source": [
    "#randomreg= RandomForestRegressor()"
   ]
  },
  {
   "cell_type": "code",
   "execution_count": 19,
   "id": "000b9699",
   "metadata": {},
   "outputs": [
    {
     "data": {
      "text/plain": [
       "'param_grid = {\\n\"max_depth\": [3, 4, 7, 10, 25],\\n\"gamma\": [0.5, 1, 5, 10, 25],\\n\"min_child_weight\": [1, 3, 5, 10, 25],\\n\"reg_lambda\": [5, 10, 50, 100, 300],\\n\"scale_pos_weight\": [1, 3, 5, 10, 25]\\n}\\n# Grid Search CV implementation\\nxgb_cl = xgb.XGBClassifier(objective=\"binary:logistic\")\\ngrid_cv = GridSearchCV(xgb_cl, param_grid, scoring=\"roc_auc\", n_jobs=-1, cv=3)\\ngrid_cv.fit(X_train, y_train)\\n# Return set of parameters with the best performance\\ngrid_cv.best_params_\\n# Return the performance metric score\\ngrid_cv.best_score_'"
      ]
     },
     "execution_count": 19,
     "metadata": {},
     "output_type": "execute_result"
    }
   ],
   "source": [
    "'''param_grid = {\n",
    "\"max_depth\": [3, 4, 7, 10, 25],\n",
    "\"gamma\": [0.5, 1, 5, 10, 25],\n",
    "\"min_child_weight\": [1, 3, 5, 10, 25],\n",
    "\"reg_lambda\": [5, 10, 50, 100, 300],\n",
    "\"scale_pos_weight\": [1, 3, 5, 10, 25]\n",
    "}\n",
    "# Grid Search CV implementation\n",
    "xgb_cl = xgb.XGBClassifier(objective=\"binary:logistic\")\n",
    "grid_cv = GridSearchCV(xgb_cl, param_grid, scoring=\"roc_auc\", n_jobs=-1, cv=3)\n",
    "grid_cv.fit(X_train, y_train)\n",
    "# Return set of parameters with the best performance\n",
    "grid_cv.best_params_\n",
    "# Return the performance metric score\n",
    "grid_cv.best_score_'''"
   ]
  },
  {
   "cell_type": "code",
   "execution_count": 20,
   "id": "29130d4d",
   "metadata": {},
   "outputs": [
    {
     "data": {
      "text/plain": [
       "'#Instantiate SimpleImputer \\nsi=SimpleImputer(missing_values = np.nan, strategy=\"median\")\\nsi.fit(df[[’age’, \\'bmi’]])\\n  \\n#Filling missing data with median\\ndf[[’age’, \\'bmi’]] = si.transform(df[[’age’, \\'bmi’]])'"
      ]
     },
     "execution_count": 20,
     "metadata": {},
     "output_type": "execute_result"
    }
   ],
   "source": [
    "'''#Instantiate SimpleImputer \n",
    "si=SimpleImputer(missing_values = np.nan, strategy=\"median\")\n",
    "si.fit(df[[’age’, 'bmi’]])\n",
    "  \n",
    "#Filling missing data with median\n",
    "df[[’age’, 'bmi’]] = si.transform(df[[’age’, 'bmi’]])'''"
   ]
  },
  {
   "cell_type": "code",
   "execution_count": null,
   "id": "4567b8a2",
   "metadata": {},
   "outputs": [],
   "source": []
  }
 ],
 "metadata": {
  "kernelspec": {
   "display_name": "Python 3 (ipykernel)",
   "language": "python",
   "name": "python3"
  },
  "language_info": {
   "codemirror_mode": {
    "name": "ipython",
    "version": 3
   },
   "file_extension": ".py",
   "mimetype": "text/x-python",
   "name": "python",
   "nbconvert_exporter": "python",
   "pygments_lexer": "ipython3",
   "version": "3.9.12"
  }
 },
 "nbformat": 4,
 "nbformat_minor": 5
}
