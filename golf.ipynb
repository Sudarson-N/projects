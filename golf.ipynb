{
 "cells": [
  {
   "cell_type": "code",
   "execution_count": 1,
   "id": "c6089d66",
   "metadata": {},
   "outputs": [],
   "source": [
    "import pandas as pd\n",
    "from sklearn.model_selection import train_test_split"
   ]
  },
  {
   "cell_type": "code",
   "execution_count": 2,
   "id": "787e6a37",
   "metadata": {
    "scrolled": true
   },
   "outputs": [
    {
     "data": {
      "text/html": [
       "<div>\n",
       "<style scoped>\n",
       "    .dataframe tbody tr th:only-of-type {\n",
       "        vertical-align: middle;\n",
       "    }\n",
       "\n",
       "    .dataframe tbody tr th {\n",
       "        vertical-align: top;\n",
       "    }\n",
       "\n",
       "    .dataframe thead th {\n",
       "        text-align: right;\n",
       "    }\n",
       "</style>\n",
       "<table border=\"1\" class=\"dataframe\">\n",
       "  <thead>\n",
       "    <tr style=\"text-align: right;\">\n",
       "      <th></th>\n",
       "      <th>index</th>\n",
       "      <th>Outlook</th>\n",
       "      <th>Temperature</th>\n",
       "      <th>Humidity</th>\n",
       "      <th>Windy</th>\n",
       "      <th>Playgolf</th>\n",
       "    </tr>\n",
       "  </thead>\n",
       "  <tbody>\n",
       "    <tr>\n",
       "      <th>0</th>\n",
       "      <td>0</td>\n",
       "      <td>Rainy</td>\n",
       "      <td>Hot</td>\n",
       "      <td>High</td>\n",
       "      <td>False</td>\n",
       "      <td>No</td>\n",
       "    </tr>\n",
       "    <tr>\n",
       "      <th>1</th>\n",
       "      <td>1</td>\n",
       "      <td>Rainy</td>\n",
       "      <td>Hot</td>\n",
       "      <td>High</td>\n",
       "      <td>True</td>\n",
       "      <td>No</td>\n",
       "    </tr>\n",
       "    <tr>\n",
       "      <th>2</th>\n",
       "      <td>2</td>\n",
       "      <td>Overcast</td>\n",
       "      <td>Hot</td>\n",
       "      <td>High</td>\n",
       "      <td>False</td>\n",
       "      <td>Yes</td>\n",
       "    </tr>\n",
       "    <tr>\n",
       "      <th>3</th>\n",
       "      <td>3</td>\n",
       "      <td>Sunny</td>\n",
       "      <td>Mild</td>\n",
       "      <td>High</td>\n",
       "      <td>False</td>\n",
       "      <td>Yes</td>\n",
       "    </tr>\n",
       "    <tr>\n",
       "      <th>4</th>\n",
       "      <td>4</td>\n",
       "      <td>Sunny</td>\n",
       "      <td>Cool</td>\n",
       "      <td>Normal</td>\n",
       "      <td>False</td>\n",
       "      <td>Yes</td>\n",
       "    </tr>\n",
       "  </tbody>\n",
       "</table>\n",
       "</div>"
      ],
      "text/plain": [
       "   index   Outlook Temperature Humidity  Windy Playgolf\n",
       "0      0     Rainy         Hot     High  False       No\n",
       "1      1     Rainy         Hot     High   True       No\n",
       "2      2  Overcast         Hot     High  False      Yes\n",
       "3      3     Sunny        Mild     High  False      Yes\n",
       "4      4     Sunny        Cool   Normal  False      Yes"
      ]
     },
     "execution_count": 2,
     "metadata": {},
     "output_type": "execute_result"
    }
   ],
   "source": [
    "data=pd.read_excel(r\"C:\\Users\\sudarson.SUDARSON\\Downloads\\golfdataset.xlsx\")\n",
    "data.columns=[\"index\",\"Outlook\",\"Temperature\",\"Humidity\",\"Windy\",\"Playgolf\"]\n",
    "data.head()"
   ]
  },
  {
   "cell_type": "code",
   "execution_count": 3,
   "id": "f6e0a958",
   "metadata": {},
   "outputs": [],
   "source": [
    "x=data.iloc[0:,1:5]\n",
    "y=data.iloc[0:,5]\n",
    "\n",
    "\n"
   ]
  },
  {
   "cell_type": "code",
   "execution_count": 4,
   "id": "b6eda98b",
   "metadata": {},
   "outputs": [
    {
     "data": {
      "text/plain": [
       "0      No\n",
       "1      No\n",
       "2     Yes\n",
       "3     Yes\n",
       "4     Yes\n",
       "5      No\n",
       "6     Yes\n",
       "7      No\n",
       "8     Yes\n",
       "9     Yes\n",
       "10    Yes\n",
       "11    Yes\n",
       "12    Yes\n",
       "13     No\n",
       "Name: Playgolf, dtype: object"
      ]
     },
     "execution_count": 4,
     "metadata": {},
     "output_type": "execute_result"
    }
   ],
   "source": [
    "y"
   ]
  },
  {
   "cell_type": "code",
   "execution_count": 5,
   "id": "d0fc43ef",
   "metadata": {},
   "outputs": [
    {
     "data": {
      "text/plain": [
       "array(['Rainy', 'Overcast', 'Sunny'], dtype=object)"
      ]
     },
     "execution_count": 5,
     "metadata": {},
     "output_type": "execute_result"
    }
   ],
   "source": [
    "x.Outlook.unique()"
   ]
  },
  {
   "cell_type": "code",
   "execution_count": 6,
   "id": "43127269",
   "metadata": {},
   "outputs": [
    {
     "name": "stderr",
     "output_type": "stream",
     "text": [
      "C:\\Users\\SUDARS~1.SUD\\AppData\\Local\\Temp/ipykernel_15228/701269755.py:1: SettingWithCopyWarning: \n",
      "A value is trying to be set on a copy of a slice from a DataFrame\n",
      "\n",
      "See the caveats in the documentation: https://pandas.pydata.org/pandas-docs/stable/user_guide/indexing.html#returning-a-view-versus-a-copy\n",
      "  x.Outlook[x.Outlook==\"Rainy\"]=0\n",
      "C:\\Users\\SUDARS~1.SUD\\AppData\\Local\\Temp/ipykernel_15228/701269755.py:2: SettingWithCopyWarning: \n",
      "A value is trying to be set on a copy of a slice from a DataFrame\n",
      "\n",
      "See the caveats in the documentation: https://pandas.pydata.org/pandas-docs/stable/user_guide/indexing.html#returning-a-view-versus-a-copy\n",
      "  x.Outlook[x.Outlook==\"Overcast\"]=1\n",
      "C:\\Users\\SUDARS~1.SUD\\AppData\\Local\\Temp/ipykernel_15228/701269755.py:3: SettingWithCopyWarning: \n",
      "A value is trying to be set on a copy of a slice from a DataFrame\n",
      "\n",
      "See the caveats in the documentation: https://pandas.pydata.org/pandas-docs/stable/user_guide/indexing.html#returning-a-view-versus-a-copy\n",
      "  x.Outlook[x.Outlook==\"Sunny\"]=2\n"
     ]
    }
   ],
   "source": [
    "x.Outlook[x.Outlook==\"Rainy\"]=0\n",
    "x.Outlook[x.Outlook==\"Overcast\"]=1\n",
    "x.Outlook[x.Outlook==\"Sunny\"]=2\n"
   ]
  },
  {
   "cell_type": "code",
   "execution_count": 7,
   "id": "2fd7b650",
   "metadata": {},
   "outputs": [
    {
     "data": {
      "text/plain": [
       "array(['Hot', 'Mild', 'Cool'], dtype=object)"
      ]
     },
     "execution_count": 7,
     "metadata": {},
     "output_type": "execute_result"
    }
   ],
   "source": [
    "x.Temperature.unique()"
   ]
  },
  {
   "cell_type": "code",
   "execution_count": 8,
   "id": "ea957194",
   "metadata": {},
   "outputs": [
    {
     "name": "stderr",
     "output_type": "stream",
     "text": [
      "C:\\Users\\SUDARS~1.SUD\\AppData\\Local\\Temp/ipykernel_15228/1520926904.py:1: SettingWithCopyWarning: \n",
      "A value is trying to be set on a copy of a slice from a DataFrame\n",
      "\n",
      "See the caveats in the documentation: https://pandas.pydata.org/pandas-docs/stable/user_guide/indexing.html#returning-a-view-versus-a-copy\n",
      "  x.Temperature[x.Temperature==\"Hot\"]=0\n",
      "C:\\Users\\SUDARS~1.SUD\\AppData\\Local\\Temp/ipykernel_15228/1520926904.py:2: SettingWithCopyWarning: \n",
      "A value is trying to be set on a copy of a slice from a DataFrame\n",
      "\n",
      "See the caveats in the documentation: https://pandas.pydata.org/pandas-docs/stable/user_guide/indexing.html#returning-a-view-versus-a-copy\n",
      "  x.Temperature[x.Temperature==\"Mild\"]=1\n",
      "C:\\Users\\SUDARS~1.SUD\\AppData\\Local\\Temp/ipykernel_15228/1520926904.py:3: SettingWithCopyWarning: \n",
      "A value is trying to be set on a copy of a slice from a DataFrame\n",
      "\n",
      "See the caveats in the documentation: https://pandas.pydata.org/pandas-docs/stable/user_guide/indexing.html#returning-a-view-versus-a-copy\n",
      "  x.Temperature[x.Temperature==\"Cool\"]=2\n"
     ]
    }
   ],
   "source": [
    "x.Temperature[x.Temperature==\"Hot\"]=0\n",
    "x.Temperature[x.Temperature==\"Mild\"]=1\n",
    "x.Temperature[x.Temperature==\"Cool\"]=2\n"
   ]
  },
  {
   "cell_type": "code",
   "execution_count": 9,
   "id": "144480d9",
   "metadata": {},
   "outputs": [
    {
     "data": {
      "text/plain": [
       "array(['High', 'Normal'], dtype=object)"
      ]
     },
     "execution_count": 9,
     "metadata": {},
     "output_type": "execute_result"
    }
   ],
   "source": [
    "x.Humidity.unique()"
   ]
  },
  {
   "cell_type": "code",
   "execution_count": 10,
   "id": "49e85505",
   "metadata": {},
   "outputs": [
    {
     "name": "stderr",
     "output_type": "stream",
     "text": [
      "C:\\Users\\SUDARS~1.SUD\\AppData\\Local\\Temp/ipykernel_15228/2542818921.py:1: SettingWithCopyWarning: \n",
      "A value is trying to be set on a copy of a slice from a DataFrame\n",
      "\n",
      "See the caveats in the documentation: https://pandas.pydata.org/pandas-docs/stable/user_guide/indexing.html#returning-a-view-versus-a-copy\n",
      "  x.Humidity[x.Humidity==\"High\"]=0\n",
      "C:\\Users\\SUDARS~1.SUD\\AppData\\Local\\Temp/ipykernel_15228/2542818921.py:2: SettingWithCopyWarning: \n",
      "A value is trying to be set on a copy of a slice from a DataFrame\n",
      "\n",
      "See the caveats in the documentation: https://pandas.pydata.org/pandas-docs/stable/user_guide/indexing.html#returning-a-view-versus-a-copy\n",
      "  x.Humidity[x.Humidity==\"Normal\"]=1\n"
     ]
    }
   ],
   "source": [
    "x.Humidity[x.Humidity==\"High\"]=0\n",
    "x.Humidity[x.Humidity==\"Normal\"]=1\n",
    "\n"
   ]
  },
  {
   "cell_type": "code",
   "execution_count": 11,
   "id": "f70ad71d",
   "metadata": {},
   "outputs": [
    {
     "data": {
      "text/plain": [
       "array([False,  True])"
      ]
     },
     "execution_count": 11,
     "metadata": {},
     "output_type": "execute_result"
    }
   ],
   "source": [
    "x.Windy.unique()"
   ]
  },
  {
   "cell_type": "code",
   "execution_count": 12,
   "id": "19345169",
   "metadata": {},
   "outputs": [
    {
     "name": "stderr",
     "output_type": "stream",
     "text": [
      "C:\\Users\\SUDARS~1.SUD\\AppData\\Local\\Temp/ipykernel_15228/3396042768.py:1: SettingWithCopyWarning: \n",
      "A value is trying to be set on a copy of a slice from a DataFrame\n",
      "\n",
      "See the caveats in the documentation: https://pandas.pydata.org/pandas-docs/stable/user_guide/indexing.html#returning-a-view-versus-a-copy\n",
      "  x.Windy[x.Windy==False]=0\n"
     ]
    }
   ],
   "source": [
    "x.Windy[x.Windy==False]=0\n",
    "x.Windy[x.Windy==True]=1"
   ]
  },
  {
   "cell_type": "code",
   "execution_count": null,
   "id": "2c9b53a9",
   "metadata": {},
   "outputs": [],
   "source": []
  },
  {
   "cell_type": "code",
   "execution_count": null,
   "id": "92e4e763",
   "metadata": {},
   "outputs": [],
   "source": []
  },
  {
   "cell_type": "code",
   "execution_count": 13,
   "id": "86d3f3ba",
   "metadata": {},
   "outputs": [
    {
     "data": {
      "text/plain": [
       "0      No\n",
       "1      No\n",
       "2     Yes\n",
       "3     Yes\n",
       "4     Yes\n",
       "5      No\n",
       "6     Yes\n",
       "7      No\n",
       "8     Yes\n",
       "9     Yes\n",
       "10    Yes\n",
       "11    Yes\n",
       "12    Yes\n",
       "13     No\n",
       "Name: Playgolf, dtype: object"
      ]
     },
     "execution_count": 13,
     "metadata": {},
     "output_type": "execute_result"
    }
   ],
   "source": [
    "y"
   ]
  },
  {
   "cell_type": "code",
   "execution_count": 14,
   "id": "19b1bf63",
   "metadata": {},
   "outputs": [],
   "source": [
    "trainx,testx,trainy,testy  = train_test_split(x,y,test_size = 0.2)\n"
   ]
  },
  {
   "cell_type": "code",
   "execution_count": 15,
   "id": "bd797c61",
   "metadata": {},
   "outputs": [
    {
     "data": {
      "text/plain": [
       "array(['No', 'Yes', 'No'], dtype='<U3')"
      ]
     },
     "execution_count": 15,
     "metadata": {},
     "output_type": "execute_result"
    }
   ],
   "source": [
    "# training the model on training set\n",
    "from sklearn.naive_bayes import GaussianNB\n",
    "gnb = GaussianNB()\n",
    "gnb.fit(trainx,trainy)\n",
    "pred=gnb.predict(testx)\n",
    "pred"
   ]
  },
  {
   "cell_type": "code",
   "execution_count": 16,
   "id": "23b1202a",
   "metadata": {},
   "outputs": [
    {
     "data": {
      "text/plain": [
       "array([[0.79717043, 0.20282957],\n",
       "       [0.09760843, 0.90239157],\n",
       "       [0.72011517, 0.27988483]])"
      ]
     },
     "execution_count": 16,
     "metadata": {},
     "output_type": "execute_result"
    }
   ],
   "source": [
    "gnb.predict_proba(testx)"
   ]
  },
  {
   "cell_type": "code",
   "execution_count": 18,
   "id": "e2db2178",
   "metadata": {},
   "outputs": [],
   "source": [
    "from sklearn.datasets import load_iris\n",
    "from sklearn.model_selection import train_test_split\n",
    "from sklearn.naive_bayes import GaussianNB\n"
   ]
  },
  {
   "cell_type": "code",
   "execution_count": 34,
   "id": "43d38c33",
   "metadata": {},
   "outputs": [],
   "source": [
    "x, y = load_iris(return_X_y=True)"
   ]
  },
  {
   "cell_type": "code",
   "execution_count": 35,
   "id": "20e2d2fd",
   "metadata": {},
   "outputs": [],
   "source": [
    "trainx,testx,trainy,testy = train_test_split(x, y, test_size=0.5, random_state=0)"
   ]
  },
  {
   "cell_type": "code",
   "execution_count": 36,
   "id": "0d074df0",
   "metadata": {},
   "outputs": [],
   "source": [
    "gnb = GaussianNB()"
   ]
  },
  {
   "cell_type": "code",
   "execution_count": 37,
   "id": "0738f2ff",
   "metadata": {},
   "outputs": [],
   "source": [
    "y_pred = gnb.fit(X_train, y_train).predict(X_test)"
   ]
  },
  {
   "cell_type": "code",
   "execution_count": 38,
   "id": "e196d81b",
   "metadata": {},
   "outputs": [
    {
     "name": "stdout",
     "output_type": "stream",
     "text": [
      "Number of mislabeled points out of a total 75 points : 4\n"
     ]
    }
   ],
   "source": [
    "print(\"Number of mislabeled points out of a total %d points : %d\"% (X_test.shape[0], (y_test != y_pred).sum()))"
   ]
  },
  {
   "cell_type": "code",
   "execution_count": null,
   "id": "585bab8b",
   "metadata": {},
   "outputs": [],
   "source": []
  },
  {
   "cell_type": "code",
   "execution_count": null,
   "id": "9af96978",
   "metadata": {},
   "outputs": [],
   "source": [
    "'''\n",
    "from sklearn.datasets import load_iris\n",
    "from sklearn.model_selection import train_test_split\n",
    "from sklearn.naive_bayes import GaussianNB\n",
    "X, y = load_iris(return_X_y=True)\n",
    "X_train, X_test, y_train, y_test = train_test_split(X, y, test_size=0.5, random_state=0)\n",
    "gnb = GaussianNB()\n",
    "y_pred = gnb.fit(X_train, y_train).predict(X_test)\n",
    "print(\"Number of mislabeled points out of a total %d points : %d\"% (X_test.shape[0], (y_test != y_pred).sum()))\n",
    "Number of mislabeled points out of a total 75 points : 4\n",
    "'''"
   ]
  }
 ],
 "metadata": {
  "kernelspec": {
   "display_name": "Python 3 (ipykernel)",
   "language": "python",
   "name": "python3"
  },
  "language_info": {
   "codemirror_mode": {
    "name": "ipython",
    "version": 3
   },
   "file_extension": ".py",
   "mimetype": "text/x-python",
   "name": "python",
   "nbconvert_exporter": "python",
   "pygments_lexer": "ipython3",
   "version": "3.9.7"
  }
 },
 "nbformat": 4,
 "nbformat_minor": 5
}
