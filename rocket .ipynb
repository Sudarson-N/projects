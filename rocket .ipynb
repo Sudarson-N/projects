{
 "cells": [
  {
   "cell_type": "code",
   "execution_count": 64,
   "id": "aef8eb18",
   "metadata": {},
   "outputs": [],
   "source": [
    "import pandas as pd\n",
    "from scipy import stats \n",
    "import matplotlib.pyplot as plt\n",
    "from scipy.stats import pearsonr\n",
    "import statsmodels.api as sm \n",
    "import seaborn as sns\n",
    "from sklearn import datasets\n",
    "from sklearn.model_selection import train_test_split\n",
    "from sklearn.linear_model import LinearRegression\n",
    "from sklearn.preprocessing import MinMaxScaler\n",
    "from sklearn import datasets,linear_model,metrics\n",
    "from sklearn.metrics import mean_squared_error,confusion_matrix,accuracy_score,classification_report\n",
    "from sklearn.linear_model import LogisticRegression\n",
    "from sklearn.tree import DecisionTreeClassifier,DecisionTreeRegressor \n",
    "from sklearn.datasets import make_classification\n",
    "from sklearn.datasets import make_hastie_10_2\n",
    "from sklearn.ensemble import GradientBoostingClassifier,AdaBoostClassifier,RandomForestClassifier\n",
    "from sklearn.datasets import make_regression\n",
    "from sklearn.ensemble import GradientBoostingRegressor,AdaBoostRegressor,RandomForestRegressor"
   ]
  },
  {
   "cell_type": "code",
   "execution_count": 65,
   "id": "d05131f8",
   "metadata": {},
   "outputs": [],
   "source": [
    "data=pd.read_excel(\"C:/Users/sudarson.SUDARSON/Downloads/rocket.xlsx\")\n",
    "#data=pd.read_csv(\"https://docs.google.com/spreadsheets/d/18mzp6f9xZm0J4rfoAuJ_Xu-gzVDjjkc1oMTMW10QGEQ/edit?usp=sharing\")"
   ]
  },
  {
   "cell_type": "code",
   "execution_count": 66,
   "id": "1dc8c3f5",
   "metadata": {
    "scrolled": true
   },
   "outputs": [
    {
     "data": {
      "text/html": [
       "<div>\n",
       "<style scoped>\n",
       "    .dataframe tbody tr th:only-of-type {\n",
       "        vertical-align: middle;\n",
       "    }\n",
       "\n",
       "    .dataframe tbody tr th {\n",
       "        vertical-align: top;\n",
       "    }\n",
       "\n",
       "    .dataframe thead th {\n",
       "        text-align: right;\n",
       "    }\n",
       "</style>\n",
       "<table border=\"1\" class=\"dataframe\">\n",
       "  <thead>\n",
       "    <tr style=\"text-align: right;\">\n",
       "      <th></th>\n",
       "      <th>Person</th>\n",
       "      <th>Item_Identifier</th>\n",
       "      <th>Length</th>\n",
       "      <th>Breadth</th>\n",
       "      <th>PaperQuality</th>\n",
       "      <th>Angle</th>\n",
       "      <th>Foldings</th>\n",
       "      <th>Windspeed</th>\n",
       "      <th>Dominanthand</th>\n",
       "      <th>Distance</th>\n",
       "    </tr>\n",
       "  </thead>\n",
       "  <tbody>\n",
       "    <tr>\n",
       "      <th>0</th>\n",
       "      <td>Kevin</td>\n",
       "      <td>Som</td>\n",
       "      <td>29.0</td>\n",
       "      <td>20.0</td>\n",
       "      <td>A</td>\n",
       "      <td>U</td>\n",
       "      <td>8</td>\n",
       "      <td>On</td>\n",
       "      <td>L</td>\n",
       "      <td>5</td>\n",
       "    </tr>\n",
       "    <tr>\n",
       "      <th>1</th>\n",
       "      <td>Kevin</td>\n",
       "      <td>kevin</td>\n",
       "      <td>23.0</td>\n",
       "      <td>16.0</td>\n",
       "      <td>B</td>\n",
       "      <td>U</td>\n",
       "      <td>8</td>\n",
       "      <td>On</td>\n",
       "      <td>L</td>\n",
       "      <td>5</td>\n",
       "    </tr>\n",
       "    <tr>\n",
       "      <th>2</th>\n",
       "      <td>Kevin</td>\n",
       "      <td>RR</td>\n",
       "      <td>NaN</td>\n",
       "      <td>18.0</td>\n",
       "      <td>A</td>\n",
       "      <td>L</td>\n",
       "      <td>10</td>\n",
       "      <td>On</td>\n",
       "      <td>R</td>\n",
       "      <td>6</td>\n",
       "    </tr>\n",
       "    <tr>\n",
       "      <th>3</th>\n",
       "      <td>Priya</td>\n",
       "      <td>Nithya</td>\n",
       "      <td>27.0</td>\n",
       "      <td>20.0</td>\n",
       "      <td>A</td>\n",
       "      <td>U</td>\n",
       "      <td>10</td>\n",
       "      <td>On</td>\n",
       "      <td>R</td>\n",
       "      <td>4</td>\n",
       "    </tr>\n",
       "    <tr>\n",
       "      <th>4</th>\n",
       "      <td>Priya</td>\n",
       "      <td>Priya</td>\n",
       "      <td>29.5</td>\n",
       "      <td>17.5</td>\n",
       "      <td>B</td>\n",
       "      <td>U</td>\n",
       "      <td>5</td>\n",
       "      <td>Off</td>\n",
       "      <td>R</td>\n",
       "      <td>8</td>\n",
       "    </tr>\n",
       "  </tbody>\n",
       "</table>\n",
       "</div>"
      ],
      "text/plain": [
       "  Person Item_Identifier  Length  Breadth PaperQuality Angle  Foldings  \\\n",
       "0  Kevin             Som    29.0     20.0            A     U         8   \n",
       "1  Kevin           kevin    23.0     16.0            B     U         8   \n",
       "2  Kevin              RR     NaN     18.0            A     L        10   \n",
       "3  Priya          Nithya    27.0     20.0            A     U        10   \n",
       "4  Priya           Priya    29.5     17.5            B     U         5   \n",
       "\n",
       "  Windspeed Dominanthand  Distance  \n",
       "0        On            L         5  \n",
       "1        On            L         5  \n",
       "2        On            R         6  \n",
       "3        On            R         4  \n",
       "4       Off            R         8  "
      ]
     },
     "execution_count": 66,
     "metadata": {},
     "output_type": "execute_result"
    }
   ],
   "source": [
    "data.head()"
   ]
  },
  {
   "cell_type": "code",
   "execution_count": 67,
   "id": "3e4145ca",
   "metadata": {},
   "outputs": [
    {
     "data": {
      "text/html": [
       "<div>\n",
       "<style scoped>\n",
       "    .dataframe tbody tr th:only-of-type {\n",
       "        vertical-align: middle;\n",
       "    }\n",
       "\n",
       "    .dataframe tbody tr th {\n",
       "        vertical-align: top;\n",
       "    }\n",
       "\n",
       "    .dataframe thead th {\n",
       "        text-align: right;\n",
       "    }\n",
       "</style>\n",
       "<table border=\"1\" class=\"dataframe\">\n",
       "  <thead>\n",
       "    <tr style=\"text-align: right;\">\n",
       "      <th></th>\n",
       "      <th>Length</th>\n",
       "      <th>Breadth</th>\n",
       "      <th>Foldings</th>\n",
       "      <th>Distance</th>\n",
       "    </tr>\n",
       "  </thead>\n",
       "  <tbody>\n",
       "    <tr>\n",
       "      <th>count</th>\n",
       "      <td>71.000000</td>\n",
       "      <td>88.000000</td>\n",
       "      <td>88.000000</td>\n",
       "      <td>88.000000</td>\n",
       "    </tr>\n",
       "    <tr>\n",
       "      <th>mean</th>\n",
       "      <td>26.708451</td>\n",
       "      <td>18.500000</td>\n",
       "      <td>8.136364</td>\n",
       "      <td>6.090909</td>\n",
       "    </tr>\n",
       "    <tr>\n",
       "      <th>std</th>\n",
       "      <td>11.920268</td>\n",
       "      <td>1.339068</td>\n",
       "      <td>1.736570</td>\n",
       "      <td>1.974762</td>\n",
       "    </tr>\n",
       "    <tr>\n",
       "      <th>min</th>\n",
       "      <td>0.000000</td>\n",
       "      <td>16.000000</td>\n",
       "      <td>5.000000</td>\n",
       "      <td>1.000000</td>\n",
       "    </tr>\n",
       "    <tr>\n",
       "      <th>25%</th>\n",
       "      <td>22.500000</td>\n",
       "      <td>17.500000</td>\n",
       "      <td>8.000000</td>\n",
       "      <td>5.000000</td>\n",
       "    </tr>\n",
       "    <tr>\n",
       "      <th>50%</th>\n",
       "      <td>28.500000</td>\n",
       "      <td>18.500000</td>\n",
       "      <td>8.000000</td>\n",
       "      <td>6.000000</td>\n",
       "    </tr>\n",
       "    <tr>\n",
       "      <th>75%</th>\n",
       "      <td>29.500000</td>\n",
       "      <td>20.000000</td>\n",
       "      <td>10.000000</td>\n",
       "      <td>7.000000</td>\n",
       "    </tr>\n",
       "    <tr>\n",
       "      <th>max</th>\n",
       "      <td>98.000000</td>\n",
       "      <td>20.500000</td>\n",
       "      <td>10.000000</td>\n",
       "      <td>11.000000</td>\n",
       "    </tr>\n",
       "  </tbody>\n",
       "</table>\n",
       "</div>"
      ],
      "text/plain": [
       "          Length    Breadth   Foldings   Distance\n",
       "count  71.000000  88.000000  88.000000  88.000000\n",
       "mean   26.708451  18.500000   8.136364   6.090909\n",
       "std    11.920268   1.339068   1.736570   1.974762\n",
       "min     0.000000  16.000000   5.000000   1.000000\n",
       "25%    22.500000  17.500000   8.000000   5.000000\n",
       "50%    28.500000  18.500000   8.000000   6.000000\n",
       "75%    29.500000  20.000000  10.000000   7.000000\n",
       "max    98.000000  20.500000  10.000000  11.000000"
      ]
     },
     "execution_count": 67,
     "metadata": {},
     "output_type": "execute_result"
    }
   ],
   "source": [
    "data.describe()"
   ]
  },
  {
   "cell_type": "code",
   "execution_count": 68,
   "id": "2513cff6",
   "metadata": {},
   "outputs": [
    {
     "name": "stdout",
     "output_type": "stream",
     "text": [
      "<class 'pandas.core.frame.DataFrame'>\n",
      "RangeIndex: 88 entries, 0 to 87\n",
      "Data columns (total 10 columns):\n",
      " #   Column           Non-Null Count  Dtype  \n",
      "---  ------           --------------  -----  \n",
      " 0   Person           88 non-null     object \n",
      " 1   Item_Identifier  88 non-null     object \n",
      " 2   Length           71 non-null     float64\n",
      " 3   Breadth          88 non-null     float64\n",
      " 4   PaperQuality     80 non-null     object \n",
      " 5   Angle            84 non-null     object \n",
      " 6   Foldings         88 non-null     int64  \n",
      " 7   Windspeed        88 non-null     object \n",
      " 8   Dominanthand     88 non-null     object \n",
      " 9   Distance         88 non-null     int64  \n",
      "dtypes: float64(2), int64(2), object(6)\n",
      "memory usage: 7.0+ KB\n"
     ]
    }
   ],
   "source": [
    "data.info()"
   ]
  },
  {
   "cell_type": "code",
   "execution_count": 69,
   "id": "af9d31c2",
   "metadata": {},
   "outputs": [
    {
     "data": {
      "text/plain": [
       "Person              0\n",
       "Item_Identifier     0\n",
       "Length             17\n",
       "Breadth             0\n",
       "PaperQuality        8\n",
       "Angle               4\n",
       "Foldings            0\n",
       "Windspeed           0\n",
       "Dominanthand        0\n",
       "Distance            0\n",
       "dtype: int64"
      ]
     },
     "execution_count": 69,
     "metadata": {},
     "output_type": "execute_result"
    }
   ],
   "source": [
    "data.isnull().sum()"
   ]
  },
  {
   "cell_type": "code",
   "execution_count": 70,
   "id": "8ea9b538",
   "metadata": {},
   "outputs": [
    {
     "data": {
      "text/plain": [
       "array(['A', 'B', nan], dtype=object)"
      ]
     },
     "execution_count": 70,
     "metadata": {},
     "output_type": "execute_result"
    }
   ],
   "source": [
    "data.PaperQuality.unique()\n",
    "\n"
   ]
  },
  {
   "cell_type": "code",
   "execution_count": 71,
   "id": "72af2877",
   "metadata": {},
   "outputs": [],
   "source": [
    "data.PaperQuality.fillna(data.PaperQuality.mode().max(),inplace=True)"
   ]
  },
  {
   "cell_type": "code",
   "execution_count": 72,
   "id": "8fcfdb24",
   "metadata": {},
   "outputs": [
    {
     "data": {
      "text/plain": [
       "array(['U', 'L', nan], dtype=object)"
      ]
     },
     "execution_count": 72,
     "metadata": {},
     "output_type": "execute_result"
    }
   ],
   "source": [
    "data.Angle.unique()\n"
   ]
  },
  {
   "cell_type": "code",
   "execution_count": 73,
   "id": "0c8e8e07",
   "metadata": {},
   "outputs": [],
   "source": [
    "data.Angle.fillna(data.Angle.mode().max(),inplace=True)"
   ]
  },
  {
   "cell_type": "code",
   "execution_count": 74,
   "id": "fb5b53c9",
   "metadata": {},
   "outputs": [
    {
     "data": {
      "text/plain": [
       "array([29. , 23. ,  nan, 27. , 29.5, 30. , 25. ,  2. , 21. , 67. , 29.6,\n",
       "       28.5, 98. , 22. , 20. ,  0. ,  3. ])"
      ]
     },
     "execution_count": 74,
     "metadata": {},
     "output_type": "execute_result"
    }
   ],
   "source": [
    "data.Length.unique()\n"
   ]
  },
  {
   "cell_type": "code",
   "execution_count": 75,
   "id": "54954067",
   "metadata": {},
   "outputs": [
    {
     "name": "stderr",
     "output_type": "stream",
     "text": [
      "C:\\Users\\sudarson.SUDARSON\\anaconda3\\lib\\site-packages\\seaborn\\_decorators.py:36: FutureWarning: Pass the following variable as a keyword arg: x. From version 0.12, the only valid positional argument will be `data`, and passing other arguments without an explicit keyword will result in an error or misinterpretation.\n",
      "  warnings.warn(\n"
     ]
    },
    {
     "data": {
      "text/plain": [
       "<AxesSubplot:xlabel='Length'>"
      ]
     },
     "execution_count": 75,
     "metadata": {},
     "output_type": "execute_result"
    },
    {
     "data": {
      "image/png": "[encoded data removed]",
      "text/plain": [
       "<Figure size 432x288 with 1 Axes>"
      ]
     },
     "metadata": {
      "needs_background": "light"
     },
     "output_type": "display_data"
    }
   ],
   "source": [
    "sns.boxplot(data.Length)\n"
   ]
  },
  {
   "cell_type": "code",
   "execution_count": 76,
   "id": "779e476b",
   "metadata": {},
   "outputs": [],
   "source": [
    "data.Length.fillna(data.Length.median(),inplace=True)"
   ]
  },
  {
   "cell_type": "code",
   "execution_count": 77,
   "id": "4086f86f",
   "metadata": {},
   "outputs": [],
   "source": [
    "y=data.Distance\n",
    "x=data.iloc[0:,[2,3,4,5,6,7,8]]\n",
    "x1=data.iloc[0:,[2,3]]\n",
    "x2=data.iloc[0:,[4,5,6,7,8]]"
   ]
  },
  {
   "cell_type": "code",
   "execution_count": 78,
   "id": "f0b13237",
   "metadata": {},
   "outputs": [
    {
     "data": {
      "text/html": [
       "<div>\n",
       "<style scoped>\n",
       "    .dataframe tbody tr th:only-of-type {\n",
       "        vertical-align: middle;\n",
       "    }\n",
       "\n",
       "    .dataframe tbody tr th {\n",
       "        vertical-align: top;\n",
       "    }\n",
       "\n",
       "    .dataframe thead th {\n",
       "        text-align: right;\n",
       "    }\n",
       "</style>\n",
       "<table border=\"1\" class=\"dataframe\">\n",
       "  <thead>\n",
       "    <tr style=\"text-align: right;\">\n",
       "      <th></th>\n",
       "      <th>Length</th>\n",
       "      <th>Breadth</th>\n",
       "      <th>PaperQuality</th>\n",
       "      <th>Angle</th>\n",
       "      <th>Foldings</th>\n",
       "      <th>Windspeed</th>\n",
       "      <th>Dominanthand</th>\n",
       "    </tr>\n",
       "  </thead>\n",
       "  <tbody>\n",
       "    <tr>\n",
       "      <th>0</th>\n",
       "      <td>29.0</td>\n",
       "      <td>20.0</td>\n",
       "      <td>A</td>\n",
       "      <td>U</td>\n",
       "      <td>8</td>\n",
       "      <td>On</td>\n",
       "      <td>L</td>\n",
       "    </tr>\n",
       "    <tr>\n",
       "      <th>1</th>\n",
       "      <td>23.0</td>\n",
       "      <td>16.0</td>\n",
       "      <td>B</td>\n",
       "      <td>U</td>\n",
       "      <td>8</td>\n",
       "      <td>On</td>\n",
       "      <td>L</td>\n",
       "    </tr>\n",
       "    <tr>\n",
       "      <th>2</th>\n",
       "      <td>28.5</td>\n",
       "      <td>18.0</td>\n",
       "      <td>A</td>\n",
       "      <td>L</td>\n",
       "      <td>10</td>\n",
       "      <td>On</td>\n",
       "      <td>R</td>\n",
       "    </tr>\n",
       "    <tr>\n",
       "      <th>3</th>\n",
       "      <td>27.0</td>\n",
       "      <td>20.0</td>\n",
       "      <td>A</td>\n",
       "      <td>U</td>\n",
       "      <td>10</td>\n",
       "      <td>On</td>\n",
       "      <td>R</td>\n",
       "    </tr>\n",
       "    <tr>\n",
       "      <th>4</th>\n",
       "      <td>29.5</td>\n",
       "      <td>17.5</td>\n",
       "      <td>B</td>\n",
       "      <td>U</td>\n",
       "      <td>5</td>\n",
       "      <td>Off</td>\n",
       "      <td>R</td>\n",
       "    </tr>\n",
       "  </tbody>\n",
       "</table>\n",
       "</div>"
      ],
      "text/plain": [
       "   Length  Breadth PaperQuality Angle  Foldings Windspeed Dominanthand\n",
       "0    29.0     20.0            A     U         8        On            L\n",
       "1    23.0     16.0            B     U         8        On            L\n",
       "2    28.5     18.0            A     L        10        On            R\n",
       "3    27.0     20.0            A     U        10        On            R\n",
       "4    29.5     17.5            B     U         5       Off            R"
      ]
     },
     "execution_count": 78,
     "metadata": {},
     "output_type": "execute_result"
    }
   ],
   "source": [
    "x.head()"
   ]
  },
  {
   "cell_type": "code",
   "execution_count": 79,
   "id": "1f52fe3c",
   "metadata": {},
   "outputs": [
    {
     "data": {
      "text/html": [
       "<div>\n",
       "<style scoped>\n",
       "    .dataframe tbody tr th:only-of-type {\n",
       "        vertical-align: middle;\n",
       "    }\n",
       "\n",
       "    .dataframe tbody tr th {\n",
       "        vertical-align: top;\n",
       "    }\n",
       "\n",
       "    .dataframe thead th {\n",
       "        text-align: right;\n",
       "    }\n",
       "</style>\n",
       "<table border=\"1\" class=\"dataframe\">\n",
       "  <thead>\n",
       "    <tr style=\"text-align: right;\">\n",
       "      <th></th>\n",
       "      <th>Length</th>\n",
       "      <th>Breadth</th>\n",
       "    </tr>\n",
       "  </thead>\n",
       "  <tbody>\n",
       "    <tr>\n",
       "      <th>0</th>\n",
       "      <td>29.0</td>\n",
       "      <td>20.0</td>\n",
       "    </tr>\n",
       "    <tr>\n",
       "      <th>1</th>\n",
       "      <td>23.0</td>\n",
       "      <td>16.0</td>\n",
       "    </tr>\n",
       "    <tr>\n",
       "      <th>2</th>\n",
       "      <td>28.5</td>\n",
       "      <td>18.0</td>\n",
       "    </tr>\n",
       "    <tr>\n",
       "      <th>3</th>\n",
       "      <td>27.0</td>\n",
       "      <td>20.0</td>\n",
       "    </tr>\n",
       "    <tr>\n",
       "      <th>4</th>\n",
       "      <td>29.5</td>\n",
       "      <td>17.5</td>\n",
       "    </tr>\n",
       "  </tbody>\n",
       "</table>\n",
       "</div>"
      ],
      "text/plain": [
       "   Length  Breadth\n",
       "0    29.0     20.0\n",
       "1    23.0     16.0\n",
       "2    28.5     18.0\n",
       "3    27.0     20.0\n",
       "4    29.5     17.5"
      ]
     },
     "execution_count": 79,
     "metadata": {},
     "output_type": "execute_result"
    }
   ],
   "source": [
    "x1.head()"
   ]
  },
  {
   "cell_type": "code",
   "execution_count": 80,
   "id": "a02d96b7",
   "metadata": {},
   "outputs": [
    {
     "data": {
      "text/html": [
       "<div>\n",
       "<style scoped>\n",
       "    .dataframe tbody tr th:only-of-type {\n",
       "        vertical-align: middle;\n",
       "    }\n",
       "\n",
       "    .dataframe tbody tr th {\n",
       "        vertical-align: top;\n",
       "    }\n",
       "\n",
       "    .dataframe thead th {\n",
       "        text-align: right;\n",
       "    }\n",
       "</style>\n",
       "<table border=\"1\" class=\"dataframe\">\n",
       "  <thead>\n",
       "    <tr style=\"text-align: right;\">\n",
       "      <th></th>\n",
       "      <th>PaperQuality</th>\n",
       "      <th>Angle</th>\n",
       "      <th>Foldings</th>\n",
       "      <th>Windspeed</th>\n",
       "      <th>Dominanthand</th>\n",
       "    </tr>\n",
       "  </thead>\n",
       "  <tbody>\n",
       "    <tr>\n",
       "      <th>0</th>\n",
       "      <td>A</td>\n",
       "      <td>U</td>\n",
       "      <td>8</td>\n",
       "      <td>On</td>\n",
       "      <td>L</td>\n",
       "    </tr>\n",
       "    <tr>\n",
       "      <th>1</th>\n",
       "      <td>B</td>\n",
       "      <td>U</td>\n",
       "      <td>8</td>\n",
       "      <td>On</td>\n",
       "      <td>L</td>\n",
       "    </tr>\n",
       "    <tr>\n",
       "      <th>2</th>\n",
       "      <td>A</td>\n",
       "      <td>L</td>\n",
       "      <td>10</td>\n",
       "      <td>On</td>\n",
       "      <td>R</td>\n",
       "    </tr>\n",
       "    <tr>\n",
       "      <th>3</th>\n",
       "      <td>A</td>\n",
       "      <td>U</td>\n",
       "      <td>10</td>\n",
       "      <td>On</td>\n",
       "      <td>R</td>\n",
       "    </tr>\n",
       "    <tr>\n",
       "      <th>4</th>\n",
       "      <td>B</td>\n",
       "      <td>U</td>\n",
       "      <td>5</td>\n",
       "      <td>Off</td>\n",
       "      <td>R</td>\n",
       "    </tr>\n",
       "  </tbody>\n",
       "</table>\n",
       "</div>"
      ],
      "text/plain": [
       "  PaperQuality Angle  Foldings Windspeed Dominanthand\n",
       "0            A     U         8        On            L\n",
       "1            B     U         8        On            L\n",
       "2            A     L        10        On            R\n",
       "3            A     U        10        On            R\n",
       "4            B     U         5       Off            R"
      ]
     },
     "execution_count": 80,
     "metadata": {},
     "output_type": "execute_result"
    }
   ],
   "source": [
    "x2.head()"
   ]
  },
  {
   "cell_type": "code",
   "execution_count": 81,
   "id": "0ea5ef13",
   "metadata": {},
   "outputs": [],
   "source": [
    "trainx,testx = train_test_split(x,test_size = 0.2)\n",
    "trainy,testy = train_test_split(y,test_size = 0.2)"
   ]
  },
  {
   "cell_type": "code",
   "execution_count": 82,
   "id": "0a6d392f",
   "metadata": {},
   "outputs": [],
   "source": [
    "dummy=pd.get_dummies(x,columns=[\"Foldings\",\"PaperQuality\",\"Angle\",\"Foldings\",\"Windspeed\",\"Dominanthand\"])"
   ]
  },
  {
   "cell_type": "code",
   "execution_count": 83,
   "id": "b43ec734",
   "metadata": {},
   "outputs": [
    {
     "data": {
      "text/html": [
       "<div>\n",
       "<style scoped>\n",
       "    .dataframe tbody tr th:only-of-type {\n",
       "        vertical-align: middle;\n",
       "    }\n",
       "\n",
       "    .dataframe tbody tr th {\n",
       "        vertical-align: top;\n",
       "    }\n",
       "\n",
       "    .dataframe thead th {\n",
       "        text-align: right;\n",
       "    }\n",
       "</style>\n",
       "<table border=\"1\" class=\"dataframe\">\n",
       "  <thead>\n",
       "    <tr style=\"text-align: right;\">\n",
       "      <th></th>\n",
       "      <th>Length</th>\n",
       "      <th>Breadth</th>\n",
       "      <th>Foldings_5</th>\n",
       "      <th>Foldings_8</th>\n",
       "      <th>Foldings_10</th>\n",
       "      <th>PaperQuality_A</th>\n",
       "      <th>PaperQuality_B</th>\n",
       "      <th>Angle_L</th>\n",
       "      <th>Angle_U</th>\n",
       "      <th>Foldings_5</th>\n",
       "      <th>Foldings_8</th>\n",
       "      <th>Foldings_10</th>\n",
       "      <th>Windspeed_Off</th>\n",
       "      <th>Windspeed_On</th>\n",
       "      <th>Dominanthand_L</th>\n",
       "      <th>Dominanthand_R</th>\n",
       "    </tr>\n",
       "  </thead>\n",
       "  <tbody>\n",
       "    <tr>\n",
       "      <th>0</th>\n",
       "      <td>29.0</td>\n",
       "      <td>20.0</td>\n",
       "      <td>0</td>\n",
       "      <td>1</td>\n",
       "      <td>0</td>\n",
       "      <td>1</td>\n",
       "      <td>0</td>\n",
       "      <td>0</td>\n",
       "      <td>1</td>\n",
       "      <td>0</td>\n",
       "      <td>1</td>\n",
       "      <td>0</td>\n",
       "      <td>0</td>\n",
       "      <td>1</td>\n",
       "      <td>1</td>\n",
       "      <td>0</td>\n",
       "    </tr>\n",
       "    <tr>\n",
       "      <th>1</th>\n",
       "      <td>23.0</td>\n",
       "      <td>16.0</td>\n",
       "      <td>0</td>\n",
       "      <td>1</td>\n",
       "      <td>0</td>\n",
       "      <td>0</td>\n",
       "      <td>1</td>\n",
       "      <td>0</td>\n",
       "      <td>1</td>\n",
       "      <td>0</td>\n",
       "      <td>1</td>\n",
       "      <td>0</td>\n",
       "      <td>0</td>\n",
       "      <td>1</td>\n",
       "      <td>1</td>\n",
       "      <td>0</td>\n",
       "    </tr>\n",
       "    <tr>\n",
       "      <th>2</th>\n",
       "      <td>28.5</td>\n",
       "      <td>18.0</td>\n",
       "      <td>0</td>\n",
       "      <td>0</td>\n",
       "      <td>1</td>\n",
       "      <td>1</td>\n",
       "      <td>0</td>\n",
       "      <td>1</td>\n",
       "      <td>0</td>\n",
       "      <td>0</td>\n",
       "      <td>0</td>\n",
       "      <td>1</td>\n",
       "      <td>0</td>\n",
       "      <td>1</td>\n",
       "      <td>0</td>\n",
       "      <td>1</td>\n",
       "    </tr>\n",
       "    <tr>\n",
       "      <th>3</th>\n",
       "      <td>27.0</td>\n",
       "      <td>20.0</td>\n",
       "      <td>0</td>\n",
       "      <td>0</td>\n",
       "      <td>1</td>\n",
       "      <td>1</td>\n",
       "      <td>0</td>\n",
       "      <td>0</td>\n",
       "      <td>1</td>\n",
       "      <td>0</td>\n",
       "      <td>0</td>\n",
       "      <td>1</td>\n",
       "      <td>0</td>\n",
       "      <td>1</td>\n",
       "      <td>0</td>\n",
       "      <td>1</td>\n",
       "    </tr>\n",
       "    <tr>\n",
       "      <th>4</th>\n",
       "      <td>29.5</td>\n",
       "      <td>17.5</td>\n",
       "      <td>1</td>\n",
       "      <td>0</td>\n",
       "      <td>0</td>\n",
       "      <td>0</td>\n",
       "      <td>1</td>\n",
       "      <td>0</td>\n",
       "      <td>1</td>\n",
       "      <td>1</td>\n",
       "      <td>0</td>\n",
       "      <td>0</td>\n",
       "      <td>1</td>\n",
       "      <td>0</td>\n",
       "      <td>0</td>\n",
       "      <td>1</td>\n",
       "    </tr>\n",
       "    <tr>\n",
       "      <th>...</th>\n",
       "      <td>...</td>\n",
       "      <td>...</td>\n",
       "      <td>...</td>\n",
       "      <td>...</td>\n",
       "      <td>...</td>\n",
       "      <td>...</td>\n",
       "      <td>...</td>\n",
       "      <td>...</td>\n",
       "      <td>...</td>\n",
       "      <td>...</td>\n",
       "      <td>...</td>\n",
       "      <td>...</td>\n",
       "      <td>...</td>\n",
       "      <td>...</td>\n",
       "      <td>...</td>\n",
       "      <td>...</td>\n",
       "    </tr>\n",
       "    <tr>\n",
       "      <th>83</th>\n",
       "      <td>29.5</td>\n",
       "      <td>17.5</td>\n",
       "      <td>1</td>\n",
       "      <td>0</td>\n",
       "      <td>0</td>\n",
       "      <td>0</td>\n",
       "      <td>1</td>\n",
       "      <td>0</td>\n",
       "      <td>1</td>\n",
       "      <td>1</td>\n",
       "      <td>0</td>\n",
       "      <td>0</td>\n",
       "      <td>1</td>\n",
       "      <td>0</td>\n",
       "      <td>0</td>\n",
       "      <td>1</td>\n",
       "    </tr>\n",
       "    <tr>\n",
       "      <th>84</th>\n",
       "      <td>28.5</td>\n",
       "      <td>18.5</td>\n",
       "      <td>1</td>\n",
       "      <td>0</td>\n",
       "      <td>0</td>\n",
       "      <td>0</td>\n",
       "      <td>1</td>\n",
       "      <td>1</td>\n",
       "      <td>0</td>\n",
       "      <td>1</td>\n",
       "      <td>0</td>\n",
       "      <td>0</td>\n",
       "      <td>1</td>\n",
       "      <td>0</td>\n",
       "      <td>0</td>\n",
       "      <td>1</td>\n",
       "    </tr>\n",
       "    <tr>\n",
       "      <th>85</th>\n",
       "      <td>30.0</td>\n",
       "      <td>19.0</td>\n",
       "      <td>0</td>\n",
       "      <td>1</td>\n",
       "      <td>0</td>\n",
       "      <td>0</td>\n",
       "      <td>1</td>\n",
       "      <td>0</td>\n",
       "      <td>1</td>\n",
       "      <td>0</td>\n",
       "      <td>1</td>\n",
       "      <td>0</td>\n",
       "      <td>1</td>\n",
       "      <td>0</td>\n",
       "      <td>0</td>\n",
       "      <td>1</td>\n",
       "    </tr>\n",
       "    <tr>\n",
       "      <th>86</th>\n",
       "      <td>25.0</td>\n",
       "      <td>17.0</td>\n",
       "      <td>0</td>\n",
       "      <td>1</td>\n",
       "      <td>0</td>\n",
       "      <td>0</td>\n",
       "      <td>1</td>\n",
       "      <td>0</td>\n",
       "      <td>1</td>\n",
       "      <td>0</td>\n",
       "      <td>1</td>\n",
       "      <td>0</td>\n",
       "      <td>0</td>\n",
       "      <td>1</td>\n",
       "      <td>0</td>\n",
       "      <td>1</td>\n",
       "    </tr>\n",
       "    <tr>\n",
       "      <th>87</th>\n",
       "      <td>28.5</td>\n",
       "      <td>20.5</td>\n",
       "      <td>0</td>\n",
       "      <td>1</td>\n",
       "      <td>0</td>\n",
       "      <td>0</td>\n",
       "      <td>1</td>\n",
       "      <td>1</td>\n",
       "      <td>0</td>\n",
       "      <td>0</td>\n",
       "      <td>1</td>\n",
       "      <td>0</td>\n",
       "      <td>1</td>\n",
       "      <td>0</td>\n",
       "      <td>0</td>\n",
       "      <td>1</td>\n",
       "    </tr>\n",
       "  </tbody>\n",
       "</table>\n",
       "<p>88 rows × 16 columns</p>\n",
       "</div>"
      ],
      "text/plain": [
       "    Length  Breadth  Foldings_5  Foldings_8  Foldings_10  PaperQuality_A  \\\n",
       "0     29.0     20.0           0           1            0               1   \n",
       "1     23.0     16.0           0           1            0               0   \n",
       "2     28.5     18.0           0           0            1               1   \n",
       "3     27.0     20.0           0           0            1               1   \n",
       "4     29.5     17.5           1           0            0               0   \n",
       "..     ...      ...         ...         ...          ...             ...   \n",
       "83    29.5     17.5           1           0            0               0   \n",
       "84    28.5     18.5           1           0            0               0   \n",
       "85    30.0     19.0           0           1            0               0   \n",
       "86    25.0     17.0           0           1            0               0   \n",
       "87    28.5     20.5           0           1            0               0   \n",
       "\n",
       "    PaperQuality_B  Angle_L  Angle_U  Foldings_5  Foldings_8  Foldings_10  \\\n",
       "0                0        0        1           0           1            0   \n",
       "1                1        0        1           0           1            0   \n",
       "2                0        1        0           0           0            1   \n",
       "3                0        0        1           0           0            1   \n",
       "4                1        0        1           1           0            0   \n",
       "..             ...      ...      ...         ...         ...          ...   \n",
       "83               1        0        1           1           0            0   \n",
       "84               1        1        0           1           0            0   \n",
       "85               1        0        1           0           1            0   \n",
       "86               1        0        1           0           1            0   \n",
       "87               1        1        0           0           1            0   \n",
       "\n",
       "    Windspeed_Off  Windspeed_On  Dominanthand_L  Dominanthand_R  \n",
       "0               0             1               1               0  \n",
       "1               0             1               1               0  \n",
       "2               0             1               0               1  \n",
       "3               0             1               0               1  \n",
       "4               1             0               0               1  \n",
       "..            ...           ...             ...             ...  \n",
       "83              1             0               0               1  \n",
       "84              1             0               0               1  \n",
       "85              1             0               0               1  \n",
       "86              0             1               0               1  \n",
       "87              1             0               0               1  \n",
       "\n",
       "[88 rows x 16 columns]"
      ]
     },
     "execution_count": 83,
     "metadata": {},
     "output_type": "execute_result"
    }
   ],
   "source": [
    "dummy"
   ]
  },
  {
   "cell_type": "code",
   "execution_count": 84,
   "id": "f5e06acd",
   "metadata": {},
   "outputs": [],
   "source": [
    "scaler=MinMaxScaler()\n",
    "model=scaler.fit(dummy)\n",
    "d=model.transform(dummy)\n",
    "df=pd.DataFrame(d)"
   ]
  },
  {
   "cell_type": "code",
   "execution_count": 85,
   "id": "a060fb75",
   "metadata": {},
   "outputs": [
    {
     "data": {
      "text/html": [
       "<div>\n",
       "<style scoped>\n",
       "    .dataframe tbody tr th:only-of-type {\n",
       "        vertical-align: middle;\n",
       "    }\n",
       "\n",
       "    .dataframe tbody tr th {\n",
       "        vertical-align: top;\n",
       "    }\n",
       "\n",
       "    .dataframe thead th {\n",
       "        text-align: right;\n",
       "    }\n",
       "</style>\n",
       "<table border=\"1\" class=\"dataframe\">\n",
       "  <thead>\n",
       "    <tr style=\"text-align: right;\">\n",
       "      <th></th>\n",
       "      <th>Length</th>\n",
       "      <th>Breadth</th>\n",
       "      <th>Foldings_5</th>\n",
       "      <th>Foldings_8</th>\n",
       "      <th>Foldings_10</th>\n",
       "      <th>PaperQuality_A</th>\n",
       "      <th>PaperQuality_B</th>\n",
       "      <th>Angle_L</th>\n",
       "      <th>Angle_U</th>\n",
       "      <th>Foldings_5</th>\n",
       "      <th>Foldings_8</th>\n",
       "      <th>Foldings_10</th>\n",
       "      <th>Windspeed_Off</th>\n",
       "      <th>Windspeed_On</th>\n",
       "      <th>Dominanthand_L</th>\n",
       "      <th>Dominanthand_R</th>\n",
       "    </tr>\n",
       "  </thead>\n",
       "  <tbody>\n",
       "    <tr>\n",
       "      <th>0</th>\n",
       "      <td>29.0</td>\n",
       "      <td>20.0</td>\n",
       "      <td>0</td>\n",
       "      <td>1</td>\n",
       "      <td>0</td>\n",
       "      <td>1</td>\n",
       "      <td>0</td>\n",
       "      <td>0</td>\n",
       "      <td>1</td>\n",
       "      <td>0</td>\n",
       "      <td>1</td>\n",
       "      <td>0</td>\n",
       "      <td>0</td>\n",
       "      <td>1</td>\n",
       "      <td>1</td>\n",
       "      <td>0</td>\n",
       "    </tr>\n",
       "    <tr>\n",
       "      <th>1</th>\n",
       "      <td>23.0</td>\n",
       "      <td>16.0</td>\n",
       "      <td>0</td>\n",
       "      <td>1</td>\n",
       "      <td>0</td>\n",
       "      <td>0</td>\n",
       "      <td>1</td>\n",
       "      <td>0</td>\n",
       "      <td>1</td>\n",
       "      <td>0</td>\n",
       "      <td>1</td>\n",
       "      <td>0</td>\n",
       "      <td>0</td>\n",
       "      <td>1</td>\n",
       "      <td>1</td>\n",
       "      <td>0</td>\n",
       "    </tr>\n",
       "    <tr>\n",
       "      <th>2</th>\n",
       "      <td>28.5</td>\n",
       "      <td>18.0</td>\n",
       "      <td>0</td>\n",
       "      <td>0</td>\n",
       "      <td>1</td>\n",
       "      <td>1</td>\n",
       "      <td>0</td>\n",
       "      <td>1</td>\n",
       "      <td>0</td>\n",
       "      <td>0</td>\n",
       "      <td>0</td>\n",
       "      <td>1</td>\n",
       "      <td>0</td>\n",
       "      <td>1</td>\n",
       "      <td>0</td>\n",
       "      <td>1</td>\n",
       "    </tr>\n",
       "    <tr>\n",
       "      <th>3</th>\n",
       "      <td>27.0</td>\n",
       "      <td>20.0</td>\n",
       "      <td>0</td>\n",
       "      <td>0</td>\n",
       "      <td>1</td>\n",
       "      <td>1</td>\n",
       "      <td>0</td>\n",
       "      <td>0</td>\n",
       "      <td>1</td>\n",
       "      <td>0</td>\n",
       "      <td>0</td>\n",
       "      <td>1</td>\n",
       "      <td>0</td>\n",
       "      <td>1</td>\n",
       "      <td>0</td>\n",
       "      <td>1</td>\n",
       "    </tr>\n",
       "    <tr>\n",
       "      <th>4</th>\n",
       "      <td>29.5</td>\n",
       "      <td>17.5</td>\n",
       "      <td>1</td>\n",
       "      <td>0</td>\n",
       "      <td>0</td>\n",
       "      <td>0</td>\n",
       "      <td>1</td>\n",
       "      <td>0</td>\n",
       "      <td>1</td>\n",
       "      <td>1</td>\n",
       "      <td>0</td>\n",
       "      <td>0</td>\n",
       "      <td>1</td>\n",
       "      <td>0</td>\n",
       "      <td>0</td>\n",
       "      <td>1</td>\n",
       "    </tr>\n",
       "  </tbody>\n",
       "</table>\n",
       "</div>"
      ],
      "text/plain": [
       "   Length  Breadth  Foldings_5  Foldings_8  Foldings_10  PaperQuality_A  \\\n",
       "0    29.0     20.0           0           1            0               1   \n",
       "1    23.0     16.0           0           1            0               0   \n",
       "2    28.5     18.0           0           0            1               1   \n",
       "3    27.0     20.0           0           0            1               1   \n",
       "4    29.5     17.5           1           0            0               0   \n",
       "\n",
       "   PaperQuality_B  Angle_L  Angle_U  Foldings_5  Foldings_8  Foldings_10  \\\n",
       "0               0        0        1           0           1            0   \n",
       "1               1        0        1           0           1            0   \n",
       "2               0        1        0           0           0            1   \n",
       "3               0        0        1           0           0            1   \n",
       "4               1        0        1           1           0            0   \n",
       "\n",
       "   Windspeed_Off  Windspeed_On  Dominanthand_L  Dominanthand_R  \n",
       "0              0             1               1               0  \n",
       "1              0             1               1               0  \n",
       "2              0             1               0               1  \n",
       "3              0             1               0               1  \n",
       "4              1             0               0               1  "
      ]
     },
     "execution_count": 85,
     "metadata": {},
     "output_type": "execute_result"
    }
   ],
   "source": [
    "dummy.head()"
   ]
  },
  {
   "cell_type": "code",
   "execution_count": 86,
   "id": "71e56271",
   "metadata": {},
   "outputs": [],
   "source": [
    "trainx,testx=train_test_split(df,test_size=0.2)"
   ]
  },
  {
   "cell_type": "markdown",
   "id": "13094f8c",
   "metadata": {},
   "source": [
    "<h1>LINEAR REGRESSION<h1>"
   ]
  },
  {
   "cell_type": "code",
   "execution_count": 87,
   "id": "95eab343",
   "metadata": {},
   "outputs": [
    {
     "data": {
      "text/plain": [
       "array([6.63781144, 5.66533955, 5.2391466 , 5.55109365, 6.30352658,\n",
       "       5.18576056, 5.18576056, 8.35622779, 5.2391466 , 6.00377325,\n",
       "       5.8535571 , 5.27101864, 7.58818395, 5.27101864, 5.27101864,\n",
       "       7.8304024 , 5.5419861 , 7.8304024 ])"
      ]
     },
     "execution_count": 87,
     "metadata": {},
     "output_type": "execute_result"
    }
   ],
   "source": [
    "reg = LinearRegression().fit(trainx,trainy)\n",
    "reg.predict(testx)\n"
   ]
  },
  {
   "cell_type": "markdown",
   "id": "dcbf88f4",
   "metadata": {},
   "source": [
    "<h1> Decision Tree Regressor<h1>"
   ]
  },
  {
   "cell_type": "code",
   "execution_count": 88,
   "id": "ce45d12d",
   "metadata": {},
   "outputs": [
    {
     "data": {
      "text/plain": [
       "array([6.25      , 5.        , 5.5       , 5.25      , 3.        ,\n",
       "       3.33333333, 3.33333333, 6.25      , 5.5       , 9.        ,\n",
       "       5.66666667, 5.        , 7.5       , 5.        , 5.        ,\n",
       "       7.5       , 4.33333333, 7.5       ])"
      ]
     },
     "execution_count": 88,
     "metadata": {},
     "output_type": "execute_result"
    }
   ],
   "source": [
    "reg1 = DecisionTreeRegressor(random_state=0).fit(trainx,trainy)\n",
    "reg1.predict(testx)"
   ]
  },
  {
   "cell_type": "markdown",
   "id": "8109906c",
   "metadata": {},
   "source": [
    "<h1>Random Forest Regressor<h1>\n",
    "\n",
    "\n",
    "\n"
   ]
  },
  {
   "cell_type": "code",
   "execution_count": 89,
   "id": "01cee6ec",
   "metadata": {},
   "outputs": [
    {
     "data": {
      "text/plain": [
       "array([6.1783875 , 5.39631446, 5.52659864, 5.41250286, 5.94579316,\n",
       "       5.47195547, 5.47195547, 7.63544316, 5.52659864, 6.25355386,\n",
       "       5.75217994, 5.54559986, 6.82080432, 5.54559986, 5.54559986,\n",
       "       7.00382312, 5.15928374, 7.00382312])"
      ]
     },
     "execution_count": 89,
     "metadata": {},
     "output_type": "execute_result"
    }
   ],
   "source": [
    "reg3 = RandomForestRegressor(max_depth=2, random_state=0).fit(trainx,trainy)\n",
    "reg3.predict(testx)"
   ]
  },
  {
   "cell_type": "markdown",
   "id": "9d4d6052",
   "metadata": {},
   "source": [
    "<h1>Ada Boost Regressor<h1>\n",
    "\n"
   ]
  },
  {
   "cell_type": "code",
   "execution_count": 90,
   "id": "0b75a8c9",
   "metadata": {},
   "outputs": [
    {
     "data": {
      "text/plain": [
       "array([6.375     , 5.        , 5.5       , 5.4516129 , 6.66666667,\n",
       "       3.33333333, 3.33333333, 8.        , 5.5       , 6.83333333,\n",
       "       5.48      , 4.97142857, 7.47058824, 4.97142857, 4.97142857,\n",
       "       7.47058824, 5.        , 7.47058824])"
      ]
     },
     "execution_count": 90,
     "metadata": {},
     "output_type": "execute_result"
    }
   ],
   "source": [
    "regr = AdaBoostRegressor(random_state=0, n_estimators=100).fit(trainx,trainy)\n",
    "regr.predict(testx)\n",
    "\n"
   ]
  },
  {
   "cell_type": "markdown",
   "id": "5c6b9aaf",
   "metadata": {},
   "source": [
    "<h1>Gradient Boosting Regressor<h1>"
   ]
  },
  {
   "cell_type": "code",
   "execution_count": 91,
   "id": "9cee615a",
   "metadata": {},
   "outputs": [
    {
     "data": {
      "text/plain": [
       "array([6.31225878, 4.9741659 , 5.47652347, 5.32249329, 4.3473443 ,\n",
       "       3.4244035 , 3.4244035 , 9.01638528, 5.47652347, 8.16785481,\n",
       "       5.73603398, 4.96622685, 7.6250476 , 4.96622685, 4.96622685,\n",
       "       7.54044595, 4.29415689, 7.54044595])"
      ]
     },
     "execution_count": 91,
     "metadata": {},
     "output_type": "execute_result"
    }
   ],
   "source": [
    "clf = GradientBoostingRegressor(random_state=0).fit(trainx,trainy)\n",
    "clf.predict(testx)"
   ]
  },
  {
   "cell_type": "code",
   "execution_count": 92,
   "id": "ed3b65df",
   "metadata": {},
   "outputs": [
    {
     "name": "stdout",
     "output_type": "stream",
     "text": [
      "LinearRegression          =  -0.057741688921328915\n",
      "Decision Tree Regressor   =  -0.332083042568039\n",
      "RandomForestRegressor     =  0.0021074470824254954\n",
      "AdaBoostRegressor         =  -0.1304134886716839\n",
      "GradientBoostingRegressor =  -0.23475644647287086\n"
     ]
    }
   ],
   "source": [
    "print(\"LinearRegression          = \",reg.score(testx,testy))\n",
    "print(\"Decision Tree Regressor   = \",reg1.score(testx,testy))\n",
    "print(\"RandomForestRegressor     = \",reg3.score(testx,testy))\n",
    "print(\"AdaBoostRegressor         = \",regr.score(testx,testy))\n",
    "print(\"GradientBoostingRegressor = \",clf.score(testx,testy))"
   ]
  },
  {
   "cell_type": "code",
   "execution_count": 93,
   "id": "1b279e0e",
   "metadata": {},
   "outputs": [
    {
     "name": "stderr",
     "output_type": "stream",
     "text": [
      "C:\\Users\\SUDARS~1.SUD\\AppData\\Local\\Temp/ipykernel_10196/918523038.py:1: SettingWithCopyWarning: \n",
      "A value is trying to be set on a copy of a slice from a DataFrame\n",
      "\n",
      "See the caveats in the documentation: https://pandas.pydata.org/pandas-docs/stable/user_guide/indexing.html#returning-a-view-versus-a-copy\n",
      "  data.Distance[data.Distance<=5]=0\n",
      "C:\\Users\\SUDARS~1.SUD\\AppData\\Local\\Temp/ipykernel_10196/918523038.py:2: SettingWithCopyWarning: \n",
      "A value is trying to be set on a copy of a slice from a DataFrame\n",
      "\n",
      "See the caveats in the documentation: https://pandas.pydata.org/pandas-docs/stable/user_guide/indexing.html#returning-a-view-versus-a-copy\n",
      "  data.Distance[data.Distance>5]=1\n"
     ]
    }
   ],
   "source": [
    "data.Distance[data.Distance<=5]=0\n",
    "data.Distance[data.Distance>5]=1\n"
   ]
  },
  {
   "cell_type": "code",
   "execution_count": null,
   "id": "6241e64e",
   "metadata": {},
   "outputs": [],
   "source": []
  },
  {
   "cell_type": "code",
   "execution_count": 94,
   "id": "1c57baba",
   "metadata": {},
   "outputs": [
    {
     "data": {
      "text/plain": [
       "array([0, 1], dtype=int64)"
      ]
     },
     "execution_count": 94,
     "metadata": {},
     "output_type": "execute_result"
    }
   ],
   "source": [
    "data.Distance.unique()"
   ]
  },
  {
   "cell_type": "code",
   "execution_count": null,
   "id": "8a98d7b0",
   "metadata": {},
   "outputs": [],
   "source": []
  }
 ],
 "metadata": {
  "kernelspec": {
   "display_name": "Python 3 (ipykernel)",
   "language": "python",
   "name": "python3"
  },
  "language_info": {
   "codemirror_mode": {
    "name": "ipython",
    "version": 3
   },
   "file_extension": ".py",
   "mimetype": "text/x-python",
   "name": "python",
   "nbconvert_exporter": "python",
   "pygments_lexer": "ipython3",
   "version": "3.9.7"
  }
 },
 "nbformat": 4,
 "nbformat_minor": 5
}
