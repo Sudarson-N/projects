{
 "cells": [
  {
   "cell_type": "code",
   "execution_count": 1,
   "id": "40134c59",
   "metadata": {},
   "outputs": [],
   "source": [
    "import pandas as pd\n",
    "import numpy as np\n",
    "from math import sqrt\n",
    "from scipy import stats \n",
    "import matplotlib.pyplot as plt\n",
    "from scipy.stats import pearsonr\n",
    "import statsmodels.api as sm \n",
    "import seaborn as sns\n",
    "from sklearn import datasets\n",
    "from sklearn.model_selection import train_test_split\n",
    "from sklearn.linear_model import LinearRegression\n",
    "from sklearn.preprocessing import MinMaxScaler as mms\n",
    "from sklearn import datasets,linear_model,metrics\n",
    "from sklearn.metrics import mean_squared_error,confusion_matrix,accuracy_score,classification_report\n",
    "from sklearn.linear_model import LogisticRegression\n",
    "from sklearn.tree import DecisionTreeClassifier,DecisionTreeRegressor \n",
    "from sklearn.datasets import make_classification\n",
    "from sklearn.datasets import make_hastie_10_2\n",
    "from sklearn.ensemble import GradientBoostingClassifier,AdaBoostClassifier,RandomForestClassifier\n",
    "from sklearn.datasets import make_regression\n",
    "from sklearn.ensemble import GradientBoostingRegressor,AdaBoostRegressor,RandomForestRegressor\n",
    "from sklearn.decomposition import PCA"
   ]
  },
  {
   "cell_type": "code",
   "execution_count": 2,
   "id": "d13e19f8",
   "metadata": {},
   "outputs": [],
   "source": [
    "train=pd.read_csv('C:/Users/sudarson.SUDARSON/Downloads/Train (1).csv')\n",
    "test=pd.read_csv('C:/Users/sudarson.SUDARSON/Downloads/Test (1).csv')\n",
    "sample=pd.read_csv(r\"C:\\Users\\sudarson.SUDARSON\\Downloads\\sample.csv\")\n"
   ]
  },
  {
   "cell_type": "code",
   "execution_count": 3,
   "id": "d304732e",
   "metadata": {},
   "outputs": [],
   "source": [
    "trainx = train.iloc[0:,0:14]\n",
    "trainy = train.iloc[0:,14]"
   ]
  },
  {
   "cell_type": "code",
   "execution_count": 4,
   "id": "817de700",
   "metadata": {},
   "outputs": [
    {
     "data": {
      "text/plain": [
       "(14576, 15)"
      ]
     },
     "execution_count": 4,
     "metadata": {},
     "output_type": "execute_result"
    }
   ],
   "source": [
    "train.shape"
   ]
  },
  {
   "cell_type": "code",
   "execution_count": 5,
   "id": "2466dba2",
   "metadata": {},
   "outputs": [
    {
     "data": {
      "text/plain": [
       "(2143, 14)"
      ]
     },
     "execution_count": 5,
     "metadata": {},
     "output_type": "execute_result"
    }
   ],
   "source": [
    "test.shape"
   ]
  },
  {
   "cell_type": "code",
   "execution_count": 6,
   "id": "324d7e0c",
   "metadata": {},
   "outputs": [
    {
     "data": {
      "text/plain": [
       "Name                  2\n",
       "Platform              0\n",
       "Year_of_Release     232\n",
       "Genre                 2\n",
       "Publisher            49\n",
       "NA_Sales              0\n",
       "EU_Sales              0\n",
       "JP_Sales              0\n",
       "Critic_Score       7359\n",
       "Critic_Count       7359\n",
       "User_Score         5816\n",
       "User_Count         7780\n",
       "Developer          5747\n",
       "Rating             5872\n",
       "Global_Sales          0\n",
       "dtype: int64"
      ]
     },
     "execution_count": 6,
     "metadata": {},
     "output_type": "execute_result"
    }
   ],
   "source": [
    "train.isnull().sum()"
   ]
  },
  {
   "cell_type": "code",
   "execution_count": 7,
   "id": "5be63ab6",
   "metadata": {},
   "outputs": [
    {
     "data": {
      "text/plain": [
       "Name                  0\n",
       "Platform              0\n",
       "Year_of_Release      37\n",
       "Genre                 0\n",
       "Publisher             5\n",
       "NA_Sales              0\n",
       "EU_Sales              0\n",
       "JP_Sales              0\n",
       "Critic_Score       1223\n",
       "Critic_Count       1223\n",
       "User_Score          888\n",
       "User_Count         1349\n",
       "Developer           876\n",
       "Rating              897\n",
       "dtype: int64"
      ]
     },
     "execution_count": 7,
     "metadata": {},
     "output_type": "execute_result"
    }
   ],
   "source": [
    "test.isnull().sum()"
   ]
  },
  {
   "cell_type": "code",
   "execution_count": 8,
   "id": "fd3627db",
   "metadata": {},
   "outputs": [],
   "source": [
    "game=trainx.append(test,sort=False,ignore_index=True)"
   ]
  },
  {
   "cell_type": "code",
   "execution_count": 9,
   "id": "7a70ae83",
   "metadata": {},
   "outputs": [
    {
     "data": {
      "text/plain": [
       "Name                  2\n",
       "Platform              0\n",
       "Year_of_Release     269\n",
       "Genre                 2\n",
       "Publisher            54\n",
       "NA_Sales              0\n",
       "EU_Sales              0\n",
       "JP_Sales              0\n",
       "Critic_Score       8582\n",
       "Critic_Count       8582\n",
       "User_Score         6704\n",
       "User_Count         9129\n",
       "Developer          6623\n",
       "Rating             6769\n",
       "dtype: int64"
      ]
     },
     "execution_count": 9,
     "metadata": {},
     "output_type": "execute_result"
    }
   ],
   "source": [
    "game.isnull().sum()"
   ]
  },
  {
   "cell_type": "code",
   "execution_count": 10,
   "id": "2cc5da9f",
   "metadata": {},
   "outputs": [
    {
     "data": {
      "text/plain": [
       "array(['8', nan, '8.3', '8.5', '6.6', '8.4', '8.6', '7.7', '6.3', '7.4',\n",
       "       '8.2', '9', '7.9', '8.1', '8.7', '7.1', '3.4', '5.3', '4.8', '3.2',\n",
       "       '8.9', '6.4', '7.8', '7.5', '2.6', '7.2', '9.2', '7', '7.3', '4.3',\n",
       "       '7.6', '5.7', '5', '9.1', '6.5', 'tbd', '8.8', '6.9', '9.4', '6.8',\n",
       "       '6.1', '6.7', '5.4', '4', '4.9', '4.5', '9.3', '6.2', '4.2', '6',\n",
       "       '3.7', '4.1', '5.8', '5.6', '5.5', '4.4', '4.6', '5.9', '3.9',\n",
       "       '3.1', '2.9', '5.2', '3.3', '4.7', '5.1', '3.5', '2.5', '1.9', '3',\n",
       "       '2.7', '2.2', '2', '9.5', '2.1', '3.6', '2.8', '1.8', '3.8', '0',\n",
       "       '1.6', '9.6', '2.4', '1.7', '1.1', '0.3', '1.5', '0.7', '1.2',\n",
       "       '2.3', '0.5', '0.6', '1.4', '0.9', '1', '1.3', '0.2', '9.7'],\n",
       "      dtype=object)"
      ]
     },
     "execution_count": 10,
     "metadata": {},
     "output_type": "execute_result"
    }
   ],
   "source": [
    "game.User_Score.unique()"
   ]
  },
  {
   "cell_type": "code",
   "execution_count": 11,
   "id": "5bca0bd3",
   "metadata": {},
   "outputs": [],
   "source": [
    "#game[game.User_Score==\"tbd\"]="
   ]
  },
  {
   "cell_type": "code",
   "execution_count": 12,
   "id": "179a6a38",
   "metadata": {},
   "outputs": [],
   "source": [
    "game.Year_of_Release.fillna(game.Year_of_Release.median(),inplace=True)\n",
    "game.Critic_Score.fillna(game.Critic_Score.median(),inplace=True)\n",
    "game.Critic_Count.fillna(game.Critic_Count.median(),inplace=True)\n",
    "game.User_Score.fillna(game.User_Score.mode().max(),inplace=True)\n",
    "game.User_Count.fillna(game.User_Count.median(),inplace=True)\n",
    "game.Rating.fillna(game.Rating.mode().max(),inplace=True)\n",
    "game.Developer.fillna(game.Developer.mode().max(),inplace=True)"
   ]
  },
  {
   "cell_type": "code",
   "execution_count": 13,
   "id": "e124287b",
   "metadata": {},
   "outputs": [],
   "source": [
    "game=game.dropna()"
   ]
  },
  {
   "cell_type": "code",
   "execution_count": 14,
   "id": "19f237b3",
   "metadata": {},
   "outputs": [
    {
     "name": "stderr",
     "output_type": "stream",
     "text": [
      "C:\\Users\\sudarson.SUDARSON\\anaconda3\\lib\\site-packages\\seaborn\\_decorators.py:36: FutureWarning: Pass the following variable as a keyword arg: x. From version 0.12, the only valid positional argument will be `data`, and passing other arguments without an explicit keyword will result in an error or misinterpretation.\n",
      "  warnings.warn(\n"
     ]
    },
    {
     "data": {
      "text/plain": [
       "'plt.boxplot(game.Critic_Score)\\nplt.subplot(1,6,3)\\nplt.boxplot(game.Critic_Count)\\nplt.subplot(1,6,4)\\nplt.boxplot(game.User_Score)\\nplt.subplot(1,6,5)\\nplt.boxplot(game.User_Count)\\nplt.subplot(1,6,6)\\nplt.boxplot(game.Rating)'"
      ]
     },
     "execution_count": 14,
     "metadata": {},
     "output_type": "execute_result"
    },
    {
     "data": {
      "image/png": "[encoded data removed]",
      "text/plain": [
       "<Figure size 432x288 with 1 Axes>"
      ]
     },
     "metadata": {
      "needs_background": "light"
     },
     "output_type": "display_data"
    }
   ],
   "source": [
    "#plt.figure(figsize=[12,6])\n",
    "#plt.subplot(1,6,1)\n",
    "sns.boxplot(game.User_Count)\n",
    "#plt.subplot(1,6,2)\n",
    "'''plt.boxplot(game.Critic_Score)\n",
    "plt.subplot(1,6,3)\n",
    "plt.boxplot(game.Critic_Count)\n",
    "plt.subplot(1,6,4)\n",
    "plt.boxplot(game.User_Score)\n",
    "plt.subplot(1,6,5)\n",
    "plt.boxplot(game.User_Count)\n",
    "plt.subplot(1,6,6)\n",
    "plt.boxplot(game.Rating)'''"
   ]
  },
  {
   "cell_type": "code",
   "execution_count": null,
   "id": "d13accca",
   "metadata": {},
   "outputs": [],
   "source": []
  },
  {
   "cell_type": "code",
   "execution_count": null,
   "id": "fed6ba14",
   "metadata": {},
   "outputs": [],
   "source": []
  },
  {
   "cell_type": "code",
   "execution_count": 15,
   "id": "b8cfc3a7",
   "metadata": {},
   "outputs": [
    {
     "data": {
      "text/plain": [
       "{'whiskers': [<matplotlib.lines.Line2D at 0x1f909555f40>,\n",
       "  <matplotlib.lines.Line2D at 0x1f909564310>],\n",
       " 'caps': [<matplotlib.lines.Line2D at 0x1f9095646a0>,\n",
       "  <matplotlib.lines.Line2D at 0x1f909564a30>],\n",
       " 'boxes': [<matplotlib.lines.Line2D at 0x1f909555bb0>],\n",
       " 'medians': [<matplotlib.lines.Line2D at 0x1f909564dc0>],\n",
       " 'fliers': [<matplotlib.lines.Line2D at 0x1f909571190>],\n",
       " 'means': []}"
      ]
     },
     "execution_count": 15,
     "metadata": {},
     "output_type": "execute_result"
    },
    {
     "data": {
      "image/png": "[encoded data removed]",
      "text/plain": [
       "<Figure size 864x432 with 6 Axes>"
      ]
     },
     "metadata": {
      "needs_background": "light"
     },
     "output_type": "display_data"
    }
   ],
   "source": [
    "plt.figure(figsize=[12,6])\n",
    "plt.subplot(1,6,1)\n",
    "plt.boxplot(game.Year_of_Release)\n",
    "plt.subplot(1,6,2)\n",
    "plt.boxplot(game.Critic_Score)\n",
    "plt.subplot(1,6,3)\n",
    "plt.boxplot(game.Critic_Count)\n",
    "plt.subplot(1,6,4)\n",
    "plt.boxplot(game.NA_Sales)\n",
    "plt.subplot(1,6,5)\n",
    "plt.boxplot(game.EU_Sales)\n",
    "plt.subplot(1,6,6)\n",
    "plt.boxplot(game.JP_Sales)"
   ]
  },
  {
   "cell_type": "code",
   "execution_count": null,
   "id": "39a77791",
   "metadata": {},
   "outputs": [],
   "source": []
  },
  {
   "cell_type": "code",
   "execution_count": 16,
   "id": "a8361317",
   "metadata": {},
   "outputs": [],
   "source": [
    "q3 = game.NA_Sales.quantile(0.75)\n",
    "q1 = game.NA_Sales.quantile(0.25)\n",
    "IQR = q3 - q1\n",
    "UE = q3 + (1.5 * IQR)\n",
    "LE = q1 - (1.5 * IQR)\n",
    "game.NA_Sales[game.NA_Sales > UE] = UE"
   ]
  },
  {
   "cell_type": "code",
   "execution_count": 17,
   "id": "47c2e05e",
   "metadata": {},
   "outputs": [],
   "source": [
    "q3 = game.EU_Sales.quantile(0.75)\n",
    "q1 = game.EU_Sales.quantile(0.25)\n",
    "IQR = q3 - q1\n",
    "UE = q3 + (1.5 * IQR)\n",
    "LE = q1 - (1.5 * IQR)\n",
    "game.EU_Sales[game.EU_Sales > UE] = UE"
   ]
  },
  {
   "cell_type": "code",
   "execution_count": 18,
   "id": "7480b6c5",
   "metadata": {},
   "outputs": [],
   "source": [
    "q3 = game.JP_Sales.quantile(0.75)\n",
    "q1 = game.JP_Sales.quantile(0.25)\n",
    "IQR = q3 - q1\n",
    "UE = q3 + (1.5 * IQR)\n",
    "LE = q1 - (1.5 * IQR)\n",
    "game.JP_Sales[game.JP_Sales > UE] = UE"
   ]
  },
  {
   "cell_type": "code",
   "execution_count": 19,
   "id": "004d6922",
   "metadata": {},
   "outputs": [
    {
     "data": {
      "text/html": [
       "<div>\n",
       "<style scoped>\n",
       "    .dataframe tbody tr th:only-of-type {\n",
       "        vertical-align: middle;\n",
       "    }\n",
       "\n",
       "    .dataframe tbody tr th {\n",
       "        vertical-align: top;\n",
       "    }\n",
       "\n",
       "    .dataframe thead th {\n",
       "        text-align: right;\n",
       "    }\n",
       "</style>\n",
       "<table border=\"1\" class=\"dataframe\">\n",
       "  <thead>\n",
       "    <tr style=\"text-align: right;\">\n",
       "      <th></th>\n",
       "      <th>Name</th>\n",
       "      <th>Platform</th>\n",
       "      <th>Year_of_Release</th>\n",
       "      <th>Genre</th>\n",
       "      <th>Publisher</th>\n",
       "      <th>NA_Sales</th>\n",
       "      <th>EU_Sales</th>\n",
       "      <th>JP_Sales</th>\n",
       "      <th>Critic_Score</th>\n",
       "      <th>Critic_Count</th>\n",
       "      <th>User_Score</th>\n",
       "      <th>User_Count</th>\n",
       "      <th>Developer</th>\n",
       "      <th>Rating</th>\n",
       "    </tr>\n",
       "  </thead>\n",
       "  <tbody>\n",
       "    <tr>\n",
       "      <th>0</th>\n",
       "      <td>Wii Sports</td>\n",
       "      <td>Wii</td>\n",
       "      <td>2006.0</td>\n",
       "      <td>Sports</td>\n",
       "      <td>Nintendo</td>\n",
       "      <td>0.6</td>\n",
       "      <td>0.275</td>\n",
       "      <td>0.1</td>\n",
       "      <td>76.0</td>\n",
       "      <td>51.0</td>\n",
       "      <td>8</td>\n",
       "      <td>322.0</td>\n",
       "      <td>Nintendo</td>\n",
       "      <td>E</td>\n",
       "    </tr>\n",
       "    <tr>\n",
       "      <th>1</th>\n",
       "      <td>Super Mario Bros.</td>\n",
       "      <td>NES</td>\n",
       "      <td>1985.0</td>\n",
       "      <td>Platform</td>\n",
       "      <td>Nintendo</td>\n",
       "      <td>0.6</td>\n",
       "      <td>0.275</td>\n",
       "      <td>0.1</td>\n",
       "      <td>71.0</td>\n",
       "      <td>21.0</td>\n",
       "      <td>tbd</td>\n",
       "      <td>24.0</td>\n",
       "      <td>Ubisoft</td>\n",
       "      <td>E</td>\n",
       "    </tr>\n",
       "    <tr>\n",
       "      <th>2</th>\n",
       "      <td>Mario Kart Wii</td>\n",
       "      <td>Wii</td>\n",
       "      <td>2008.0</td>\n",
       "      <td>Racing</td>\n",
       "      <td>Nintendo</td>\n",
       "      <td>0.6</td>\n",
       "      <td>0.275</td>\n",
       "      <td>0.1</td>\n",
       "      <td>82.0</td>\n",
       "      <td>73.0</td>\n",
       "      <td>8.3</td>\n",
       "      <td>709.0</td>\n",
       "      <td>Nintendo</td>\n",
       "      <td>E</td>\n",
       "    </tr>\n",
       "    <tr>\n",
       "      <th>3</th>\n",
       "      <td>Wii Sports Resort</td>\n",
       "      <td>Wii</td>\n",
       "      <td>2009.0</td>\n",
       "      <td>Sports</td>\n",
       "      <td>Nintendo</td>\n",
       "      <td>0.6</td>\n",
       "      <td>0.275</td>\n",
       "      <td>0.1</td>\n",
       "      <td>80.0</td>\n",
       "      <td>73.0</td>\n",
       "      <td>8</td>\n",
       "      <td>192.0</td>\n",
       "      <td>Nintendo</td>\n",
       "      <td>E</td>\n",
       "    </tr>\n",
       "    <tr>\n",
       "      <th>4</th>\n",
       "      <td>Pokemon Red/Pokemon Blue</td>\n",
       "      <td>GB</td>\n",
       "      <td>1996.0</td>\n",
       "      <td>Role-Playing</td>\n",
       "      <td>Nintendo</td>\n",
       "      <td>0.6</td>\n",
       "      <td>0.275</td>\n",
       "      <td>0.1</td>\n",
       "      <td>71.0</td>\n",
       "      <td>21.0</td>\n",
       "      <td>tbd</td>\n",
       "      <td>24.0</td>\n",
       "      <td>Ubisoft</td>\n",
       "      <td>E</td>\n",
       "    </tr>\n",
       "  </tbody>\n",
       "</table>\n",
       "</div>"
      ],
      "text/plain": [
       "                       Name Platform  Year_of_Release         Genre Publisher  \\\n",
       "0                Wii Sports      Wii           2006.0        Sports  Nintendo   \n",
       "1         Super Mario Bros.      NES           1985.0      Platform  Nintendo   \n",
       "2            Mario Kart Wii      Wii           2008.0        Racing  Nintendo   \n",
       "3         Wii Sports Resort      Wii           2009.0        Sports  Nintendo   \n",
       "4  Pokemon Red/Pokemon Blue       GB           1996.0  Role-Playing  Nintendo   \n",
       "\n",
       "   NA_Sales  EU_Sales  JP_Sales  Critic_Score  Critic_Count User_Score  \\\n",
       "0       0.6     0.275       0.1          76.0          51.0          8   \n",
       "1       0.6     0.275       0.1          71.0          21.0        tbd   \n",
       "2       0.6     0.275       0.1          82.0          73.0        8.3   \n",
       "3       0.6     0.275       0.1          80.0          73.0          8   \n",
       "4       0.6     0.275       0.1          71.0          21.0        tbd   \n",
       "\n",
       "   User_Count Developer Rating  \n",
       "0       322.0  Nintendo      E  \n",
       "1        24.0   Ubisoft      E  \n",
       "2       709.0  Nintendo      E  \n",
       "3       192.0  Nintendo      E  \n",
       "4        24.0   Ubisoft      E  "
      ]
     },
     "execution_count": 19,
     "metadata": {},
     "output_type": "execute_result"
    }
   ],
   "source": [
    "game.head()"
   ]
  },
  {
   "cell_type": "code",
   "execution_count": 20,
   "id": "c3eaebde",
   "metadata": {},
   "outputs": [
    {
     "data": {
      "text/html": [
       "<div>\n",
       "<style scoped>\n",
       "    .dataframe tbody tr th:only-of-type {\n",
       "        vertical-align: middle;\n",
       "    }\n",
       "\n",
       "    .dataframe tbody tr th {\n",
       "        vertical-align: top;\n",
       "    }\n",
       "\n",
       "    .dataframe thead th {\n",
       "        text-align: right;\n",
       "    }\n",
       "</style>\n",
       "<table border=\"1\" class=\"dataframe\">\n",
       "  <thead>\n",
       "    <tr style=\"text-align: right;\">\n",
       "      <th></th>\n",
       "      <th>Year_of_Release</th>\n",
       "      <th>NA_Sales</th>\n",
       "      <th>EU_Sales</th>\n",
       "      <th>JP_Sales</th>\n",
       "      <th>Critic_Score</th>\n",
       "      <th>Critic_Count</th>\n",
       "      <th>User_Count</th>\n",
       "      <th>Name_.hack//G.U. Vol.1//Rebirth</th>\n",
       "      <th>Name_.hack//G.U. Vol.2//Reminisce</th>\n",
       "      <th>Name_.hack//G.U. Vol.2//Reminisce (jp sales)</th>\n",
       "      <th>...</th>\n",
       "      <th>Developer_syn Sophia</th>\n",
       "      <th>Developer_zSlide</th>\n",
       "      <th>Rating_AO</th>\n",
       "      <th>Rating_E</th>\n",
       "      <th>Rating_E10+</th>\n",
       "      <th>Rating_EC</th>\n",
       "      <th>Rating_K-A</th>\n",
       "      <th>Rating_M</th>\n",
       "      <th>Rating_RP</th>\n",
       "      <th>Rating_T</th>\n",
       "    </tr>\n",
       "  </thead>\n",
       "  <tbody>\n",
       "    <tr>\n",
       "      <th>0</th>\n",
       "      <td>2006.0</td>\n",
       "      <td>0.60</td>\n",
       "      <td>0.275</td>\n",
       "      <td>0.1</td>\n",
       "      <td>76.0</td>\n",
       "      <td>51.0</td>\n",
       "      <td>322.0</td>\n",
       "      <td>0</td>\n",
       "      <td>0</td>\n",
       "      <td>0</td>\n",
       "      <td>...</td>\n",
       "      <td>0</td>\n",
       "      <td>0</td>\n",
       "      <td>0</td>\n",
       "      <td>1</td>\n",
       "      <td>0</td>\n",
       "      <td>0</td>\n",
       "      <td>0</td>\n",
       "      <td>0</td>\n",
       "      <td>0</td>\n",
       "      <td>0</td>\n",
       "    </tr>\n",
       "    <tr>\n",
       "      <th>1</th>\n",
       "      <td>1985.0</td>\n",
       "      <td>0.60</td>\n",
       "      <td>0.275</td>\n",
       "      <td>0.1</td>\n",
       "      <td>71.0</td>\n",
       "      <td>21.0</td>\n",
       "      <td>24.0</td>\n",
       "      <td>0</td>\n",
       "      <td>0</td>\n",
       "      <td>0</td>\n",
       "      <td>...</td>\n",
       "      <td>0</td>\n",
       "      <td>0</td>\n",
       "      <td>0</td>\n",
       "      <td>1</td>\n",
       "      <td>0</td>\n",
       "      <td>0</td>\n",
       "      <td>0</td>\n",
       "      <td>0</td>\n",
       "      <td>0</td>\n",
       "      <td>0</td>\n",
       "    </tr>\n",
       "    <tr>\n",
       "      <th>2</th>\n",
       "      <td>2008.0</td>\n",
       "      <td>0.60</td>\n",
       "      <td>0.275</td>\n",
       "      <td>0.1</td>\n",
       "      <td>82.0</td>\n",
       "      <td>73.0</td>\n",
       "      <td>709.0</td>\n",
       "      <td>0</td>\n",
       "      <td>0</td>\n",
       "      <td>0</td>\n",
       "      <td>...</td>\n",
       "      <td>0</td>\n",
       "      <td>0</td>\n",
       "      <td>0</td>\n",
       "      <td>1</td>\n",
       "      <td>0</td>\n",
       "      <td>0</td>\n",
       "      <td>0</td>\n",
       "      <td>0</td>\n",
       "      <td>0</td>\n",
       "      <td>0</td>\n",
       "    </tr>\n",
       "    <tr>\n",
       "      <th>3</th>\n",
       "      <td>2009.0</td>\n",
       "      <td>0.60</td>\n",
       "      <td>0.275</td>\n",
       "      <td>0.1</td>\n",
       "      <td>80.0</td>\n",
       "      <td>73.0</td>\n",
       "      <td>192.0</td>\n",
       "      <td>0</td>\n",
       "      <td>0</td>\n",
       "      <td>0</td>\n",
       "      <td>...</td>\n",
       "      <td>0</td>\n",
       "      <td>0</td>\n",
       "      <td>0</td>\n",
       "      <td>1</td>\n",
       "      <td>0</td>\n",
       "      <td>0</td>\n",
       "      <td>0</td>\n",
       "      <td>0</td>\n",
       "      <td>0</td>\n",
       "      <td>0</td>\n",
       "    </tr>\n",
       "    <tr>\n",
       "      <th>4</th>\n",
       "      <td>1996.0</td>\n",
       "      <td>0.60</td>\n",
       "      <td>0.275</td>\n",
       "      <td>0.1</td>\n",
       "      <td>71.0</td>\n",
       "      <td>21.0</td>\n",
       "      <td>24.0</td>\n",
       "      <td>0</td>\n",
       "      <td>0</td>\n",
       "      <td>0</td>\n",
       "      <td>...</td>\n",
       "      <td>0</td>\n",
       "      <td>0</td>\n",
       "      <td>0</td>\n",
       "      <td>1</td>\n",
       "      <td>0</td>\n",
       "      <td>0</td>\n",
       "      <td>0</td>\n",
       "      <td>0</td>\n",
       "      <td>0</td>\n",
       "      <td>0</td>\n",
       "    </tr>\n",
       "    <tr>\n",
       "      <th>...</th>\n",
       "      <td>...</td>\n",
       "      <td>...</td>\n",
       "      <td>...</td>\n",
       "      <td>...</td>\n",
       "      <td>...</td>\n",
       "      <td>...</td>\n",
       "      <td>...</td>\n",
       "      <td>...</td>\n",
       "      <td>...</td>\n",
       "      <td>...</td>\n",
       "      <td>...</td>\n",
       "      <td>...</td>\n",
       "      <td>...</td>\n",
       "      <td>...</td>\n",
       "      <td>...</td>\n",
       "      <td>...</td>\n",
       "      <td>...</td>\n",
       "      <td>...</td>\n",
       "      <td>...</td>\n",
       "      <td>...</td>\n",
       "      <td>...</td>\n",
       "    </tr>\n",
       "    <tr>\n",
       "      <th>16714</th>\n",
       "      <td>2008.0</td>\n",
       "      <td>0.05</td>\n",
       "      <td>0.000</td>\n",
       "      <td>0.0</td>\n",
       "      <td>61.0</td>\n",
       "      <td>6.0</td>\n",
       "      <td>8.0</td>\n",
       "      <td>0</td>\n",
       "      <td>0</td>\n",
       "      <td>0</td>\n",
       "      <td>...</td>\n",
       "      <td>0</td>\n",
       "      <td>0</td>\n",
       "      <td>0</td>\n",
       "      <td>0</td>\n",
       "      <td>0</td>\n",
       "      <td>0</td>\n",
       "      <td>0</td>\n",
       "      <td>1</td>\n",
       "      <td>0</td>\n",
       "      <td>0</td>\n",
       "    </tr>\n",
       "    <tr>\n",
       "      <th>16715</th>\n",
       "      <td>2008.0</td>\n",
       "      <td>0.00</td>\n",
       "      <td>0.050</td>\n",
       "      <td>0.0</td>\n",
       "      <td>71.0</td>\n",
       "      <td>41.0</td>\n",
       "      <td>203.0</td>\n",
       "      <td>0</td>\n",
       "      <td>0</td>\n",
       "      <td>0</td>\n",
       "      <td>...</td>\n",
       "      <td>0</td>\n",
       "      <td>0</td>\n",
       "      <td>0</td>\n",
       "      <td>0</td>\n",
       "      <td>0</td>\n",
       "      <td>0</td>\n",
       "      <td>0</td>\n",
       "      <td>1</td>\n",
       "      <td>0</td>\n",
       "      <td>0</td>\n",
       "    </tr>\n",
       "    <tr>\n",
       "      <th>16716</th>\n",
       "      <td>2010.0</td>\n",
       "      <td>0.06</td>\n",
       "      <td>0.000</td>\n",
       "      <td>0.0</td>\n",
       "      <td>71.0</td>\n",
       "      <td>21.0</td>\n",
       "      <td>24.0</td>\n",
       "      <td>0</td>\n",
       "      <td>0</td>\n",
       "      <td>0</td>\n",
       "      <td>...</td>\n",
       "      <td>0</td>\n",
       "      <td>0</td>\n",
       "      <td>0</td>\n",
       "      <td>1</td>\n",
       "      <td>0</td>\n",
       "      <td>0</td>\n",
       "      <td>0</td>\n",
       "      <td>0</td>\n",
       "      <td>0</td>\n",
       "      <td>0</td>\n",
       "    </tr>\n",
       "    <tr>\n",
       "      <th>16717</th>\n",
       "      <td>2014.0</td>\n",
       "      <td>0.00</td>\n",
       "      <td>0.050</td>\n",
       "      <td>0.0</td>\n",
       "      <td>58.0</td>\n",
       "      <td>5.0</td>\n",
       "      <td>4.0</td>\n",
       "      <td>0</td>\n",
       "      <td>0</td>\n",
       "      <td>0</td>\n",
       "      <td>...</td>\n",
       "      <td>0</td>\n",
       "      <td>0</td>\n",
       "      <td>0</td>\n",
       "      <td>0</td>\n",
       "      <td>1</td>\n",
       "      <td>0</td>\n",
       "      <td>0</td>\n",
       "      <td>0</td>\n",
       "      <td>0</td>\n",
       "      <td>0</td>\n",
       "    </tr>\n",
       "    <tr>\n",
       "      <th>16718</th>\n",
       "      <td>2005.0</td>\n",
       "      <td>0.05</td>\n",
       "      <td>0.000</td>\n",
       "      <td>0.0</td>\n",
       "      <td>58.0</td>\n",
       "      <td>10.0</td>\n",
       "      <td>5.0</td>\n",
       "      <td>0</td>\n",
       "      <td>0</td>\n",
       "      <td>0</td>\n",
       "      <td>...</td>\n",
       "      <td>0</td>\n",
       "      <td>0</td>\n",
       "      <td>0</td>\n",
       "      <td>1</td>\n",
       "      <td>0</td>\n",
       "      <td>0</td>\n",
       "      <td>0</td>\n",
       "      <td>0</td>\n",
       "      <td>0</td>\n",
       "      <td>0</td>\n",
       "    </tr>\n",
       "  </tbody>\n",
       "</table>\n",
       "<p>16663 rows × 13943 columns</p>\n",
       "</div>"
      ],
      "text/plain": [
       "       Year_of_Release  NA_Sales  EU_Sales  JP_Sales  Critic_Score  \\\n",
       "0               2006.0      0.60     0.275       0.1          76.0   \n",
       "1               1985.0      0.60     0.275       0.1          71.0   \n",
       "2               2008.0      0.60     0.275       0.1          82.0   \n",
       "3               2009.0      0.60     0.275       0.1          80.0   \n",
       "4               1996.0      0.60     0.275       0.1          71.0   \n",
       "...                ...       ...       ...       ...           ...   \n",
       "16714           2008.0      0.05     0.000       0.0          61.0   \n",
       "16715           2008.0      0.00     0.050       0.0          71.0   \n",
       "16716           2010.0      0.06     0.000       0.0          71.0   \n",
       "16717           2014.0      0.00     0.050       0.0          58.0   \n",
       "16718           2005.0      0.05     0.000       0.0          58.0   \n",
       "\n",
       "       Critic_Count  User_Count  Name_.hack//G.U. Vol.1//Rebirth  \\\n",
       "0              51.0       322.0                                0   \n",
       "1              21.0        24.0                                0   \n",
       "2              73.0       709.0                                0   \n",
       "3              73.0       192.0                                0   \n",
       "4              21.0        24.0                                0   \n",
       "...             ...         ...                              ...   \n",
       "16714           6.0         8.0                                0   \n",
       "16715          41.0       203.0                                0   \n",
       "16716          21.0        24.0                                0   \n",
       "16717           5.0         4.0                                0   \n",
       "16718          10.0         5.0                                0   \n",
       "\n",
       "       Name_.hack//G.U. Vol.2//Reminisce  \\\n",
       "0                                      0   \n",
       "1                                      0   \n",
       "2                                      0   \n",
       "3                                      0   \n",
       "4                                      0   \n",
       "...                                  ...   \n",
       "16714                                  0   \n",
       "16715                                  0   \n",
       "16716                                  0   \n",
       "16717                                  0   \n",
       "16718                                  0   \n",
       "\n",
       "       Name_.hack//G.U. Vol.2//Reminisce (jp sales)  ...  \\\n",
       "0                                                 0  ...   \n",
       "1                                                 0  ...   \n",
       "2                                                 0  ...   \n",
       "3                                                 0  ...   \n",
       "4                                                 0  ...   \n",
       "...                                             ...  ...   \n",
       "16714                                             0  ...   \n",
       "16715                                             0  ...   \n",
       "16716                                             0  ...   \n",
       "16717                                             0  ...   \n",
       "16718                                             0  ...   \n",
       "\n",
       "       Developer_syn Sophia  Developer_zSlide  Rating_AO  Rating_E  \\\n",
       "0                         0                 0          0         1   \n",
       "1                         0                 0          0         1   \n",
       "2                         0                 0          0         1   \n",
       "3                         0                 0          0         1   \n",
       "4                         0                 0          0         1   \n",
       "...                     ...               ...        ...       ...   \n",
       "16714                     0                 0          0         0   \n",
       "16715                     0                 0          0         0   \n",
       "16716                     0                 0          0         1   \n",
       "16717                     0                 0          0         0   \n",
       "16718                     0                 0          0         1   \n",
       "\n",
       "       Rating_E10+  Rating_EC  Rating_K-A  Rating_M  Rating_RP  Rating_T  \n",
       "0                0          0           0         0          0         0  \n",
       "1                0          0           0         0          0         0  \n",
       "2                0          0           0         0          0         0  \n",
       "3                0          0           0         0          0         0  \n",
       "4                0          0           0         0          0         0  \n",
       "...            ...        ...         ...       ...        ...       ...  \n",
       "16714            0          0           0         1          0         0  \n",
       "16715            0          0           0         1          0         0  \n",
       "16716            0          0           0         0          0         0  \n",
       "16717            1          0           0         0          0         0  \n",
       "16718            0          0           0         0          0         0  \n",
       "\n",
       "[16663 rows x 13943 columns]"
      ]
     },
     "execution_count": 20,
     "metadata": {},
     "output_type": "execute_result"
    }
   ],
   "source": [
    "dummy = pd.get_dummies(game)\n",
    "scaler=mms().fit(dummy)\n",
    "TS = scaler.transform(dummy)\n",
    "df1= pd.DataFrame(TS)\n",
    "dummy"
   ]
  },
  {
   "cell_type": "code",
   "execution_count": 21,
   "id": "738339e1",
   "metadata": {},
   "outputs": [],
   "source": [
    "train = df1.iloc[0:14576,0:]\n",
    "test = df1.iloc[14576:,0:]\n",
    "trainx,testx,trainy,testy = train_test_split(train,trainy,test_size = 0.2)"
   ]
  },
  {
   "cell_type": "code",
   "execution_count": 22,
   "id": "4ac97ff1",
   "metadata": {},
   "outputs": [
    {
     "data": {
      "text/plain": [
       "(16663, 13943)"
      ]
     },
     "execution_count": 22,
     "metadata": {},
     "output_type": "execute_result"
    }
   ],
   "source": [
    "df1.shape"
   ]
  },
  {
   "cell_type": "code",
   "execution_count": null,
   "id": "388baf58",
   "metadata": {},
   "outputs": [],
   "source": [
    "reg = LinearRegression().fit(trainx,trainy)"
   ]
  },
  {
   "cell_type": "code",
   "execution_count": null,
   "id": "5f988b2b",
   "metadata": {},
   "outputs": [],
   "source": [
    "reg.predict(testx)"
   ]
  },
  {
   "cell_type": "code",
   "execution_count": null,
   "id": "c2cdb9c8",
   "metadata": {},
   "outputs": [],
   "source": [
    "rms1=sqrt(mean_squared_error(testy,reg.predict(testx),squared=False))\n",
    "rms1"
   ]
  },
  {
   "cell_type": "code",
   "execution_count": null,
   "id": "a04b44aa",
   "metadata": {},
   "outputs": [],
   "source": [
    "reg1 = DecisionTreeRegressor(random_state=0).fit(trainx,trainy)"
   ]
  },
  {
   "cell_type": "code",
   "execution_count": null,
   "id": "fe0dc5f5",
   "metadata": {},
   "outputs": [],
   "source": [
    "reg1.predict(testx)"
   ]
  },
  {
   "cell_type": "code",
   "execution_count": null,
   "id": "7a512acc",
   "metadata": {},
   "outputs": [],
   "source": [
    "rms2=sqrt(mean_squared_error(testy,reg1.predict(testx),squared=False))\n",
    "rms2"
   ]
  },
  {
   "cell_type": "code",
   "execution_count": null,
   "id": "9ea39d2c",
   "metadata": {},
   "outputs": [],
   "source": [
    "reg3 = RandomForestRegressor(max_depth=2, random_state=0).fit(trainx,trainy)"
   ]
  },
  {
   "cell_type": "code",
   "execution_count": null,
   "id": "14426cc4",
   "metadata": {},
   "outputs": [],
   "source": [
    "reg3.predict(testx)"
   ]
  },
  {
   "cell_type": "code",
   "execution_count": null,
   "id": "6ebdb173",
   "metadata": {},
   "outputs": [],
   "source": [
    "rms3=sqrt(mean_squared_error(testy,reg3.predict(testx),squared=False))\n",
    "rms3"
   ]
  },
  {
   "cell_type": "code",
   "execution_count": null,
   "id": "789575a3",
   "metadata": {},
   "outputs": [],
   "source": [
    "regr = AdaBoostRegressor(random_state=0, n_estimators=100).fit(trainx,trainy)"
   ]
  },
  {
   "cell_type": "code",
   "execution_count": null,
   "id": "3c0e1cc9",
   "metadata": {},
   "outputs": [],
   "source": [
    "regr.predict(testx)"
   ]
  },
  {
   "cell_type": "code",
   "execution_count": null,
   "id": "4e23297e",
   "metadata": {},
   "outputs": [],
   "source": [
    "rms4=sqrt(mean_squared_error(testy,regr.predict(testx),squared=False))\n",
    "rms4"
   ]
  },
  {
   "cell_type": "code",
   "execution_count": null,
   "id": "51644742",
   "metadata": {},
   "outputs": [],
   "source": [
    "clf = GradientBoostingRegressor(random_state=0).fit(trainx,trainy)"
   ]
  },
  {
   "cell_type": "code",
   "execution_count": null,
   "id": "5cabd301",
   "metadata": {},
   "outputs": [],
   "source": [
    "clf.predict(testx)"
   ]
  },
  {
   "cell_type": "code",
   "execution_count": null,
   "id": "2c6084fd",
   "metadata": {},
   "outputs": [],
   "source": [
    "rms5=sqrt(mean_squared_error(testy,clf.predict(testx),squared=False))\n",
    "rms5"
   ]
  },
  {
   "cell_type": "code",
   "execution_count": null,
   "id": "262311c4",
   "metadata": {},
   "outputs": [],
   "source": [
    "print(\"LinearRegression          = \",reg.score(testx,testy))\n",
    "print(\"Decision Tree Regressor   = \",reg1.score(testx,testy))\n",
    "print(\"RandomForestRegressor     = \",reg3.score(testx,testy))\n",
    "print(\"AdaBoostRegressor         = \",regr.score(testx,testy))\n",
    "print(\"GradientBoostingRegressor = \",clf.score(testx,testy))"
   ]
  },
  {
   "cell_type": "code",
   "execution_count": null,
   "id": "e088fb6c",
   "metadata": {},
   "outputs": [],
   "source": [
    "rms = [\n",
    "    [\"LinearRegression           rms\",rms1],\n",
    "    [\"decision_tree_regressor    rms\",rms2],\n",
    "    [\"random_forest_regression   rms\",rms3],\n",
    "    [\"ada_boosting_regression    rms\" ,rms4],\n",
    "    [\"gradient_boosting_regressionrms  \",rms5]\n",
    "    ]"
   ]
  },
  {
   "cell_type": "code",
   "execution_count": null,
   "id": "125a07a8",
   "metadata": {},
   "outputs": [],
   "source": [
    "rms"
   ]
  },
  {
   "cell_type": "code",
   "execution_count": null,
   "id": "0784b69d",
   "metadata": {},
   "outputs": [],
   "source": [
    "def regression(x,y):\n",
    "    trainx,testx,trainy,test=train_test_split(x,y,test_size=0.2)\n",
    "    linearreg= LinearRegression().fit(trainx,trainy)\n",
    "    linearreg.predict(testx)\n",
    "    linearrms=sqrt(mean_squared_error(testy,linearreg.predict(testx),squared=False))\n",
    "    decisionreg = DecisionTreeRegressor(random_state=0).fit(trainx,trainy)\n",
    "    decisionreg.predict(testx)\n",
    "    decisionrms=sqrt(mean_squared_error(testy,decisionreg.predict(testx),squared=False))\n",
    "    randomreg= RandomForestRegressor(max_depth=10, random_state=0).fit(trainx,trainy)\n",
    "    randomreg.predict(testx)\n",
    "    randomrms=sqrt(mean_squared_error(testy,randomreg.predict(testx),squared=False))\n",
    "    adabreg = AdaBoostRegressor(random_state=0, n_estimators=100).fit(trainx,trainy)\n",
    "    adabreg.predict(testx)\n",
    "    adabrms=sqrt(mean_squared_error(testy,adabreg.predict(testx),squared=False))\n",
    "    gradreg= GradientBoostingRegressor(random_state=0).fit(trainx,trainy)\n",
    "    gradreg.predict(testx)\n",
    "    gradrms=sqrt(mean_squared_error(testy,gradreg.predict(testx),squared=False))\n",
    "    print(\"LinearRegression          = \",linearreg.score(testx,testy))\n",
    "    print(\"Decision Tree Regressor   = \",decisionreg.score(testx,testy))\n",
    "    print(\"RandomForestRegressor     = \",randomreg.score(testx,testy))\n",
    "    print(\"AdaBoostRegressor         = \",adabreg.score(testx,testy))\n",
    "    print(\"GradientBoostingRegressor = \",gradreg.score(testx,testy))\n",
    "    \n",
    "    print(\"LinearRegression          rms   = \",linearrms)\n",
    "    print(\"Decision Tree Regressor   rms   = \",decisionrms)\n",
    "    print(\"RandomForestRegressor     rms   = \",randomrms)\n",
    "    print(\"AdaBoostRegressor         rms   = \",adabrms)\n",
    "    print(\"GradientBoostingRegressor rms   = \",gradrms)\n",
    "\n"
   ]
  },
  {
   "cell_type": "code",
   "execution_count": null,
   "id": "15fc978c",
   "metadata": {},
   "outputs": [],
   "source": [
    "regression(trainx,trainy)"
   ]
  },
  {
   "cell_type": "code",
   "execution_count": null,
   "id": "8e8c7c11",
   "metadata": {},
   "outputs": [],
   "source": [
    "#game=train.to_csv(\"Downloads\\game.csv\")"
   ]
  },
  {
   "cell_type": "code",
   "execution_count": null,
   "id": "ac9bfe08",
   "metadata": {},
   "outputs": [],
   "source": [
    "test=pd.read_csv('C:/Users/sudarson.SUDARSON/Downloads/Test (1).csv')"
   ]
  },
  {
   "cell_type": "code",
   "execution_count": null,
   "id": "0527d8d0",
   "metadata": {},
   "outputs": [],
   "source": [
    "test"
   ]
  },
  {
   "cell_type": "code",
   "execution_count": null,
   "id": "d18b2c66",
   "metadata": {},
   "outputs": [],
   "source": [
    "name=test.Name\n",
    "name"
   ]
  },
  {
   "cell_type": "code",
   "execution_count": null,
   "id": "87150bce",
   "metadata": {},
   "outputs": [],
   "source": [
    "\n",
    "globalsales=pd.DataFrame(clf.predict(testx))\n",
    "globalsales"
   ]
  },
  {
   "cell_type": "code",
   "execution_count": null,
   "id": "c19288ef",
   "metadata": {},
   "outputs": [],
   "source": [
    "globalsales.columns=[\"global sales\"]\n",
    "globalsales=globalsales.iloc[0:2143,0:]"
   ]
  },
  {
   "cell_type": "code",
   "execution_count": null,
   "id": "9dd2cdcf",
   "metadata": {},
   "outputs": [],
   "source": [
    "dfe = pd.concat([name,globalsales],axis =1 )"
   ]
  },
  {
   "cell_type": "code",
   "execution_count": null,
   "id": "c140a400",
   "metadata": {},
   "outputs": [],
   "source": [
    "dfe.columns=[\"name\",\"global sales\"]"
   ]
  },
  {
   "cell_type": "code",
   "execution_count": null,
   "id": "f650234a",
   "metadata": {},
   "outputs": [],
   "source": [
    "dfe"
   ]
  },
  {
   "cell_type": "code",
   "execution_count": null,
   "id": "6ac645ec",
   "metadata": {},
   "outputs": [],
   "source": [
    "#game=dfe.to_csv(\"Downloads/game.csv\",index=False)"
   ]
  },
  {
   "cell_type": "code",
   "execution_count": null,
   "id": "31e07369",
   "metadata": {},
   "outputs": [],
   "source": [
    "# roc curve and auc\n",
    "from sklearn.datasets import make_classification\n",
    "from sklearn.linear_model import LogisticRegression\n",
    "from sklearn.model_selection import train_test_split\n",
    "from sklearn.metrics import roc_curve\n",
    "from sklearn.metrics import roc_auc_score\n",
    "from matplotlib import pyplot"
   ]
  },
  {
   "cell_type": "code",
   "execution_count": null,
   "id": "8f184749",
   "metadata": {},
   "outputs": [],
   "source": [
    "# generate 2 class dataset\n",
    "X, y = make_classification(n_samples=1000, n_classes=2, random_state=1)\n",
    "# split into train/test sets\n",
    "trainX, testX, trainy, testy = train_test_split(X, y, test_size=0.5, random_state=2)\n",
    "# generate a no skill prediction (majority class)\n",
    "ns_probs = [0 for _ in range(len(testy))]\n",
    "# fit a model\n",
    "model = LogisticRegression(solver='lbfgs')\n",
    "model.fit(trainX, trainy)\n",
    "# predict probabilities\n",
    "lr_probs = model.predict_proba(testX)\n",
    "# keep probabilities for the positive outcome only\n",
    "lr_probs = lr_probs[:, 1]\n",
    "# calculate scores\n",
    "ns_auc = roc_auc_score(testy, ns_probs)\n",
    "lr_auc = roc_auc_score(testy, lr_probs)\n",
    "# summarize scores\n",
    "print('No Skill: ROC AUC=%.3f' % (ns_auc))\n",
    "print('Logistic: ROC AUC=%.3f' % (lr_auc))\n",
    "# calculate roc curves\n",
    "ns_fpr, ns_tpr, _ = roc_curve(testy, ns_probs)\n",
    "lr_fpr, lr_tpr, _ = roc_curve(testy, lr_probs)\n",
    "# plot the roc curve for the model\n",
    "pyplot.plot(ns_fpr, ns_tpr, linestyle='--', label='No Skill')\n",
    "pyplot.plot(lr_fpr, lr_tpr, marker='.', label='Logistic')\n",
    "# axis labels\n",
    "pyplot.xlabel('False Positive Rate')\n",
    "pyplot.ylabel('True Positive Rate')\n",
    "# show the legend\n",
    "pyplot.legend()\n",
    "# show the plot\n",
    "pyplot.show()"
   ]
  },
  {
   "cell_type": "code",
   "execution_count": null,
   "id": "15c4ea4c",
   "metadata": {},
   "outputs": [],
   "source": []
  }
 ],
 "metadata": {
  "kernelspec": {
   "display_name": "Python 3 (ipykernel)",
   "language": "python",
   "name": "python3"
  },
  "language_info": {
   "codemirror_mode": {
    "name": "ipython",
    "version": 3
   },
   "file_extension": ".py",
   "mimetype": "text/x-python",
   "name": "python",
   "nbconvert_exporter": "python",
   "pygments_lexer": "ipython3",
   "version": "3.9.7"
  }
 },
 "nbformat": 4,
 "nbformat_minor": 5
}
