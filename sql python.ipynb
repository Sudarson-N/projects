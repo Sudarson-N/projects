{
 "cells": [
  {
   "cell_type": "code",
   "execution_count": 225,
   "id": "1bcf44f3",
   "metadata": {},
   "outputs": [],
   "source": [
    "import mysql.connector\n",
    "import pyodbc "
   ]
  },
  {
   "cell_type": "code",
   "execution_count": 226,
   "id": "34890e93",
   "metadata": {},
   "outputs": [],
   "source": [
    "my_db = mysql.connector.connect(\n",
    "    host = \"mysql8001.site4now.net\",\n",
    "    user = \"a86ca8_anbujoe\",\n",
    "    password = \"Qwerty@123\",\n",
    "    database = \"db_a86ca8_anbujoe\"\n",
    ")"
   ]
  },
  {
   "cell_type": "code",
   "execution_count": 227,
   "id": "cda30e2c",
   "metadata": {},
   "outputs": [],
   "source": [
    "cursor = my_db.cursor()"
   ]
  },
  {
   "cell_type": "code",
   "execution_count": 203,
   "id": "a3e58994",
   "metadata": {},
   "outputs": [],
   "source": [
    "query= \"\"\"CREATE TABLE STUDENT5 (\n",
    "                   NAME  VARCHAR(20) NOT NULL,\n",
    "                   BRANCH VARCHAR(50),\n",
    "                   ROLL INT NOT NULL,\n",
    "                   SECTION VARCHAR(5),\n",
    "                   AGE INT\n",
    "                   )\"\"\"\n",
    "\n"
   ]
  },
  {
   "cell_type": "code",
   "execution_count": 228,
   "id": "160481ee",
   "metadata": {},
   "outputs": [],
   "source": [
    "query=\"Show tables\""
   ]
  },
  {
   "cell_type": "code",
   "execution_count": 229,
   "id": "526ff54e",
   "metadata": {},
   "outputs": [],
   "source": [
    "cursor.execute(query)"
   ]
  },
  {
   "cell_type": "code",
   "execution_count": null,
   "id": "27b381ea",
   "metadata": {},
   "outputs": [],
   "source": []
  },
  {
   "cell_type": "code",
   "execution_count": 230,
   "id": "dfdbc94f",
   "metadata": {},
   "outputs": [
    {
     "name": "stdout",
     "output_type": "stream",
     "text": [
      "('abishek',)\n",
      "('abishek1',)\n",
      "('abishek2',)\n",
      "('aswin',)\n",
      "('badboy',)\n",
      "('badboymadhan',)\n",
      "('class',)\n",
      "('data',)\n",
      "('data1fathi',)\n",
      "('details',)\n",
      "('diva',)\n",
      "('employees',)\n",
      "('giri',)\n",
      "('giriprasath',)\n",
      "('kailas',)\n",
      "('kailash',)\n",
      "('karthika',)\n",
      "('kautham',)\n",
      "('kevin',)\n",
      "('maddy',)\n",
      "('madhan',)\n",
      "('mangena',)\n",
      "('manoje',)\n",
      "('persons',)\n",
      "('preetha',)\n",
      "('priya',)\n",
      "('priya_masi',)\n",
      "('priya_masi_31',)\n",
      "('priyadharshi',)\n",
      "('priyadharshini',)\n",
      "('products',)\n",
      "('sab',)\n",
      "('sabana',)\n",
      "('sangeetha',)\n",
      "('sathana',)\n",
      "('somu3',)\n",
      "('stu1',)\n",
      "('stud',)\n",
      "('student',)\n",
      "('student1',)\n",
      "('student5',)\n",
      "('student52',)\n",
      "('students',)\n",
      "('studentsid',)\n",
      "('sushmi',)\n",
      "('sushmitha',)\n",
      "('suswetha',)\n",
      "('tablem',)\n",
      "('tabler',)\n",
      "('vicky1',)\n",
      "('viswa',)\n",
      "('yogashree',)\n"
     ]
    }
   ],
   "source": [
    "for i in cursor:\n",
    "    print(i)"
   ]
  },
  {
   "cell_type": "code",
   "execution_count": 232,
   "id": "5d857b7d",
   "metadata": {},
   "outputs": [],
   "source": [
    "cursor.execute(\"INSERT INTO STUDENT5 VALUES('SUDARSON','EEE','52','A','21')\")"
   ]
  },
  {
   "cell_type": "code",
   "execution_count": 233,
   "id": "3acae801",
   "metadata": {},
   "outputs": [],
   "source": [
    "query=\"SELECT * FROM student5;\"\n",
    "cursor.execute(query) "
   ]
  },
  {
   "cell_type": "code",
   "execution_count": 234,
   "id": "55d74c2f",
   "metadata": {},
   "outputs": [
    {
     "name": "stdout",
     "output_type": "stream",
     "text": [
      "('SUDARSON', 'EEE', 52, 'A', 21)\n"
     ]
    }
   ],
   "source": [
    "for j in cursor:\n",
    "    print(j)"
   ]
  },
  {
   "cell_type": "code",
   "execution_count": 235,
   "id": "77454af3",
   "metadata": {},
   "outputs": [],
   "source": [
    "import pandas as pd "
   ]
  },
  {
   "cell_type": "code",
   "execution_count": 236,
   "id": "6a8f2470",
   "metadata": {},
   "outputs": [],
   "source": [
    "df=pd.read_sql(query,my_db)"
   ]
  },
  {
   "cell_type": "code",
   "execution_count": 237,
   "id": "34d67056",
   "metadata": {},
   "outputs": [
    {
     "data": {
      "text/html": [
       "<div>\n",
       "<style scoped>\n",
       "    .dataframe tbody tr th:only-of-type {\n",
       "        vertical-align: middle;\n",
       "    }\n",
       "\n",
       "    .dataframe tbody tr th {\n",
       "        vertical-align: top;\n",
       "    }\n",
       "\n",
       "    .dataframe thead th {\n",
       "        text-align: right;\n",
       "    }\n",
       "</style>\n",
       "<table border=\"1\" class=\"dataframe\">\n",
       "  <thead>\n",
       "    <tr style=\"text-align: right;\">\n",
       "      <th></th>\n",
       "      <th>NAME</th>\n",
       "      <th>BRANCH</th>\n",
       "      <th>ROLL</th>\n",
       "      <th>SECTION</th>\n",
       "      <th>AGE</th>\n",
       "    </tr>\n",
       "  </thead>\n",
       "  <tbody>\n",
       "    <tr>\n",
       "      <th>0</th>\n",
       "      <td>SUDARSON</td>\n",
       "      <td>EEE</td>\n",
       "      <td>52</td>\n",
       "      <td>A</td>\n",
       "      <td>21</td>\n",
       "    </tr>\n",
       "  </tbody>\n",
       "</table>\n",
       "</div>"
      ],
      "text/plain": [
       "       NAME BRANCH  ROLL SECTION  AGE\n",
       "0  SUDARSON    EEE    52       A   21"
      ]
     },
     "execution_count": 237,
     "metadata": {},
     "output_type": "execute_result"
    }
   ],
   "source": [
    "df"
   ]
  },
  {
   "cell_type": "code",
   "execution_count": null,
   "id": "ecd01c1e",
   "metadata": {},
   "outputs": [],
   "source": []
  },
  {
   "cell_type": "code",
   "execution_count": null,
   "id": "0826d7a9",
   "metadata": {},
   "outputs": [],
   "source": []
  }
 ],
 "metadata": {
  "kernelspec": {
   "display_name": "Python 3 (ipykernel)",
   "language": "python",
   "name": "python3"
  },
  "language_info": {
   "codemirror_mode": {
    "name": "ipython",
    "version": 3
   },
   "file_extension": ".py",
   "mimetype": "text/x-python",
   "name": "python",
   "nbconvert_exporter": "python",
   "pygments_lexer": "ipython3",
   "version": "3.9.7"
  }
 },
 "nbformat": 4,
 "nbformat_minor": 5
}
