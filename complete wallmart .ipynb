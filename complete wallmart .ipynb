{
 "cells": [
  {
   "cell_type": "code",
   "execution_count": 1,
   "id": "9c678d9d",
   "metadata": {},
   "outputs": [],
   "source": [
    "import pandas as pd\n",
    "import numpy as np\n",
    "from scipy import stats \n",
    "import matplotlib.pyplot as plt\n",
    "from scipy.stats import pearsonr\n",
    "import statsmodels.api as sm \n",
    "import seaborn as sns\n",
    "from sklearn import datasets\n",
    "from sklearn.model_selection import train_test_split\n",
    "from sklearn.linear_model import LinearRegression\n",
    "from sklearn.preprocessing import MinMaxScaler as mms\n",
    "from sklearn import datasets,linear_model,metrics\n",
    "from sklearn.metrics import mean_squared_error,confusion_matrix,accuracy_score,classification_report\n",
    "from sklearn.linear_model import LogisticRegression\n",
    "from sklearn.tree import DecisionTreeClassifier,DecisionTreeRegressor \n",
    "from sklearn.datasets import make_classification\n",
    "from sklearn.datasets import make_hastie_10_2\n",
    "from sklearn.ensemble import GradientBoostingClassifier,AdaBoostClassifier,RandomForestClassifier\n",
    "from sklearn.datasets import make_regression\n",
    "from sklearn.ensemble import GradientBoostingRegressor,AdaBoostRegressor,RandomForestRegressor\n",
    "from sklearn.decomposition import PCA"
   ]
  },
  {
   "cell_type": "code",
   "execution_count": 2,
   "id": "e8b8a96e",
   "metadata": {},
   "outputs": [],
   "source": [
    "train=pd.read_csv('C:/Users/sudarson.SUDARSON/Downloads/Train.csv')\n",
    "test=pd.read_csv('C:/Users/sudarson.SUDARSON/Downloads/Test.csv')"
   ]
  },
  {
   "cell_type": "code",
   "execution_count": 3,
   "id": "75746ab2",
   "metadata": {},
   "outputs": [
    {
     "data": {
      "text/plain": [
       "(8523, 12)"
      ]
     },
     "execution_count": 3,
     "metadata": {},
     "output_type": "execute_result"
    }
   ],
   "source": [
    "train.shape"
   ]
  },
  {
   "cell_type": "code",
   "execution_count": 4,
   "id": "3abc7205",
   "metadata": {},
   "outputs": [
    {
     "data": {
      "text/plain": [
       "(5681, 11)"
      ]
     },
     "execution_count": 4,
     "metadata": {},
     "output_type": "execute_result"
    }
   ],
   "source": [
    "test.shape"
   ]
  },
  {
   "cell_type": "code",
   "execution_count": 5,
   "id": "976965cf",
   "metadata": {},
   "outputs": [
    {
     "data": {
      "text/html": [
       "<div>\n",
       "<style scoped>\n",
       "    .dataframe tbody tr th:only-of-type {\n",
       "        vertical-align: middle;\n",
       "    }\n",
       "\n",
       "    .dataframe tbody tr th {\n",
       "        vertical-align: top;\n",
       "    }\n",
       "\n",
       "    .dataframe thead th {\n",
       "        text-align: right;\n",
       "    }\n",
       "</style>\n",
       "<table border=\"1\" class=\"dataframe\">\n",
       "  <thead>\n",
       "    <tr style=\"text-align: right;\">\n",
       "      <th></th>\n",
       "      <th>Item_Identifier</th>\n",
       "      <th>Item_Weight</th>\n",
       "      <th>Item_Fat_Content</th>\n",
       "      <th>Item_Visibility</th>\n",
       "      <th>Item_Type</th>\n",
       "      <th>Item_MRP</th>\n",
       "      <th>Outlet_Identifier</th>\n",
       "      <th>Outlet_Establishment_Year</th>\n",
       "      <th>Outlet_Size</th>\n",
       "      <th>Outlet_Location_Type</th>\n",
       "      <th>Outlet_Type</th>\n",
       "      <th>Item_Outlet_Sales</th>\n",
       "    </tr>\n",
       "  </thead>\n",
       "  <tbody>\n",
       "    <tr>\n",
       "      <th>0</th>\n",
       "      <td>FDA15</td>\n",
       "      <td>9.30</td>\n",
       "      <td>Low Fat</td>\n",
       "      <td>0.016047</td>\n",
       "      <td>Dairy</td>\n",
       "      <td>249.8092</td>\n",
       "      <td>OUT049</td>\n",
       "      <td>1999</td>\n",
       "      <td>Medium</td>\n",
       "      <td>Tier 1</td>\n",
       "      <td>Supermarket Type1</td>\n",
       "      <td>3735.1380</td>\n",
       "    </tr>\n",
       "    <tr>\n",
       "      <th>1</th>\n",
       "      <td>DRC01</td>\n",
       "      <td>5.92</td>\n",
       "      <td>Regular</td>\n",
       "      <td>0.019278</td>\n",
       "      <td>Soft Drinks</td>\n",
       "      <td>48.2692</td>\n",
       "      <td>OUT018</td>\n",
       "      <td>2009</td>\n",
       "      <td>Medium</td>\n",
       "      <td>Tier 3</td>\n",
       "      <td>Supermarket Type2</td>\n",
       "      <td>443.4228</td>\n",
       "    </tr>\n",
       "    <tr>\n",
       "      <th>2</th>\n",
       "      <td>FDN15</td>\n",
       "      <td>17.50</td>\n",
       "      <td>Low Fat</td>\n",
       "      <td>0.016760</td>\n",
       "      <td>Meat</td>\n",
       "      <td>141.6180</td>\n",
       "      <td>OUT049</td>\n",
       "      <td>1999</td>\n",
       "      <td>Medium</td>\n",
       "      <td>Tier 1</td>\n",
       "      <td>Supermarket Type1</td>\n",
       "      <td>2097.2700</td>\n",
       "    </tr>\n",
       "    <tr>\n",
       "      <th>3</th>\n",
       "      <td>FDX07</td>\n",
       "      <td>19.20</td>\n",
       "      <td>Regular</td>\n",
       "      <td>0.000000</td>\n",
       "      <td>Fruits and Vegetables</td>\n",
       "      <td>182.0950</td>\n",
       "      <td>OUT010</td>\n",
       "      <td>1998</td>\n",
       "      <td>NaN</td>\n",
       "      <td>Tier 3</td>\n",
       "      <td>Grocery Store</td>\n",
       "      <td>732.3800</td>\n",
       "    </tr>\n",
       "    <tr>\n",
       "      <th>4</th>\n",
       "      <td>NCD19</td>\n",
       "      <td>8.93</td>\n",
       "      <td>Low Fat</td>\n",
       "      <td>0.000000</td>\n",
       "      <td>Household</td>\n",
       "      <td>53.8614</td>\n",
       "      <td>OUT013</td>\n",
       "      <td>1987</td>\n",
       "      <td>High</td>\n",
       "      <td>Tier 3</td>\n",
       "      <td>Supermarket Type1</td>\n",
       "      <td>994.7052</td>\n",
       "    </tr>\n",
       "  </tbody>\n",
       "</table>\n",
       "</div>"
      ],
      "text/plain": [
       "  Item_Identifier  Item_Weight Item_Fat_Content  Item_Visibility  \\\n",
       "0           FDA15         9.30          Low Fat         0.016047   \n",
       "1           DRC01         5.92          Regular         0.019278   \n",
       "2           FDN15        17.50          Low Fat         0.016760   \n",
       "3           FDX07        19.20          Regular         0.000000   \n",
       "4           NCD19         8.93          Low Fat         0.000000   \n",
       "\n",
       "               Item_Type  Item_MRP Outlet_Identifier  \\\n",
       "0                  Dairy  249.8092            OUT049   \n",
       "1            Soft Drinks   48.2692            OUT018   \n",
       "2                   Meat  141.6180            OUT049   \n",
       "3  Fruits and Vegetables  182.0950            OUT010   \n",
       "4              Household   53.8614            OUT013   \n",
       "\n",
       "   Outlet_Establishment_Year Outlet_Size Outlet_Location_Type  \\\n",
       "0                       1999      Medium               Tier 1   \n",
       "1                       2009      Medium               Tier 3   \n",
       "2                       1999      Medium               Tier 1   \n",
       "3                       1998         NaN               Tier 3   \n",
       "4                       1987        High               Tier 3   \n",
       "\n",
       "         Outlet_Type  Item_Outlet_Sales  \n",
       "0  Supermarket Type1          3735.1380  \n",
       "1  Supermarket Type2           443.4228  \n",
       "2  Supermarket Type1          2097.2700  \n",
       "3      Grocery Store           732.3800  \n",
       "4  Supermarket Type1           994.7052  "
      ]
     },
     "execution_count": 5,
     "metadata": {},
     "output_type": "execute_result"
    }
   ],
   "source": [
    "train.head()"
   ]
  },
  {
   "cell_type": "markdown",
   "id": "abf4e89c",
   "metadata": {},
   "source": [
    "<h1>droping null rows<h1>"
   ]
  },
  {
   "cell_type": "code",
   "execution_count": 44,
   "id": "2ae9dfff",
   "metadata": {},
   "outputs": [],
   "source": [
    "#test=test.dropna()\n",
    "#test.isnull().sum()\n",
    "#train=train.dropna()\n",
    "#train.isnull().sum()"
   ]
  },
  {
   "cell_type": "code",
   "execution_count": 6,
   "id": "813ad142",
   "metadata": {},
   "outputs": [
    {
     "data": {
      "text/plain": [
       "(8523,)"
      ]
     },
     "execution_count": 6,
     "metadata": {},
     "output_type": "execute_result"
    }
   ],
   "source": [
    "trainy=train.Item_Outlet_Sales\n",
    "trainy.shape"
   ]
  },
  {
   "cell_type": "code",
   "execution_count": 7,
   "id": "e5ed3692",
   "metadata": {},
   "outputs": [
    {
     "data": {
      "text/plain": [
       "(8523, 11)"
      ]
     },
     "execution_count": 7,
     "metadata": {},
     "output_type": "execute_result"
    }
   ],
   "source": [
    "trainx=train.iloc[0:,0:11]\n",
    "trainx.shape"
   ]
  },
  {
   "cell_type": "code",
   "execution_count": 8,
   "id": "ed7f82be",
   "metadata": {},
   "outputs": [
    {
     "data": {
      "text/plain": [
       "(5681, 11)"
      ]
     },
     "execution_count": 8,
     "metadata": {},
     "output_type": "execute_result"
    }
   ],
   "source": [
    "test.shape"
   ]
  },
  {
   "cell_type": "code",
   "execution_count": 9,
   "id": "a22c7452",
   "metadata": {},
   "outputs": [],
   "source": [
    "d=trainx.append(test,sort=False,ignore_index=True)"
   ]
  },
  {
   "cell_type": "code",
   "execution_count": 10,
   "id": "5f64bacf",
   "metadata": {},
   "outputs": [
    {
     "data": {
      "text/plain": [
       "(14204, 11)"
      ]
     },
     "execution_count": 10,
     "metadata": {},
     "output_type": "execute_result"
    }
   ],
   "source": [
    "d.shape"
   ]
  },
  {
   "cell_type": "code",
   "execution_count": 11,
   "id": "830f0d7b",
   "metadata": {},
   "outputs": [
    {
     "data": {
      "text/plain": [
       "array(['FDA15', 'DRC01', 'FDN15', ..., 'NCF55', 'NCW30', 'NCW05'],\n",
       "      dtype=object)"
      ]
     },
     "execution_count": 11,
     "metadata": {},
     "output_type": "execute_result"
    }
   ],
   "source": [
    "d.Item_Identifier.unique()"
   ]
  },
  {
   "cell_type": "code",
   "execution_count": 12,
   "id": "475c9f8c",
   "metadata": {},
   "outputs": [],
   "source": [
    "d.Item_Weight.fillna(d.Item_Weight.mean(),inplace=True)\n",
    "d.Outlet_Size.fillna(\"others\",inplace=True)"
   ]
  },
  {
   "cell_type": "code",
   "execution_count": 13,
   "id": "f9a386be",
   "metadata": {},
   "outputs": [
    {
     "data": {
      "text/plain": [
       "array(['Tier 1', 'Tier 3', 'Tier 2'], dtype=object)"
      ]
     },
     "execution_count": 13,
     "metadata": {},
     "output_type": "execute_result"
    }
   ],
   "source": [
    "d.Outlet_Location_Type.unique()"
   ]
  },
  {
   "cell_type": "code",
   "execution_count": 14,
   "id": "6528c12a",
   "metadata": {},
   "outputs": [],
   "source": [
    "d.Item_Fat_Content=train.Item_Fat_Content.replace(\"LF\",\"Low Fat\").replace(\"low fat\",\"Low Fat\").replace(\"reg\",\"Regular\")"
   ]
  },
  {
   "cell_type": "code",
   "execution_count": 15,
   "id": "467dd98c",
   "metadata": {},
   "outputs": [
    {
     "data": {
      "text/plain": [
       "0        False\n",
       "1        False\n",
       "2        False\n",
       "3        False\n",
       "4        False\n",
       "         ...  \n",
       "14199    False\n",
       "14200    False\n",
       "14201    False\n",
       "14202    False\n",
       "14203    False\n",
       "Length: 14204, dtype: bool"
      ]
     },
     "execution_count": 15,
     "metadata": {},
     "output_type": "execute_result"
    }
   ],
   "source": [
    "d.duplicated()"
   ]
  },
  {
   "cell_type": "code",
   "execution_count": 16,
   "id": "8cd59104",
   "metadata": {},
   "outputs": [
    {
     "data": {
      "text/plain": [
       "count    14204.000000\n",
       "mean         0.065953\n",
       "std          0.051459\n",
       "min          0.000000\n",
       "25%          0.027036\n",
       "50%          0.054021\n",
       "75%          0.094037\n",
       "max          0.328391\n",
       "Name: Item_Visibility, dtype: float64"
      ]
     },
     "execution_count": 16,
     "metadata": {},
     "output_type": "execute_result"
    }
   ],
   "source": [
    "d.Item_Visibility.describe()"
   ]
  },
  {
   "cell_type": "code",
   "execution_count": 17,
   "id": "8907c3e9",
   "metadata": {},
   "outputs": [],
   "source": [
    "dummy=pd.get_dummies(d)\n",
    "dummy=pd.get_dummies(dummy,columns=[\"Outlet_Establishment_Year\"])"
   ]
  },
  {
   "cell_type": "code",
   "execution_count": 18,
   "id": "9e229a1a",
   "metadata": {},
   "outputs": [
    {
     "data": {
      "text/html": [
       "<div>\n",
       "<style scoped>\n",
       "    .dataframe tbody tr th:only-of-type {\n",
       "        vertical-align: middle;\n",
       "    }\n",
       "\n",
       "    .dataframe tbody tr th {\n",
       "        vertical-align: top;\n",
       "    }\n",
       "\n",
       "    .dataframe thead th {\n",
       "        text-align: right;\n",
       "    }\n",
       "</style>\n",
       "<table border=\"1\" class=\"dataframe\">\n",
       "  <thead>\n",
       "    <tr style=\"text-align: right;\">\n",
       "      <th></th>\n",
       "      <th>Item_Weight</th>\n",
       "      <th>Item_Visibility</th>\n",
       "      <th>Item_MRP</th>\n",
       "      <th>Item_Identifier_DRA12</th>\n",
       "      <th>Item_Identifier_DRA24</th>\n",
       "      <th>Item_Identifier_DRA59</th>\n",
       "      <th>Item_Identifier_DRB01</th>\n",
       "      <th>Item_Identifier_DRB13</th>\n",
       "      <th>Item_Identifier_DRB24</th>\n",
       "      <th>Item_Identifier_DRB25</th>\n",
       "      <th>...</th>\n",
       "      <th>Outlet_Type_Supermarket Type3</th>\n",
       "      <th>Outlet_Establishment_Year_1985</th>\n",
       "      <th>Outlet_Establishment_Year_1987</th>\n",
       "      <th>Outlet_Establishment_Year_1997</th>\n",
       "      <th>Outlet_Establishment_Year_1998</th>\n",
       "      <th>Outlet_Establishment_Year_1999</th>\n",
       "      <th>Outlet_Establishment_Year_2002</th>\n",
       "      <th>Outlet_Establishment_Year_2004</th>\n",
       "      <th>Outlet_Establishment_Year_2007</th>\n",
       "      <th>Outlet_Establishment_Year_2009</th>\n",
       "    </tr>\n",
       "  </thead>\n",
       "  <tbody>\n",
       "    <tr>\n",
       "      <th>0</th>\n",
       "      <td>9.30</td>\n",
       "      <td>0.016047</td>\n",
       "      <td>249.8092</td>\n",
       "      <td>0</td>\n",
       "      <td>0</td>\n",
       "      <td>0</td>\n",
       "      <td>0</td>\n",
       "      <td>0</td>\n",
       "      <td>0</td>\n",
       "      <td>0</td>\n",
       "      <td>...</td>\n",
       "      <td>0</td>\n",
       "      <td>0</td>\n",
       "      <td>0</td>\n",
       "      <td>0</td>\n",
       "      <td>0</td>\n",
       "      <td>1</td>\n",
       "      <td>0</td>\n",
       "      <td>0</td>\n",
       "      <td>0</td>\n",
       "      <td>0</td>\n",
       "    </tr>\n",
       "    <tr>\n",
       "      <th>1</th>\n",
       "      <td>5.92</td>\n",
       "      <td>0.019278</td>\n",
       "      <td>48.2692</td>\n",
       "      <td>0</td>\n",
       "      <td>0</td>\n",
       "      <td>0</td>\n",
       "      <td>0</td>\n",
       "      <td>0</td>\n",
       "      <td>0</td>\n",
       "      <td>0</td>\n",
       "      <td>...</td>\n",
       "      <td>0</td>\n",
       "      <td>0</td>\n",
       "      <td>0</td>\n",
       "      <td>0</td>\n",
       "      <td>0</td>\n",
       "      <td>0</td>\n",
       "      <td>0</td>\n",
       "      <td>0</td>\n",
       "      <td>0</td>\n",
       "      <td>1</td>\n",
       "    </tr>\n",
       "    <tr>\n",
       "      <th>2</th>\n",
       "      <td>17.50</td>\n",
       "      <td>0.016760</td>\n",
       "      <td>141.6180</td>\n",
       "      <td>0</td>\n",
       "      <td>0</td>\n",
       "      <td>0</td>\n",
       "      <td>0</td>\n",
       "      <td>0</td>\n",
       "      <td>0</td>\n",
       "      <td>0</td>\n",
       "      <td>...</td>\n",
       "      <td>0</td>\n",
       "      <td>0</td>\n",
       "      <td>0</td>\n",
       "      <td>0</td>\n",
       "      <td>0</td>\n",
       "      <td>1</td>\n",
       "      <td>0</td>\n",
       "      <td>0</td>\n",
       "      <td>0</td>\n",
       "      <td>0</td>\n",
       "    </tr>\n",
       "    <tr>\n",
       "      <th>3</th>\n",
       "      <td>19.20</td>\n",
       "      <td>0.000000</td>\n",
       "      <td>182.0950</td>\n",
       "      <td>0</td>\n",
       "      <td>0</td>\n",
       "      <td>0</td>\n",
       "      <td>0</td>\n",
       "      <td>0</td>\n",
       "      <td>0</td>\n",
       "      <td>0</td>\n",
       "      <td>...</td>\n",
       "      <td>0</td>\n",
       "      <td>0</td>\n",
       "      <td>0</td>\n",
       "      <td>0</td>\n",
       "      <td>1</td>\n",
       "      <td>0</td>\n",
       "      <td>0</td>\n",
       "      <td>0</td>\n",
       "      <td>0</td>\n",
       "      <td>0</td>\n",
       "    </tr>\n",
       "    <tr>\n",
       "      <th>4</th>\n",
       "      <td>8.93</td>\n",
       "      <td>0.000000</td>\n",
       "      <td>53.8614</td>\n",
       "      <td>0</td>\n",
       "      <td>0</td>\n",
       "      <td>0</td>\n",
       "      <td>0</td>\n",
       "      <td>0</td>\n",
       "      <td>0</td>\n",
       "      <td>0</td>\n",
       "      <td>...</td>\n",
       "      <td>0</td>\n",
       "      <td>0</td>\n",
       "      <td>1</td>\n",
       "      <td>0</td>\n",
       "      <td>0</td>\n",
       "      <td>0</td>\n",
       "      <td>0</td>\n",
       "      <td>0</td>\n",
       "      <td>0</td>\n",
       "      <td>0</td>\n",
       "    </tr>\n",
       "    <tr>\n",
       "      <th>...</th>\n",
       "      <td>...</td>\n",
       "      <td>...</td>\n",
       "      <td>...</td>\n",
       "      <td>...</td>\n",
       "      <td>...</td>\n",
       "      <td>...</td>\n",
       "      <td>...</td>\n",
       "      <td>...</td>\n",
       "      <td>...</td>\n",
       "      <td>...</td>\n",
       "      <td>...</td>\n",
       "      <td>...</td>\n",
       "      <td>...</td>\n",
       "      <td>...</td>\n",
       "      <td>...</td>\n",
       "      <td>...</td>\n",
       "      <td>...</td>\n",
       "      <td>...</td>\n",
       "      <td>...</td>\n",
       "      <td>...</td>\n",
       "      <td>...</td>\n",
       "    </tr>\n",
       "    <tr>\n",
       "      <th>14199</th>\n",
       "      <td>10.50</td>\n",
       "      <td>0.013496</td>\n",
       "      <td>141.3154</td>\n",
       "      <td>0</td>\n",
       "      <td>0</td>\n",
       "      <td>0</td>\n",
       "      <td>0</td>\n",
       "      <td>0</td>\n",
       "      <td>0</td>\n",
       "      <td>0</td>\n",
       "      <td>...</td>\n",
       "      <td>0</td>\n",
       "      <td>0</td>\n",
       "      <td>0</td>\n",
       "      <td>1</td>\n",
       "      <td>0</td>\n",
       "      <td>0</td>\n",
       "      <td>0</td>\n",
       "      <td>0</td>\n",
       "      <td>0</td>\n",
       "      <td>0</td>\n",
       "    </tr>\n",
       "    <tr>\n",
       "      <th>14200</th>\n",
       "      <td>7.60</td>\n",
       "      <td>0.142991</td>\n",
       "      <td>169.1448</td>\n",
       "      <td>0</td>\n",
       "      <td>0</td>\n",
       "      <td>0</td>\n",
       "      <td>0</td>\n",
       "      <td>0</td>\n",
       "      <td>0</td>\n",
       "      <td>0</td>\n",
       "      <td>...</td>\n",
       "      <td>0</td>\n",
       "      <td>0</td>\n",
       "      <td>0</td>\n",
       "      <td>0</td>\n",
       "      <td>0</td>\n",
       "      <td>0</td>\n",
       "      <td>0</td>\n",
       "      <td>0</td>\n",
       "      <td>0</td>\n",
       "      <td>1</td>\n",
       "    </tr>\n",
       "    <tr>\n",
       "      <th>14201</th>\n",
       "      <td>10.00</td>\n",
       "      <td>0.073529</td>\n",
       "      <td>118.7440</td>\n",
       "      <td>0</td>\n",
       "      <td>0</td>\n",
       "      <td>0</td>\n",
       "      <td>0</td>\n",
       "      <td>0</td>\n",
       "      <td>0</td>\n",
       "      <td>0</td>\n",
       "      <td>...</td>\n",
       "      <td>0</td>\n",
       "      <td>0</td>\n",
       "      <td>0</td>\n",
       "      <td>0</td>\n",
       "      <td>0</td>\n",
       "      <td>0</td>\n",
       "      <td>1</td>\n",
       "      <td>0</td>\n",
       "      <td>0</td>\n",
       "      <td>0</td>\n",
       "    </tr>\n",
       "    <tr>\n",
       "      <th>14202</th>\n",
       "      <td>15.30</td>\n",
       "      <td>0.000000</td>\n",
       "      <td>214.6218</td>\n",
       "      <td>0</td>\n",
       "      <td>0</td>\n",
       "      <td>0</td>\n",
       "      <td>0</td>\n",
       "      <td>0</td>\n",
       "      <td>0</td>\n",
       "      <td>0</td>\n",
       "      <td>...</td>\n",
       "      <td>0</td>\n",
       "      <td>0</td>\n",
       "      <td>0</td>\n",
       "      <td>0</td>\n",
       "      <td>0</td>\n",
       "      <td>0</td>\n",
       "      <td>0</td>\n",
       "      <td>0</td>\n",
       "      <td>1</td>\n",
       "      <td>0</td>\n",
       "    </tr>\n",
       "    <tr>\n",
       "      <th>14203</th>\n",
       "      <td>9.50</td>\n",
       "      <td>0.104720</td>\n",
       "      <td>79.7960</td>\n",
       "      <td>0</td>\n",
       "      <td>0</td>\n",
       "      <td>0</td>\n",
       "      <td>0</td>\n",
       "      <td>0</td>\n",
       "      <td>0</td>\n",
       "      <td>0</td>\n",
       "      <td>...</td>\n",
       "      <td>0</td>\n",
       "      <td>0</td>\n",
       "      <td>0</td>\n",
       "      <td>0</td>\n",
       "      <td>0</td>\n",
       "      <td>0</td>\n",
       "      <td>1</td>\n",
       "      <td>0</td>\n",
       "      <td>0</td>\n",
       "      <td>0</td>\n",
       "    </tr>\n",
       "  </tbody>\n",
       "</table>\n",
       "<p>14204 rows × 1610 columns</p>\n",
       "</div>"
      ],
      "text/plain": [
       "       Item_Weight  Item_Visibility  Item_MRP  Item_Identifier_DRA12  \\\n",
       "0             9.30         0.016047  249.8092                      0   \n",
       "1             5.92         0.019278   48.2692                      0   \n",
       "2            17.50         0.016760  141.6180                      0   \n",
       "3            19.20         0.000000  182.0950                      0   \n",
       "4             8.93         0.000000   53.8614                      0   \n",
       "...            ...              ...       ...                    ...   \n",
       "14199        10.50         0.013496  141.3154                      0   \n",
       "14200         7.60         0.142991  169.1448                      0   \n",
       "14201        10.00         0.073529  118.7440                      0   \n",
       "14202        15.30         0.000000  214.6218                      0   \n",
       "14203         9.50         0.104720   79.7960                      0   \n",
       "\n",
       "       Item_Identifier_DRA24  Item_Identifier_DRA59  Item_Identifier_DRB01  \\\n",
       "0                          0                      0                      0   \n",
       "1                          0                      0                      0   \n",
       "2                          0                      0                      0   \n",
       "3                          0                      0                      0   \n",
       "4                          0                      0                      0   \n",
       "...                      ...                    ...                    ...   \n",
       "14199                      0                      0                      0   \n",
       "14200                      0                      0                      0   \n",
       "14201                      0                      0                      0   \n",
       "14202                      0                      0                      0   \n",
       "14203                      0                      0                      0   \n",
       "\n",
       "       Item_Identifier_DRB13  Item_Identifier_DRB24  Item_Identifier_DRB25  \\\n",
       "0                          0                      0                      0   \n",
       "1                          0                      0                      0   \n",
       "2                          0                      0                      0   \n",
       "3                          0                      0                      0   \n",
       "4                          0                      0                      0   \n",
       "...                      ...                    ...                    ...   \n",
       "14199                      0                      0                      0   \n",
       "14200                      0                      0                      0   \n",
       "14201                      0                      0                      0   \n",
       "14202                      0                      0                      0   \n",
       "14203                      0                      0                      0   \n",
       "\n",
       "       ...  Outlet_Type_Supermarket Type3  Outlet_Establishment_Year_1985  \\\n",
       "0      ...                              0                               0   \n",
       "1      ...                              0                               0   \n",
       "2      ...                              0                               0   \n",
       "3      ...                              0                               0   \n",
       "4      ...                              0                               0   \n",
       "...    ...                            ...                             ...   \n",
       "14199  ...                              0                               0   \n",
       "14200  ...                              0                               0   \n",
       "14201  ...                              0                               0   \n",
       "14202  ...                              0                               0   \n",
       "14203  ...                              0                               0   \n",
       "\n",
       "       Outlet_Establishment_Year_1987  Outlet_Establishment_Year_1997  \\\n",
       "0                                   0                               0   \n",
       "1                                   0                               0   \n",
       "2                                   0                               0   \n",
       "3                                   0                               0   \n",
       "4                                   1                               0   \n",
       "...                               ...                             ...   \n",
       "14199                               0                               1   \n",
       "14200                               0                               0   \n",
       "14201                               0                               0   \n",
       "14202                               0                               0   \n",
       "14203                               0                               0   \n",
       "\n",
       "       Outlet_Establishment_Year_1998  Outlet_Establishment_Year_1999  \\\n",
       "0                                   0                               1   \n",
       "1                                   0                               0   \n",
       "2                                   0                               1   \n",
       "3                                   1                               0   \n",
       "4                                   0                               0   \n",
       "...                               ...                             ...   \n",
       "14199                               0                               0   \n",
       "14200                               0                               0   \n",
       "14201                               0                               0   \n",
       "14202                               0                               0   \n",
       "14203                               0                               0   \n",
       "\n",
       "       Outlet_Establishment_Year_2002  Outlet_Establishment_Year_2004  \\\n",
       "0                                   0                               0   \n",
       "1                                   0                               0   \n",
       "2                                   0                               0   \n",
       "3                                   0                               0   \n",
       "4                                   0                               0   \n",
       "...                               ...                             ...   \n",
       "14199                               0                               0   \n",
       "14200                               0                               0   \n",
       "14201                               1                               0   \n",
       "14202                               0                               0   \n",
       "14203                               1                               0   \n",
       "\n",
       "       Outlet_Establishment_Year_2007  Outlet_Establishment_Year_2009  \n",
       "0                                   0                               0  \n",
       "1                                   0                               1  \n",
       "2                                   0                               0  \n",
       "3                                   0                               0  \n",
       "4                                   0                               0  \n",
       "...                               ...                             ...  \n",
       "14199                               0                               0  \n",
       "14200                               0                               1  \n",
       "14201                               0                               0  \n",
       "14202                               1                               0  \n",
       "14203                               0                               0  \n",
       "\n",
       "[14204 rows x 1610 columns]"
      ]
     },
     "execution_count": 18,
     "metadata": {},
     "output_type": "execute_result"
    }
   ],
   "source": [
    "dummy"
   ]
  },
  {
   "cell_type": "code",
   "execution_count": null,
   "id": "022a0ba6",
   "metadata": {},
   "outputs": [],
   "source": []
  },
  {
   "cell_type": "code",
   "execution_count": 19,
   "id": "cc30dd4d",
   "metadata": {},
   "outputs": [
    {
     "data": {
      "text/html": [
       "<div>\n",
       "<style scoped>\n",
       "    .dataframe tbody tr th:only-of-type {\n",
       "        vertical-align: middle;\n",
       "    }\n",
       "\n",
       "    .dataframe tbody tr th {\n",
       "        vertical-align: top;\n",
       "    }\n",
       "\n",
       "    .dataframe thead th {\n",
       "        text-align: right;\n",
       "    }\n",
       "</style>\n",
       "<table border=\"1\" class=\"dataframe\">\n",
       "  <thead>\n",
       "    <tr style=\"text-align: right;\">\n",
       "      <th></th>\n",
       "      <th>Item_Weight</th>\n",
       "      <th>Item_Visibility</th>\n",
       "      <th>Item_MRP</th>\n",
       "      <th>Item_Identifier_DRA12</th>\n",
       "      <th>Item_Identifier_DRA24</th>\n",
       "      <th>Item_Identifier_DRA59</th>\n",
       "      <th>Item_Identifier_DRB01</th>\n",
       "      <th>Item_Identifier_DRB13</th>\n",
       "      <th>Item_Identifier_DRB24</th>\n",
       "      <th>Item_Identifier_DRB25</th>\n",
       "      <th>...</th>\n",
       "      <th>Outlet_Type_Supermarket Type3</th>\n",
       "      <th>Outlet_Establishment_Year_1985</th>\n",
       "      <th>Outlet_Establishment_Year_1987</th>\n",
       "      <th>Outlet_Establishment_Year_1997</th>\n",
       "      <th>Outlet_Establishment_Year_1998</th>\n",
       "      <th>Outlet_Establishment_Year_1999</th>\n",
       "      <th>Outlet_Establishment_Year_2002</th>\n",
       "      <th>Outlet_Establishment_Year_2004</th>\n",
       "      <th>Outlet_Establishment_Year_2007</th>\n",
       "      <th>Outlet_Establishment_Year_2009</th>\n",
       "    </tr>\n",
       "  </thead>\n",
       "  <tbody>\n",
       "    <tr>\n",
       "      <th>Item_Weight</th>\n",
       "      <td>1.000000</td>\n",
       "      <td>-0.013641</td>\n",
       "      <td>0.033002</td>\n",
       "      <td>-0.006306</td>\n",
       "      <td>0.032885</td>\n",
       "      <td>-0.022683</td>\n",
       "      <td>-0.022719</td>\n",
       "      <td>-0.035300</td>\n",
       "      <td>-0.019662</td>\n",
       "      <td>-0.002472</td>\n",
       "      <td>...</td>\n",
       "      <td>4.861249e-14</td>\n",
       "      <td>6.307256e-14</td>\n",
       "      <td>-0.000390</td>\n",
       "      <td>0.001691</td>\n",
       "      <td>-0.004362</td>\n",
       "      <td>0.000839</td>\n",
       "      <td>0.000350</td>\n",
       "      <td>0.000960</td>\n",
       "      <td>-0.000888</td>\n",
       "      <td>0.000890</td>\n",
       "    </tr>\n",
       "    <tr>\n",
       "      <th>Item_Visibility</th>\n",
       "      <td>-0.013641</td>\n",
       "      <td>1.000000</td>\n",
       "      <td>-0.006351</td>\n",
       "      <td>-0.015177</td>\n",
       "      <td>-0.010475</td>\n",
       "      <td>0.034783</td>\n",
       "      <td>0.006359</td>\n",
       "      <td>-0.028947</td>\n",
       "      <td>-0.020925</td>\n",
       "      <td>0.006940</td>\n",
       "      <td>...</td>\n",
       "      <td>-3.827546e-02</td>\n",
       "      <td>1.005636e-01</td>\n",
       "      <td>-0.038887</td>\n",
       "      <td>-0.039234</td>\n",
       "      <td>0.184578</td>\n",
       "      <td>-0.047289</td>\n",
       "      <td>-0.034292</td>\n",
       "      <td>-0.034870</td>\n",
       "      <td>-0.032637</td>\n",
       "      <td>-0.040590</td>\n",
       "    </tr>\n",
       "    <tr>\n",
       "      <th>Item_MRP</th>\n",
       "      <td>0.033002</td>\n",
       "      <td>-0.006351</td>\n",
       "      <td>1.000000</td>\n",
       "      <td>0.000275</td>\n",
       "      <td>0.009838</td>\n",
       "      <td>0.018801</td>\n",
       "      <td>0.018692</td>\n",
       "      <td>0.019789</td>\n",
       "      <td>0.005070</td>\n",
       "      <td>-0.014498</td>\n",
       "      <td>...</td>\n",
       "      <td>4.167967e-05</td>\n",
       "      <td>-6.338182e-04</td>\n",
       "      <td>0.000697</td>\n",
       "      <td>-0.001032</td>\n",
       "      <td>0.000658</td>\n",
       "      <td>0.000892</td>\n",
       "      <td>-0.000832</td>\n",
       "      <td>0.000576</td>\n",
       "      <td>-0.000034</td>\n",
       "      <td>-0.000023</td>\n",
       "    </tr>\n",
       "    <tr>\n",
       "      <th>Item_Identifier_DRA12</th>\n",
       "      <td>-0.006306</td>\n",
       "      <td>-0.015177</td>\n",
       "      <td>0.000275</td>\n",
       "      <td>1.000000</td>\n",
       "      <td>-0.000668</td>\n",
       "      <td>-0.000668</td>\n",
       "      <td>-0.000598</td>\n",
       "      <td>-0.000634</td>\n",
       "      <td>-0.000598</td>\n",
       "      <td>-0.000668</td>\n",
       "      <td>...</td>\n",
       "      <td>1.090121e-04</td>\n",
       "      <td>-4.046157e-03</td>\n",
       "      <td>0.000143</td>\n",
       "      <td>0.000160</td>\n",
       "      <td>0.004693</td>\n",
       "      <td>0.000160</td>\n",
       "      <td>0.000172</td>\n",
       "      <td>0.000160</td>\n",
       "      <td>0.000201</td>\n",
       "      <td>0.000183</td>\n",
       "    </tr>\n",
       "    <tr>\n",
       "      <th>Item_Identifier_DRA24</th>\n",
       "      <td>0.032885</td>\n",
       "      <td>-0.010475</td>\n",
       "      <td>0.009838</td>\n",
       "      <td>-0.000668</td>\n",
       "      <td>1.000000</td>\n",
       "      <td>-0.000705</td>\n",
       "      <td>-0.000630</td>\n",
       "      <td>-0.000668</td>\n",
       "      <td>-0.000630</td>\n",
       "      <td>-0.000705</td>\n",
       "      <td>...</td>\n",
       "      <td>-8.285684e-04</td>\n",
       "      <td>1.990929e-03</td>\n",
       "      <td>-0.000794</td>\n",
       "      <td>-0.000777</td>\n",
       "      <td>0.003752</td>\n",
       "      <td>-0.000777</td>\n",
       "      <td>-0.000765</td>\n",
       "      <td>-0.000777</td>\n",
       "      <td>-0.000736</td>\n",
       "      <td>-0.000754</td>\n",
       "    </tr>\n",
       "    <tr>\n",
       "      <th>...</th>\n",
       "      <td>...</td>\n",
       "      <td>...</td>\n",
       "      <td>...</td>\n",
       "      <td>...</td>\n",
       "      <td>...</td>\n",
       "      <td>...</td>\n",
       "      <td>...</td>\n",
       "      <td>...</td>\n",
       "      <td>...</td>\n",
       "      <td>...</td>\n",
       "      <td>...</td>\n",
       "      <td>...</td>\n",
       "      <td>...</td>\n",
       "      <td>...</td>\n",
       "      <td>...</td>\n",
       "      <td>...</td>\n",
       "      <td>...</td>\n",
       "      <td>...</td>\n",
       "      <td>...</td>\n",
       "      <td>...</td>\n",
       "      <td>...</td>\n",
       "    </tr>\n",
       "    <tr>\n",
       "      <th>Outlet_Establishment_Year_1999</th>\n",
       "      <td>0.000839</td>\n",
       "      <td>-0.047289</td>\n",
       "      <td>0.000892</td>\n",
       "      <td>0.000160</td>\n",
       "      <td>-0.000777</td>\n",
       "      <td>-0.000777</td>\n",
       "      <td>0.001209</td>\n",
       "      <td>0.000160</td>\n",
       "      <td>0.001209</td>\n",
       "      <td>-0.000777</td>\n",
       "      <td>...</td>\n",
       "      <td>-1.228897e-01</td>\n",
       "      <td>-1.593536e-01</td>\n",
       "      <td>-0.122624</td>\n",
       "      <td>-0.122491</td>\n",
       "      <td>-0.092372</td>\n",
       "      <td>1.000000</td>\n",
       "      <td>-0.122402</td>\n",
       "      <td>-0.122491</td>\n",
       "      <td>-0.122180</td>\n",
       "      <td>-0.122313</td>\n",
       "    </tr>\n",
       "    <tr>\n",
       "      <th>Outlet_Establishment_Year_2002</th>\n",
       "      <td>0.000350</td>\n",
       "      <td>-0.034292</td>\n",
       "      <td>-0.000832</td>\n",
       "      <td>0.000172</td>\n",
       "      <td>-0.000765</td>\n",
       "      <td>-0.000765</td>\n",
       "      <td>-0.008302</td>\n",
       "      <td>0.000172</td>\n",
       "      <td>0.001220</td>\n",
       "      <td>-0.000765</td>\n",
       "      <td>...</td>\n",
       "      <td>-1.228007e-01</td>\n",
       "      <td>-1.592382e-01</td>\n",
       "      <td>-0.122535</td>\n",
       "      <td>-0.122402</td>\n",
       "      <td>-0.092305</td>\n",
       "      <td>-0.122402</td>\n",
       "      <td>1.000000</td>\n",
       "      <td>-0.122402</td>\n",
       "      <td>-0.122092</td>\n",
       "      <td>-0.122225</td>\n",
       "    </tr>\n",
       "    <tr>\n",
       "      <th>Outlet_Establishment_Year_2004</th>\n",
       "      <td>0.000960</td>\n",
       "      <td>-0.034870</td>\n",
       "      <td>0.000576</td>\n",
       "      <td>0.000160</td>\n",
       "      <td>-0.000777</td>\n",
       "      <td>-0.000777</td>\n",
       "      <td>0.001209</td>\n",
       "      <td>0.000160</td>\n",
       "      <td>0.001209</td>\n",
       "      <td>-0.000777</td>\n",
       "      <td>...</td>\n",
       "      <td>-1.228897e-01</td>\n",
       "      <td>-1.593536e-01</td>\n",
       "      <td>-0.122624</td>\n",
       "      <td>-0.122491</td>\n",
       "      <td>-0.092372</td>\n",
       "      <td>-0.122491</td>\n",
       "      <td>-0.122402</td>\n",
       "      <td>1.000000</td>\n",
       "      <td>-0.122180</td>\n",
       "      <td>-0.122313</td>\n",
       "    </tr>\n",
       "    <tr>\n",
       "      <th>Outlet_Establishment_Year_2007</th>\n",
       "      <td>-0.000888</td>\n",
       "      <td>-0.032637</td>\n",
       "      <td>-0.000034</td>\n",
       "      <td>0.000201</td>\n",
       "      <td>-0.000736</td>\n",
       "      <td>-0.000736</td>\n",
       "      <td>0.001249</td>\n",
       "      <td>0.000201</td>\n",
       "      <td>0.001249</td>\n",
       "      <td>-0.000736</td>\n",
       "      <td>...</td>\n",
       "      <td>-1.225780e-01</td>\n",
       "      <td>-1.589494e-01</td>\n",
       "      <td>-0.122313</td>\n",
       "      <td>-0.122180</td>\n",
       "      <td>-0.092138</td>\n",
       "      <td>-0.122180</td>\n",
       "      <td>-0.122092</td>\n",
       "      <td>-0.122180</td>\n",
       "      <td>1.000000</td>\n",
       "      <td>-0.122003</td>\n",
       "    </tr>\n",
       "    <tr>\n",
       "      <th>Outlet_Establishment_Year_2009</th>\n",
       "      <td>0.000890</td>\n",
       "      <td>-0.040590</td>\n",
       "      <td>-0.000023</td>\n",
       "      <td>0.000183</td>\n",
       "      <td>-0.000754</td>\n",
       "      <td>-0.000754</td>\n",
       "      <td>0.001232</td>\n",
       "      <td>0.000183</td>\n",
       "      <td>0.001232</td>\n",
       "      <td>-0.000754</td>\n",
       "      <td>...</td>\n",
       "      <td>-1.227117e-01</td>\n",
       "      <td>-1.591227e-01</td>\n",
       "      <td>-0.122446</td>\n",
       "      <td>-0.122313</td>\n",
       "      <td>-0.092238</td>\n",
       "      <td>-0.122313</td>\n",
       "      <td>-0.122225</td>\n",
       "      <td>-0.122313</td>\n",
       "      <td>-0.122003</td>\n",
       "      <td>1.000000</td>\n",
       "    </tr>\n",
       "  </tbody>\n",
       "</table>\n",
       "<p>1610 rows × 1610 columns</p>\n",
       "</div>"
      ],
      "text/plain": [
       "                                Item_Weight  Item_Visibility  Item_MRP  \\\n",
       "Item_Weight                        1.000000        -0.013641  0.033002   \n",
       "Item_Visibility                   -0.013641         1.000000 -0.006351   \n",
       "Item_MRP                           0.033002        -0.006351  1.000000   \n",
       "Item_Identifier_DRA12             -0.006306        -0.015177  0.000275   \n",
       "Item_Identifier_DRA24              0.032885        -0.010475  0.009838   \n",
       "...                                     ...              ...       ...   \n",
       "Outlet_Establishment_Year_1999     0.000839        -0.047289  0.000892   \n",
       "Outlet_Establishment_Year_2002     0.000350        -0.034292 -0.000832   \n",
       "Outlet_Establishment_Year_2004     0.000960        -0.034870  0.000576   \n",
       "Outlet_Establishment_Year_2007    -0.000888        -0.032637 -0.000034   \n",
       "Outlet_Establishment_Year_2009     0.000890        -0.040590 -0.000023   \n",
       "\n",
       "                                Item_Identifier_DRA12  Item_Identifier_DRA24  \\\n",
       "Item_Weight                                 -0.006306               0.032885   \n",
       "Item_Visibility                             -0.015177              -0.010475   \n",
       "Item_MRP                                     0.000275               0.009838   \n",
       "Item_Identifier_DRA12                        1.000000              -0.000668   \n",
       "Item_Identifier_DRA24                       -0.000668               1.000000   \n",
       "...                                               ...                    ...   \n",
       "Outlet_Establishment_Year_1999               0.000160              -0.000777   \n",
       "Outlet_Establishment_Year_2002               0.000172              -0.000765   \n",
       "Outlet_Establishment_Year_2004               0.000160              -0.000777   \n",
       "Outlet_Establishment_Year_2007               0.000201              -0.000736   \n",
       "Outlet_Establishment_Year_2009               0.000183              -0.000754   \n",
       "\n",
       "                                Item_Identifier_DRA59  Item_Identifier_DRB01  \\\n",
       "Item_Weight                                 -0.022683              -0.022719   \n",
       "Item_Visibility                              0.034783               0.006359   \n",
       "Item_MRP                                     0.018801               0.018692   \n",
       "Item_Identifier_DRA12                       -0.000668              -0.000598   \n",
       "Item_Identifier_DRA24                       -0.000705              -0.000630   \n",
       "...                                               ...                    ...   \n",
       "Outlet_Establishment_Year_1999              -0.000777               0.001209   \n",
       "Outlet_Establishment_Year_2002              -0.000765              -0.008302   \n",
       "Outlet_Establishment_Year_2004              -0.000777               0.001209   \n",
       "Outlet_Establishment_Year_2007              -0.000736               0.001249   \n",
       "Outlet_Establishment_Year_2009              -0.000754               0.001232   \n",
       "\n",
       "                                Item_Identifier_DRB13  Item_Identifier_DRB24  \\\n",
       "Item_Weight                                 -0.035300              -0.019662   \n",
       "Item_Visibility                             -0.028947              -0.020925   \n",
       "Item_MRP                                     0.019789               0.005070   \n",
       "Item_Identifier_DRA12                       -0.000634              -0.000598   \n",
       "Item_Identifier_DRA24                       -0.000668              -0.000630   \n",
       "...                                               ...                    ...   \n",
       "Outlet_Establishment_Year_1999               0.000160               0.001209   \n",
       "Outlet_Establishment_Year_2002               0.000172               0.001220   \n",
       "Outlet_Establishment_Year_2004               0.000160               0.001209   \n",
       "Outlet_Establishment_Year_2007               0.000201               0.001249   \n",
       "Outlet_Establishment_Year_2009               0.000183               0.001232   \n",
       "\n",
       "                                Item_Identifier_DRB25  ...  \\\n",
       "Item_Weight                                 -0.002472  ...   \n",
       "Item_Visibility                              0.006940  ...   \n",
       "Item_MRP                                    -0.014498  ...   \n",
       "Item_Identifier_DRA12                       -0.000668  ...   \n",
       "Item_Identifier_DRA24                       -0.000705  ...   \n",
       "...                                               ...  ...   \n",
       "Outlet_Establishment_Year_1999              -0.000777  ...   \n",
       "Outlet_Establishment_Year_2002              -0.000765  ...   \n",
       "Outlet_Establishment_Year_2004              -0.000777  ...   \n",
       "Outlet_Establishment_Year_2007              -0.000736  ...   \n",
       "Outlet_Establishment_Year_2009              -0.000754  ...   \n",
       "\n",
       "                                Outlet_Type_Supermarket Type3  \\\n",
       "Item_Weight                                      4.861249e-14   \n",
       "Item_Visibility                                 -3.827546e-02   \n",
       "Item_MRP                                         4.167967e-05   \n",
       "Item_Identifier_DRA12                            1.090121e-04   \n",
       "Item_Identifier_DRA24                           -8.285684e-04   \n",
       "...                                                       ...   \n",
       "Outlet_Establishment_Year_1999                  -1.228897e-01   \n",
       "Outlet_Establishment_Year_2002                  -1.228007e-01   \n",
       "Outlet_Establishment_Year_2004                  -1.228897e-01   \n",
       "Outlet_Establishment_Year_2007                  -1.225780e-01   \n",
       "Outlet_Establishment_Year_2009                  -1.227117e-01   \n",
       "\n",
       "                                Outlet_Establishment_Year_1985  \\\n",
       "Item_Weight                                       6.307256e-14   \n",
       "Item_Visibility                                   1.005636e-01   \n",
       "Item_MRP                                         -6.338182e-04   \n",
       "Item_Identifier_DRA12                            -4.046157e-03   \n",
       "Item_Identifier_DRA24                             1.990929e-03   \n",
       "...                                                        ...   \n",
       "Outlet_Establishment_Year_1999                   -1.593536e-01   \n",
       "Outlet_Establishment_Year_2002                   -1.592382e-01   \n",
       "Outlet_Establishment_Year_2004                   -1.593536e-01   \n",
       "Outlet_Establishment_Year_2007                   -1.589494e-01   \n",
       "Outlet_Establishment_Year_2009                   -1.591227e-01   \n",
       "\n",
       "                                Outlet_Establishment_Year_1987  \\\n",
       "Item_Weight                                          -0.000390   \n",
       "Item_Visibility                                      -0.038887   \n",
       "Item_MRP                                              0.000697   \n",
       "Item_Identifier_DRA12                                 0.000143   \n",
       "Item_Identifier_DRA24                                -0.000794   \n",
       "...                                                        ...   \n",
       "Outlet_Establishment_Year_1999                       -0.122624   \n",
       "Outlet_Establishment_Year_2002                       -0.122535   \n",
       "Outlet_Establishment_Year_2004                       -0.122624   \n",
       "Outlet_Establishment_Year_2007                       -0.122313   \n",
       "Outlet_Establishment_Year_2009                       -0.122446   \n",
       "\n",
       "                                Outlet_Establishment_Year_1997  \\\n",
       "Item_Weight                                           0.001691   \n",
       "Item_Visibility                                      -0.039234   \n",
       "Item_MRP                                             -0.001032   \n",
       "Item_Identifier_DRA12                                 0.000160   \n",
       "Item_Identifier_DRA24                                -0.000777   \n",
       "...                                                        ...   \n",
       "Outlet_Establishment_Year_1999                       -0.122491   \n",
       "Outlet_Establishment_Year_2002                       -0.122402   \n",
       "Outlet_Establishment_Year_2004                       -0.122491   \n",
       "Outlet_Establishment_Year_2007                       -0.122180   \n",
       "Outlet_Establishment_Year_2009                       -0.122313   \n",
       "\n",
       "                                Outlet_Establishment_Year_1998  \\\n",
       "Item_Weight                                          -0.004362   \n",
       "Item_Visibility                                       0.184578   \n",
       "Item_MRP                                              0.000658   \n",
       "Item_Identifier_DRA12                                 0.004693   \n",
       "Item_Identifier_DRA24                                 0.003752   \n",
       "...                                                        ...   \n",
       "Outlet_Establishment_Year_1999                       -0.092372   \n",
       "Outlet_Establishment_Year_2002                       -0.092305   \n",
       "Outlet_Establishment_Year_2004                       -0.092372   \n",
       "Outlet_Establishment_Year_2007                       -0.092138   \n",
       "Outlet_Establishment_Year_2009                       -0.092238   \n",
       "\n",
       "                                Outlet_Establishment_Year_1999  \\\n",
       "Item_Weight                                           0.000839   \n",
       "Item_Visibility                                      -0.047289   \n",
       "Item_MRP                                              0.000892   \n",
       "Item_Identifier_DRA12                                 0.000160   \n",
       "Item_Identifier_DRA24                                -0.000777   \n",
       "...                                                        ...   \n",
       "Outlet_Establishment_Year_1999                        1.000000   \n",
       "Outlet_Establishment_Year_2002                       -0.122402   \n",
       "Outlet_Establishment_Year_2004                       -0.122491   \n",
       "Outlet_Establishment_Year_2007                       -0.122180   \n",
       "Outlet_Establishment_Year_2009                       -0.122313   \n",
       "\n",
       "                                Outlet_Establishment_Year_2002  \\\n",
       "Item_Weight                                           0.000350   \n",
       "Item_Visibility                                      -0.034292   \n",
       "Item_MRP                                             -0.000832   \n",
       "Item_Identifier_DRA12                                 0.000172   \n",
       "Item_Identifier_DRA24                                -0.000765   \n",
       "...                                                        ...   \n",
       "Outlet_Establishment_Year_1999                       -0.122402   \n",
       "Outlet_Establishment_Year_2002                        1.000000   \n",
       "Outlet_Establishment_Year_2004                       -0.122402   \n",
       "Outlet_Establishment_Year_2007                       -0.122092   \n",
       "Outlet_Establishment_Year_2009                       -0.122225   \n",
       "\n",
       "                                Outlet_Establishment_Year_2004  \\\n",
       "Item_Weight                                           0.000960   \n",
       "Item_Visibility                                      -0.034870   \n",
       "Item_MRP                                              0.000576   \n",
       "Item_Identifier_DRA12                                 0.000160   \n",
       "Item_Identifier_DRA24                                -0.000777   \n",
       "...                                                        ...   \n",
       "Outlet_Establishment_Year_1999                       -0.122491   \n",
       "Outlet_Establishment_Year_2002                       -0.122402   \n",
       "Outlet_Establishment_Year_2004                        1.000000   \n",
       "Outlet_Establishment_Year_2007                       -0.122180   \n",
       "Outlet_Establishment_Year_2009                       -0.122313   \n",
       "\n",
       "                                Outlet_Establishment_Year_2007  \\\n",
       "Item_Weight                                          -0.000888   \n",
       "Item_Visibility                                      -0.032637   \n",
       "Item_MRP                                             -0.000034   \n",
       "Item_Identifier_DRA12                                 0.000201   \n",
       "Item_Identifier_DRA24                                -0.000736   \n",
       "...                                                        ...   \n",
       "Outlet_Establishment_Year_1999                       -0.122180   \n",
       "Outlet_Establishment_Year_2002                       -0.122092   \n",
       "Outlet_Establishment_Year_2004                       -0.122180   \n",
       "Outlet_Establishment_Year_2007                        1.000000   \n",
       "Outlet_Establishment_Year_2009                       -0.122003   \n",
       "\n",
       "                                Outlet_Establishment_Year_2009  \n",
       "Item_Weight                                           0.000890  \n",
       "Item_Visibility                                      -0.040590  \n",
       "Item_MRP                                             -0.000023  \n",
       "Item_Identifier_DRA12                                 0.000183  \n",
       "Item_Identifier_DRA24                                -0.000754  \n",
       "...                                                        ...  \n",
       "Outlet_Establishment_Year_1999                       -0.122313  \n",
       "Outlet_Establishment_Year_2002                       -0.122225  \n",
       "Outlet_Establishment_Year_2004                       -0.122313  \n",
       "Outlet_Establishment_Year_2007                       -0.122003  \n",
       "Outlet_Establishment_Year_2009                        1.000000  \n",
       "\n",
       "[1610 rows x 1610 columns]"
      ]
     },
     "execution_count": 19,
     "metadata": {},
     "output_type": "execute_result"
    }
   ],
   "source": [
    "dummy.corr()"
   ]
  },
  {
   "cell_type": "code",
   "execution_count": 20,
   "id": "8b29e43d",
   "metadata": {},
   "outputs": [],
   "source": [
    "scaler=mms()"
   ]
  },
  {
   "cell_type": "code",
   "execution_count": 21,
   "id": "e6a2d4bf",
   "metadata": {},
   "outputs": [],
   "source": [
    "model=scaler.fit(dummy)"
   ]
  },
  {
   "cell_type": "code",
   "execution_count": 22,
   "id": "24d9a600",
   "metadata": {},
   "outputs": [],
   "source": [
    "scaled=model.transform(dummy)"
   ]
  },
  {
   "cell_type": "code",
   "execution_count": 23,
   "id": "a196fe12",
   "metadata": {},
   "outputs": [
    {
     "data": {
      "text/plain": [
       "array([[0.28252456, 0.04886645, 0.92750715, ..., 0.        , 0.        ,\n",
       "        0.        ],\n",
       "       [0.08127419, 0.05870508, 0.0720684 , ..., 0.        , 0.        ,\n",
       "        1.        ],\n",
       "       [0.77076511, 0.05103696, 0.46828841, ..., 0.        , 0.        ,\n",
       "        0.        ],\n",
       "       ...,\n",
       "       [0.32420363, 0.22390557, 0.37119946, ..., 0.        , 0.        ,\n",
       "        0.        ],\n",
       "       [0.63977374, 0.        , 0.77815384, ..., 0.        , 1.        ,\n",
       "        0.        ],\n",
       "       [0.29443287, 0.31888866, 0.20588425, ..., 0.        , 0.        ,\n",
       "        0.        ]])"
      ]
     },
     "execution_count": 23,
     "metadata": {},
     "output_type": "execute_result"
    }
   ],
   "source": [
    "scaled"
   ]
  },
  {
   "cell_type": "code",
   "execution_count": 24,
   "id": "8be50724",
   "metadata": {},
   "outputs": [],
   "source": [
    "df=pd.DataFrame(scaled)"
   ]
  },
  {
   "cell_type": "code",
   "execution_count": 25,
   "id": "ceab9b09",
   "metadata": {},
   "outputs": [],
   "source": [
    "dfx=df.iloc[0:8523,0:]"
   ]
  },
  {
   "cell_type": "code",
   "execution_count": null,
   "id": "151f4736",
   "metadata": {},
   "outputs": [],
   "source": []
  },
  {
   "cell_type": "code",
   "execution_count": 26,
   "id": "75687081",
   "metadata": {},
   "outputs": [],
   "source": [
    "trainx,testx=train_test_split(dfx,test_size=0.2)\n",
    "trainy,testy=train_test_split(trainy,test_size = 0.2)"
   ]
  },
  {
   "cell_type": "code",
   "execution_count": 27,
   "id": "86c7699a",
   "metadata": {},
   "outputs": [
    {
     "data": {
      "text/plain": [
       "(6818, 1610)"
      ]
     },
     "execution_count": 27,
     "metadata": {},
     "output_type": "execute_result"
    }
   ],
   "source": [
    "trainx.shape"
   ]
  },
  {
   "cell_type": "code",
   "execution_count": 28,
   "id": "9d083069",
   "metadata": {},
   "outputs": [
    {
     "data": {
      "text/plain": [
       "(1705, 1610)"
      ]
     },
     "execution_count": 28,
     "metadata": {},
     "output_type": "execute_result"
    }
   ],
   "source": [
    "testx.shape"
   ]
  },
  {
   "cell_type": "code",
   "execution_count": 30,
   "id": "b4cf936f",
   "metadata": {},
   "outputs": [
    {
     "data": {
      "text/plain": [
       "(6818,)"
      ]
     },
     "execution_count": 30,
     "metadata": {},
     "output_type": "execute_result"
    }
   ],
   "source": [
    "trainy.shape"
   ]
  },
  {
   "cell_type": "markdown",
   "id": "f7e4ca76",
   "metadata": {},
   "source": [
    "<h1>LINEAR REGRESSION<h1>"
   ]
  },
  {
   "cell_type": "code",
   "execution_count": 31,
   "id": "f7c99a6f",
   "metadata": {},
   "outputs": [
    {
     "data": {
      "text/plain": [
       "array([3752., 3528., 2248., ...,  872., 3680., 1208.])"
      ]
     },
     "execution_count": 31,
     "metadata": {},
     "output_type": "execute_result"
    }
   ],
   "source": [
    "reg = LinearRegression().fit(trainx,trainy)\n",
    "reg.predict(testx)"
   ]
  },
  {
   "cell_type": "code",
   "execution_count": null,
   "id": "0ca05c22",
   "metadata": {},
   "outputs": [],
   "source": []
  },
  {
   "cell_type": "markdown",
   "id": "a5dd89d7",
   "metadata": {},
   "source": [
    "<h1> Decision Tree Regressor<h1>"
   ]
  },
  {
   "cell_type": "code",
   "execution_count": 39,
   "id": "3d3894be",
   "metadata": {},
   "outputs": [],
   "source": [
    "reg1 = DecisionTreeRegressor(random_state=0).fit(trainx,trainy)"
   ]
  },
  {
   "cell_type": "code",
   "execution_count": 40,
   "id": "11a83e6b",
   "metadata": {},
   "outputs": [
    {
     "data": {
      "text/plain": [
       "array([2407.5328, 2364.9216, 1118.544 , ..., 1677.816 , 5890.9984,\n",
       "       1789.6704])"
      ]
     },
     "execution_count": 40,
     "metadata": {},
     "output_type": "execute_result"
    }
   ],
   "source": [
    "reg1.predict(testx)"
   ]
  },
  {
   "cell_type": "markdown",
   "id": "45644250",
   "metadata": {},
   "source": [
    "<h1>Random Forest Regressor<h1>"
   ]
  },
  {
   "cell_type": "code",
   "execution_count": null,
   "id": "ff95df57",
   "metadata": {},
   "outputs": [],
   "source": []
  },
  {
   "cell_type": "code",
   "execution_count": 33,
   "id": "fe32ce7e",
   "metadata": {},
   "outputs": [
    {
     "data": {
      "text/plain": [
       "array([2162.35178966, 2162.35178966, 2162.35178966, ..., 2162.35178966,\n",
       "       2162.35178966, 2162.35178966])"
      ]
     },
     "execution_count": 33,
     "metadata": {},
     "output_type": "execute_result"
    }
   ],
   "source": [
    "reg3 = RandomForestRegressor(max_depth=2, random_state=0).fit(trainx,trainy)\n",
    "reg3.predict(testx)"
   ]
  },
  {
   "cell_type": "markdown",
   "id": "a6a3f206",
   "metadata": {},
   "source": [
    "<h1>Ada Boost Regressor<h1>"
   ]
  },
  {
   "cell_type": "code",
   "execution_count": 34,
   "id": "87d37ff0",
   "metadata": {},
   "outputs": [],
   "source": [
    "regr = AdaBoostRegressor(random_state=0, n_estimators=100).fit(trainx,trainy)"
   ]
  },
  {
   "cell_type": "code",
   "execution_count": 35,
   "id": "bd0d99b5",
   "metadata": {},
   "outputs": [
    {
     "data": {
      "text/plain": [
       "array([3606.28790612, 3606.28790612, 3225.78682772, ..., 3606.28790612,\n",
       "       3606.28790612, 3606.28790612])"
      ]
     },
     "execution_count": 35,
     "metadata": {},
     "output_type": "execute_result"
    }
   ],
   "source": [
    "regr.predict(testx)"
   ]
  },
  {
   "cell_type": "markdown",
   "id": "93b4208d",
   "metadata": {},
   "source": [
    "<h1>Gradient Boosting Regressor<h1>"
   ]
  },
  {
   "cell_type": "code",
   "execution_count": 36,
   "id": "fc22ff67",
   "metadata": {},
   "outputs": [
    {
     "data": {
      "text/plain": [
       "array([2131.04700403, 2139.77052241, 2139.77052241, ..., 2184.925484  ,\n",
       "       2545.0747478 , 2131.04700403])"
      ]
     },
     "execution_count": 36,
     "metadata": {},
     "output_type": "execute_result"
    }
   ],
   "source": [
    "clf = GradientBoostingRegressor(random_state=0).fit(trainx,trainy)\n",
    "clf.predict(testx)"
   ]
  },
  {
   "cell_type": "code",
   "execution_count": 43,
   "id": "297a8669",
   "metadata": {},
   "outputs": [
    {
     "name": "stdout",
     "output_type": "stream",
     "text": [
      "LinearRegression          =  0.23282862184816278\n",
      "Decision Tree Regressor   =  1.0\n",
      "RandomForestRegressor     =  0.011138436792846207\n",
      "AdaBoostRegressor         =  -0.5959938065611585\n",
      "GradientBoostingRegressor =  0.0815073934232301\n"
     ]
    }
   ],
   "source": [
    "print(\"LinearRegression          = \",reg.score(trainx,trainy))\n",
    "print(\"Decision Tree Regressor   = \",reg1.score(trainx,trainy))\n",
    "print(\"RandomForestRegressor     = \",reg3.score(trainx,trainy))\n",
    "print(\"AdaBoostRegressor         = \",regr.score(trainx,trainy))\n",
    "print(\"GradientBoostingRegressor = \",clf.score(trainx,trainy))"
   ]
  },
  {
   "cell_type": "code",
   "execution_count": null,
   "id": "2bcfd763",
   "metadata": {},
   "outputs": [],
   "source": []
  }
 ],
 "metadata": {
  "kernelspec": {
   "display_name": "Python 3 (ipykernel)",
   "language": "python",
   "name": "python3"
  },
  "language_info": {
   "codemirror_mode": {
    "name": "ipython",
    "version": 3
   },
   "file_extension": ".py",
   "mimetype": "text/x-python",
   "name": "python",
   "nbconvert_exporter": "python",
   "pygments_lexer": "ipython3",
   "version": "3.9.7"
  }
 },
 "nbformat": 4,
 "nbformat_minor": 5
}
