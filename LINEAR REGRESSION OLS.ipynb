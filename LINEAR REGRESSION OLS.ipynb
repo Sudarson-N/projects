{
 "cells": [
  {
   "cell_type": "code",
   "execution_count": 2,
   "id": "9f829254",
   "metadata": {},
   "outputs": [],
   "source": [
    "import pandas as pd\n",
    "import numpy as np\n",
    "from math import sqrt\n",
    "from scipy import stats \n",
    "import matplotlib.pyplot as plt\n",
    "from scipy.stats import pearsonr\n",
    "import statsmodels.api as sm \n",
    "import seaborn as sns\n",
    "import xgboost as xg\n",
    "from sklearn import datasets\n",
    "from sklearn.model_selection import train_test_split\n",
    "from sklearn.linear_model import LinearRegression\n",
    "from sklearn.preprocessing import MinMaxScaler as mms\n",
    "from sklearn import datasets,linear_model,metrics\n",
    "from sklearn.metrics import mean_squared_error,confusion_matrix,accuracy_score,classification_report\n",
    "from sklearn.linear_model import LogisticRegression\n",
    "from sklearn.tree import DecisionTreeClassifier,DecisionTreeRegressor \n",
    "from sklearn.datasets import make_classification\n",
    "from sklearn.datasets import make_hastie_10_2\n",
    "from sklearn.ensemble import GradientBoostingClassifier,AdaBoostClassifier,RandomForestClassifier,BaggingClassifier\n",
    "from sklearn.datasets import make_regression\n",
    "from sklearn.ensemble import GradientBoostingRegressor,AdaBoostRegressor,RandomForestRegressor\n",
    "from sklearn.decomposition import PCA\n",
    "from sklearn.model_selection import GridSearchCV\n",
    "import warnings\n",
    "warnings.simplefilter(\"ignore\")"
   ]
  },
  {
   "cell_type": "code",
   "execution_count": 3,
   "id": "1dfdee5f",
   "metadata": {},
   "outputs": [
    {
     "data": {
      "text/html": [
       "<div>\n",
       "<style scoped>\n",
       "    .dataframe tbody tr th:only-of-type {\n",
       "        vertical-align: middle;\n",
       "    }\n",
       "\n",
       "    .dataframe tbody tr th {\n",
       "        vertical-align: top;\n",
       "    }\n",
       "\n",
       "    .dataframe thead th {\n",
       "        text-align: right;\n",
       "    }\n",
       "</style>\n",
       "<table border=\"1\" class=\"dataframe\">\n",
       "  <thead>\n",
       "    <tr style=\"text-align: right;\">\n",
       "      <th></th>\n",
       "      <th>Id</th>\n",
       "      <th>Dwell_Type</th>\n",
       "      <th>Zone_Class</th>\n",
       "      <th>LotFrontage</th>\n",
       "      <th>LotArea</th>\n",
       "      <th>Road_Type</th>\n",
       "      <th>Alley</th>\n",
       "      <th>Property_Shape</th>\n",
       "      <th>LandContour</th>\n",
       "      <th>Utilities</th>\n",
       "      <th>...</th>\n",
       "      <th>PoolArea</th>\n",
       "      <th>PoolQC</th>\n",
       "      <th>Fence</th>\n",
       "      <th>MiscFeature</th>\n",
       "      <th>MiscVal</th>\n",
       "      <th>MoSold</th>\n",
       "      <th>YrSold</th>\n",
       "      <th>SaleType</th>\n",
       "      <th>SaleCondition</th>\n",
       "      <th>Property_Sale_Price</th>\n",
       "    </tr>\n",
       "  </thead>\n",
       "  <tbody>\n",
       "    <tr>\n",
       "      <th>0</th>\n",
       "      <td>1</td>\n",
       "      <td>60</td>\n",
       "      <td>RL</td>\n",
       "      <td>65.0</td>\n",
       "      <td>8450</td>\n",
       "      <td>Pave</td>\n",
       "      <td>NaN</td>\n",
       "      <td>Reg</td>\n",
       "      <td>Lvl</td>\n",
       "      <td>AllPub</td>\n",
       "      <td>...</td>\n",
       "      <td>0</td>\n",
       "      <td>NaN</td>\n",
       "      <td>NaN</td>\n",
       "      <td>NaN</td>\n",
       "      <td>0</td>\n",
       "      <td>2</td>\n",
       "      <td>2008</td>\n",
       "      <td>WD</td>\n",
       "      <td>Normal</td>\n",
       "      <td>208500</td>\n",
       "    </tr>\n",
       "    <tr>\n",
       "      <th>1</th>\n",
       "      <td>2</td>\n",
       "      <td>20</td>\n",
       "      <td>RL</td>\n",
       "      <td>80.0</td>\n",
       "      <td>9600</td>\n",
       "      <td>Pave</td>\n",
       "      <td>NaN</td>\n",
       "      <td>Reg</td>\n",
       "      <td>Lvl</td>\n",
       "      <td>AllPub</td>\n",
       "      <td>...</td>\n",
       "      <td>0</td>\n",
       "      <td>NaN</td>\n",
       "      <td>NaN</td>\n",
       "      <td>NaN</td>\n",
       "      <td>0</td>\n",
       "      <td>5</td>\n",
       "      <td>2007</td>\n",
       "      <td>WD</td>\n",
       "      <td>Normal</td>\n",
       "      <td>181500</td>\n",
       "    </tr>\n",
       "    <tr>\n",
       "      <th>2</th>\n",
       "      <td>3</td>\n",
       "      <td>60</td>\n",
       "      <td>RL</td>\n",
       "      <td>68.0</td>\n",
       "      <td>11250</td>\n",
       "      <td>Pave</td>\n",
       "      <td>NaN</td>\n",
       "      <td>IR1</td>\n",
       "      <td>Lvl</td>\n",
       "      <td>AllPub</td>\n",
       "      <td>...</td>\n",
       "      <td>0</td>\n",
       "      <td>NaN</td>\n",
       "      <td>NaN</td>\n",
       "      <td>NaN</td>\n",
       "      <td>0</td>\n",
       "      <td>9</td>\n",
       "      <td>2008</td>\n",
       "      <td>WD</td>\n",
       "      <td>Normal</td>\n",
       "      <td>223500</td>\n",
       "    </tr>\n",
       "    <tr>\n",
       "      <th>3</th>\n",
       "      <td>4</td>\n",
       "      <td>70</td>\n",
       "      <td>RL</td>\n",
       "      <td>60.0</td>\n",
       "      <td>9550</td>\n",
       "      <td>Pave</td>\n",
       "      <td>NaN</td>\n",
       "      <td>IR1</td>\n",
       "      <td>Lvl</td>\n",
       "      <td>AllPub</td>\n",
       "      <td>...</td>\n",
       "      <td>0</td>\n",
       "      <td>NaN</td>\n",
       "      <td>NaN</td>\n",
       "      <td>NaN</td>\n",
       "      <td>0</td>\n",
       "      <td>2</td>\n",
       "      <td>2006</td>\n",
       "      <td>WD</td>\n",
       "      <td>Abnorml</td>\n",
       "      <td>140000</td>\n",
       "    </tr>\n",
       "    <tr>\n",
       "      <th>4</th>\n",
       "      <td>5</td>\n",
       "      <td>60</td>\n",
       "      <td>RL</td>\n",
       "      <td>84.0</td>\n",
       "      <td>14260</td>\n",
       "      <td>Pave</td>\n",
       "      <td>NaN</td>\n",
       "      <td>IR1</td>\n",
       "      <td>Lvl</td>\n",
       "      <td>AllPub</td>\n",
       "      <td>...</td>\n",
       "      <td>0</td>\n",
       "      <td>NaN</td>\n",
       "      <td>NaN</td>\n",
       "      <td>NaN</td>\n",
       "      <td>0</td>\n",
       "      <td>12</td>\n",
       "      <td>2008</td>\n",
       "      <td>WD</td>\n",
       "      <td>Normal</td>\n",
       "      <td>250000</td>\n",
       "    </tr>\n",
       "    <tr>\n",
       "      <th>...</th>\n",
       "      <td>...</td>\n",
       "      <td>...</td>\n",
       "      <td>...</td>\n",
       "      <td>...</td>\n",
       "      <td>...</td>\n",
       "      <td>...</td>\n",
       "      <td>...</td>\n",
       "      <td>...</td>\n",
       "      <td>...</td>\n",
       "      <td>...</td>\n",
       "      <td>...</td>\n",
       "      <td>...</td>\n",
       "      <td>...</td>\n",
       "      <td>...</td>\n",
       "      <td>...</td>\n",
       "      <td>...</td>\n",
       "      <td>...</td>\n",
       "      <td>...</td>\n",
       "      <td>...</td>\n",
       "      <td>...</td>\n",
       "      <td>...</td>\n",
       "    </tr>\n",
       "    <tr>\n",
       "      <th>2068</th>\n",
       "      <td>942</td>\n",
       "      <td>60</td>\n",
       "      <td>RL</td>\n",
       "      <td>NaN</td>\n",
       "      <td>8755</td>\n",
       "      <td>Pave</td>\n",
       "      <td>NaN</td>\n",
       "      <td>IR1</td>\n",
       "      <td>Lvl</td>\n",
       "      <td>AllPub</td>\n",
       "      <td>...</td>\n",
       "      <td>0</td>\n",
       "      <td>NaN</td>\n",
       "      <td>GdPrv</td>\n",
       "      <td>NaN</td>\n",
       "      <td>0</td>\n",
       "      <td>6</td>\n",
       "      <td>2009</td>\n",
       "      <td>WD</td>\n",
       "      <td>Normal</td>\n",
       "      <td>214000</td>\n",
       "    </tr>\n",
       "    <tr>\n",
       "      <th>2069</th>\n",
       "      <td>943</td>\n",
       "      <td>90</td>\n",
       "      <td>RL</td>\n",
       "      <td>63.0</td>\n",
       "      <td>7711</td>\n",
       "      <td>Pave</td>\n",
       "      <td>NaN</td>\n",
       "      <td>IR1</td>\n",
       "      <td>Lvl</td>\n",
       "      <td>AllPub</td>\n",
       "      <td>...</td>\n",
       "      <td>0</td>\n",
       "      <td>NaN</td>\n",
       "      <td>NaN</td>\n",
       "      <td>NaN</td>\n",
       "      <td>0</td>\n",
       "      <td>8</td>\n",
       "      <td>2007</td>\n",
       "      <td>Oth</td>\n",
       "      <td>Abnorml</td>\n",
       "      <td>150000</td>\n",
       "    </tr>\n",
       "    <tr>\n",
       "      <th>2070</th>\n",
       "      <td>944</td>\n",
       "      <td>90</td>\n",
       "      <td>RL</td>\n",
       "      <td>313.0</td>\n",
       "      <td>25000</td>\n",
       "      <td>Pave</td>\n",
       "      <td>NaN</td>\n",
       "      <td>Reg</td>\n",
       "      <td>Low</td>\n",
       "      <td>AllPub</td>\n",
       "      <td>...</td>\n",
       "      <td>0</td>\n",
       "      <td>NaN</td>\n",
       "      <td>NaN</td>\n",
       "      <td>NaN</td>\n",
       "      <td>0</td>\n",
       "      <td>6</td>\n",
       "      <td>2007</td>\n",
       "      <td>WD</td>\n",
       "      <td>Normal</td>\n",
       "      <td>143000</td>\n",
       "    </tr>\n",
       "    <tr>\n",
       "      <th>2071</th>\n",
       "      <td>945</td>\n",
       "      <td>20</td>\n",
       "      <td>RL</td>\n",
       "      <td>52.0</td>\n",
       "      <td>14375</td>\n",
       "      <td>Pave</td>\n",
       "      <td>NaN</td>\n",
       "      <td>IR1</td>\n",
       "      <td>Lvl</td>\n",
       "      <td>NoSeWa</td>\n",
       "      <td>...</td>\n",
       "      <td>0</td>\n",
       "      <td>NaN</td>\n",
       "      <td>NaN</td>\n",
       "      <td>NaN</td>\n",
       "      <td>0</td>\n",
       "      <td>1</td>\n",
       "      <td>2009</td>\n",
       "      <td>COD</td>\n",
       "      <td>Abnorml</td>\n",
       "      <td>137500</td>\n",
       "    </tr>\n",
       "    <tr>\n",
       "      <th>2072</th>\n",
       "      <td>946</td>\n",
       "      <td>50</td>\n",
       "      <td>RM</td>\n",
       "      <td>98.0</td>\n",
       "      <td>8820</td>\n",
       "      <td>Pave</td>\n",
       "      <td>NaN</td>\n",
       "      <td>Reg</td>\n",
       "      <td>Lvl</td>\n",
       "      <td>AllPub</td>\n",
       "      <td>...</td>\n",
       "      <td>0</td>\n",
       "      <td>NaN</td>\n",
       "      <td>MnWw</td>\n",
       "      <td>NaN</td>\n",
       "      <td>0</td>\n",
       "      <td>9</td>\n",
       "      <td>2009</td>\n",
       "      <td>WD</td>\n",
       "      <td>Normal</td>\n",
       "      <td>124900</td>\n",
       "    </tr>\n",
       "  </tbody>\n",
       "</table>\n",
       "<p>2073 rows × 81 columns</p>\n",
       "</div>"
      ],
      "text/plain": [
       "       Id  Dwell_Type Zone_Class  LotFrontage  LotArea Road_Type Alley  \\\n",
       "0       1          60         RL         65.0     8450      Pave   NaN   \n",
       "1       2          20         RL         80.0     9600      Pave   NaN   \n",
       "2       3          60         RL         68.0    11250      Pave   NaN   \n",
       "3       4          70         RL         60.0     9550      Pave   NaN   \n",
       "4       5          60         RL         84.0    14260      Pave   NaN   \n",
       "...   ...         ...        ...          ...      ...       ...   ...   \n",
       "2068  942          60         RL          NaN     8755      Pave   NaN   \n",
       "2069  943          90         RL         63.0     7711      Pave   NaN   \n",
       "2070  944          90         RL        313.0    25000      Pave   NaN   \n",
       "2071  945          20         RL         52.0    14375      Pave   NaN   \n",
       "2072  946          50         RM         98.0     8820      Pave   NaN   \n",
       "\n",
       "     Property_Shape LandContour Utilities  ... PoolArea PoolQC  Fence  \\\n",
       "0               Reg         Lvl    AllPub  ...        0    NaN    NaN   \n",
       "1               Reg         Lvl    AllPub  ...        0    NaN    NaN   \n",
       "2               IR1         Lvl    AllPub  ...        0    NaN    NaN   \n",
       "3               IR1         Lvl    AllPub  ...        0    NaN    NaN   \n",
       "4               IR1         Lvl    AllPub  ...        0    NaN    NaN   \n",
       "...             ...         ...       ...  ...      ...    ...    ...   \n",
       "2068            IR1         Lvl    AllPub  ...        0    NaN  GdPrv   \n",
       "2069            IR1         Lvl    AllPub  ...        0    NaN    NaN   \n",
       "2070            Reg         Low    AllPub  ...        0    NaN    NaN   \n",
       "2071            IR1         Lvl    NoSeWa  ...        0    NaN    NaN   \n",
       "2072            Reg         Lvl    AllPub  ...        0    NaN   MnWw   \n",
       "\n",
       "     MiscFeature MiscVal MoSold YrSold  SaleType  SaleCondition  \\\n",
       "0            NaN       0      2   2008        WD         Normal   \n",
       "1            NaN       0      5   2007        WD         Normal   \n",
       "2            NaN       0      9   2008        WD         Normal   \n",
       "3            NaN       0      2   2006        WD        Abnorml   \n",
       "4            NaN       0     12   2008        WD         Normal   \n",
       "...          ...     ...    ...    ...       ...            ...   \n",
       "2068         NaN       0      6   2009        WD         Normal   \n",
       "2069         NaN       0      8   2007       Oth        Abnorml   \n",
       "2070         NaN       0      6   2007        WD         Normal   \n",
       "2071         NaN       0      1   2009       COD        Abnorml   \n",
       "2072         NaN       0      9   2009        WD         Normal   \n",
       "\n",
       "      Property_Sale_Price  \n",
       "0                  208500  \n",
       "1                  181500  \n",
       "2                  223500  \n",
       "3                  140000  \n",
       "4                  250000  \n",
       "...                   ...  \n",
       "2068               214000  \n",
       "2069               150000  \n",
       "2070               143000  \n",
       "2071               137500  \n",
       "2072               124900  \n",
       "\n",
       "[2073 rows x 81 columns]"
      ]
     },
     "execution_count": 3,
     "metadata": {},
     "output_type": "execute_result"
    }
   ],
   "source": [
    "data=pd.read_csv(r\"C:\\Users\\sudarson.SUDARSON\\Desktop\\imarticus\\4 linear OLS\\ProjectonPropertyPricePrediction\\Dataset\\HousePrices.csv\")\n",
    "data"
   ]
  },
  {
   "cell_type": "code",
   "execution_count": 4,
   "id": "a0823316",
   "metadata": {},
   "outputs": [],
   "source": [
    "data=data.drop([\"Id\"],axis=1)"
   ]
  },
  {
   "cell_type": "code",
   "execution_count": 5,
   "id": "7ac905bf",
   "metadata": {},
   "outputs": [
    {
     "data": {
      "text/html": [
       "<div>\n",
       "<style scoped>\n",
       "    .dataframe tbody tr th:only-of-type {\n",
       "        vertical-align: middle;\n",
       "    }\n",
       "\n",
       "    .dataframe tbody tr th {\n",
       "        vertical-align: top;\n",
       "    }\n",
       "\n",
       "    .dataframe thead th {\n",
       "        text-align: right;\n",
       "    }\n",
       "</style>\n",
       "<table border=\"1\" class=\"dataframe\">\n",
       "  <thead>\n",
       "    <tr style=\"text-align: right;\">\n",
       "      <th></th>\n",
       "      <th>Dwell_Type</th>\n",
       "      <th>LotFrontage</th>\n",
       "      <th>LotArea</th>\n",
       "      <th>OverallQual</th>\n",
       "      <th>OverallCond</th>\n",
       "      <th>YearBuilt</th>\n",
       "      <th>YearRemodAdd</th>\n",
       "      <th>MasVnrArea</th>\n",
       "      <th>BsmtFinSF1</th>\n",
       "      <th>BsmtFinSF2</th>\n",
       "      <th>...</th>\n",
       "      <th>WoodDeckSF</th>\n",
       "      <th>OpenPorchSF</th>\n",
       "      <th>EnclosedPorch</th>\n",
       "      <th>3SsnPorch</th>\n",
       "      <th>ScreenPorch</th>\n",
       "      <th>PoolArea</th>\n",
       "      <th>MiscVal</th>\n",
       "      <th>MoSold</th>\n",
       "      <th>YrSold</th>\n",
       "      <th>Property_Sale_Price</th>\n",
       "    </tr>\n",
       "  </thead>\n",
       "  <tbody>\n",
       "    <tr>\n",
       "      <th>count</th>\n",
       "      <td>2073.000000</td>\n",
       "      <td>1753.000000</td>\n",
       "      <td>2073.000000</td>\n",
       "      <td>2073.000000</td>\n",
       "      <td>2073.000000</td>\n",
       "      <td>2073.000000</td>\n",
       "      <td>2073.000000</td>\n",
       "      <td>2059.000000</td>\n",
       "      <td>2073.000000</td>\n",
       "      <td>2073.000000</td>\n",
       "      <td>...</td>\n",
       "      <td>2073.000000</td>\n",
       "      <td>2073.000000</td>\n",
       "      <td>2073.000000</td>\n",
       "      <td>2073.000000</td>\n",
       "      <td>2073.000000</td>\n",
       "      <td>2073.000000</td>\n",
       "      <td>2073.000000</td>\n",
       "      <td>2073.000000</td>\n",
       "      <td>2073.000000</td>\n",
       "      <td>2073.000000</td>\n",
       "    </tr>\n",
       "    <tr>\n",
       "      <th>mean</th>\n",
       "      <td>60.556199</td>\n",
       "      <td>72.056475</td>\n",
       "      <td>10717.853353</td>\n",
       "      <td>6.233478</td>\n",
       "      <td>5.835022</td>\n",
       "      <td>1969.445731</td>\n",
       "      <td>1986.617463</td>\n",
       "      <td>101.875668</td>\n",
       "      <td>437.949349</td>\n",
       "      <td>49.219489</td>\n",
       "      <td>...</td>\n",
       "      <td>94.168837</td>\n",
       "      <td>46.035697</td>\n",
       "      <td>21.029908</td>\n",
       "      <td>2.979257</td>\n",
       "      <td>14.552340</td>\n",
       "      <td>2.299083</td>\n",
       "      <td>39.736614</td>\n",
       "      <td>6.287506</td>\n",
       "      <td>2007.851905</td>\n",
       "      <td>180967.284129</td>\n",
       "    </tr>\n",
       "    <tr>\n",
       "      <th>std</th>\n",
       "      <td>159.924810</td>\n",
       "      <td>27.987475</td>\n",
       "      <td>9215.982306</td>\n",
       "      <td>1.517115</td>\n",
       "      <td>1.360214</td>\n",
       "      <td>30.222647</td>\n",
       "      <td>20.432694</td>\n",
       "      <td>179.169217</td>\n",
       "      <td>448.051119</td>\n",
       "      <td>165.621465</td>\n",
       "      <td>...</td>\n",
       "      <td>129.072113</td>\n",
       "      <td>64.768713</td>\n",
       "      <td>59.569928</td>\n",
       "      <td>26.817218</td>\n",
       "      <td>54.099626</td>\n",
       "      <td>37.411031</td>\n",
       "      <td>429.819512</td>\n",
       "      <td>2.690130</td>\n",
       "      <td>1.329705</td>\n",
       "      <td>78666.411112</td>\n",
       "    </tr>\n",
       "    <tr>\n",
       "      <th>min</th>\n",
       "      <td>20.000000</td>\n",
       "      <td>21.000000</td>\n",
       "      <td>1300.000000</td>\n",
       "      <td>1.000000</td>\n",
       "      <td>1.000000</td>\n",
       "      <td>1872.000000</td>\n",
       "      <td>1950.000000</td>\n",
       "      <td>0.000000</td>\n",
       "      <td>0.000000</td>\n",
       "      <td>0.000000</td>\n",
       "      <td>...</td>\n",
       "      <td>0.000000</td>\n",
       "      <td>0.000000</td>\n",
       "      <td>0.000000</td>\n",
       "      <td>0.000000</td>\n",
       "      <td>0.000000</td>\n",
       "      <td>0.000000</td>\n",
       "      <td>0.000000</td>\n",
       "      <td>1.000000</td>\n",
       "      <td>2006.000000</td>\n",
       "      <td>34900.000000</td>\n",
       "    </tr>\n",
       "    <tr>\n",
       "      <th>25%</th>\n",
       "      <td>20.000000</td>\n",
       "      <td>60.000000</td>\n",
       "      <td>7620.000000</td>\n",
       "      <td>5.000000</td>\n",
       "      <td>5.000000</td>\n",
       "      <td>1950.000000</td>\n",
       "      <td>1970.000000</td>\n",
       "      <td>0.000000</td>\n",
       "      <td>0.000000</td>\n",
       "      <td>0.000000</td>\n",
       "      <td>...</td>\n",
       "      <td>0.000000</td>\n",
       "      <td>0.000000</td>\n",
       "      <td>0.000000</td>\n",
       "      <td>0.000000</td>\n",
       "      <td>0.000000</td>\n",
       "      <td>0.000000</td>\n",
       "      <td>0.000000</td>\n",
       "      <td>5.000000</td>\n",
       "      <td>2007.000000</td>\n",
       "      <td>130000.000000</td>\n",
       "    </tr>\n",
       "    <tr>\n",
       "      <th>50%</th>\n",
       "      <td>50.000000</td>\n",
       "      <td>70.000000</td>\n",
       "      <td>9492.000000</td>\n",
       "      <td>6.000000</td>\n",
       "      <td>5.000000</td>\n",
       "      <td>1971.000000</td>\n",
       "      <td>1995.000000</td>\n",
       "      <td>0.000000</td>\n",
       "      <td>381.000000</td>\n",
       "      <td>0.000000</td>\n",
       "      <td>...</td>\n",
       "      <td>0.000000</td>\n",
       "      <td>24.000000</td>\n",
       "      <td>0.000000</td>\n",
       "      <td>0.000000</td>\n",
       "      <td>0.000000</td>\n",
       "      <td>0.000000</td>\n",
       "      <td>0.000000</td>\n",
       "      <td>6.000000</td>\n",
       "      <td>2008.000000</td>\n",
       "      <td>163990.000000</td>\n",
       "    </tr>\n",
       "    <tr>\n",
       "      <th>75%</th>\n",
       "      <td>70.000000</td>\n",
       "      <td>83.000000</td>\n",
       "      <td>11601.000000</td>\n",
       "      <td>7.000000</td>\n",
       "      <td>7.000000</td>\n",
       "      <td>1999.000000</td>\n",
       "      <td>2004.000000</td>\n",
       "      <td>161.500000</td>\n",
       "      <td>708.000000</td>\n",
       "      <td>0.000000</td>\n",
       "      <td>...</td>\n",
       "      <td>168.000000</td>\n",
       "      <td>67.000000</td>\n",
       "      <td>0.000000</td>\n",
       "      <td>0.000000</td>\n",
       "      <td>0.000000</td>\n",
       "      <td>0.000000</td>\n",
       "      <td>0.000000</td>\n",
       "      <td>8.000000</td>\n",
       "      <td>2009.000000</td>\n",
       "      <td>214000.000000</td>\n",
       "    </tr>\n",
       "    <tr>\n",
       "      <th>max</th>\n",
       "      <td>7080.000000</td>\n",
       "      <td>313.000000</td>\n",
       "      <td>215245.000000</td>\n",
       "      <td>10.000000</td>\n",
       "      <td>9.000000</td>\n",
       "      <td>2010.000000</td>\n",
       "      <td>2023.000000</td>\n",
       "      <td>1600.000000</td>\n",
       "      <td>5644.000000</td>\n",
       "      <td>1474.000000</td>\n",
       "      <td>...</td>\n",
       "      <td>857.000000</td>\n",
       "      <td>547.000000</td>\n",
       "      <td>552.000000</td>\n",
       "      <td>508.000000</td>\n",
       "      <td>480.000000</td>\n",
       "      <td>738.000000</td>\n",
       "      <td>15500.000000</td>\n",
       "      <td>12.000000</td>\n",
       "      <td>2010.000000</td>\n",
       "      <td>755000.000000</td>\n",
       "    </tr>\n",
       "  </tbody>\n",
       "</table>\n",
       "<p>8 rows × 37 columns</p>\n",
       "</div>"
      ],
      "text/plain": [
       "        Dwell_Type  LotFrontage        LotArea  OverallQual  OverallCond  \\\n",
       "count  2073.000000  1753.000000    2073.000000  2073.000000  2073.000000   \n",
       "mean     60.556199    72.056475   10717.853353     6.233478     5.835022   \n",
       "std     159.924810    27.987475    9215.982306     1.517115     1.360214   \n",
       "min      20.000000    21.000000    1300.000000     1.000000     1.000000   \n",
       "25%      20.000000    60.000000    7620.000000     5.000000     5.000000   \n",
       "50%      50.000000    70.000000    9492.000000     6.000000     5.000000   \n",
       "75%      70.000000    83.000000   11601.000000     7.000000     7.000000   \n",
       "max    7080.000000   313.000000  215245.000000    10.000000     9.000000   \n",
       "\n",
       "         YearBuilt  YearRemodAdd   MasVnrArea   BsmtFinSF1   BsmtFinSF2  ...  \\\n",
       "count  2073.000000   2073.000000  2059.000000  2073.000000  2073.000000  ...   \n",
       "mean   1969.445731   1986.617463   101.875668   437.949349    49.219489  ...   \n",
       "std      30.222647     20.432694   179.169217   448.051119   165.621465  ...   \n",
       "min    1872.000000   1950.000000     0.000000     0.000000     0.000000  ...   \n",
       "25%    1950.000000   1970.000000     0.000000     0.000000     0.000000  ...   \n",
       "50%    1971.000000   1995.000000     0.000000   381.000000     0.000000  ...   \n",
       "75%    1999.000000   2004.000000   161.500000   708.000000     0.000000  ...   \n",
       "max    2010.000000   2023.000000  1600.000000  5644.000000  1474.000000  ...   \n",
       "\n",
       "        WoodDeckSF  OpenPorchSF  EnclosedPorch    3SsnPorch  ScreenPorch  \\\n",
       "count  2073.000000  2073.000000    2073.000000  2073.000000  2073.000000   \n",
       "mean     94.168837    46.035697      21.029908     2.979257    14.552340   \n",
       "std     129.072113    64.768713      59.569928    26.817218    54.099626   \n",
       "min       0.000000     0.000000       0.000000     0.000000     0.000000   \n",
       "25%       0.000000     0.000000       0.000000     0.000000     0.000000   \n",
       "50%       0.000000    24.000000       0.000000     0.000000     0.000000   \n",
       "75%     168.000000    67.000000       0.000000     0.000000     0.000000   \n",
       "max     857.000000   547.000000     552.000000   508.000000   480.000000   \n",
       "\n",
       "          PoolArea       MiscVal       MoSold       YrSold  \\\n",
       "count  2073.000000   2073.000000  2073.000000  2073.000000   \n",
       "mean      2.299083     39.736614     6.287506  2007.851905   \n",
       "std      37.411031    429.819512     2.690130     1.329705   \n",
       "min       0.000000      0.000000     1.000000  2006.000000   \n",
       "25%       0.000000      0.000000     5.000000  2007.000000   \n",
       "50%       0.000000      0.000000     6.000000  2008.000000   \n",
       "75%       0.000000      0.000000     8.000000  2009.000000   \n",
       "max     738.000000  15500.000000    12.000000  2010.000000   \n",
       "\n",
       "       Property_Sale_Price  \n",
       "count          2073.000000  \n",
       "mean         180967.284129  \n",
       "std           78666.411112  \n",
       "min           34900.000000  \n",
       "25%          130000.000000  \n",
       "50%          163990.000000  \n",
       "75%          214000.000000  \n",
       "max          755000.000000  \n",
       "\n",
       "[8 rows x 37 columns]"
      ]
     },
     "execution_count": 5,
     "metadata": {},
     "output_type": "execute_result"
    }
   ],
   "source": [
    "data.describe()"
   ]
  },
  {
   "cell_type": "code",
   "execution_count": 6,
   "id": "2b53159a",
   "metadata": {},
   "outputs": [
    {
     "data": {
      "text/plain": [
       "Dwell_Type               0\n",
       "Zone_Class               0\n",
       "LotFrontage            320\n",
       "LotArea                  0\n",
       "Road_Type                0\n",
       "                      ... \n",
       "MoSold                   0\n",
       "YrSold                   0\n",
       "SaleType                 0\n",
       "SaleCondition            0\n",
       "Property_Sale_Price      0\n",
       "Length: 80, dtype: int64"
      ]
     },
     "execution_count": 6,
     "metadata": {},
     "output_type": "execute_result"
    }
   ],
   "source": [
    "data.isnull().sum()"
   ]
  },
  {
   "cell_type": "code",
   "execution_count": 7,
   "id": "fae15a50",
   "metadata": {},
   "outputs": [
    {
     "data": {
      "text/plain": [
       "Index(['Dwell_Type', 'Zone_Class', 'LotFrontage', 'LotArea', 'Road_Type',\n",
       "       'Alley', 'Property_Shape', 'LandContour', 'Utilities', 'LotConfig',\n",
       "       'LandSlope', 'Neighborhood', 'Condition1', 'Condition2',\n",
       "       'Dwelling_Type', 'HouseStyle', 'OverallQual', 'OverallCond',\n",
       "       'YearBuilt', 'YearRemodAdd', 'RoofStyle', 'RoofMatl', 'Exterior1st',\n",
       "       'Exterior2nd', 'MasVnrType', 'MasVnrArea', 'ExterQual', 'ExterCond',\n",
       "       'Foundation', 'BsmtQual', 'BsmtCond', 'BsmtExposure', 'BsmtFinType1',\n",
       "       'BsmtFinSF1', 'BsmtFinType2', 'BsmtFinSF2', 'BsmtUnfSF', 'TotalBsmtSF',\n",
       "       'Heating', 'HeatingQC', 'CentralAir', 'Electrical', '1stFlrSF',\n",
       "       '2ndFlrSF', 'LowQualFinSF', 'GrLivArea', 'BsmtFullBath', 'BsmtHalfBath',\n",
       "       'FullBath', 'HalfBath', 'BedroomAbvGr', 'KitchenAbvGr', 'KitchenQual',\n",
       "       'TotRmsAbvGrd', 'Functional', 'Fireplaces', 'FireplaceQu', 'GarageType',\n",
       "       'GarageYrBlt', 'GarageFinish', 'GarageCars', 'GarageArea', 'GarageQual',\n",
       "       'GarageCond', 'PavedDrive', 'WoodDeckSF', 'OpenPorchSF',\n",
       "       'EnclosedPorch', '3SsnPorch', 'ScreenPorch', 'PoolArea', 'PoolQC',\n",
       "       'Fence', 'MiscFeature', 'MiscVal', 'MoSold', 'YrSold', 'SaleType',\n",
       "       'SaleCondition', 'Property_Sale_Price'],\n",
       "      dtype='object')"
      ]
     },
     "execution_count": 7,
     "metadata": {},
     "output_type": "execute_result"
    }
   ],
   "source": [
    "col=data.columns\n",
    "\n",
    "col"
   ]
  },
  {
   "cell_type": "code",
   "execution_count": 8,
   "id": "79a732a2",
   "metadata": {},
   "outputs": [
    {
     "name": "stdout",
     "output_type": "stream",
     "text": [
      "LotFrontage 320\n",
      "Alley 1944\n",
      "MasVnrType 14\n",
      "MasVnrArea 14\n",
      "BsmtQual 59\n",
      "BsmtCond 59\n",
      "BsmtExposure 61\n",
      "BsmtFinType1 59\n",
      "BsmtFinType2 60\n",
      "Electrical 1\n",
      "FireplaceQu 988\n",
      "GarageType 113\n",
      "GarageYrBlt 113\n",
      "GarageFinish 113\n",
      "GarageQual 113\n",
      "GarageCond 113\n",
      "PoolQC 2065\n",
      "Fence 1669\n",
      "MiscFeature 1993\n"
     ]
    }
   ],
   "source": [
    "null=[]\n",
    "for i in col:\n",
    "    if data[i].isnull().sum() != 0:\n",
    "        null.append(i)\n",
    "        print(i,data[i].isnull().sum())"
   ]
  },
  {
   "cell_type": "code",
   "execution_count": 9,
   "id": "b68f0a4e",
   "metadata": {
    "scrolled": true
   },
   "outputs": [
    {
     "data": {
      "text/plain": [
       "['LotFrontage',\n",
       " 'Alley',\n",
       " 'MasVnrType',\n",
       " 'MasVnrArea',\n",
       " 'BsmtQual',\n",
       " 'BsmtCond',\n",
       " 'BsmtExposure',\n",
       " 'BsmtFinType1',\n",
       " 'BsmtFinType2',\n",
       " 'Electrical',\n",
       " 'FireplaceQu',\n",
       " 'GarageType',\n",
       " 'GarageYrBlt',\n",
       " 'GarageFinish',\n",
       " 'GarageQual',\n",
       " 'GarageCond',\n",
       " 'PoolQC',\n",
       " 'Fence',\n",
       " 'MiscFeature']"
      ]
     },
     "execution_count": 9,
     "metadata": {},
     "output_type": "execute_result"
    }
   ],
   "source": [
    "null"
   ]
  },
  {
   "cell_type": "code",
   "execution_count": 10,
   "id": "b4388fe6",
   "metadata": {},
   "outputs": [
    {
     "name": "stdout",
     "output_type": "stream",
     "text": [
      "display(' LotFrontage ')  ,display(data['LotFrontage'].unique())\n",
      "display(' Alley ')  ,display(data['Alley'].unique())\n",
      "display(' MasVnrType ')  ,display(data['MasVnrType'].unique())\n",
      "display(' MasVnrArea ')  ,display(data['MasVnrArea'].unique())\n",
      "display(' BsmtQual ')  ,display(data['BsmtQual'].unique())\n",
      "display(' BsmtCond ')  ,display(data['BsmtCond'].unique())\n",
      "display(' BsmtExposure ')  ,display(data['BsmtExposure'].unique())\n",
      "display(' BsmtFinType1 ')  ,display(data['BsmtFinType1'].unique())\n",
      "display(' BsmtFinType2 ')  ,display(data['BsmtFinType2'].unique())\n",
      "display(' Electrical ')  ,display(data['Electrical'].unique())\n",
      "display(' FireplaceQu ')  ,display(data['FireplaceQu'].unique())\n",
      "display(' GarageType ')  ,display(data['GarageType'].unique())\n",
      "display(' GarageYrBlt ')  ,display(data['GarageYrBlt'].unique())\n",
      "display(' GarageFinish ')  ,display(data['GarageFinish'].unique())\n",
      "display(' GarageQual ')  ,display(data['GarageQual'].unique())\n",
      "display(' GarageCond ')  ,display(data['GarageCond'].unique())\n",
      "display(' PoolQC ')  ,display(data['PoolQC'].unique())\n",
      "display(' Fence ')  ,display(data['Fence'].unique())\n",
      "display(' MiscFeature ')  ,display(data['MiscFeature'].unique())\n"
     ]
    }
   ],
   "source": []
  },
  {
   "cell_type": "code",
   "execution_count": 11,
   "id": "2cc8e480",
   "metadata": {},
   "outputs": [
    {
     "data": {
      "text/plain": [
       "' LotFrontage '"
      ]
     },
     "metadata": {},
     "output_type": "display_data"
    },
    {
     "data": {
      "text/plain": [
       "array([ 65.,  80.,  68.,  60.,  84.,  85.,  75.,  nan,  51.,  50.,  70.,\n",
       "        91.,  72.,  66., 101.,  57.,  44., 110.,  98.,  47., 108., 112.,\n",
       "        74., 115.,  61.,  48.,  33.,  52., 100.,  24.,  89.,  63.,  76.,\n",
       "        81.,  95.,  69.,  21.,  32.,  78., 121., 122.,  40., 105.,  73.,\n",
       "        77.,  64.,  94.,  34.,  90.,  55.,  88.,  82.,  71., 120., 107.,\n",
       "        92., 134.,  62.,  86., 141.,  97.,  54.,  41.,  79., 174.,  99.,\n",
       "        67.,  83.,  43., 103.,  93.,  30., 129., 140.,  35.,  37., 118.,\n",
       "        87., 116., 150., 111.,  49.,  96.,  59.,  36.,  56., 102.,  58.,\n",
       "        38., 109., 130.,  53., 137.,  45., 106., 104.,  42.,  39., 144.,\n",
       "       114., 128., 149., 313., 168., 182., 138., 160., 152., 124., 153.,\n",
       "        46.])"
      ]
     },
     "metadata": {},
     "output_type": "display_data"
    },
    {
     "data": {
      "text/plain": [
       "' Alley '"
      ]
     },
     "metadata": {},
     "output_type": "display_data"
    },
    {
     "data": {
      "text/plain": [
       "array([nan, 'Grvl', 'Pave'], dtype=object)"
      ]
     },
     "metadata": {},
     "output_type": "display_data"
    },
    {
     "data": {
      "text/plain": [
       "' MasVnrType '"
      ]
     },
     "metadata": {},
     "output_type": "display_data"
    },
    {
     "data": {
      "text/plain": [
       "array(['BrkFace', 'None', 'Stone', 'BrkCmn', nan], dtype=object)"
      ]
     },
     "metadata": {},
     "output_type": "display_data"
    },
    {
     "data": {
      "text/plain": [
       "' MasVnrArea '"
      ]
     },
     "metadata": {},
     "output_type": "display_data"
    },
    {
     "data": {
      "text/plain": [
       "array([1.960e+02, 0.000e+00, 1.620e+02, 3.500e+02, 1.860e+02, 2.400e+02,\n",
       "       2.860e+02, 3.060e+02, 2.120e+02, 1.800e+02, 3.800e+02, 2.810e+02,\n",
       "       6.400e+02, 2.000e+02, 2.460e+02, 1.320e+02, 6.500e+02, 7.500e+01,\n",
       "       4.120e+02, 2.720e+02, 4.560e+02, 1.031e+03, 1.780e+02, 5.730e+02,\n",
       "       3.440e+02, 2.870e+02, 1.670e+02, 1.115e+03, 4.400e+01, 1.040e+02,\n",
       "       5.760e+02, 4.430e+02, 4.680e+02, 5.700e+01, 6.300e+01, 2.840e+02,\n",
       "       4.700e+01, 2.030e+02, 7.700e+01, 1.830e+02, 4.100e+01, 6.900e+01,\n",
       "       3.360e+02, 6.000e+02, 7.680e+02, 4.800e+02, 2.200e+02, 1.840e+02,\n",
       "       1.129e+03, 1.160e+02, 1.350e+02, 2.660e+02, 5.800e+01, 3.090e+02,\n",
       "       1.360e+02, 2.880e+02, 8.300e+01, 3.200e+02, 5.400e+01, 1.200e+02,\n",
       "       4.360e+02, 2.520e+02, 3.800e+01, 6.640e+02, 2.260e+02, 3.000e+02,\n",
       "       6.530e+02, 1.120e+02, 4.910e+02, 2.680e+02, 7.480e+02, 6.700e+01,\n",
       "       2.750e+02, 1.380e+02, 2.500e+01, 2.050e+02, 2.620e+02, 1.280e+02,\n",
       "       2.600e+02, 1.530e+02, 2.600e+01, 3.120e+02, 8.900e+01, 9.220e+02,\n",
       "       1.420e+02, 2.900e+02, 1.270e+02, 7.600e+01, 5.060e+02, 2.970e+02,\n",
       "             nan, 6.040e+02, 7.800e+01, 2.540e+02, 1.020e+02, 4.720e+02,\n",
       "       4.810e+02, 1.080e+02, 3.020e+02, 1.720e+02, 3.990e+02, 2.700e+02,\n",
       "       2.100e+02, 1.740e+02, 3.480e+02, 3.150e+02, 2.990e+02, 3.400e+02,\n",
       "       8.100e+01, 1.660e+02, 4.000e+01, 5.500e+01, 2.380e+02, 1.600e+03,\n",
       "       3.650e+02, 6.100e+01, 1.500e+02, 2.780e+02, 2.560e+02, 2.250e+02,\n",
       "       3.700e+02, 3.880e+02, 1.750e+02, 2.700e+01, 2.960e+02, 1.460e+02,\n",
       "       1.130e+02, 1.760e+02, 6.160e+02, 7.000e+01, 1.060e+02, 8.700e+02,\n",
       "       3.620e+02, 5.300e+02, 5.000e+02, 5.100e+02, 2.470e+02, 3.050e+02,\n",
       "       1.700e+01, 2.800e+01, 2.550e+02, 1.250e+02, 9.700e+01, 4.320e+02,\n",
       "       1.260e+02, 4.730e+02, 1.450e+02, 2.320e+02, 3.760e+02, 2.100e+01,\n",
       "       6.400e+01, 1.610e+02, 1.100e+02, 2.240e+02, 2.480e+02, 3.200e+01,\n",
       "       3.040e+02, 2.150e+02, 7.720e+02, 4.350e+02, 3.780e+02, 5.620e+02,\n",
       "       1.680e+02, 5.200e+01, 2.850e+02, 3.600e+02, 9.900e+01, 3.330e+02,\n",
       "       9.210e+02, 7.620e+02, 5.940e+02, 2.190e+02, 1.880e+02, 4.790e+02,\n",
       "       5.840e+02, 9.200e+01, 1.820e+02, 2.500e+02, 2.920e+02, 9.400e+01,\n",
       "       2.450e+02, 2.070e+02, 3.350e+02, 1.000e+02, 2.080e+02, 4.200e+02,\n",
       "       1.700e+02, 8.700e+01, 4.590e+02, 2.800e+02, 4.600e+01, 1.920e+02,\n",
       "       2.040e+02, 2.330e+02, 1.560e+02, 4.520e+02, 5.130e+02, 2.610e+02,\n",
       "       1.640e+02, 2.590e+02, 2.090e+02, 2.630e+02, 2.160e+02, 3.510e+02,\n",
       "       6.600e+02, 3.810e+02, 4.800e+01, 5.280e+02, 2.580e+02, 4.640e+02,\n",
       "       1.470e+02, 1.170e+03, 2.930e+02, 6.300e+02, 4.660e+02, 1.090e+02,\n",
       "       5.600e+01, 1.600e+02, 2.890e+02, 6.510e+02, 1.690e+02, 4.420e+02,\n",
       "       2.020e+02, 3.380e+02, 8.940e+02, 3.280e+02, 6.730e+02, 1.000e+01,\n",
       "       6.030e+02, 1.000e+00, 3.750e+02, 6.200e+01, 1.570e+02, 1.400e+02,\n",
       "       1.300e+02, 1.480e+02, 8.600e+02, 4.240e+02, 1.047e+03, 2.430e+02,\n",
       "       9.800e+01, 8.160e+02, 3.870e+02, 2.230e+02, 1.580e+02, 1.370e+02,\n",
       "       1.150e+02, 1.890e+02, 3.700e+01, 2.740e+02, 9.000e+01, 1.170e+02,\n",
       "       8.600e+01, 5.100e+01, 1.220e+02, 2.300e+01, 4.150e+02, 7.600e+02,\n",
       "       4.200e+01, 2.400e+01, 3.610e+02, 7.900e+01, 1.050e+02, 3.420e+02,\n",
       "       2.980e+02, 5.410e+02, 2.360e+02, 1.440e+02, 4.230e+02, 4.500e+01,\n",
       "       1.510e+02, 9.750e+02, 4.500e+02, 2.300e+02, 5.710e+02, 3.100e+01,\n",
       "       6.500e+01, 2.060e+02, 5.000e+01, 3.240e+02, 2.950e+02, 3.960e+02,\n",
       "       1.540e+02, 4.250e+02, 3.000e+01, 1.378e+03, 3.370e+02, 1.490e+02,\n",
       "       1.430e+02, 1.710e+02, 2.340e+02, 1.400e+01, 4.900e+01, 6.800e+01,\n",
       "       7.660e+02, 1.630e+02, 5.540e+02, 2.180e+02, 6.320e+02, 1.140e+02,\n",
       "       2.200e+01, 5.670e+02, 3.590e+02, 4.510e+02, 6.210e+02, 7.880e+02,\n",
       "       2.000e+01, 7.960e+02, 3.910e+02, 2.280e+02, 9.100e+01, 1.650e+02,\n",
       "       4.280e+02, 4.100e+02, 5.640e+02, 3.680e+02, 3.180e+02, 5.790e+02,\n",
       "       7.200e+01, 6.600e+01, 9.600e+01, 7.050e+02, 4.080e+02, 2.440e+02,\n",
       "       1.230e+02, 3.660e+02, 7.310e+02, 4.480e+02, 2.940e+02, 3.100e+02,\n",
       "       2.370e+02, 4.260e+02, 4.380e+02, 1.940e+02, 5.900e+01, 1.190e+02,\n",
       "       3.500e+01, 7.300e+01, 6.000e+01, 1.010e+02, 7.100e+01, 9.300e+01,\n",
       "       7.400e+01])"
      ]
     },
     "metadata": {},
     "output_type": "display_data"
    },
    {
     "data": {
      "text/plain": [
       "' BsmtQual '"
      ]
     },
     "metadata": {},
     "output_type": "display_data"
    },
    {
     "data": {
      "text/plain": [
       "array(['Gd', 'TA', 'Ex', nan, 'Fa'], dtype=object)"
      ]
     },
     "metadata": {},
     "output_type": "display_data"
    },
    {
     "data": {
      "text/plain": [
       "' BsmtCond '"
      ]
     },
     "metadata": {},
     "output_type": "display_data"
    },
    {
     "data": {
      "text/plain": [
       "array(['TA', 'Gd', nan, 'Fa', 'Po'], dtype=object)"
      ]
     },
     "metadata": {},
     "output_type": "display_data"
    },
    {
     "data": {
      "text/plain": [
       "' BsmtExposure '"
      ]
     },
     "metadata": {},
     "output_type": "display_data"
    },
    {
     "data": {
      "text/plain": [
       "array(['No', 'Gd', 'Mn', 'Av', nan], dtype=object)"
      ]
     },
     "metadata": {},
     "output_type": "display_data"
    },
    {
     "data": {
      "text/plain": [
       "' BsmtFinType1 '"
      ]
     },
     "metadata": {},
     "output_type": "display_data"
    },
    {
     "data": {
      "text/plain": [
       "array(['GLQ', 'ALQ', 'Unf', 'Rec', 'BLQ', nan, 'LwQ'], dtype=object)"
      ]
     },
     "metadata": {},
     "output_type": "display_data"
    },
    {
     "data": {
      "text/plain": [
       "' BsmtFinType2 '"
      ]
     },
     "metadata": {},
     "output_type": "display_data"
    },
    {
     "data": {
      "text/plain": [
       "array(['Unf', 'BLQ', nan, 'ALQ', 'Rec', 'LwQ', 'GLQ'], dtype=object)"
      ]
     },
     "metadata": {},
     "output_type": "display_data"
    },
    {
     "data": {
      "text/plain": [
       "' Electrical '"
      ]
     },
     "metadata": {},
     "output_type": "display_data"
    },
    {
     "data": {
      "text/plain": [
       "array(['SBrkr', 'FuseF', 'FuseA', 'FuseP', 'Mix', nan], dtype=object)"
      ]
     },
     "metadata": {},
     "output_type": "display_data"
    },
    {
     "data": {
      "text/plain": [
       "' FireplaceQu '"
      ]
     },
     "metadata": {},
     "output_type": "display_data"
    },
    {
     "data": {
      "text/plain": [
       "array([nan, 'TA', 'Gd', 'Fa', 'Ex', 'Po'], dtype=object)"
      ]
     },
     "metadata": {},
     "output_type": "display_data"
    },
    {
     "data": {
      "text/plain": [
       "' GarageType '"
      ]
     },
     "metadata": {},
     "output_type": "display_data"
    },
    {
     "data": {
      "text/plain": [
       "array(['Attchd', 'Detchd', 'BuiltIn', 'CarPort', nan, 'Basment', '2Types'],\n",
       "      dtype=object)"
      ]
     },
     "metadata": {},
     "output_type": "display_data"
    },
    {
     "data": {
      "text/plain": [
       "' GarageYrBlt '"
      ]
     },
     "metadata": {},
     "output_type": "display_data"
    },
    {
     "data": {
      "text/plain": [
       "array([2003., 1976., 2001., 1998., 2000., 1993., 2004., 1973., 1931.,\n",
       "       1939., 1965., 2005., 1962., 2006., 1960., 1991., 1970., 1967.,\n",
       "       1958., 1930., 2002., 1968., 2007., 2008., 1957., 1927., 1920.,\n",
       "       1966., 1959., 1995., 1954., 1953.,   nan, 1983., 1977., 1997.,\n",
       "       1985., 1963., 1981., 1964., 1999., 1935., 1990., 1945., 1987.,\n",
       "       1989., 1915., 1956., 1948., 1974., 2009., 1950., 1961., 1921.,\n",
       "       1910., 1979., 1951., 1969., 1936., 1975., 1971., 1923., 1984.,\n",
       "       1926., 1955., 1986., 1988., 1916., 1932., 1972., 1918., 1980.,\n",
       "       1924., 1996., 1940., 1949., 1994., 1978., 1982., 1992., 1925.,\n",
       "       1941., 2010., 1947., 1937., 1942., 1938., 1952., 1928., 1922.,\n",
       "       1934., 1906., 1914., 1946., 1908., 1929., 1933., 2014., 2017.,\n",
       "       2016., 2013., 2019., 2015.])"
      ]
     },
     "metadata": {},
     "output_type": "display_data"
    },
    {
     "data": {
      "text/plain": [
       "' GarageFinish '"
      ]
     },
     "metadata": {},
     "output_type": "display_data"
    },
    {
     "data": {
      "text/plain": [
       "array(['RFn', 'Unf', 'Fin', nan], dtype=object)"
      ]
     },
     "metadata": {},
     "output_type": "display_data"
    },
    {
     "data": {
      "text/plain": [
       "' GarageQual '"
      ]
     },
     "metadata": {},
     "output_type": "display_data"
    },
    {
     "data": {
      "text/plain": [
       "array(['TA', 'Fa', 'Gd', nan, 'Ex', 'Po'], dtype=object)"
      ]
     },
     "metadata": {},
     "output_type": "display_data"
    },
    {
     "data": {
      "text/plain": [
       "' GarageCond '"
      ]
     },
     "metadata": {},
     "output_type": "display_data"
    },
    {
     "data": {
      "text/plain": [
       "array(['TA', 'Fa', nan, 'Gd', 'Po', 'Ex'], dtype=object)"
      ]
     },
     "metadata": {},
     "output_type": "display_data"
    },
    {
     "data": {
      "text/plain": [
       "' PoolQC '"
      ]
     },
     "metadata": {},
     "output_type": "display_data"
    },
    {
     "data": {
      "text/plain": [
       "array([nan, 'Ex', 'Fa', 'Gd'], dtype=object)"
      ]
     },
     "metadata": {},
     "output_type": "display_data"
    },
    {
     "data": {
      "text/plain": [
       "' Fence '"
      ]
     },
     "metadata": {},
     "output_type": "display_data"
    },
    {
     "data": {
      "text/plain": [
       "array([nan, 'MnPrv', 'GdWo', 'GdPrv', 'MnWw'], dtype=object)"
      ]
     },
     "metadata": {},
     "output_type": "display_data"
    },
    {
     "data": {
      "text/plain": [
       "' MiscFeature '"
      ]
     },
     "metadata": {},
     "output_type": "display_data"
    },
    {
     "data": {
      "text/plain": [
       "array([nan, 'Shed', 'Gar2', 'Othr', 'TenC'], dtype=object)"
      ]
     },
     "metadata": {},
     "output_type": "display_data"
    },
    {
     "data": {
      "text/plain": [
       "(None, None)"
      ]
     },
     "execution_count": 11,
     "metadata": {},
     "output_type": "execute_result"
    }
   ],
   "source": [
    "display(' LotFrontage ')  ,display(data['LotFrontage'].unique())\n",
    "display(' Alley ')  ,display(data['Alley'].unique())\n",
    "display(' MasVnrType ')  ,display(data['MasVnrType'].unique())\n",
    "display(' MasVnrArea ')  ,display(data['MasVnrArea'].unique())\n",
    "display(' BsmtQual ')  ,display(data['BsmtQual'].unique())\n",
    "display(' BsmtCond ')  ,display(data['BsmtCond'].unique())\n",
    "display(' BsmtExposure ')  ,display(data['BsmtExposure'].unique())\n",
    "display(' BsmtFinType1 ')  ,display(data['BsmtFinType1'].unique())\n",
    "display(' BsmtFinType2 ')  ,display(data['BsmtFinType2'].unique())\n",
    "display(' Electrical ')  ,display(data['Electrical'].unique())\n",
    "display(' FireplaceQu ')  ,display(data['FireplaceQu'].unique())\n",
    "display(' GarageType ')  ,display(data['GarageType'].unique())\n",
    "display(' GarageYrBlt ')  ,display(data['GarageYrBlt'].unique())\n",
    "display(' GarageFinish ')  ,display(data['GarageFinish'].unique())\n",
    "display(' GarageQual ')  ,display(data['GarageQual'].unique())\n",
    "display(' GarageCond ')  ,display(data['GarageCond'].unique())\n",
    "display(' PoolQC ')  ,display(data['PoolQC'].unique())\n",
    "display(' Fence ')  ,display(data['Fence'].unique())\n",
    "display(' MiscFeature ')  ,display(data['MiscFeature'].unique())"
   ]
  },
  {
   "cell_type": "code",
   "execution_count": 12,
   "id": "20935550",
   "metadata": {},
   "outputs": [],
   "source": [
    "data.LotFrontage.fillna(data.LotFrontage.median(),inplace=True)\n",
    "data.Alley.fillna(data.Alley.mode().max(),inplace=True)\n",
    "data. MasVnrType.fillna(data. MasVnrType.mode().max(),inplace=True)\n",
    "data.MasVnrArea.fillna(data.MasVnrArea.median(),inplace=True)\n",
    "data.BsmtQual.fillna(data.BsmtQual.mode().max(),inplace=True)\n",
    "data.BsmtCond.fillna(data.BsmtCond.mode().max(),inplace=True)\n",
    "data.BsmtExposure.fillna(data.BsmtExposure.mode().max(),inplace=True)\n",
    "data.BsmtFinType1.fillna(data.BsmtFinType1.mode().max(),inplace=True)\n",
    "data.BsmtFinType2.fillna(data.BsmtFinType2.mode().max(),inplace=True)\n",
    "data.Electrical.fillna(data.Electrical.mode().max(),inplace=True)\n",
    "data.GarageType.fillna(data.GarageType.mode().max(),inplace=True)\n",
    "data.GarageYrBlt.fillna(data.GarageYrBlt.mode().max(),inplace=True)\n",
    "data.GarageFinish.fillna(data.GarageFinish.mode().max(),inplace=True)\n",
    "data.GarageQual.fillna(data.GarageQual.mode().max(),inplace=True)\n",
    "data.GarageCond.fillna(data.GarageCond.mode().max(),inplace=True)\n",
    "data.PoolQC.fillna(data.PoolQC.mode().max(),inplace=True)\n",
    "data.Fence.fillna(data.Fence.mode().max(),inplace=True)\n",
    "data.MiscFeature.fillna(data.MiscFeature.mode().max(),inplace=True)\n",
    "data.FireplaceQu.fillna(data.FireplaceQu.mode().max(),inplace=True)\n",
    "\n"
   ]
  },
  {
   "cell_type": "code",
   "execution_count": 13,
   "id": "836ab54a",
   "metadata": {},
   "outputs": [
    {
     "data": {
      "text/plain": [
       "Dwell_Type             0\n",
       "Zone_Class             0\n",
       "LotFrontage            0\n",
       "LotArea                0\n",
       "Road_Type              0\n",
       "                      ..\n",
       "MoSold                 0\n",
       "YrSold                 0\n",
       "SaleType               0\n",
       "SaleCondition          0\n",
       "Property_Sale_Price    0\n",
       "Length: 80, dtype: int64"
      ]
     },
     "execution_count": 13,
     "metadata": {},
     "output_type": "execute_result"
    }
   ],
   "source": [
    "data.isnull().sum()"
   ]
  },
  {
   "cell_type": "code",
   "execution_count": 14,
   "id": "62690fe4",
   "metadata": {},
   "outputs": [
    {
     "data": {
      "text/html": [
       "<div>\n",
       "<style scoped>\n",
       "    .dataframe tbody tr th:only-of-type {\n",
       "        vertical-align: middle;\n",
       "    }\n",
       "\n",
       "    .dataframe tbody tr th {\n",
       "        vertical-align: top;\n",
       "    }\n",
       "\n",
       "    .dataframe thead th {\n",
       "        text-align: right;\n",
       "    }\n",
       "</style>\n",
       "<table border=\"1\" class=\"dataframe\">\n",
       "  <thead>\n",
       "    <tr style=\"text-align: right;\">\n",
       "      <th></th>\n",
       "      <th>Dwell_Type</th>\n",
       "      <th>LotFrontage</th>\n",
       "      <th>LotArea</th>\n",
       "      <th>OverallQual</th>\n",
       "      <th>OverallCond</th>\n",
       "      <th>YearBuilt</th>\n",
       "      <th>YearRemodAdd</th>\n",
       "      <th>MasVnrArea</th>\n",
       "      <th>BsmtFinSF1</th>\n",
       "      <th>BsmtFinSF2</th>\n",
       "      <th>...</th>\n",
       "      <th>WoodDeckSF</th>\n",
       "      <th>OpenPorchSF</th>\n",
       "      <th>EnclosedPorch</th>\n",
       "      <th>3SsnPorch</th>\n",
       "      <th>ScreenPorch</th>\n",
       "      <th>PoolArea</th>\n",
       "      <th>MiscVal</th>\n",
       "      <th>MoSold</th>\n",
       "      <th>YrSold</th>\n",
       "      <th>Property_Sale_Price</th>\n",
       "    </tr>\n",
       "  </thead>\n",
       "  <tbody>\n",
       "    <tr>\n",
       "      <th>count</th>\n",
       "      <td>2073.000000</td>\n",
       "      <td>2073.000000</td>\n",
       "      <td>2073.000000</td>\n",
       "      <td>2073.000000</td>\n",
       "      <td>2073.000000</td>\n",
       "      <td>2073.000000</td>\n",
       "      <td>2073.000000</td>\n",
       "      <td>2073.000000</td>\n",
       "      <td>2073.000000</td>\n",
       "      <td>2073.000000</td>\n",
       "      <td>...</td>\n",
       "      <td>2073.000000</td>\n",
       "      <td>2073.000000</td>\n",
       "      <td>2073.000000</td>\n",
       "      <td>2073.000000</td>\n",
       "      <td>2073.000000</td>\n",
       "      <td>2073.000000</td>\n",
       "      <td>2073.000000</td>\n",
       "      <td>2073.000000</td>\n",
       "      <td>2073.000000</td>\n",
       "      <td>2073.000000</td>\n",
       "    </tr>\n",
       "    <tr>\n",
       "      <th>mean</th>\n",
       "      <td>60.556199</td>\n",
       "      <td>71.739026</td>\n",
       "      <td>10717.853353</td>\n",
       "      <td>6.233478</td>\n",
       "      <td>5.835022</td>\n",
       "      <td>1969.445731</td>\n",
       "      <td>1986.617463</td>\n",
       "      <td>101.187651</td>\n",
       "      <td>437.949349</td>\n",
       "      <td>49.219489</td>\n",
       "      <td>...</td>\n",
       "      <td>94.168837</td>\n",
       "      <td>46.035697</td>\n",
       "      <td>21.029908</td>\n",
       "      <td>2.979257</td>\n",
       "      <td>14.552340</td>\n",
       "      <td>2.299083</td>\n",
       "      <td>39.736614</td>\n",
       "      <td>6.287506</td>\n",
       "      <td>2007.851905</td>\n",
       "      <td>180967.284129</td>\n",
       "    </tr>\n",
       "    <tr>\n",
       "      <th>std</th>\n",
       "      <td>159.924810</td>\n",
       "      <td>25.746423</td>\n",
       "      <td>9215.982306</td>\n",
       "      <td>1.517115</td>\n",
       "      <td>1.360214</td>\n",
       "      <td>30.222647</td>\n",
       "      <td>20.432694</td>\n",
       "      <td>178.757820</td>\n",
       "      <td>448.051119</td>\n",
       "      <td>165.621465</td>\n",
       "      <td>...</td>\n",
       "      <td>129.072113</td>\n",
       "      <td>64.768713</td>\n",
       "      <td>59.569928</td>\n",
       "      <td>26.817218</td>\n",
       "      <td>54.099626</td>\n",
       "      <td>37.411031</td>\n",
       "      <td>429.819512</td>\n",
       "      <td>2.690130</td>\n",
       "      <td>1.329705</td>\n",
       "      <td>78666.411112</td>\n",
       "    </tr>\n",
       "    <tr>\n",
       "      <th>min</th>\n",
       "      <td>20.000000</td>\n",
       "      <td>21.000000</td>\n",
       "      <td>1300.000000</td>\n",
       "      <td>1.000000</td>\n",
       "      <td>1.000000</td>\n",
       "      <td>1872.000000</td>\n",
       "      <td>1950.000000</td>\n",
       "      <td>0.000000</td>\n",
       "      <td>0.000000</td>\n",
       "      <td>0.000000</td>\n",
       "      <td>...</td>\n",
       "      <td>0.000000</td>\n",
       "      <td>0.000000</td>\n",
       "      <td>0.000000</td>\n",
       "      <td>0.000000</td>\n",
       "      <td>0.000000</td>\n",
       "      <td>0.000000</td>\n",
       "      <td>0.000000</td>\n",
       "      <td>1.000000</td>\n",
       "      <td>2006.000000</td>\n",
       "      <td>34900.000000</td>\n",
       "    </tr>\n",
       "    <tr>\n",
       "      <th>25%</th>\n",
       "      <td>20.000000</td>\n",
       "      <td>60.000000</td>\n",
       "      <td>7620.000000</td>\n",
       "      <td>5.000000</td>\n",
       "      <td>5.000000</td>\n",
       "      <td>1950.000000</td>\n",
       "      <td>1970.000000</td>\n",
       "      <td>0.000000</td>\n",
       "      <td>0.000000</td>\n",
       "      <td>0.000000</td>\n",
       "      <td>...</td>\n",
       "      <td>0.000000</td>\n",
       "      <td>0.000000</td>\n",
       "      <td>0.000000</td>\n",
       "      <td>0.000000</td>\n",
       "      <td>0.000000</td>\n",
       "      <td>0.000000</td>\n",
       "      <td>0.000000</td>\n",
       "      <td>5.000000</td>\n",
       "      <td>2007.000000</td>\n",
       "      <td>130000.000000</td>\n",
       "    </tr>\n",
       "    <tr>\n",
       "      <th>50%</th>\n",
       "      <td>50.000000</td>\n",
       "      <td>70.000000</td>\n",
       "      <td>9492.000000</td>\n",
       "      <td>6.000000</td>\n",
       "      <td>5.000000</td>\n",
       "      <td>1971.000000</td>\n",
       "      <td>1995.000000</td>\n",
       "      <td>0.000000</td>\n",
       "      <td>381.000000</td>\n",
       "      <td>0.000000</td>\n",
       "      <td>...</td>\n",
       "      <td>0.000000</td>\n",
       "      <td>24.000000</td>\n",
       "      <td>0.000000</td>\n",
       "      <td>0.000000</td>\n",
       "      <td>0.000000</td>\n",
       "      <td>0.000000</td>\n",
       "      <td>0.000000</td>\n",
       "      <td>6.000000</td>\n",
       "      <td>2008.000000</td>\n",
       "      <td>163990.000000</td>\n",
       "    </tr>\n",
       "    <tr>\n",
       "      <th>75%</th>\n",
       "      <td>70.000000</td>\n",
       "      <td>80.000000</td>\n",
       "      <td>11601.000000</td>\n",
       "      <td>7.000000</td>\n",
       "      <td>7.000000</td>\n",
       "      <td>1999.000000</td>\n",
       "      <td>2004.000000</td>\n",
       "      <td>160.000000</td>\n",
       "      <td>708.000000</td>\n",
       "      <td>0.000000</td>\n",
       "      <td>...</td>\n",
       "      <td>168.000000</td>\n",
       "      <td>67.000000</td>\n",
       "      <td>0.000000</td>\n",
       "      <td>0.000000</td>\n",
       "      <td>0.000000</td>\n",
       "      <td>0.000000</td>\n",
       "      <td>0.000000</td>\n",
       "      <td>8.000000</td>\n",
       "      <td>2009.000000</td>\n",
       "      <td>214000.000000</td>\n",
       "    </tr>\n",
       "    <tr>\n",
       "      <th>max</th>\n",
       "      <td>7080.000000</td>\n",
       "      <td>313.000000</td>\n",
       "      <td>215245.000000</td>\n",
       "      <td>10.000000</td>\n",
       "      <td>9.000000</td>\n",
       "      <td>2010.000000</td>\n",
       "      <td>2023.000000</td>\n",
       "      <td>1600.000000</td>\n",
       "      <td>5644.000000</td>\n",
       "      <td>1474.000000</td>\n",
       "      <td>...</td>\n",
       "      <td>857.000000</td>\n",
       "      <td>547.000000</td>\n",
       "      <td>552.000000</td>\n",
       "      <td>508.000000</td>\n",
       "      <td>480.000000</td>\n",
       "      <td>738.000000</td>\n",
       "      <td>15500.000000</td>\n",
       "      <td>12.000000</td>\n",
       "      <td>2010.000000</td>\n",
       "      <td>755000.000000</td>\n",
       "    </tr>\n",
       "  </tbody>\n",
       "</table>\n",
       "<p>8 rows × 37 columns</p>\n",
       "</div>"
      ],
      "text/plain": [
       "        Dwell_Type  LotFrontage        LotArea  OverallQual  OverallCond  \\\n",
       "count  2073.000000  2073.000000    2073.000000  2073.000000  2073.000000   \n",
       "mean     60.556199    71.739026   10717.853353     6.233478     5.835022   \n",
       "std     159.924810    25.746423    9215.982306     1.517115     1.360214   \n",
       "min      20.000000    21.000000    1300.000000     1.000000     1.000000   \n",
       "25%      20.000000    60.000000    7620.000000     5.000000     5.000000   \n",
       "50%      50.000000    70.000000    9492.000000     6.000000     5.000000   \n",
       "75%      70.000000    80.000000   11601.000000     7.000000     7.000000   \n",
       "max    7080.000000   313.000000  215245.000000    10.000000     9.000000   \n",
       "\n",
       "         YearBuilt  YearRemodAdd   MasVnrArea   BsmtFinSF1   BsmtFinSF2  ...  \\\n",
       "count  2073.000000   2073.000000  2073.000000  2073.000000  2073.000000  ...   \n",
       "mean   1969.445731   1986.617463   101.187651   437.949349    49.219489  ...   \n",
       "std      30.222647     20.432694   178.757820   448.051119   165.621465  ...   \n",
       "min    1872.000000   1950.000000     0.000000     0.000000     0.000000  ...   \n",
       "25%    1950.000000   1970.000000     0.000000     0.000000     0.000000  ...   \n",
       "50%    1971.000000   1995.000000     0.000000   381.000000     0.000000  ...   \n",
       "75%    1999.000000   2004.000000   160.000000   708.000000     0.000000  ...   \n",
       "max    2010.000000   2023.000000  1600.000000  5644.000000  1474.000000  ...   \n",
       "\n",
       "        WoodDeckSF  OpenPorchSF  EnclosedPorch    3SsnPorch  ScreenPorch  \\\n",
       "count  2073.000000  2073.000000    2073.000000  2073.000000  2073.000000   \n",
       "mean     94.168837    46.035697      21.029908     2.979257    14.552340   \n",
       "std     129.072113    64.768713      59.569928    26.817218    54.099626   \n",
       "min       0.000000     0.000000       0.000000     0.000000     0.000000   \n",
       "25%       0.000000     0.000000       0.000000     0.000000     0.000000   \n",
       "50%       0.000000    24.000000       0.000000     0.000000     0.000000   \n",
       "75%     168.000000    67.000000       0.000000     0.000000     0.000000   \n",
       "max     857.000000   547.000000     552.000000   508.000000   480.000000   \n",
       "\n",
       "          PoolArea       MiscVal       MoSold       YrSold  \\\n",
       "count  2073.000000   2073.000000  2073.000000  2073.000000   \n",
       "mean      2.299083     39.736614     6.287506  2007.851905   \n",
       "std      37.411031    429.819512     2.690130     1.329705   \n",
       "min       0.000000      0.000000     1.000000  2006.000000   \n",
       "25%       0.000000      0.000000     5.000000  2007.000000   \n",
       "50%       0.000000      0.000000     6.000000  2008.000000   \n",
       "75%       0.000000      0.000000     8.000000  2009.000000   \n",
       "max     738.000000  15500.000000    12.000000  2010.000000   \n",
       "\n",
       "       Property_Sale_Price  \n",
       "count          2073.000000  \n",
       "mean         180967.284129  \n",
       "std           78666.411112  \n",
       "min           34900.000000  \n",
       "25%          130000.000000  \n",
       "50%          163990.000000  \n",
       "75%          214000.000000  \n",
       "max          755000.000000  \n",
       "\n",
       "[8 rows x 37 columns]"
      ]
     },
     "execution_count": 14,
     "metadata": {},
     "output_type": "execute_result"
    }
   ],
   "source": [
    "data.describe()"
   ]
  },
  {
   "cell_type": "code",
   "execution_count": 15,
   "id": "80183e8b",
   "metadata": {},
   "outputs": [
    {
     "name": "stdout",
     "output_type": "stream",
     "text": [
      "<class 'pandas.core.frame.DataFrame'>\n",
      "RangeIndex: 2073 entries, 0 to 2072\n",
      "Data columns (total 80 columns):\n",
      " #   Column               Non-Null Count  Dtype  \n",
      "---  ------               --------------  -----  \n",
      " 0   Dwell_Type           2073 non-null   int64  \n",
      " 1   Zone_Class           2073 non-null   object \n",
      " 2   LotFrontage          2073 non-null   float64\n",
      " 3   LotArea              2073 non-null   int64  \n",
      " 4   Road_Type            2073 non-null   object \n",
      " 5   Alley                2073 non-null   object \n",
      " 6   Property_Shape       2073 non-null   object \n",
      " 7   LandContour          2073 non-null   object \n",
      " 8   Utilities            2073 non-null   object \n",
      " 9   LotConfig            2073 non-null   object \n",
      " 10  LandSlope            2073 non-null   object \n",
      " 11  Neighborhood         2073 non-null   object \n",
      " 12  Condition1           2073 non-null   object \n",
      " 13  Condition2           2073 non-null   object \n",
      " 14  Dwelling_Type        2073 non-null   object \n",
      " 15  HouseStyle           2073 non-null   object \n",
      " 16  OverallQual          2073 non-null   int64  \n",
      " 17  OverallCond          2073 non-null   int64  \n",
      " 18  YearBuilt            2073 non-null   int64  \n",
      " 19  YearRemodAdd         2073 non-null   int64  \n",
      " 20  RoofStyle            2073 non-null   object \n",
      " 21  RoofMatl             2073 non-null   object \n",
      " 22  Exterior1st          2073 non-null   object \n",
      " 23  Exterior2nd          2073 non-null   object \n",
      " 24  MasVnrType           2073 non-null   object \n",
      " 25  MasVnrArea           2073 non-null   float64\n",
      " 26  ExterQual            2073 non-null   object \n",
      " 27  ExterCond            2073 non-null   object \n",
      " 28  Foundation           2073 non-null   object \n",
      " 29  BsmtQual             2073 non-null   object \n",
      " 30  BsmtCond             2073 non-null   object \n",
      " 31  BsmtExposure         2073 non-null   object \n",
      " 32  BsmtFinType1         2073 non-null   object \n",
      " 33  BsmtFinSF1           2073 non-null   int64  \n",
      " 34  BsmtFinType2         2073 non-null   object \n",
      " 35  BsmtFinSF2           2073 non-null   int64  \n",
      " 36  BsmtUnfSF            2073 non-null   int64  \n",
      " 37  TotalBsmtSF          2073 non-null   int64  \n",
      " 38  Heating              2073 non-null   object \n",
      " 39  HeatingQC            2073 non-null   object \n",
      " 40  CentralAir           2073 non-null   object \n",
      " 41  Electrical           2073 non-null   object \n",
      " 42  1stFlrSF             2073 non-null   int64  \n",
      " 43  2ndFlrSF             2073 non-null   int64  \n",
      " 44  LowQualFinSF         2073 non-null   int64  \n",
      " 45  GrLivArea            2073 non-null   int64  \n",
      " 46  BsmtFullBath         2073 non-null   int64  \n",
      " 47  BsmtHalfBath         2073 non-null   int64  \n",
      " 48  FullBath             2073 non-null   int64  \n",
      " 49  HalfBath             2073 non-null   int64  \n",
      " 50  BedroomAbvGr         2073 non-null   int64  \n",
      " 51  KitchenAbvGr         2073 non-null   int64  \n",
      " 52  KitchenQual          2073 non-null   object \n",
      " 53  TotRmsAbvGrd         2073 non-null   int64  \n",
      " 54  Functional           2073 non-null   object \n",
      " 55  Fireplaces           2073 non-null   int64  \n",
      " 56  FireplaceQu          2073 non-null   object \n",
      " 57  GarageType           2073 non-null   object \n",
      " 58  GarageYrBlt          2073 non-null   float64\n",
      " 59  GarageFinish         2073 non-null   object \n",
      " 60  GarageCars           2073 non-null   int64  \n",
      " 61  GarageArea           2073 non-null   int64  \n",
      " 62  GarageQual           2073 non-null   object \n",
      " 63  GarageCond           2073 non-null   object \n",
      " 64  PavedDrive           2073 non-null   object \n",
      " 65  WoodDeckSF           2073 non-null   int64  \n",
      " 66  OpenPorchSF          2073 non-null   int64  \n",
      " 67  EnclosedPorch        2073 non-null   int64  \n",
      " 68  3SsnPorch            2073 non-null   int64  \n",
      " 69  ScreenPorch          2073 non-null   int64  \n",
      " 70  PoolArea             2073 non-null   int64  \n",
      " 71  PoolQC               2073 non-null   object \n",
      " 72  Fence                2073 non-null   object \n",
      " 73  MiscFeature          2073 non-null   object \n",
      " 74  MiscVal              2073 non-null   int64  \n",
      " 75  MoSold               2073 non-null   int64  \n",
      " 76  YrSold               2073 non-null   int64  \n",
      " 77  SaleType             2073 non-null   object \n",
      " 78  SaleCondition        2073 non-null   object \n",
      " 79  Property_Sale_Price  2073 non-null   int64  \n",
      "dtypes: float64(3), int64(34), object(43)\n",
      "memory usage: 1.3+ MB\n"
     ]
    }
   ],
   "source": [
    "data.info()"
   ]
  },
  {
   "cell_type": "code",
   "execution_count": null,
   "id": "3d2342d9",
   "metadata": {},
   "outputs": [],
   "source": []
  },
  {
   "cell_type": "code",
   "execution_count": 16,
   "id": "5af2640f",
   "metadata": {},
   "outputs": [
    {
     "data": {
      "text/plain": [
       "['Dwell_Type',\n",
       " 'LotFrontage',\n",
       " 'LotArea',\n",
       " 'OverallQual',\n",
       " 'OverallCond',\n",
       " 'YearBuilt',\n",
       " 'YearRemodAdd',\n",
       " 'MasVnrArea',\n",
       " 'BsmtFinSF1',\n",
       " 'BsmtFinSF2',\n",
       " 'BsmtUnfSF',\n",
       " 'TotalBsmtSF',\n",
       " '1stFlrSF',\n",
       " '2ndFlrSF',\n",
       " 'LowQualFinSF',\n",
       " 'GrLivArea',\n",
       " 'BsmtFullBath',\n",
       " 'BsmtHalfBath',\n",
       " 'FullBath',\n",
       " 'HalfBath',\n",
       " 'BedroomAbvGr',\n",
       " 'KitchenAbvGr',\n",
       " 'TotRmsAbvGrd',\n",
       " 'Fireplaces',\n",
       " 'GarageYrBlt',\n",
       " 'GarageCars',\n",
       " 'GarageArea',\n",
       " 'WoodDeckSF',\n",
       " 'OpenPorchSF',\n",
       " 'EnclosedPorch',\n",
       " '3SsnPorch',\n",
       " 'ScreenPorch',\n",
       " 'PoolArea',\n",
       " 'MiscVal',\n",
       " 'MoSold',\n",
       " 'YrSold',\n",
       " 'Property_Sale_Price']"
      ]
     },
     "execution_count": 16,
     "metadata": {},
     "output_type": "execute_result"
    }
   ],
   "source": [
    "num=[]\n",
    "for k in col:\n",
    "    if data[k].dtypes != \"object\":\n",
    "        num.append(k)\n",
    "num        "
   ]
  },
  {
   "cell_type": "code",
   "execution_count": 17,
   "id": "17276310",
   "metadata": {},
   "outputs": [
    {
     "data": {
      "text/plain": [
       "<AxesSubplot:>"
      ]
     },
     "execution_count": 17,
     "metadata": {},
     "output_type": "execute_result"
    },
    {
     "data": {
      "image/png": "[encoded data removed]",
      "text/plain": [
       "<Figure size 1080x1440 with 1 Axes>"
      ]
     },
     "metadata": {
      "needs_background": "light"
     },
     "output_type": "display_data"
    }
   ],
   "source": [
    "data.boxplot(rot=90,figsize=(15,20))"
   ]
  },
  {
   "cell_type": "code",
   "execution_count": null,
   "id": "f3e45476",
   "metadata": {},
   "outputs": [],
   "source": []
  },
  {
   "cell_type": "markdown",
   "id": "602861d0",
   "metadata": {},
   "source": [
    "for i in num:\n",
    "    print(\"display(sns.boxplot(data['\"+i+\"']))\")"
   ]
  },
  {
   "cell_type": "code",
   "execution_count": null,
   "id": "f78fe590",
   "metadata": {},
   "outputs": [],
   "source": []
  },
  {
   "cell_type": "markdown",
   "id": "0b69f3cd",
   "metadata": {},
   "source": [
    "i=0\n",
    "for m in range(1,len(num)+1):\n",
    "    for n in range(1,7):\n",
    "        if i<=38:\n",
    "            print(\"plt.subplot(\",m,\",\",len(num),\",\",n,\")\")\n",
    "            i=i+1\n",
    "for l in num:\n",
    "         print(\"plt.boxplot(data['\"+l+\"'])\")"
   ]
  },
  {
   "cell_type": "code",
   "execution_count": null,
   "id": "5d94a572",
   "metadata": {},
   "outputs": [],
   "source": []
  },
  {
   "cell_type": "code",
   "execution_count": null,
   "id": "5246d7d2",
   "metadata": {},
   "outputs": [],
   "source": []
  },
  {
   "cell_type": "code",
   "execution_count": 18,
   "id": "9d72fe20",
   "metadata": {},
   "outputs": [
    {
     "name": "stdout",
     "output_type": "stream",
     "text": [
      "q3 = data['Dwell_Type'].quantile(0.75)\n",
      "q1 = data['Dwell_Type'].quantile(0.25)\n",
      "IQR = q3 - q1\n",
      "UE = q3 + (1.5 * IQR)\n",
      "LE = q1 - (1.5 * IQR)\n",
      "data['Dwell_Type'][data['Dwell_Type']> UE] = UE\n",
      "q3 = data['LotFrontage'].quantile(0.75)\n",
      "q1 = data['LotFrontage'].quantile(0.25)\n",
      "IQR = q3 - q1\n",
      "UE = q3 + (1.5 * IQR)\n",
      "LE = q1 - (1.5 * IQR)\n",
      "data['LotFrontage'][data['LotFrontage']> UE] = UE\n",
      "q3 = data['LotArea'].quantile(0.75)\n",
      "q1 = data['LotArea'].quantile(0.25)\n",
      "IQR = q3 - q1\n",
      "UE = q3 + (1.5 * IQR)\n",
      "LE = q1 - (1.5 * IQR)\n",
      "data['LotArea'][data['LotArea']> UE] = UE\n",
      "q3 = data['OverallQual'].quantile(0.75)\n",
      "q1 = data['OverallQual'].quantile(0.25)\n",
      "IQR = q3 - q1\n",
      "UE = q3 + (1.5 * IQR)\n",
      "LE = q1 - (1.5 * IQR)\n",
      "data['OverallQual'][data['OverallQual']> UE] = UE\n",
      "q3 = data['OverallCond'].quantile(0.75)\n",
      "q1 = data['OverallCond'].quantile(0.25)\n",
      "IQR = q3 - q1\n",
      "UE = q3 + (1.5 * IQR)\n",
      "LE = q1 - (1.5 * IQR)\n",
      "data['OverallCond'][data['OverallCond']> UE] = UE\n",
      "q3 = data['YearBuilt'].quantile(0.75)\n",
      "q1 = data['YearBuilt'].quantile(0.25)\n",
      "IQR = q3 - q1\n",
      "UE = q3 + (1.5 * IQR)\n",
      "LE = q1 - (1.5 * IQR)\n",
      "data['YearBuilt'][data['YearBuilt']> UE] = UE\n",
      "q3 = data['YearRemodAdd'].quantile(0.75)\n",
      "q1 = data['YearRemodAdd'].quantile(0.25)\n",
      "IQR = q3 - q1\n",
      "UE = q3 + (1.5 * IQR)\n",
      "LE = q1 - (1.5 * IQR)\n",
      "data['YearRemodAdd'][data['YearRemodAdd']> UE] = UE\n",
      "q3 = data['MasVnrArea'].quantile(0.75)\n",
      "q1 = data['MasVnrArea'].quantile(0.25)\n",
      "IQR = q3 - q1\n",
      "UE = q3 + (1.5 * IQR)\n",
      "LE = q1 - (1.5 * IQR)\n",
      "data['MasVnrArea'][data['MasVnrArea']> UE] = UE\n",
      "q3 = data['BsmtFinSF1'].quantile(0.75)\n",
      "q1 = data['BsmtFinSF1'].quantile(0.25)\n",
      "IQR = q3 - q1\n",
      "UE = q3 + (1.5 * IQR)\n",
      "LE = q1 - (1.5 * IQR)\n",
      "data['BsmtFinSF1'][data['BsmtFinSF1']> UE] = UE\n",
      "q3 = data['BsmtFinSF2'].quantile(0.75)\n",
      "q1 = data['BsmtFinSF2'].quantile(0.25)\n",
      "IQR = q3 - q1\n",
      "UE = q3 + (1.5 * IQR)\n",
      "LE = q1 - (1.5 * IQR)\n",
      "data['BsmtFinSF2'][data['BsmtFinSF2']> UE] = UE\n",
      "q3 = data['BsmtUnfSF'].quantile(0.75)\n",
      "q1 = data['BsmtUnfSF'].quantile(0.25)\n",
      "IQR = q3 - q1\n",
      "UE = q3 + (1.5 * IQR)\n",
      "LE = q1 - (1.5 * IQR)\n",
      "data['BsmtUnfSF'][data['BsmtUnfSF']> UE] = UE\n",
      "q3 = data['TotalBsmtSF'].quantile(0.75)\n",
      "q1 = data['TotalBsmtSF'].quantile(0.25)\n",
      "IQR = q3 - q1\n",
      "UE = q3 + (1.5 * IQR)\n",
      "LE = q1 - (1.5 * IQR)\n",
      "data['TotalBsmtSF'][data['TotalBsmtSF']> UE] = UE\n",
      "q3 = data['1stFlrSF'].quantile(0.75)\n",
      "q1 = data['1stFlrSF'].quantile(0.25)\n",
      "IQR = q3 - q1\n",
      "UE = q3 + (1.5 * IQR)\n",
      "LE = q1 - (1.5 * IQR)\n",
      "data['1stFlrSF'][data['1stFlrSF']> UE] = UE\n",
      "q3 = data['2ndFlrSF'].quantile(0.75)\n",
      "q1 = data['2ndFlrSF'].quantile(0.25)\n",
      "IQR = q3 - q1\n",
      "UE = q3 + (1.5 * IQR)\n",
      "LE = q1 - (1.5 * IQR)\n",
      "data['2ndFlrSF'][data['2ndFlrSF']> UE] = UE\n",
      "q3 = data['LowQualFinSF'].quantile(0.75)\n",
      "q1 = data['LowQualFinSF'].quantile(0.25)\n",
      "IQR = q3 - q1\n",
      "UE = q3 + (1.5 * IQR)\n",
      "LE = q1 - (1.5 * IQR)\n",
      "data['LowQualFinSF'][data['LowQualFinSF']> UE] = UE\n",
      "q3 = data['GrLivArea'].quantile(0.75)\n",
      "q1 = data['GrLivArea'].quantile(0.25)\n",
      "IQR = q3 - q1\n",
      "UE = q3 + (1.5 * IQR)\n",
      "LE = q1 - (1.5 * IQR)\n",
      "data['GrLivArea'][data['GrLivArea']> UE] = UE\n",
      "q3 = data['BsmtFullBath'].quantile(0.75)\n",
      "q1 = data['BsmtFullBath'].quantile(0.25)\n",
      "IQR = q3 - q1\n",
      "UE = q3 + (1.5 * IQR)\n",
      "LE = q1 - (1.5 * IQR)\n",
      "data['BsmtFullBath'][data['BsmtFullBath']> UE] = UE\n",
      "q3 = data['BsmtHalfBath'].quantile(0.75)\n",
      "q1 = data['BsmtHalfBath'].quantile(0.25)\n",
      "IQR = q3 - q1\n",
      "UE = q3 + (1.5 * IQR)\n",
      "LE = q1 - (1.5 * IQR)\n",
      "data['BsmtHalfBath'][data['BsmtHalfBath']> UE] = UE\n",
      "q3 = data['FullBath'].quantile(0.75)\n",
      "q1 = data['FullBath'].quantile(0.25)\n",
      "IQR = q3 - q1\n",
      "UE = q3 + (1.5 * IQR)\n",
      "LE = q1 - (1.5 * IQR)\n",
      "data['FullBath'][data['FullBath']> UE] = UE\n",
      "q3 = data['HalfBath'].quantile(0.75)\n",
      "q1 = data['HalfBath'].quantile(0.25)\n",
      "IQR = q3 - q1\n",
      "UE = q3 + (1.5 * IQR)\n",
      "LE = q1 - (1.5 * IQR)\n",
      "data['HalfBath'][data['HalfBath']> UE] = UE\n",
      "q3 = data['BedroomAbvGr'].quantile(0.75)\n",
      "q1 = data['BedroomAbvGr'].quantile(0.25)\n",
      "IQR = q3 - q1\n",
      "UE = q3 + (1.5 * IQR)\n",
      "LE = q1 - (1.5 * IQR)\n",
      "data['BedroomAbvGr'][data['BedroomAbvGr']> UE] = UE\n",
      "q3 = data['KitchenAbvGr'].quantile(0.75)\n",
      "q1 = data['KitchenAbvGr'].quantile(0.25)\n",
      "IQR = q3 - q1\n",
      "UE = q3 + (1.5 * IQR)\n",
      "LE = q1 - (1.5 * IQR)\n",
      "data['KitchenAbvGr'][data['KitchenAbvGr']> UE] = UE\n",
      "q3 = data['TotRmsAbvGrd'].quantile(0.75)\n",
      "q1 = data['TotRmsAbvGrd'].quantile(0.25)\n",
      "IQR = q3 - q1\n",
      "UE = q3 + (1.5 * IQR)\n",
      "LE = q1 - (1.5 * IQR)\n",
      "data['TotRmsAbvGrd'][data['TotRmsAbvGrd']> UE] = UE\n",
      "q3 = data['Fireplaces'].quantile(0.75)\n",
      "q1 = data['Fireplaces'].quantile(0.25)\n",
      "IQR = q3 - q1\n",
      "UE = q3 + (1.5 * IQR)\n",
      "LE = q1 - (1.5 * IQR)\n",
      "data['Fireplaces'][data['Fireplaces']> UE] = UE\n",
      "q3 = data['GarageYrBlt'].quantile(0.75)\n",
      "q1 = data['GarageYrBlt'].quantile(0.25)\n",
      "IQR = q3 - q1\n",
      "UE = q3 + (1.5 * IQR)\n",
      "LE = q1 - (1.5 * IQR)\n",
      "data['GarageYrBlt'][data['GarageYrBlt']> UE] = UE\n",
      "q3 = data['GarageCars'].quantile(0.75)\n",
      "q1 = data['GarageCars'].quantile(0.25)\n",
      "IQR = q3 - q1\n",
      "UE = q3 + (1.5 * IQR)\n",
      "LE = q1 - (1.5 * IQR)\n",
      "data['GarageCars'][data['GarageCars']> UE] = UE\n",
      "q3 = data['GarageArea'].quantile(0.75)\n",
      "q1 = data['GarageArea'].quantile(0.25)\n",
      "IQR = q3 - q1\n",
      "UE = q3 + (1.5 * IQR)\n",
      "LE = q1 - (1.5 * IQR)\n",
      "data['GarageArea'][data['GarageArea']> UE] = UE\n",
      "q3 = data['WoodDeckSF'].quantile(0.75)\n",
      "q1 = data['WoodDeckSF'].quantile(0.25)\n",
      "IQR = q3 - q1\n",
      "UE = q3 + (1.5 * IQR)\n",
      "LE = q1 - (1.5 * IQR)\n",
      "data['WoodDeckSF'][data['WoodDeckSF']> UE] = UE\n",
      "q3 = data['OpenPorchSF'].quantile(0.75)\n",
      "q1 = data['OpenPorchSF'].quantile(0.25)\n",
      "IQR = q3 - q1\n",
      "UE = q3 + (1.5 * IQR)\n",
      "LE = q1 - (1.5 * IQR)\n",
      "data['OpenPorchSF'][data['OpenPorchSF']> UE] = UE\n",
      "q3 = data['EnclosedPorch'].quantile(0.75)\n",
      "q1 = data['EnclosedPorch'].quantile(0.25)\n",
      "IQR = q3 - q1\n",
      "UE = q3 + (1.5 * IQR)\n",
      "LE = q1 - (1.5 * IQR)\n",
      "data['EnclosedPorch'][data['EnclosedPorch']> UE] = UE\n",
      "q3 = data['3SsnPorch'].quantile(0.75)\n",
      "q1 = data['3SsnPorch'].quantile(0.25)\n",
      "IQR = q3 - q1\n",
      "UE = q3 + (1.5 * IQR)\n",
      "LE = q1 - (1.5 * IQR)\n",
      "data['3SsnPorch'][data['3SsnPorch']> UE] = UE\n",
      "q3 = data['ScreenPorch'].quantile(0.75)\n",
      "q1 = data['ScreenPorch'].quantile(0.25)\n",
      "IQR = q3 - q1\n",
      "UE = q3 + (1.5 * IQR)\n",
      "LE = q1 - (1.5 * IQR)\n",
      "data['ScreenPorch'][data['ScreenPorch']> UE] = UE\n",
      "q3 = data['PoolArea'].quantile(0.75)\n",
      "q1 = data['PoolArea'].quantile(0.25)\n",
      "IQR = q3 - q1\n",
      "UE = q3 + (1.5 * IQR)\n",
      "LE = q1 - (1.5 * IQR)\n",
      "data['PoolArea'][data['PoolArea']> UE] = UE\n",
      "q3 = data['MiscVal'].quantile(0.75)\n",
      "q1 = data['MiscVal'].quantile(0.25)\n",
      "IQR = q3 - q1\n",
      "UE = q3 + (1.5 * IQR)\n",
      "LE = q1 - (1.5 * IQR)\n",
      "data['MiscVal'][data['MiscVal']> UE] = UE\n",
      "q3 = data['MoSold'].quantile(0.75)\n",
      "q1 = data['MoSold'].quantile(0.25)\n",
      "IQR = q3 - q1\n",
      "UE = q3 + (1.5 * IQR)\n",
      "LE = q1 - (1.5 * IQR)\n",
      "data['MoSold'][data['MoSold']> UE] = UE\n",
      "q3 = data['YrSold'].quantile(0.75)\n",
      "q1 = data['YrSold'].quantile(0.25)\n",
      "IQR = q3 - q1\n",
      "UE = q3 + (1.5 * IQR)\n",
      "LE = q1 - (1.5 * IQR)\n",
      "data['YrSold'][data['YrSold']> UE] = UE\n",
      "q3 = data['Property_Sale_Price'].quantile(0.75)\n",
      "q1 = data['Property_Sale_Price'].quantile(0.25)\n",
      "IQR = q3 - q1\n",
      "UE = q3 + (1.5 * IQR)\n",
      "LE = q1 - (1.5 * IQR)\n",
      "data['Property_Sale_Price'][data['Property_Sale_Price']> UE] = UE\n"
     ]
    }
   ],
   "source": [
    "for i in num:\n",
    "    print(\"q3 = data['\"+i+\"'].quantile(0.75)\")\n",
    "    print(\"q1 = data['\"+i+\"'].quantile(0.25)\")\n",
    "    print(\"IQR = q3 - q1\")\n",
    "    print(\"UE = q3 + (1.5 * IQR)\")\n",
    "    print(\"LE = q1 - (1.5 * IQR)\")\n",
    "    print(\"data['\"+i+\"'][data['\"+i+\"']> UE] = UE\")"
   ]
  },
  {
   "cell_type": "code",
   "execution_count": null,
   "id": "bdace840",
   "metadata": {},
   "outputs": [],
   "source": []
  },
  {
   "cell_type": "code",
   "execution_count": 19,
   "id": "a0618274",
   "metadata": {},
   "outputs": [],
   "source": [
    "q3 = data['Dwell_Type'].quantile(0.75)\n",
    "q1 = data['Dwell_Type'].quantile(0.25)\n",
    "IQR = q3 - q1\n",
    "UE = q3 + (1.5 * IQR)\n",
    "LE = q1 - (1.5 * IQR)\n",
    "data['Dwell_Type'][data['Dwell_Type']> UE] = UE\n",
    "q3 = data['LotFrontage'].quantile(0.75)\n",
    "q1 = data['LotFrontage'].quantile(0.25)\n",
    "IQR = q3 - q1\n",
    "UE = q3 + (1.5 * IQR)\n",
    "LE = q1 - (1.5 * IQR)\n",
    "data['LotFrontage'][data['LotFrontage']> UE] = UE\n",
    "q3 = data['LotArea'].quantile(0.75)\n",
    "q1 = data['LotArea'].quantile(0.25)\n",
    "IQR = q3 - q1\n",
    "UE = q3 + (1.5 * IQR)\n",
    "LE = q1 - (1.5 * IQR)\n",
    "data['LotArea'][data['LotArea']> UE] = UE\n",
    "q3 = data['OverallQual'].quantile(0.75)\n",
    "q1 = data['OverallQual'].quantile(0.25)\n",
    "IQR = q3 - q1\n",
    "UE = q3 + (1.5 * IQR)\n",
    "LE = q1 - (1.5 * IQR)\n",
    "data['OverallQual'][data['OverallQual']> UE] = UE\n",
    "q3 = data['OverallCond'].quantile(0.75)\n",
    "q1 = data['OverallCond'].quantile(0.25)\n",
    "IQR = q3 - q1\n",
    "UE = q3 + (1.5 * IQR)\n",
    "LE = q1 - (1.5 * IQR)\n",
    "data['OverallCond'][data['OverallCond']> UE] = UE\n",
    "q3 = data['YearBuilt'].quantile(0.75)\n",
    "q1 = data['YearBuilt'].quantile(0.25)\n",
    "IQR = q3 - q1\n",
    "UE = q3 + (1.5 * IQR)\n",
    "LE = q1 - (1.5 * IQR)\n",
    "data['YearBuilt'][data['YearBuilt']> UE] = UE\n",
    "q3 = data['YearRemodAdd'].quantile(0.75)\n",
    "q1 = data['YearRemodAdd'].quantile(0.25)\n",
    "IQR = q3 - q1\n",
    "UE = q3 + (1.5 * IQR)\n",
    "LE = q1 - (1.5 * IQR)\n",
    "data['YearRemodAdd'][data['YearRemodAdd']> UE] = UE\n",
    "q3 = data['MasVnrArea'].quantile(0.75)\n",
    "q1 = data['MasVnrArea'].quantile(0.25)\n",
    "IQR = q3 - q1\n",
    "UE = q3 + (1.5 * IQR)\n",
    "LE = q1 - (1.5 * IQR)\n",
    "data['MasVnrArea'][data['MasVnrArea']> UE] = UE\n",
    "q3 = data['BsmtFinSF1'].quantile(0.75)\n",
    "q1 = data['BsmtFinSF1'].quantile(0.25)\n",
    "IQR = q3 - q1\n",
    "UE = q3 + (1.5 * IQR)\n",
    "LE = q1 - (1.5 * IQR)\n",
    "data['BsmtFinSF1'][data['BsmtFinSF1']> UE] = UE\n",
    "q3 = data['BsmtFinSF2'].quantile(0.75)\n",
    "q1 = data['BsmtFinSF2'].quantile(0.25)\n",
    "IQR = q3 - q1\n",
    "UE = q3 + (1.5 * IQR)\n",
    "LE = q1 - (1.5 * IQR)\n",
    "data['BsmtFinSF2'][data['BsmtFinSF2']> UE] = UE\n",
    "q3 = data['BsmtUnfSF'].quantile(0.75)\n",
    "q1 = data['BsmtUnfSF'].quantile(0.25)\n",
    "IQR = q3 - q1\n",
    "UE = q3 + (1.5 * IQR)\n",
    "LE = q1 - (1.5 * IQR)\n",
    "data['BsmtUnfSF'][data['BsmtUnfSF']> UE] = UE\n",
    "q3 = data['TotalBsmtSF'].quantile(0.75)\n",
    "q1 = data['TotalBsmtSF'].quantile(0.25)\n",
    "IQR = q3 - q1\n",
    "UE = q3 + (1.5 * IQR)\n",
    "LE = q1 - (1.5 * IQR)\n",
    "data['TotalBsmtSF'][data['TotalBsmtSF']> UE] = UE\n",
    "q3 = data['1stFlrSF'].quantile(0.75)\n",
    "q1 = data['1stFlrSF'].quantile(0.25)\n",
    "IQR = q3 - q1\n",
    "UE = q3 + (1.5 * IQR)\n",
    "LE = q1 - (1.5 * IQR)\n",
    "data['1stFlrSF'][data['1stFlrSF']> UE] = UE\n",
    "q3 = data['2ndFlrSF'].quantile(0.75)\n",
    "q1 = data['2ndFlrSF'].quantile(0.25)\n",
    "IQR = q3 - q1\n",
    "UE = q3 + (1.5 * IQR)\n",
    "LE = q1 - (1.5 * IQR)\n",
    "data['2ndFlrSF'][data['2ndFlrSF']> UE] = UE\n",
    "q3 = data['LowQualFinSF'].quantile(0.75)\n",
    "q1 = data['LowQualFinSF'].quantile(0.25)\n",
    "IQR = q3 - q1\n",
    "UE = q3 + (1.5 * IQR)\n",
    "LE = q1 - (1.5 * IQR)\n",
    "data['LowQualFinSF'][data['LowQualFinSF']> UE] = UE\n",
    "q3 = data['GrLivArea'].quantile(0.75)\n",
    "q1 = data['GrLivArea'].quantile(0.25)\n",
    "IQR = q3 - q1\n",
    "UE = q3 + (1.5 * IQR)\n",
    "LE = q1 - (1.5 * IQR)\n",
    "data['GrLivArea'][data['GrLivArea']> UE] = UE\n",
    "q3 = data['BsmtFullBath'].quantile(0.75)\n",
    "q1 = data['BsmtFullBath'].quantile(0.25)\n",
    "IQR = q3 - q1\n",
    "UE = q3 + (1.5 * IQR)\n",
    "LE = q1 - (1.5 * IQR)\n",
    "data['BsmtFullBath'][data['BsmtFullBath']> UE] = UE\n",
    "q3 = data['BsmtHalfBath'].quantile(0.75)\n",
    "q1 = data['BsmtHalfBath'].quantile(0.25)\n",
    "IQR = q3 - q1\n",
    "UE = q3 + (1.5 * IQR)\n",
    "LE = q1 - (1.5 * IQR)\n",
    "data['BsmtHalfBath'][data['BsmtHalfBath']> UE] = UE\n",
    "q3 = data['FullBath'].quantile(0.75)\n",
    "q1 = data['FullBath'].quantile(0.25)\n",
    "IQR = q3 - q1\n",
    "UE = q3 + (1.5 * IQR)\n",
    "LE = q1 - (1.5 * IQR)\n",
    "data['FullBath'][data['FullBath']> UE] = UE\n",
    "q3 = data['HalfBath'].quantile(0.75)\n",
    "q1 = data['HalfBath'].quantile(0.25)\n",
    "IQR = q3 - q1\n",
    "UE = q3 + (1.5 * IQR)\n",
    "LE = q1 - (1.5 * IQR)\n",
    "data['HalfBath'][data['HalfBath']> UE] = UE\n",
    "q3 = data['BedroomAbvGr'].quantile(0.75)\n",
    "q1 = data['BedroomAbvGr'].quantile(0.25)\n",
    "IQR = q3 - q1\n",
    "UE = q3 + (1.5 * IQR)\n",
    "LE = q1 - (1.5 * IQR)\n",
    "data['BedroomAbvGr'][data['BedroomAbvGr']> UE] = UE\n",
    "q3 = data['KitchenAbvGr'].quantile(0.75)\n",
    "q1 = data['KitchenAbvGr'].quantile(0.25)\n",
    "IQR = q3 - q1\n",
    "UE = q3 + (1.5 * IQR)\n",
    "LE = q1 - (1.5 * IQR)\n",
    "data['KitchenAbvGr'][data['KitchenAbvGr']> UE] = UE\n",
    "q3 = data['TotRmsAbvGrd'].quantile(0.75)\n",
    "q1 = data['TotRmsAbvGrd'].quantile(0.25)\n",
    "IQR = q3 - q1\n",
    "UE = q3 + (1.5 * IQR)\n",
    "LE = q1 - (1.5 * IQR)\n",
    "data['TotRmsAbvGrd'][data['TotRmsAbvGrd']> UE] = UE\n",
    "q3 = data['Fireplaces'].quantile(0.75)\n",
    "q1 = data['Fireplaces'].quantile(0.25)\n",
    "IQR = q3 - q1\n",
    "UE = q3 + (1.5 * IQR)\n",
    "LE = q1 - (1.5 * IQR)\n",
    "data['Fireplaces'][data['Fireplaces']> UE] = UE\n",
    "q3 = data['GarageYrBlt'].quantile(0.75)\n",
    "q1 = data['GarageYrBlt'].quantile(0.25)\n",
    "IQR = q3 - q1\n",
    "UE = q3 + (1.5 * IQR)\n",
    "LE = q1 - (1.5 * IQR)\n",
    "data['GarageYrBlt'][data['GarageYrBlt']> UE] = UE\n",
    "q3 = data['GarageCars'].quantile(0.75)\n",
    "q1 = data['GarageCars'].quantile(0.25)\n",
    "IQR = q3 - q1\n",
    "UE = q3 + (1.5 * IQR)\n",
    "LE = q1 - (1.5 * IQR)\n",
    "data['GarageCars'][data['GarageCars']> UE] = UE\n",
    "q3 = data['GarageArea'].quantile(0.75)\n",
    "q1 = data['GarageArea'].quantile(0.25)\n",
    "IQR = q3 - q1\n",
    "UE = q3 + (1.5 * IQR)\n",
    "LE = q1 - (1.5 * IQR)\n",
    "data['GarageArea'][data['GarageArea']> UE] = UE\n",
    "q3 = data['WoodDeckSF'].quantile(0.75)\n",
    "q1 = data['WoodDeckSF'].quantile(0.25)\n",
    "IQR = q3 - q1\n",
    "UE = q3 + (1.5 * IQR)\n",
    "LE = q1 - (1.5 * IQR)\n",
    "data['WoodDeckSF'][data['WoodDeckSF']> UE] = UE\n",
    "q3 = data['OpenPorchSF'].quantile(0.75)\n",
    "q1 = data['OpenPorchSF'].quantile(0.25)\n",
    "IQR = q3 - q1\n",
    "UE = q3 + (1.5 * IQR)\n",
    "LE = q1 - (1.5 * IQR)\n",
    "data['OpenPorchSF'][data['OpenPorchSF']> UE] = UE\n",
    "q3 = data['EnclosedPorch'].quantile(0.75)\n",
    "q1 = data['EnclosedPorch'].quantile(0.25)\n",
    "IQR = q3 - q1\n",
    "UE = q3 + (1.5 * IQR)\n",
    "LE = q1 - (1.5 * IQR)\n",
    "data['EnclosedPorch'][data['EnclosedPorch']> UE] = UE\n",
    "q3 = data['3SsnPorch'].quantile(0.75)\n",
    "q1 = data['3SsnPorch'].quantile(0.25)\n",
    "IQR = q3 - q1\n",
    "UE = q3 + (1.5 * IQR)\n",
    "LE = q1 - (1.5 * IQR)\n",
    "data['3SsnPorch'][data['3SsnPorch']> UE] = UE\n",
    "q3 = data['ScreenPorch'].quantile(0.75)\n",
    "q1 = data['ScreenPorch'].quantile(0.25)\n",
    "IQR = q3 - q1\n",
    "UE = q3 + (1.5 * IQR)\n",
    "LE = q1 - (1.5 * IQR)\n",
    "data['ScreenPorch'][data['ScreenPorch']> UE] = UE\n",
    "q3 = data['PoolArea'].quantile(0.75)\n",
    "q1 = data['PoolArea'].quantile(0.25)\n",
    "IQR = q3 - q1\n",
    "UE = q3 + (1.5 * IQR)\n",
    "LE = q1 - (1.5 * IQR)\n",
    "data['PoolArea'][data['PoolArea']> UE] = UE\n",
    "q3 = data['MiscVal'].quantile(0.75)\n",
    "q1 = data['MiscVal'].quantile(0.25)\n",
    "IQR = q3 - q1\n",
    "UE = q3 + (1.5 * IQR)\n",
    "LE = q1 - (1.5 * IQR)\n",
    "data['MiscVal'][data['MiscVal']> UE] = UE\n",
    "q3 = data['MoSold'].quantile(0.75)\n",
    "q1 = data['MoSold'].quantile(0.25)\n",
    "IQR = q3 - q1\n",
    "UE = q3 + (1.5 * IQR)\n",
    "LE = q1 - (1.5 * IQR)\n",
    "data['MoSold'][data['MoSold']> UE] = UE\n",
    "q3 = data['YrSold'].quantile(0.75)\n",
    "q1 = data['YrSold'].quantile(0.25)\n",
    "IQR = q3 - q1\n",
    "UE = q3 + (1.5 * IQR)\n",
    "LE = q1 - (1.5 * IQR)\n",
    "data['YrSold'][data['YrSold']> UE] = UE\n",
    "q3 = data['Property_Sale_Price'].quantile(0.75)\n",
    "q1 = data['Property_Sale_Price'].quantile(0.25)\n",
    "IQR = q3 - q1\n",
    "UE = q3 + (1.5 * IQR)\n",
    "LE = q1 - (1.5 * IQR)\n",
    "data['Property_Sale_Price'][data['Property_Sale_Price']> UE] = UE\n"
   ]
  },
  {
   "cell_type": "code",
   "execution_count": 20,
   "id": "3aa50262",
   "metadata": {},
   "outputs": [
    {
     "name": "stdout",
     "output_type": "stream",
     "text": [
      "display(' Dwell_Type ')  ,display(data['Dwell_Type'].unique())\n",
      "display(' Zone_Class ')  ,display(data['Zone_Class'].unique())\n",
      "display(' LotFrontage ')  ,display(data['LotFrontage'].unique())\n",
      "display(' LotArea ')  ,display(data['LotArea'].unique())\n",
      "display(' Road_Type ')  ,display(data['Road_Type'].unique())\n",
      "display(' Alley ')  ,display(data['Alley'].unique())\n",
      "display(' Property_Shape ')  ,display(data['Property_Shape'].unique())\n",
      "display(' LandContour ')  ,display(data['LandContour'].unique())\n",
      "display(' Utilities ')  ,display(data['Utilities'].unique())\n",
      "display(' LotConfig ')  ,display(data['LotConfig'].unique())\n",
      "display(' LandSlope ')  ,display(data['LandSlope'].unique())\n",
      "display(' Neighborhood ')  ,display(data['Neighborhood'].unique())\n",
      "display(' Condition1 ')  ,display(data['Condition1'].unique())\n",
      "display(' Condition2 ')  ,display(data['Condition2'].unique())\n",
      "display(' Dwelling_Type ')  ,display(data['Dwelling_Type'].unique())\n",
      "display(' HouseStyle ')  ,display(data['HouseStyle'].unique())\n",
      "display(' OverallQual ')  ,display(data['OverallQual'].unique())\n",
      "display(' OverallCond ')  ,display(data['OverallCond'].unique())\n",
      "display(' YearBuilt ')  ,display(data['YearBuilt'].unique())\n",
      "display(' YearRemodAdd ')  ,display(data['YearRemodAdd'].unique())\n",
      "display(' RoofStyle ')  ,display(data['RoofStyle'].unique())\n",
      "display(' RoofMatl ')  ,display(data['RoofMatl'].unique())\n",
      "display(' Exterior1st ')  ,display(data['Exterior1st'].unique())\n",
      "display(' Exterior2nd ')  ,display(data['Exterior2nd'].unique())\n",
      "display(' MasVnrType ')  ,display(data['MasVnrType'].unique())\n",
      "display(' MasVnrArea ')  ,display(data['MasVnrArea'].unique())\n",
      "display(' ExterQual ')  ,display(data['ExterQual'].unique())\n",
      "display(' ExterCond ')  ,display(data['ExterCond'].unique())\n",
      "display(' Foundation ')  ,display(data['Foundation'].unique())\n",
      "display(' BsmtQual ')  ,display(data['BsmtQual'].unique())\n",
      "display(' BsmtCond ')  ,display(data['BsmtCond'].unique())\n",
      "display(' BsmtExposure ')  ,display(data['BsmtExposure'].unique())\n",
      "display(' BsmtFinType1 ')  ,display(data['BsmtFinType1'].unique())\n",
      "display(' BsmtFinSF1 ')  ,display(data['BsmtFinSF1'].unique())\n",
      "display(' BsmtFinType2 ')  ,display(data['BsmtFinType2'].unique())\n",
      "display(' BsmtFinSF2 ')  ,display(data['BsmtFinSF2'].unique())\n",
      "display(' BsmtUnfSF ')  ,display(data['BsmtUnfSF'].unique())\n",
      "display(' TotalBsmtSF ')  ,display(data['TotalBsmtSF'].unique())\n",
      "display(' Heating ')  ,display(data['Heating'].unique())\n",
      "display(' HeatingQC ')  ,display(data['HeatingQC'].unique())\n",
      "display(' CentralAir ')  ,display(data['CentralAir'].unique())\n",
      "display(' Electrical ')  ,display(data['Electrical'].unique())\n",
      "display(' 1stFlrSF ')  ,display(data['1stFlrSF'].unique())\n",
      "display(' 2ndFlrSF ')  ,display(data['2ndFlrSF'].unique())\n",
      "display(' LowQualFinSF ')  ,display(data['LowQualFinSF'].unique())\n",
      "display(' GrLivArea ')  ,display(data['GrLivArea'].unique())\n",
      "display(' BsmtFullBath ')  ,display(data['BsmtFullBath'].unique())\n",
      "display(' BsmtHalfBath ')  ,display(data['BsmtHalfBath'].unique())\n",
      "display(' FullBath ')  ,display(data['FullBath'].unique())\n",
      "display(' HalfBath ')  ,display(data['HalfBath'].unique())\n",
      "display(' BedroomAbvGr ')  ,display(data['BedroomAbvGr'].unique())\n",
      "display(' KitchenAbvGr ')  ,display(data['KitchenAbvGr'].unique())\n",
      "display(' KitchenQual ')  ,display(data['KitchenQual'].unique())\n",
      "display(' TotRmsAbvGrd ')  ,display(data['TotRmsAbvGrd'].unique())\n",
      "display(' Functional ')  ,display(data['Functional'].unique())\n",
      "display(' Fireplaces ')  ,display(data['Fireplaces'].unique())\n",
      "display(' FireplaceQu ')  ,display(data['FireplaceQu'].unique())\n",
      "display(' GarageType ')  ,display(data['GarageType'].unique())\n",
      "display(' GarageYrBlt ')  ,display(data['GarageYrBlt'].unique())\n",
      "display(' GarageFinish ')  ,display(data['GarageFinish'].unique())\n",
      "display(' GarageCars ')  ,display(data['GarageCars'].unique())\n",
      "display(' GarageArea ')  ,display(data['GarageArea'].unique())\n",
      "display(' GarageQual ')  ,display(data['GarageQual'].unique())\n",
      "display(' GarageCond ')  ,display(data['GarageCond'].unique())\n",
      "display(' PavedDrive ')  ,display(data['PavedDrive'].unique())\n",
      "display(' WoodDeckSF ')  ,display(data['WoodDeckSF'].unique())\n",
      "display(' OpenPorchSF ')  ,display(data['OpenPorchSF'].unique())\n",
      "display(' EnclosedPorch ')  ,display(data['EnclosedPorch'].unique())\n",
      "display(' 3SsnPorch ')  ,display(data['3SsnPorch'].unique())\n",
      "display(' ScreenPorch ')  ,display(data['ScreenPorch'].unique())\n",
      "display(' PoolArea ')  ,display(data['PoolArea'].unique())\n",
      "display(' PoolQC ')  ,display(data['PoolQC'].unique())\n",
      "display(' Fence ')  ,display(data['Fence'].unique())\n",
      "display(' MiscFeature ')  ,display(data['MiscFeature'].unique())\n",
      "display(' MiscVal ')  ,display(data['MiscVal'].unique())\n",
      "display(' MoSold ')  ,display(data['MoSold'].unique())\n",
      "display(' YrSold ')  ,display(data['YrSold'].unique())\n",
      "display(' SaleType ')  ,display(data['SaleType'].unique())\n",
      "display(' SaleCondition ')  ,display(data['SaleCondition'].unique())\n",
      "display(' Property_Sale_Price ')  ,display(data['Property_Sale_Price'].unique())\n"
     ]
    }
   ],
   "source": [
    "for j in col:\n",
    "    print(\"display('\",j,\"')\",\" ,display(data['\"+j+\"'].unique())\")"
   ]
  },
  {
   "cell_type": "code",
   "execution_count": 21,
   "id": "6f9123b1",
   "metadata": {},
   "outputs": [
    {
     "data": {
      "text/plain": [
       "' Dwell_Type '"
      ]
     },
     "metadata": {},
     "output_type": "display_data"
    },
    {
     "data": {
      "text/plain": [
       "array([ 60,  20,  70,  50, 145,  45,  90, 120,  30,  85,  80,  75,  40],\n",
       "      dtype=int64)"
      ]
     },
     "metadata": {},
     "output_type": "display_data"
    },
    {
     "data": {
      "text/plain": [
       "' Zone_Class '"
      ]
     },
     "metadata": {},
     "output_type": "display_data"
    },
    {
     "data": {
      "text/plain": [
       "array(['RL', 'RM', 'C (all)', 'FV', 'RH'], dtype=object)"
      ]
     },
     "metadata": {},
     "output_type": "display_data"
    },
    {
     "data": {
      "text/plain": [
       "' LotFrontage '"
      ]
     },
     "metadata": {},
     "output_type": "display_data"
    },
    {
     "data": {
      "text/plain": [
       "array([ 65.,  80.,  68.,  60.,  84.,  85.,  75.,  70.,  51.,  50.,  91.,\n",
       "        72.,  66., 101.,  57.,  44., 110.,  98.,  47., 108.,  74.,  61.,\n",
       "        48.,  33.,  52., 100.,  24.,  89.,  63.,  76.,  81.,  95.,  69.,\n",
       "        21.,  32.,  78.,  40., 105.,  73.,  77.,  64.,  94.,  34.,  90.,\n",
       "        55.,  88.,  82.,  71., 107.,  92.,  62.,  86.,  97.,  54.,  41.,\n",
       "        79.,  99.,  67.,  83.,  43., 103.,  93.,  30.,  35.,  37.,  87.,\n",
       "        49.,  96.,  59.,  36.,  56., 102.,  58.,  38., 109.,  53.,  45.,\n",
       "       106., 104.,  42.,  39.,  46.])"
      ]
     },
     "metadata": {},
     "output_type": "display_data"
    },
    {
     "data": {
      "text/plain": [
       "' LotArea '"
      ]
     },
     "metadata": {},
     "output_type": "display_data"
    },
    {
     "data": {
      "text/plain": [
       "array([ 8450.,  9600., 11250., ..., 10353., 11291.,  9004.])"
      ]
     },
     "metadata": {},
     "output_type": "display_data"
    },
    {
     "data": {
      "text/plain": [
       "' Road_Type '"
      ]
     },
     "metadata": {},
     "output_type": "display_data"
    },
    {
     "data": {
      "text/plain": [
       "array(['Pave', 'Grvl'], dtype=object)"
      ]
     },
     "metadata": {},
     "output_type": "display_data"
    },
    {
     "data": {
      "text/plain": [
       "' Alley '"
      ]
     },
     "metadata": {},
     "output_type": "display_data"
    },
    {
     "data": {
      "text/plain": [
       "array(['Grvl', 'Pave'], dtype=object)"
      ]
     },
     "metadata": {},
     "output_type": "display_data"
    },
    {
     "data": {
      "text/plain": [
       "' Property_Shape '"
      ]
     },
     "metadata": {},
     "output_type": "display_data"
    },
    {
     "data": {
      "text/plain": [
       "array(['Reg', 'IR1', 'IR2', 'IR3'], dtype=object)"
      ]
     },
     "metadata": {},
     "output_type": "display_data"
    },
    {
     "data": {
      "text/plain": [
       "' LandContour '"
      ]
     },
     "metadata": {},
     "output_type": "display_data"
    },
    {
     "data": {
      "text/plain": [
       "array(['Lvl', 'Bnk', 'Low', 'HLS'], dtype=object)"
      ]
     },
     "metadata": {},
     "output_type": "display_data"
    },
    {
     "data": {
      "text/plain": [
       "' Utilities '"
      ]
     },
     "metadata": {},
     "output_type": "display_data"
    },
    {
     "data": {
      "text/plain": [
       "array(['AllPub', 'NoSeWa'], dtype=object)"
      ]
     },
     "metadata": {},
     "output_type": "display_data"
    },
    {
     "data": {
      "text/plain": [
       "' LotConfig '"
      ]
     },
     "metadata": {},
     "output_type": "display_data"
    },
    {
     "data": {
      "text/plain": [
       "array(['Inside', 'FR2', 'Corner', 'CulDSac', 'FR3'], dtype=object)"
      ]
     },
     "metadata": {},
     "output_type": "display_data"
    },
    {
     "data": {
      "text/plain": [
       "' LandSlope '"
      ]
     },
     "metadata": {},
     "output_type": "display_data"
    },
    {
     "data": {
      "text/plain": [
       "array(['Gtl', 'Mod', 'Sev'], dtype=object)"
      ]
     },
     "metadata": {},
     "output_type": "display_data"
    },
    {
     "data": {
      "text/plain": [
       "' Neighborhood '"
      ]
     },
     "metadata": {},
     "output_type": "display_data"
    },
    {
     "data": {
      "text/plain": [
       "array(['CollgCr', 'Veenker', 'Crawfor', 'NoRidge', 'Mitchel', 'Somerst',\n",
       "       'NWAmes', 'OldTown', 'BrkSide', 'Sawyer', 'NridgHt', 'NAmes',\n",
       "       'SawyerW', 'IDOTRR', 'MeadowV', 'Edwards', 'Timber', 'Gilbert',\n",
       "       'StoneBr', 'ClearCr', 'NPkVill', 'Blmngtn', 'BrDale', 'SWISU',\n",
       "       'Blueste'], dtype=object)"
      ]
     },
     "metadata": {},
     "output_type": "display_data"
    },
    {
     "data": {
      "text/plain": [
       "' Condition1 '"
      ]
     },
     "metadata": {},
     "output_type": "display_data"
    },
    {
     "data": {
      "text/plain": [
       "array(['Norm', 'Feedr', 'PosN', 'Artery', 'RRAe', 'RRNn', 'RRAn', 'PosA',\n",
       "       'RRNe'], dtype=object)"
      ]
     },
     "metadata": {},
     "output_type": "display_data"
    },
    {
     "data": {
      "text/plain": [
       "' Condition2 '"
      ]
     },
     "metadata": {},
     "output_type": "display_data"
    },
    {
     "data": {
      "text/plain": [
       "array(['Norm', 'Artery', 'RRNn', 'Feedr', 'PosN', 'PosA', 'RRAn', 'RRAe'],\n",
       "      dtype=object)"
      ]
     },
     "metadata": {},
     "output_type": "display_data"
    },
    {
     "data": {
      "text/plain": [
       "' Dwelling_Type '"
      ]
     },
     "metadata": {},
     "output_type": "display_data"
    },
    {
     "data": {
      "text/plain": [
       "array(['1Fam', '2fmCon', 'Duplex', 'TwnhsE', 'Twnhs'], dtype=object)"
      ]
     },
     "metadata": {},
     "output_type": "display_data"
    },
    {
     "data": {
      "text/plain": [
       "' HouseStyle '"
      ]
     },
     "metadata": {},
     "output_type": "display_data"
    },
    {
     "data": {
      "text/plain": [
       "array(['2Story', '1Story', '1.5Fin', '1.5Unf', 'SFoyer', 'SLvl', '2.5Unf',\n",
       "       '2.5Fin'], dtype=object)"
      ]
     },
     "metadata": {},
     "output_type": "display_data"
    },
    {
     "data": {
      "text/plain": [
       "' OverallQual '"
      ]
     },
     "metadata": {},
     "output_type": "display_data"
    },
    {
     "data": {
      "text/plain": [
       "array([ 7,  6,  8,  5,  9,  4, 10,  3,  1,  2], dtype=int64)"
      ]
     },
     "metadata": {},
     "output_type": "display_data"
    },
    {
     "data": {
      "text/plain": [
       "' OverallCond '"
      ]
     },
     "metadata": {},
     "output_type": "display_data"
    },
    {
     "data": {
      "text/plain": [
       "array([5, 8, 6, 7, 4, 2, 3, 9, 1], dtype=int64)"
      ]
     },
     "metadata": {},
     "output_type": "display_data"
    },
    {
     "data": {
      "text/plain": [
       "' YearBuilt '"
      ]
     },
     "metadata": {},
     "output_type": "display_data"
    },
    {
     "data": {
      "text/plain": [
       "array([2003, 1976, 2001, 1915, 2000, 1993, 2004, 1973, 1931, 1939, 1965,\n",
       "       2005, 1962, 2006, 1960, 1929, 1970, 1967, 1958, 1930, 2002, 1968,\n",
       "       2007, 1951, 1957, 1927, 1920, 1966, 1959, 1994, 1954, 1953, 1955,\n",
       "       1983, 1975, 1997, 1934, 1963, 1981, 1964, 1999, 1972, 1921, 1945,\n",
       "       1982, 1998, 1956, 1948, 1910, 1995, 1991, 2009, 1950, 1961, 1977,\n",
       "       1985, 1979, 1885, 1919, 1990, 1969, 1935, 1988, 1971, 1952, 1936,\n",
       "       1923, 1924, 1984, 1926, 1940, 1941, 1987, 1986, 2008, 1908, 1892,\n",
       "       1916, 1932, 1918, 1912, 1947, 1925, 1900, 1980, 1989, 1992, 1949,\n",
       "       1880, 1928, 1978, 1922, 1996, 2010, 1946, 1913, 1937, 1942, 1938,\n",
       "       1974, 1893, 1914, 1906, 1890, 1898, 1904, 1882, 1875, 1911, 1917,\n",
       "       1872, 1905, 1902, 1943, 1944, 1909, 1903], dtype=int64)"
      ]
     },
     "metadata": {},
     "output_type": "display_data"
    },
    {
     "data": {
      "text/plain": [
       "' YearRemodAdd '"
      ]
     },
     "metadata": {},
     "output_type": "display_data"
    },
    {
     "data": {
      "text/plain": [
       "array([2003, 1976, 2002, 1970, 2000, 1995, 2005, 1973, 1950, 1965, 2006,\n",
       "       1962, 2007, 1960, 2001, 1967, 2004, 2008, 1997, 1959, 1990, 1955,\n",
       "       1983, 1980, 1966, 1963, 1987, 1964, 1972, 1996, 1998, 1989, 1953,\n",
       "       1956, 1968, 1981, 1992, 2009, 1982, 1961, 1993, 1999, 1985, 1979,\n",
       "       1977, 1969, 1958, 1991, 1971, 1952, 1975, 2010, 1984, 1986, 1994,\n",
       "       1988, 1954, 1957, 1951, 1978, 1974, 2017, 2011, 2014, 2016, 2020,\n",
       "       2012, 2018, 2015, 2023, 2022, 2019], dtype=int64)"
      ]
     },
     "metadata": {},
     "output_type": "display_data"
    },
    {
     "data": {
      "text/plain": [
       "' RoofStyle '"
      ]
     },
     "metadata": {},
     "output_type": "display_data"
    },
    {
     "data": {
      "text/plain": [
       "array(['Gable', 'Hip', 'Gambrel', 'Mansard', 'Flat', 'Shed'], dtype=object)"
      ]
     },
     "metadata": {},
     "output_type": "display_data"
    },
    {
     "data": {
      "text/plain": [
       "' RoofMatl '"
      ]
     },
     "metadata": {},
     "output_type": "display_data"
    },
    {
     "data": {
      "text/plain": [
       "array(['CompShg', 'WdShngl', 'Metal', 'WdShake', 'Membran', 'Tar&Grv',\n",
       "       'Roll', 'ClyTile'], dtype=object)"
      ]
     },
     "metadata": {},
     "output_type": "display_data"
    },
    {
     "data": {
      "text/plain": [
       "' Exterior1st '"
      ]
     },
     "metadata": {},
     "output_type": "display_data"
    },
    {
     "data": {
      "text/plain": [
       "array(['VinylSd', 'MetalSd', 'Wd Sdng', 'HdBoard', 'BrkFace', 'WdShing',\n",
       "       'CemntBd', 'Plywood', 'AsbShng', 'Stucco', 'BrkComm', 'AsphShn',\n",
       "       'Stone', 'ImStucc', 'CBlock'], dtype=object)"
      ]
     },
     "metadata": {},
     "output_type": "display_data"
    },
    {
     "data": {
      "text/plain": [
       "' Exterior2nd '"
      ]
     },
     "metadata": {},
     "output_type": "display_data"
    },
    {
     "data": {
      "text/plain": [
       "array(['VinylSd', 'MetalSd', 'Wd Shng', 'HdBoard', 'Plywood', 'Wd Sdng',\n",
       "       'CmentBd', 'BrkFace', 'Stucco', 'AsbShng', 'Brk Cmn', 'ImStucc',\n",
       "       'AsphShn', 'Stone', 'Other', 'CBlock'], dtype=object)"
      ]
     },
     "metadata": {},
     "output_type": "display_data"
    },
    {
     "data": {
      "text/plain": [
       "' MasVnrType '"
      ]
     },
     "metadata": {},
     "output_type": "display_data"
    },
    {
     "data": {
      "text/plain": [
       "array(['BrkFace', 'None', 'Stone', 'BrkCmn'], dtype=object)"
      ]
     },
     "metadata": {},
     "output_type": "display_data"
    },
    {
     "data": {
      "text/plain": [
       "' MasVnrArea '"
      ]
     },
     "metadata": {},
     "output_type": "display_data"
    },
    {
     "data": {
      "text/plain": [
       "array([196.,   0., 162., 350., 186., 240., 286., 306., 212., 180., 380.,\n",
       "       281., 400., 200., 246., 132.,  75., 272., 178., 344., 287., 167.,\n",
       "        44., 104.,  57.,  63., 284.,  47., 203.,  77., 183.,  41.,  69.,\n",
       "       336., 220., 184., 116., 135., 266.,  58., 309., 136., 288.,  83.,\n",
       "       320.,  54., 120., 252.,  38., 226., 300., 112., 268.,  67., 275.,\n",
       "       138.,  25., 205., 262., 128., 260., 153.,  26., 312.,  89., 142.,\n",
       "       290., 127.,  76., 297.,  78., 254., 102., 108., 302., 172., 399.,\n",
       "       270., 210., 174., 348., 315., 299., 340.,  81., 166.,  40.,  55.,\n",
       "       238., 365.,  61., 150., 278., 256., 225., 370., 388., 175.,  27.,\n",
       "       296., 146., 113., 176.,  70., 106., 362., 247., 305.,  17.,  28.,\n",
       "       255., 125.,  97., 126., 145., 232., 376.,  21.,  64., 161., 110.,\n",
       "       224., 248.,  32., 304., 215., 378., 168.,  52., 285., 360.,  99.,\n",
       "       333., 219., 188.,  92., 182., 250., 292.,  94., 245., 207., 335.,\n",
       "       100., 208., 170.,  87., 280.,  46., 192., 204., 233., 156., 261.,\n",
       "       164., 259., 209., 263., 216., 351., 381.,  48., 258., 147., 293.,\n",
       "       109.,  56., 160., 289., 169., 202., 338., 328.,  10.,   1., 375.,\n",
       "        62., 157., 140., 130., 148., 243.,  98., 387., 223., 158., 137.,\n",
       "       115., 189.,  37., 274.,  90., 117.,  86.,  51., 122.,  23.,  42.,\n",
       "        24., 361.,  79., 105., 342., 298., 236., 144.,  45., 151., 230.,\n",
       "        31.,  65., 206.,  50., 324., 295., 396., 154.,  30., 337., 149.,\n",
       "       143., 171., 234.,  14.,  49.,  68., 163., 218., 114.,  22., 359.,\n",
       "        20., 391., 228.,  91., 165., 368., 318.,  72.,  66.,  96., 244.,\n",
       "       123., 366., 294., 310., 237., 194.,  59., 119.,  35.,  73.,  60.,\n",
       "       101.,  71.,  93.,  74.])"
      ]
     },
     "metadata": {},
     "output_type": "display_data"
    },
    {
     "data": {
      "text/plain": [
       "' ExterQual '"
      ]
     },
     "metadata": {},
     "output_type": "display_data"
    },
    {
     "data": {
      "text/plain": [
       "array(['Gd', 'TA', 'Ex', 'Fa'], dtype=object)"
      ]
     },
     "metadata": {},
     "output_type": "display_data"
    },
    {
     "data": {
      "text/plain": [
       "' ExterCond '"
      ]
     },
     "metadata": {},
     "output_type": "display_data"
    },
    {
     "data": {
      "text/plain": [
       "array(['TA', 'Gd', 'Fa', 'Po', 'Ex'], dtype=object)"
      ]
     },
     "metadata": {},
     "output_type": "display_data"
    },
    {
     "data": {
      "text/plain": [
       "' Foundation '"
      ]
     },
     "metadata": {},
     "output_type": "display_data"
    },
    {
     "data": {
      "text/plain": [
       "array(['PConc', 'CBlock', 'BrkTil', 'Wood', 'Slab', 'Stone'], dtype=object)"
      ]
     },
     "metadata": {},
     "output_type": "display_data"
    },
    {
     "data": {
      "text/plain": [
       "' BsmtQual '"
      ]
     },
     "metadata": {},
     "output_type": "display_data"
    },
    {
     "data": {
      "text/plain": [
       "array(['Gd', 'TA', 'Ex', 'Fa'], dtype=object)"
      ]
     },
     "metadata": {},
     "output_type": "display_data"
    },
    {
     "data": {
      "text/plain": [
       "' BsmtCond '"
      ]
     },
     "metadata": {},
     "output_type": "display_data"
    },
    {
     "data": {
      "text/plain": [
       "array(['TA', 'Gd', 'Fa', 'Po'], dtype=object)"
      ]
     },
     "metadata": {},
     "output_type": "display_data"
    },
    {
     "data": {
      "text/plain": [
       "' BsmtExposure '"
      ]
     },
     "metadata": {},
     "output_type": "display_data"
    },
    {
     "data": {
      "text/plain": [
       "array(['No', 'Gd', 'Mn', 'Av'], dtype=object)"
      ]
     },
     "metadata": {},
     "output_type": "display_data"
    },
    {
     "data": {
      "text/plain": [
       "' BsmtFinType1 '"
      ]
     },
     "metadata": {},
     "output_type": "display_data"
    },
    {
     "data": {
      "text/plain": [
       "array(['GLQ', 'ALQ', 'Unf', 'Rec', 'BLQ', 'LwQ'], dtype=object)"
      ]
     },
     "metadata": {},
     "output_type": "display_data"
    },
    {
     "data": {
      "text/plain": [
       "' BsmtFinSF1 '"
      ]
     },
     "metadata": {},
     "output_type": "display_data"
    },
    {
     "data": {
      "text/plain": [
       "array([ 706,  978,  486,  216,  655,  732, 1369,  859,    0,  851,  906,\n",
       "        998,  737,  733,  578,  646,  504,  840,  188,  234, 1218, 1277,\n",
       "       1018, 1153, 1213,  731,  643,  967,  747,  280,  179,  456, 1351,\n",
       "         24,  763,  182,  104, 1770,  384,  490,  649,  632,  941,  739,\n",
       "        912, 1013,  603,  565,  320,  462,  228,  336,  448, 1201,   33,\n",
       "        588,  600,  713, 1046,  648,  310, 1162,  520,  108,  569, 1200,\n",
       "        224,  705,  444,  250,  984,   35,  774,  419,  170, 1470,  938,\n",
       "        570,  300,  120,  116,  512,  567,  445,  695,  405, 1005,  668,\n",
       "        821,  432, 1300,  507,  679, 1332,  209,  680,  716, 1400,  416,\n",
       "        429,  222,   57,  660, 1016,  370,  351,  379, 1288,  360,  639,\n",
       "        495,  288, 1398,  477,  831,  436,  352,  611, 1086,  297,  626,\n",
       "        560,  390,  566, 1126, 1036, 1088,  641,  617,  662,  312, 1065,\n",
       "        787,  468,   36,  822,  378,  946,  341,   16,  550,  524,   56,\n",
       "        321,  842,  689,  625,  358,  402,   94, 1078,  329,  929,  697,\n",
       "       1573,  270,  922,  503, 1334,  361,  672,  506,  714,  403,  751,\n",
       "        226,  620,  546,  392,  421,  905,  904,  430,  614,  450,  210,\n",
       "        292,  795, 1285,  819,  420,  841,  281,  894, 1464,  700,  262,\n",
       "       1274,  518, 1236,  425,  692,  987,  970,   28,  256, 1619,   40,\n",
       "        846, 1124,  720,  828, 1249,  810,  213,  585,  129,  498, 1270,\n",
       "        573, 1410, 1082,  236,  388,  334,  874,  956,  773,  399,  162,\n",
       "        712,  609,  371,  540,   72,  623,  428,  350,  298, 1445,  218,\n",
       "        985,  631, 1280,  241,  690,  266,  777,  812,  786, 1116,  789,\n",
       "       1056,   50, 1128,  775, 1309, 1246,  986,  616, 1518,  664,  387,\n",
       "        471,  385,  365, 1767,  133,  642,  247,  331,  742, 1606,  916,\n",
       "        185,  544,  553,  326,  778,  386,  426,  368,  459, 1350, 1196,\n",
       "        630,  994,  168, 1261, 1567,  299,  897,  607,  836,  515,  374,\n",
       "       1231,  111,  356,  400,  698, 1247,  257,  380,   27,  141,  991,\n",
       "        650,  521, 1436,  719,  377, 1330,  348, 1219,  783,  969,  673,\n",
       "       1358, 1260,  144,  584,  554, 1002,  619,  180,  559,  308,  866,\n",
       "        895,  637,  604, 1302, 1071,  290,  728,    2, 1441,  943,  231,\n",
       "        414,  349,  442,  328,  594,  816, 1460, 1324, 1338,  685, 1422,\n",
       "       1283,   81,  454,  903,  605,  990,  206,  150,  457,   48,  871,\n",
       "         41,  674,  624,  480, 1154,  738,  493, 1121,  282,  500,  131,\n",
       "       1696,  806, 1361,  920, 1721,  187, 1138,  988,  193,  551,  767,\n",
       "       1186,  892,  311,  827,  543, 1003, 1059,  239,  945,   20, 1455,\n",
       "        965,  980,  863,  533, 1084, 1173,  523, 1148,  191, 1234,  375,\n",
       "        808,  724,  152, 1180,  252,  832,  575,  919,  439,  381,  438,\n",
       "        549,  612, 1163,  437,  394, 1416,  422,  762,  975, 1097,  251,\n",
       "        686,  656,  568,  539,  862,  197,  516,  663,  608, 1636,  784,\n",
       "        249, 1040,  483,  196,  572,  338,  330,  156, 1390,  513,  460,\n",
       "        659,  364,  564,  306,  505,  932,  750,   64,  633, 1170,  899,\n",
       "        902, 1238,  528, 1024, 1064,  285,  465,  322,  860,  599,  354,\n",
       "         63,  223,  301,  443,  489,  284,  294,  814,  165,  552,  833,\n",
       "        464,  936,  772, 1440,  748,  982,  398,  562,  484,  417,  699,\n",
       "        696,  896,  556, 1106,  651,  867,  854, 1646, 1074,  536, 1172,\n",
       "        915,  595, 1237,  273,  684,  324, 1165,  138, 1513,  317, 1012,\n",
       "       1022,  509,  900, 1085, 1104,  240,  383,  644,  397,  740,  837,\n",
       "        220,  586,  535,  410,   75,  824,  592, 1039,  510,  423,  661,\n",
       "        248,  704,  412, 1032,  219,  708,  415, 1004,  353,  702,  369,\n",
       "        622,  212,  645,  852, 1150, 1258,  275,  176,  296,  538, 1157,\n",
       "        492, 1198, 1387,  522,  658, 1216, 1480, 1159,  440, 1456,  883,\n",
       "        547,  788,  485,  340, 1220,  427,  344,  756, 1540,  666,  803,\n",
       "       1000,  885, 1386,  319,  534,  125, 1314,  602,  192,  593,  804,\n",
       "       1053,  532, 1158, 1014,  194,  167,  776,  694, 1572,  746, 1406,\n",
       "        925,  482,  189,  765,   80, 1443,  259,  735,  734, 1447,  548,\n",
       "        315, 1282,  408,  309,  203,  865,  204,  790, 1320,  769, 1070,\n",
       "        264,  759, 1373,  976,  781,   25, 1110,  404,  580,  678,  958,\n",
       "       1336, 1079,   49,  830], dtype=int64)"
      ]
     },
     "metadata": {},
     "output_type": "display_data"
    },
    {
     "data": {
      "text/plain": [
       "' BsmtFinType2 '"
      ]
     },
     "metadata": {},
     "output_type": "display_data"
    },
    {
     "data": {
      "text/plain": [
       "array(['Unf', 'BLQ', 'ALQ', 'Rec', 'LwQ', 'GLQ'], dtype=object)"
      ]
     },
     "metadata": {},
     "output_type": "display_data"
    },
    {
     "data": {
      "text/plain": [
       "' BsmtFinSF2 '"
      ]
     },
     "metadata": {},
     "output_type": "display_data"
    },
    {
     "data": {
      "text/plain": [
       "array([0], dtype=int64)"
      ]
     },
     "metadata": {},
     "output_type": "display_data"
    },
    {
     "data": {
      "text/plain": [
       "' BsmtUnfSF '"
      ]
     },
     "metadata": {},
     "output_type": "display_data"
    },
    {
     "data": {
      "text/plain": [
       "array([ 150,  284,  434,  540,  490,   64,  317,  216,  952,  140,  134,\n",
       "        177,  175, 1494,  520,  832,  426,    0,  468,  525, 1158,  637,\n",
       "       1698,  200,  204, 1566,  180,  486,  207,  649, 1228, 1234,  380,\n",
       "        408, 1117, 1097,   84,  326,  445,  383,  167,  465, 1296,   83,\n",
       "       1632,  736,  192,  612,  816,   32,  935,  321,  860, 1410,  148,\n",
       "        217,  530, 1346,  576,  318, 1143, 1035,  440,  747,  701,  343,\n",
       "        280,  404,  840,  724,  295,  448,   36, 1530, 1065,  384, 1288,\n",
       "        684, 1013,  402,  635,  163,  168,  176,  370,  350,  381,  410,\n",
       "        741, 1226, 1053,  641,  516,  793, 1139,  550,  905,  104,  310,\n",
       "        252, 1125,  203,  728,  732,  510,  899, 1362,   30,  958,  556,\n",
       "        413,  479,  297,  658,  262,  891, 1304,  519,  336,  107,  432,\n",
       "        403,  811,  396,  970,  506,  884,  400,  896,  253,  409,   93,\n",
       "       1200,  572,  774,  769, 1335,  340,  882,  779,  112,  470,  294,\n",
       "       1686,  360,  441,  354,  700,  725,  320,  554,  312,  968,  504,\n",
       "       1107,  577,  660,   99,  871,  474,  289,  600,  755,  625, 1121,\n",
       "        276,  186, 1424, 1140,  375,   92,  305, 1176,   78,  274,  311,\n",
       "        710,  686,  457, 1232, 1498, 1010,  160,  630,  638,  162,   70,\n",
       "       1357, 1194,  773,  483,  235,  125, 1390,  594, 1694,  488,  357,\n",
       "        626,  916, 1020, 1367,  798,  452,  392,  975,  361,  270,  602,\n",
       "       1482,  680,  606,   88,  342,  212, 1095,   96,  628, 1560,  744,\n",
       "        768,  386, 1468, 1145,  244,  698, 1079,  570,  476,  131,  184,\n",
       "        143, 1092,  324, 1541, 1470,  536,  319,  599,  622,  179,  292,\n",
       "        286,   80,  712,  291,  153, 1088, 1249,  166,  906,  604,  100,\n",
       "        818,  844,  596,  210, 1603,  115,  103,  673,  726,  995,  967,\n",
       "        721, 1656,  972,  460,  208,  191,  438,  371,  624,  552,  322,\n",
       "        598,  268,  130,  484,  785,  733,  953,  847,  333, 1580,  411,\n",
       "        982,  808, 1293,  939,  784,  595,  229,  114,  522,  735,  405,\n",
       "        117,  961, 1286,  672, 1141,  806,  165, 1064, 1063,  245, 1276,\n",
       "        892, 1008,  499, 1316,  463,  242,  444,  281,   35,  356,  988,\n",
       "        580,  651,  619,  544,  387,  901,  926,  135,  648,   75,  788,\n",
       "       1307, 1078, 1258,  273, 1436,  557,  930,  780,  813,  878,  122,\n",
       "        248,  588,  524,  288,  389,  424, 1375, 1626,  406,  298,  417,\n",
       "        739,  225,  611,  237,  290,  264,  238,  363,  190,  697,  414,\n",
       "        316,  466,  420,  254,  960,  397, 1191,  548,   50,  178, 1368,\n",
       "        169,  748,  689, 1264,  467,  605, 1257,  551,  678,  707,  880,\n",
       "        378,  223,  578,  969,  379,  765,  149,  912,  620,  132,  993,\n",
       "        197, 1374,   90,  195,  706, 1163,  367, 1122, 1515,   55, 1497,\n",
       "        450,  846,   23,  390,  861,  285, 1050,  331, 1237,  113,  742,\n",
       "        924,  512,  119,  314,  308,  293,  537,  126,  427,  309,  914,\n",
       "        173,  823,  485, 1116,  978,  636,  564,  108, 1184,  796,  366,\n",
       "        300,  542,  645,  664,  756,  247,  776,  849, 1392,   38, 1406,\n",
       "        111,  545,  121,  161,  261,  567, 1195,  874, 1342,  151,  989,\n",
       "       1073,  927,  219,  224,  526, 1164,  761,  461,  876,  859,  171,\n",
       "        718,  138,  941,  464,  250,   72,  508, 1584,  415,   82,  948,\n",
       "        893,  864, 1349,   76,  487,  652, 1240,  801,  279, 1030,  348,\n",
       "        234, 1198,  740,   89,  586,  323,  480,  456,  338, 1594,  102,\n",
       "        374, 1413,  491, 1129,  255, 1496,  650,  154,  999,  124, 1417,\n",
       "         15,  834, 1649,  936,  778, 1489,  442, 1434,  352,  458, 1221,\n",
       "       1099,  416,  227,  907,  528,  189, 1273,  563,  372,  702, 1090,\n",
       "        435,  198, 1372,  174, 1638,  894,  299,  105,  676, 1120,  431,\n",
       "        218,  110,  795, 1098, 1043,  481,  666,  142,  447,  783, 1670,\n",
       "        277,  412,  794,  239,  662, 1072,  717,  546,  430,  422,  188,\n",
       "        266, 1181,  964, 1450, 1480,  772, 1032,  220,  187,   29,  495,\n",
       "        640,  193,  196,  720,  918, 1428,   77, 1266, 1128,  692,  770,\n",
       "        750, 1442, 1007,  501,  691, 1550, 1680, 1330,  746,  814,  515,\n",
       "        571,  359,  355,  301,  668,  920, 1055, 1420,  304, 1302,  833,\n",
       "        133,  549,  705,  722,  799,  462,  429,  810,  155,  170,  230,\n",
       "       1459, 1082,  758, 1290, 1074,  251,  172,  868,  797,  365,  418,\n",
       "        730,  533,  671, 1012, 1528, 1005, 1373,  500,  762,  752,  399,\n",
       "       1042,   40,   26,  932,  278,  459,  568, 1502,  543,  574,  977,\n",
       "        449,  983,  731,  120,  538,  831,  994,  341,  879,  815, 1212,\n",
       "        866, 1630,  328,  141,  364, 1380,   81,  303,  940,  764, 1048,\n",
       "        334, 1689,  690,  792,  585,  473,  246, 1045, 1405,  201,   14,\n",
       "        841, 1104,  241,  925,   74,  661,  708, 1152,  256,  804,  812,\n",
       "       1085,  344,  425, 1616,  976,  496,  349,  971, 1393, 1622, 1352,\n",
       "       1017, 1588,  428,  803,  693,  858, 1284, 1203, 1652,   39,  539,\n",
       "       1217,  257,  715,  616,  240,  315, 1351, 1026, 1571,  156,   61,\n",
       "         95,  482, 1094,   60,  862,  221,  791,  398,  777,  503,  734,\n",
       "        709, 1252,  656, 1319, 1422,  560, 1573,  589,  877,  136],\n",
       "      dtype=int64)"
      ]
     },
     "metadata": {},
     "output_type": "display_data"
    },
    {
     "data": {
      "text/plain": [
       "' TotalBsmtSF '"
      ]
     },
     "metadata": {},
     "output_type": "display_data"
    },
    {
     "data": {
      "text/plain": [
       "array([ 856. , 1262. ,  920. ,  756. , 1145. ,  796. , 1686. , 1107. ,\n",
       "        952. ,  991. , 1040. , 1175. ,  912. , 1494. , 1253. ,  832. ,\n",
       "       1004. ,    0. , 1114. , 1029. , 1158. ,  637. , 1777. , 1060. ,\n",
       "       1566. ,  900. , 1704. , 1484. ,  520. ,  649. , 1228. , 1234. ,\n",
       "       1398. , 1561. , 1117. , 1097. , 1297. , 1057. , 1088. , 1350. ,\n",
       "        840. ,  938. , 1150. , 1752. , 1434. , 1656. ,  736. ,  955. ,\n",
       "        794. ,  816. , 1842. ,  384. , 1425. ,  970. ,  860. , 1410. ,\n",
       "        780. ,  530. , 1370. ,  576. , 1143. , 1947. , 1453. ,  747. ,\n",
       "       1304. , 2036.5,  845. , 1086. ,  462. ,  672. , 1768. ,  440. ,\n",
       "        896. , 1237. , 1563. , 1065. , 1288. ,  684. ,  612. , 1013. ,\n",
       "        990. , 1235. ,  876. , 1214. ,  824. ,  680. , 1588. ,  960. ,\n",
       "        458. ,  950. , 1610. ,  741. , 1226. , 1053. ,  641. ,  789. ,\n",
       "        793. , 1844. ,  994. , 1264. , 1809. , 1028. ,  729. , 1092. ,\n",
       "       1125. , 1673. ,  728. ,  732. , 1080. , 1199. , 1362. , 1078. ,\n",
       "        660. , 1008. ,  924. ,  992. , 1063. , 1267. , 1461. , 1907. ,\n",
       "        928. ,  864. , 1734. ,  910. , 1490. , 1728. ,  715. ,  884. ,\n",
       "        969. , 1710. ,  825. , 1602. , 1200. ,  572. ,  774. , 1392. ,\n",
       "       1232. , 1572. , 1541. ,  882. , 1149. ,  644. , 1617. , 1582. ,\n",
       "        720. , 1064. , 1606. , 1202. , 1151. , 1052. ,  968. ,  504. ,\n",
       "       1188. , 1593. ,  853. ,  725. , 1431. ,  855. , 1726. , 1360. ,\n",
       "        755. , 1713. , 1121. , 1196. ,  617. ,  848. , 1424. , 1140. ,\n",
       "       1100. , 1157. , 1212. ,  689. , 1070. , 1436. ,  686. ,  798. ,\n",
       "       1248. , 1498. , 1010. ,  713. ,  630. , 1203. ,  483. , 1373. ,\n",
       "       1194. , 1462. ,  894. , 1414. ,  996. , 1694. ,  735. ,  540. ,\n",
       "        626. ,  948. , 1845. , 1020. , 1367. , 1444. , 1573. , 1302. ,\n",
       "       1314. ,  975. , 1604. ,  963. , 1482. ,  506. ,  926. , 1422. ,\n",
       "        802. ,  740. , 1095. , 1385. , 1152. , 1240. , 1560. , 1160. ,\n",
       "        807. , 1468. , 1575. ,  625. ,  858. ,  698. , 1079. ,  768. ,\n",
       "        795. , 1416. , 1003. ,  702. , 1165. , 1470. , 2000. ,  700. ,\n",
       "        319. ,  861. , 1896. ,  697. ,  972. ,  716. , 1347. , 1372. ,\n",
       "       1249. , 1136. , 1502. , 1162. ,  710. , 1719. , 1383. ,  844. ,\n",
       "        596. , 1056. , 1358. ,  943. , 1499. , 1922. , 1536. , 1208. ,\n",
       "       1215. ,  967. ,  721. , 1684. ,  536. ,  958. , 1478. ,  764. ,\n",
       "       1848. , 1869. ,  616. ,  624. ,  940. , 1142. , 1062. ,  888. ,\n",
       "        883. , 1394. , 1099. , 1268. ,  953. ,  744. ,  608. ,  847. ,\n",
       "        683. ,  870. , 1580. , 1856. ,  982. , 1026. , 1293. ,  939. ,\n",
       "        784. , 1256. ,  658. , 1041. , 1682. ,  804. ,  788. , 1144. ,\n",
       "        961. , 1260. , 1310. , 1141. ,  806. , 1281. , 1034. , 1276. ,\n",
       "       1340. , 1344. ,  988. ,  651. , 1518. ,  907. ,  901. ,  765. ,\n",
       "        799. ,  648. , 1440. , 1258. ,  915. , 1517. ,  930. ,  813. ,\n",
       "       1533. ,  872. , 1242. , 1364. ,  588. ,  709. ,  560. , 1375. ,\n",
       "       1277. , 1626. , 1488. ,  808. ,  547. , 1976. , 1705. , 1833. ,\n",
       "       1792. , 1216. ,  999. , 1113. , 1073. ,  954. ,  264. , 1269. ,\n",
       "        190. ,  866. , 1501. ,  777. , 1218. , 1368. , 1084. , 2006. ,\n",
       "       1244. , 1379. , 1257. , 1452. ,  528. , 2035. ,  611. ,  707. ,\n",
       "        880. , 1051. , 1581. , 1838. , 1650. ,  723. ,  654. , 1204. ,\n",
       "       1069. , 1709. ,  998. ,  993. , 1374. , 1389. , 1163. , 1122. ,\n",
       "       1496. ,  846. ,  372. , 1164. , 1050. , 1868. , 1437. ,  742. ,\n",
       "        770. , 1722. , 1814. , 1430. , 1058. ,  908. ,  600. ,  965. ,\n",
       "       1032. , 1299. , 1120. ,  936. ,  783. , 1822. , 1522. ,  980. ,\n",
       "       1116. ,  978. , 1156. ,  636. , 1554. , 1386. ,  811. , 1520. ,\n",
       "       1952. , 1766. ,  981. , 1094. ,  525. ,  776. , 1486. , 1629. ,\n",
       "       1138. , 1406. , 1021. , 1408. ,  738. , 1477. ,  923. , 1291. ,\n",
       "       1195. , 1190. ,  874. ,  551. , 1419. , 1210. ,  927. , 1112. ,\n",
       "       1391. , 1800. ,  360. , 1473. , 1643. , 1324. ,  270. ,  859. ,\n",
       "        718. , 1176. , 1311. ,  971. , 1742. ,  941. , 1698. , 1584. ,\n",
       "       1595. ,  868. , 1153. ,  893. , 1349. , 1337. , 1720. , 1479. ,\n",
       "       1030. , 1318. , 1252. ,  983. , 1860. ,  836. , 1935. , 1614. ,\n",
       "        761. , 1413. ,  956. ,  712. ,  650. ,  773. , 1926. ,  731. ,\n",
       "       1417. , 1024. ,  849. , 1442. , 1649. , 1568. ,  778. , 1489. ,\n",
       "       1454. , 1516. , 1067. , 1559. , 1127. , 1390. , 1273. ,  918. ,\n",
       "       1763. , 1090. , 1054. , 1039. , 1148. , 1002. , 1638. ,  105. ,\n",
       "        676. , 1184. , 1109. ,  892. , 1505. , 1059. ,  951. , 1670. ,\n",
       "       1623. , 1017. , 1105. , 1001. ,  546. ,  480. , 1134. , 1104. ,\n",
       "       1272. , 1316. , 1126. , 1181. , 1753. ,  964. , 1466. ,  925. ,\n",
       "       1905. , 1500. ,  585. , 1632. ,  819. , 1616. , 1161. ,  828. ,\n",
       "        945. ,  979. ,  561. ,  696. , 1330. ,  817. , 1098. , 1428. ,\n",
       "        673. , 1241. ,  944. , 1225. , 1266. , 1128. ,  485. , 1930. ,\n",
       "       1396. ,  916. ,  822. ,  750. , 1700. , 1007. , 1187. ,  691. ,\n",
       "       1574. , 1680. , 1346. ,  985. , 1657. ,  602. , 1022. , 1082. ,\n",
       "        810. , 1504. , 1220. , 1132. , 1565. , 1338. , 1654. , 1620. ,\n",
       "       1055. ,  800. , 1306. , 1475. , 1992. , 1193. ,  973. ,  854. ,\n",
       "        662. , 1103. , 1154. ,  942. , 1048. ,  727. ,  690. , 1096. ,\n",
       "       1459. , 1251. , 1247. , 1074. , 1271. ,  290. ,  655. , 1463. ,\n",
       "       1836. ,  803. ,  833. ,  408. ,  533. , 1012. , 1552. , 1005. ,\n",
       "       1530. ,  974. , 1567. , 1006. , 1042. , 1298. ,  704. ,  932. ,\n",
       "       1219. , 1296. , 1198. ,  959. , 1261. , 1598. , 1683. ,  818. ,\n",
       "       1600. , 1624. ,  831. , 1224. ,  663. ,  879. ,  815. , 1630. ,\n",
       "        931. , 1660. ,  559. , 1300. , 1702. , 1075. , 1361. , 1106. ,\n",
       "       1476. , 1689. ,  792. , 1405. , 1192. ,  746. , 1986. ,  841. ,\n",
       "       2002. , 1332. ,  935. , 1019. ,  661. , 1309. , 1328. , 1085. ,\n",
       "       1246. ,  771. ,  976. , 1652. , 1278. , 1902. , 1274. , 1393. ,\n",
       "       1622. , 1352. ,  420. , 1795. ,  544. , 1510. ,  911. ,  693. ,\n",
       "       1284. , 1732. , 2033. ,  570. , 1980. ,  814. ,  873. ,  757. ,\n",
       "       1108. , 1571. ,  984. , 1205. ,  714. , 1746. , 1525. ,  482. ,\n",
       "       1356. ,  862. ,  839. , 1286. , 1485. , 1594. ,  622. ,  791. ,\n",
       "        708. , 1223. ,  913. ,  656. , 1319. , 1932. ,  539. , 1221. ,\n",
       "       1542. ])"
      ]
     },
     "metadata": {},
     "output_type": "display_data"
    },
    {
     "data": {
      "text/plain": [
       "' Heating '"
      ]
     },
     "metadata": {},
     "output_type": "display_data"
    },
    {
     "data": {
      "text/plain": [
       "array(['GasA', 'GasW', 'Grav', 'Wall', 'OthW', 'Floor'], dtype=object)"
      ]
     },
     "metadata": {},
     "output_type": "display_data"
    },
    {
     "data": {
      "text/plain": [
       "' HeatingQC '"
      ]
     },
     "metadata": {},
     "output_type": "display_data"
    },
    {
     "data": {
      "text/plain": [
       "array(['Ex', 'Gd', 'TA', 'Fa', 'Po'], dtype=object)"
      ]
     },
     "metadata": {},
     "output_type": "display_data"
    },
    {
     "data": {
      "text/plain": [
       "' CentralAir '"
      ]
     },
     "metadata": {},
     "output_type": "display_data"
    },
    {
     "data": {
      "text/plain": [
       "array(['Y', 'N'], dtype=object)"
      ]
     },
     "metadata": {},
     "output_type": "display_data"
    },
    {
     "data": {
      "text/plain": [
       "' Electrical '"
      ]
     },
     "metadata": {},
     "output_type": "display_data"
    },
    {
     "data": {
      "text/plain": [
       "array(['SBrkr', 'FuseF', 'FuseA', 'FuseP', 'Mix'], dtype=object)"
      ]
     },
     "metadata": {},
     "output_type": "display_data"
    },
    {
     "data": {
      "text/plain": [
       "' 1stFlrSF '"
      ]
     },
     "metadata": {},
     "output_type": "display_data"
    },
    {
     "data": {
      "text/plain": [
       "array([ 856. , 1262. ,  920. ,  961. , 1145. ,  796. , 1694. , 1107. ,\n",
       "       1022. , 1077. , 1040. , 1182. ,  912. , 1494. , 1253. ,  854. ,\n",
       "       1004. , 1296. , 1114. , 1339. , 1158. , 1108. , 1795. , 1060. ,\n",
       "       1600. ,  900. , 1704. ,  520. ,  649. , 1228. , 1234. , 1700. ,\n",
       "       1561. , 1132. , 1097. , 1297. , 1057. , 1152. , 1324. , 1328. ,\n",
       "        884. ,  938. , 1150. , 1752. , 1518. , 1656. ,  736. ,  955. ,\n",
       "        794. ,  816. , 1842. , 1360. , 1425. ,  983. ,  860. , 1426. ,\n",
       "        780. ,  581. , 1370. ,  902. , 1143. , 2136.5, 1479. ,  747. ,\n",
       "       1304. ,  845. ,  885. , 1086. ,  840. ,  526. ,  952. , 1072. ,\n",
       "       1768. ,  682. , 1337. , 1563. , 1065. ,  804. , 1301. ,  684. ,\n",
       "        612. , 1013. ,  990. , 1235. ,  964. , 1260. ,  905. ,  680. ,\n",
       "       1588. ,  960. ,  835. , 1225. , 1610. ,  977. , 1535. , 1226. ,\n",
       "       1053. , 1047. ,  789. ,  997. , 1844. , 1216. ,  774. , 1282. ,\n",
       "       1436. ,  729. , 1092. , 1125. , 1699. ,  728. ,  988. ,  772. ,\n",
       "       1080. , 1199. , 1586. ,  958. ,  660. , 1327. , 1721. , 1682. ,\n",
       "       1214. , 1959. ,  928. ,  864. , 1734. ,  910. , 1501. , 1728. ,\n",
       "        970. ,  875. ,  896. ,  969. , 1710. , 1252. , 1200. ,  572. ,\n",
       "        991. , 1392. , 1232. , 1572. , 1541. ,  882. , 1149. ,  808. ,\n",
       "       1867. , 1707. , 1064. , 1362. , 1651. , 1164. ,  968. ,  769. ,\n",
       "        901. , 1340. ,  936. , 1217. , 1224. , 1593. , 1549. ,  725. ,\n",
       "       1431. ,  855. , 1726. ,  929. , 1713. , 1121. , 1279. ,  865. ,\n",
       "        848. ,  720. , 1442. , 1696. , 1100. , 1180. , 1212. ,  932. ,\n",
       "        689. , 1236. ,  810. , 1137. , 1248. , 1498. , 1010. ,  811. ,\n",
       "        630. ,  483. , 1555. , 1194. , 1490. ,  894. , 1414. , 1014. ,\n",
       "        798. , 1566. ,  866. ,  889. ,  626. , 1222. , 1872. ,  908. ,\n",
       "       1375. , 1444. , 1306. , 1625. , 1302. , 1314. , 1005. , 1604. ,\n",
       "        963. , 1382. , 1482. ,  926. ,  764. , 1422. ,  802. , 1052. ,\n",
       "        778. , 1113. , 1095. , 1363. , 1632. , 1560. , 2121. , 1156. ,\n",
       "       1175. , 1468. , 1575. ,  625. , 1085. ,  858. ,  698. , 1079. ,\n",
       "       1148. , 1644. , 1003. ,  975. , 1041. , 1336. , 1210. , 1675. ,\n",
       "       2000. , 1122. , 1035. ,  861. , 1944. ,  697. ,  972. ,  793. ,\n",
       "       2036. ,  832. ,  716. , 1153. , 1088. , 1372. , 1472. , 1249. ,\n",
       "       1136. , 1553. , 1163. , 1898. ,  803. , 1719. , 1383. , 1445. ,\n",
       "        596. , 1056. , 1629. , 1358. ,  943. , 1619. , 1922. , 1536. ,\n",
       "       1621. , 1215. ,  993. ,  841. , 1684. ,  536. , 1478. , 1848. ,\n",
       "       1869. , 1453. ,  616. , 1192. , 1167. , 1142. , 1352. ,  495. ,\n",
       "        790. ,  672. , 1394. , 1268. , 1287. ,  953. , 1120. ,  752. ,\n",
       "       1319. ,  847. ,  904. ,  914. , 1580. , 1856. , 1007. , 1026. ,\n",
       "        939. ,  784. , 1269. ,  658. , 1742. ,  788. ,  735. , 1144. ,\n",
       "        876. , 1112. , 1288. , 1310. , 1165. ,  806. , 1620. , 1166. ,\n",
       "       1071. , 1050. , 1276. , 1028. ,  756. , 1344. , 1602. , 1470. ,\n",
       "       1196. ,  707. ,  907. , 1208. , 1412. ,  765. ,  827. ,  734. ,\n",
       "        694. , 1440. , 1128. , 1258. ,  933. , 1689. , 1888. ,  956. ,\n",
       "        679. ,  813. , 1533. ,  888. ,  786. , 1242. ,  624. , 1663. ,\n",
       "        833. ,  979. ,  575. ,  849. , 1277. , 1634. , 1502. , 1161. ,\n",
       "       1976. , 1652. , 1493. , 2069. , 1718. , 1131. , 1850. , 1792. ,\n",
       "        916. ,  999. , 1073. , 1484. , 1766. ,  886. , 1133. ,  899. ,\n",
       "       1801. , 1218. , 1368. , 2020. , 1378. , 1244. , 1266. , 1476. ,\n",
       "        605. , 1509. ,  751. ,  334. ,  820. ,  880. , 1159. , 1601. ,\n",
       "       1838. , 1680. ,  767. ,  664. , 1377. ,  915. ,  768. ,  825. ,\n",
       "       1069. , 1717. , 1126. , 1006. , 1048. ,  897. , 1557. , 1389. ,\n",
       "        996. , 1134. , 1496. ,  846. ,  576. ,  877. , 1320. ,  703. ,\n",
       "       1429. , 2042. , 1521. ,  989. , 2028. ,  838. , 1473. ,  779. ,\n",
       "        770. ,  924. , 1826. , 1402. , 1647. , 1058. ,  927. ,  600. ,\n",
       "       1186. , 1940. , 1029. , 1032. , 1299. , 1054. ,  807. , 1828. ,\n",
       "       1548. ,  980. , 1012. , 1116. , 1520. , 1350. , 1089. , 1554. ,\n",
       "       1411. ,  800. , 1567. ,  981. , 1094. , 1051. ,  822. ,  755. ,\n",
       "        909. , 2113. ,  525. ,  851. , 1486. , 1686. , 1181. , 2097. ,\n",
       "       1454. , 1465. , 1679. , 1437. ,  738. , 1839. ,  792. , 2046. ,\n",
       "        923. , 1291. , 1668. , 1195. , 1190. ,  874. ,  551. , 1419. ,\n",
       "       1238. , 1067. , 1391. , 1800. , 1264. ,  372. , 1824. ,  859. ,\n",
       "       1576. , 1178. , 1325. ,  971. , 1698. , 1776. , 1616. , 1146. ,\n",
       "        948. , 1349. , 1464. , 1720. , 1038. ,  742. ,  757. , 1506. ,\n",
       "       1836. , 1690. , 1220. , 1117. , 1973. , 1204. , 1614. , 1430. ,\n",
       "       1110. , 1342. ,  966. ,  976. , 1062. , 1127. , 1285. ,  773. ,\n",
       "       1966. , 1428. , 1075. , 1309. , 1044. ,  686. , 1661. , 1008. ,\n",
       "        944. , 1489. , 2084. , 1434. , 1160. ,  941. , 1516. , 1559. ,\n",
       "       1099. , 1701. , 1307. , 1456. ,  918. , 1779. ,  702. , 1512. ,\n",
       "       1039. , 1002. , 1646. , 1547. , 1036. ,  676. , 1184. , 1462. ,\n",
       "       1155. , 1090. , 1187. ,  954. ,  892. , 1709. , 1712. ,  872. ,\n",
       "       1505. , 1068. ,  951. , 1670. , 1063. , 1636. , 1020. , 1105. ,\n",
       "       1015. , 1001. ,  546. ,  480. , 1229. , 1272. , 1316. , 1617. ,\n",
       "       1098. , 1788. , 1466. ,  925. , 1905. , 1500. , 1207. , 1188. ,\n",
       "       1381. ,  965. , 1168. ,  561. ,  696. , 1542. ,  824. ,  783. ,\n",
       "        673. ,  869. , 1241. , 1118. , 1407. ,  750. ,  691. , 1574. ,\n",
       "       1504. ,  985. , 1657. , 1664. , 1082. , 1687. , 1654. , 1055. ,\n",
       "       1803. , 1532. , 1733. , 1992. , 1771. ,  930. , 1526. , 1091. ,\n",
       "       1523. , 1364. , 1130. , 1096. , 1338. , 1103. , 1154. ,  799. ,\n",
       "        893. ,  829. , 1240. , 1459. , 1251. , 1247. , 1390. ,  438. ,\n",
       "        950. ,  887. , 1021. , 1552. ,  812. , 1530. ,  974. ,  986. ,\n",
       "       1042. , 1298. , 1811. , 1265. , 1640. , 1432. ,  959. , 1831. ,\n",
       "       1261. , 1170. , 2129. ,  818. , 1124. ,  949. , 1624. ,  831. ,\n",
       "       1622. ,  842. ,  663. ,  879. ,  815. , 1630. , 1074. , 1283. ,\n",
       "       1660. , 1318. , 1211. , 2136. , 1138. , 1702. , 1507. , 1361. ,\n",
       "       1024. , 1141. , 1173. , 2076. , 1140. , 1034. , 2110. , 1405. ,\n",
       "        760. , 1987. , 1104. ,  713. , 2018. , 1968. , 1332. ,  935. ,\n",
       "       1357. ,  661. , 1724. , 1573. , 1582. , 1659. , 1246. ,  753. ,\n",
       "       1203. , 1294. , 1902. , 1274. , 1787. , 1061. ,  708. , 1584. ,\n",
       "       1334. ,  693. , 1284. , 1172. , 2053. ,  992. , 1078. , 1980. ,\n",
       "       1281. ,  814. , 1571. ,  984. ,  754. , 2117. ,  998. , 1416. ,\n",
       "       1746. , 1525. , 1221. ,  741. , 1569. , 1223. ,  962. , 1537. ,\n",
       "       1932. , 1423. ,  913. , 1578. , 2073. , 1256. ])"
      ]
     },
     "metadata": {},
     "output_type": "display_data"
    },
    {
     "data": {
      "text/plain": [
       "' 2ndFlrSF '"
      ]
     },
     "metadata": {},
     "output_type": "display_data"
    },
    {
     "data": {
      "text/plain": [
       "array([ 854,    0,  866,  756, 1053,  566,  983,  752, 1142, 1218,  668,\n",
       "       1320,  631,  716,  676,  860, 1519,  530,  808,  977, 1330,  833,\n",
       "        765,  462,  213,  548,  960,  670, 1116,  876,  612, 1031,  881,\n",
       "        790,  755,  592,  939,  520,  639,  656, 1414,  884,  729, 1523,\n",
       "        728,  351,  688,  941, 1032,  848,  836,  475,  739, 1151,  448,\n",
       "        896,  524, 1194,  956, 1070, 1096,  467,  547,  551,  880,  703,\n",
       "        901,  720,  316, 1518,  704, 1178,  754,  601, 1360,  929,  445,\n",
       "        564,  882,  920,  518,  817, 1257,  741,  672, 1306,  504, 1304,\n",
       "       1100,  730,  689,  591,  888, 1020,  828,  700,  842, 1286,  864,\n",
       "        829, 1092,  709,  844, 1106,  596,  807,  625,  649,  698,  840,\n",
       "        780,  568,  795,  648,  975,  702, 1242, 1818, 1121,  371,  804,\n",
       "        325,  809, 1200,  871, 1274, 1347, 1332, 1177, 1080,  695,  167,\n",
       "        915,  576,  605,  862,  495,  403,  838,  517, 1427,  784,  711,\n",
       "        468, 1081,  886,  793,  665,  858,  874,  526,  590,  406, 1157,\n",
       "        299,  936,  438, 1098,  766, 1101, 1028, 1017, 1254,  378, 1160,\n",
       "        682,  110,  600,  678,  834,  384,  512,  930,  868,  224, 1103,\n",
       "        560,  811,  878,  574,  910,  620,  687,  546,  902, 1000,  846,\n",
       "       1067,  914,  660, 1538, 1015, 1237,  611,  707,  527, 1288,  832,\n",
       "        806, 1182, 1040,  439,  717,  511, 1129, 1370,  636,  533,  745,\n",
       "        584,  812,  684,  595,  988,  800,  677,  573, 1066,  778,  661,\n",
       "       1440,  872,  788,  843,  713,  567,  651,  762,  482,  738,  586,\n",
       "        679,  644,  900,  887, 1825, 1281,  472, 1312,  319,  978, 1093,\n",
       "        473,  664, 1540, 1276,  441,  348, 1060,  714,  744, 1203,  783,\n",
       "       1097,  734,  767, 1589,  742,  686, 1128, 1111, 1174,  787, 1072,\n",
       "       1088, 1063,  545,  966,  623,  432,  581,  540,  769, 1051,  761,\n",
       "        779,  514,  455, 1426,  785,  521,  252,  813, 1120, 1037, 1169,\n",
       "       1001, 1215,  928, 1140, 1243,  571, 1196, 1038,  561,  979,  701,\n",
       "        332,  368,  883, 1336, 1141,  634,  912,  798,  985,  826,  831,\n",
       "        750,  456,  602,  855,  336,  408,  980,  998, 1168, 1208,  797,\n",
       "        850,  898, 1054,  895,  954,  772, 1230,  727,  454,  370,  628,\n",
       "        304,  582, 1122, 1134,  885,  640,  580, 1112,  653,  220,  240,\n",
       "       1362,  534,  539,  650,  918,  933,  712, 1796,  971, 1175,  743,\n",
       "        523, 1216,  272,  685,  776,  630,  984,  875,  913,  464, 1039,\n",
       "       1259,  940,  892,  725,  924,  764,  925, 1479,  192,  589,  992,\n",
       "        903,  430,  748,  587,  994,  950, 1323,  732, 1357,  557, 1296,\n",
       "        390, 1185,  873, 1611,  457,  796,  908,  550,  989,  932,  358,\n",
       "       1392,  349,  691, 1349,  768,  208,  622,  857,  556, 1044,  708,\n",
       "        626,  904,  510, 1104,  830,  981,  870,  694, 1152], dtype=int64)"
      ]
     },
     "metadata": {},
     "output_type": "display_data"
    },
    {
     "data": {
      "text/plain": [
       "' LowQualFinSF '"
      ]
     },
     "metadata": {},
     "output_type": "display_data"
    },
    {
     "data": {
      "text/plain": [
       "array([0], dtype=int64)"
      ]
     },
     "metadata": {},
     "output_type": "display_data"
    },
    {
     "data": {
      "text/plain": [
       "' GrLivArea '"
      ]
     },
     "metadata": {},
     "output_type": "display_data"
    },
    {
     "data": {
      "text/plain": [
       "array([1710, 1262, 1786, 1717, 2198, 1362, 1694, 2090, 1774, 1077, 1040,\n",
       "       2324,  912, 1494, 1253,  854, 1004, 1296, 1114, 1339, 2376, 1108,\n",
       "       1795, 1060, 1600,  900, 1704,  520, 1317, 1228, 1234, 1700, 1561,\n",
       "       2452, 1097, 1297, 1057, 1152, 1324, 1328,  884,  938, 1150, 1752,\n",
       "       2149, 1656, 1452,  955, 1470, 1176,  816, 1842, 1360, 1425, 1739,\n",
       "       1720, 2791,  780, 1158, 1111, 1370, 2034, 2473, 2207, 1479,  747,\n",
       "       2287, 2223,  845, 1718, 1086, 1605,  988,  952, 1285, 1768, 1230,\n",
       "       2142, 1337, 1563, 1065, 1474, 2417, 1560, 1224, 1526,  990, 1235,\n",
       "        964, 2291, 1588,  960,  835, 1225, 1610, 1732, 1535, 1226, 1818,\n",
       "       1992, 1047,  789, 1517, 1844, 1855, 1430, 2696, 2259, 2320, 1458,\n",
       "       1092, 1125, 1456, 1123, 1080, 1199, 1586,  754,  958,  840, 1348,\n",
       "       1053, 2157, 2054, 1327, 1721, 1682, 1214, 1959, 1852, 1764,  864,\n",
       "       1734, 1385, 1501, 1728, 1709,  875, 2035, 1344,  969, 1993, 1252,\n",
       "       1200, 1096, 1968, 1947, 2462, 1232, 2668, 1541,  882, 1616, 1355,\n",
       "       1867, 2161, 1707, 1382, 1767, 1651, 2158, 2060, 1920, 2234,  968,\n",
       "       1525, 1802, 1340, 2082, 1217, 1593, 2727, 1431, 1726, 2229, 1713,\n",
       "       1121, 1279, 1310,  848, 1284, 1442, 1696, 1100, 2062, 1212, 1392,\n",
       "       1236, 1436, 1954, 1248, 1498, 2267, 1552, 2392, 1302, 2520,  987,\n",
       "       1555, 1194,  894, 1960, 1414, 1744, 1487, 1566,  866, 1440, 2110,\n",
       "       1872, 1928, 1375, 1668, 2144, 1306, 1625, 1640, 1314, 1604, 1792,\n",
       "       2574, 1316,  764, 1422, 1511, 2192,  778, 1113, 1939, 1363, 2270,\n",
       "       1632, 1548, 2121, 2022, 1982, 1468, 1575, 1250,  858, 1396, 1919,\n",
       "       1716, 2263, 1644, 1003, 1558, 1950, 1743, 1336, 2000, 2243, 1406,\n",
       "        861, 1944,  972, 1118, 2036, 1641, 1432, 2353, 2646, 1472, 2596,\n",
       "       2468, 2730, 1163,  803, 1719, 1383, 2134, 1192, 1056, 1629, 1358,\n",
       "       1638, 1922, 1536, 1621, 1215, 1908,  841, 1684, 1112, 1577, 1478,\n",
       "       1626, 2728, 1869, 1453,  720, 1595, 1167, 1142, 1352, 1924, 1505,\n",
       "       1574, 1394, 1268, 1287, 1664,  752, 1319,  904,  914, 2466, 1856,\n",
       "       1800, 1691, 1301, 1797,  784, 1953, 1269, 1184, 2332, 1367, 1961,\n",
       "        788, 1034, 1144, 1812, 1550, 1288,  672, 1572, 1620, 1639, 1680,\n",
       "       2172, 2078, 1276, 1028, 2097, 1400, 2624, 1134, 1602, 2630, 1196,\n",
       "       1389,  907, 1208, 1412, 1198, 1365,  630, 1661,  694, 2402, 1573,\n",
       "       1258, 1689, 1888, 1886, 1376, 1183,  813, 1533, 1756, 1590, 1242,\n",
       "       1663, 1666, 1203, 1935, 1135, 1660, 1277, 1634, 1502, 1969, 1072,\n",
       "       1976, 1652,  970, 1493, 2643, 1131, 1850, 1826, 1216,  999, 1073,\n",
       "       1484, 2414, 1304, 1578,  886, 1820,  899, 1218, 1801, 1322, 1911,\n",
       "       1378, 1041, 1368, 2020, 2119, 2344, 1796, 2080, 1294, 1244, 2398,\n",
       "       1266,  928, 2713,  605, 2515, 1509,  827,  334, 1347, 1724, 1159,\n",
       "       1601, 1838, 2285,  767, 1496, 2183, 1635,  768,  825, 2094, 1069,\n",
       "       1126, 2046, 1048, 1446, 1557,  996, 1674, 2295, 1647, 2504, 2132,\n",
       "        943, 1692, 1109, 1477, 1320, 1429, 2042, 2775, 2028,  838,  860,\n",
       "       1473,  935, 1582, 2296,  924, 1402, 1556, 1904, 1915, 1986, 2008,\n",
       "       1029, 2153, 1032, 1120, 1054,  832, 1828, 2262, 2614,  980, 1512,\n",
       "       1790, 1116, 1520, 1350, 1750, 1554, 1411,  800, 1387,  796, 1567,\n",
       "       1518, 1929, 2704, 1766,  981, 1094, 1839, 1665, 1510, 1469, 2113,\n",
       "       1486, 2448, 1181, 1936, 2380, 1679, 1437, 1180, 1476, 1369, 1136,\n",
       "       1441,  792,  923, 1291, 1761, 1102, 1419, 2519, 1539, 1137,  616,\n",
       "       1148, 1391, 1164, 2576, 1824,  729, 1178, 2554, 2418,  971, 1742,\n",
       "       1698, 1776, 1146, 2031,  948, 1349, 1464, 2715, 2256, 2640, 1529,\n",
       "       1140, 2098, 1026, 1471, 1386, 2531, 1547, 2365, 1506, 1714, 1836,\n",
       "       1220, 1117, 1973, 1204, 1614, 1603, 1110, 1342, 2084,  901, 2087,\n",
       "       1145, 1062, 2013, 1895, 1564,  773, 1688, 1128, 1428, 1576, 2138,\n",
       "       1309, 1044, 1008, 1052,  936, 1733, 1489, 1434, 2126, 1223, 1829,\n",
       "       1516, 1067, 1559, 1099, 1482, 1165, 1416, 1701, 1775, 2358, 1646,\n",
       "       1445, 1779, 1481, 2654, 1426, 1039, 1372, 1002, 1949,  910, 2610,\n",
       "       2224, 1155, 1090, 2230,  892, 1712, 1393, 2217, 1683, 1068,  951,\n",
       "       2240, 2364, 1670,  902, 1063, 1636, 2057, 2274, 1015, 2002,  480,\n",
       "       1229, 2127, 2200, 1617, 1686, 2374, 1978, 1788, 2236, 1466,  925,\n",
       "       1905, 1500, 2069, 1971, 1962, 2403, 1381,  965, 1958, 1894, 1308,\n",
       "       1098, 1095,  918, 2019,  869, 1241, 2612, 2290, 1940, 2030, 1851,\n",
       "       1050,  944,  691, 1504,  985, 1657, 1522, 1271, 1022, 1082, 1132,\n",
       "       1264, 1654,  954, 1803, 2329, 2524, 1771,  930, 1977, 1989, 1523,\n",
       "       1364, 2184, 1991, 1338, 2337, 1103, 1154, 2260, 1571, 1611, 2521,\n",
       "        893, 1240, 1740, 1459, 1251, 1247, 1088,  438,  950, 2622, 2021,\n",
       "       1690, 1658, 1964,  833, 1012,  698, 1005, 1530, 1981,  974, 2210,\n",
       "        986, 1020, 1868, 1006, 1298,  932, 1811, 1265, 1580, 1876, 1671,\n",
       "       2108, 1261, 2345, 1343, 1124, 2514, 1130, 1221, 1699, 1624, 1804,\n",
       "       1622, 1863, 1630, 1074, 2196, 1283, 1845, 1902, 1211, 1846, 2136,\n",
       "       1490, 1138, 1933, 1702, 1507, 2620, 1190, 1188, 1784, 1948, 1141,\n",
       "       1173, 2076, 1553, 2058, 1405,  874, 2167, 1987, 1166, 1675, 1889,\n",
       "       2018, 1524, 1357, 1395, 2447, 1659, 1970, 2372, 1246, 1983, 2526,\n",
       "       1708, 1122, 1274, 2599, 2112, 1787, 1923,  708,  774, 1334,  693,\n",
       "       1861,  872, 2169, 1913, 2156, 2634, 1865, 1078, 1980, 2601, 1738,\n",
       "       1475, 1374, 2633,  790, 2117, 1762, 2784, 1746, 1584, 1912, 2482,\n",
       "       1687, 1513, 1608, 2093, 1840, 1848, 1569, 2450, 2201,  804, 1537,\n",
       "       1932, 1725, 2555, 2007,  913, 1346, 2073, 2340, 1256], dtype=int64)"
      ]
     },
     "metadata": {},
     "output_type": "display_data"
    },
    {
     "data": {
      "text/plain": [
       "' BsmtFullBath '"
      ]
     },
     "metadata": {},
     "output_type": "display_data"
    },
    {
     "data": {
      "text/plain": [
       "array([1. , 0. , 2. , 2.5])"
      ]
     },
     "metadata": {},
     "output_type": "display_data"
    },
    {
     "data": {
      "text/plain": [
       "' BsmtHalfBath '"
      ]
     },
     "metadata": {},
     "output_type": "display_data"
    },
    {
     "data": {
      "text/plain": [
       "array([0], dtype=int64)"
      ]
     },
     "metadata": {},
     "output_type": "display_data"
    },
    {
     "data": {
      "text/plain": [
       "' FullBath '"
      ]
     },
     "metadata": {},
     "output_type": "display_data"
    },
    {
     "data": {
      "text/plain": [
       "array([2, 1, 3, 0], dtype=int64)"
      ]
     },
     "metadata": {},
     "output_type": "display_data"
    },
    {
     "data": {
      "text/plain": [
       "' HalfBath '"
      ]
     },
     "metadata": {},
     "output_type": "display_data"
    },
    {
     "data": {
      "text/plain": [
       "array([1, 0, 2], dtype=int64)"
      ]
     },
     "metadata": {},
     "output_type": "display_data"
    },
    {
     "data": {
      "text/plain": [
       "' BedroomAbvGr '"
      ]
     },
     "metadata": {},
     "output_type": "display_data"
    },
    {
     "data": {
      "text/plain": [
       "array([3. , 4. , 1. , 2. , 0. , 4.5])"
      ]
     },
     "metadata": {},
     "output_type": "display_data"
    },
    {
     "data": {
      "text/plain": [
       "' KitchenAbvGr '"
      ]
     },
     "metadata": {},
     "output_type": "display_data"
    },
    {
     "data": {
      "text/plain": [
       "array([1, 0], dtype=int64)"
      ]
     },
     "metadata": {},
     "output_type": "display_data"
    },
    {
     "data": {
      "text/plain": [
       "' KitchenQual '"
      ]
     },
     "metadata": {},
     "output_type": "display_data"
    },
    {
     "data": {
      "text/plain": [
       "array(['Gd', 'TA', 'Ex', 'Fa'], dtype=object)"
      ]
     },
     "metadata": {},
     "output_type": "display_data"
    },
    {
     "data": {
      "text/plain": [
       "' TotRmsAbvGrd '"
      ]
     },
     "metadata": {},
     "output_type": "display_data"
    },
    {
     "data": {
      "text/plain": [
       "array([ 8,  6,  7,  9,  5, 10,  4,  3,  2], dtype=int64)"
      ]
     },
     "metadata": {},
     "output_type": "display_data"
    },
    {
     "data": {
      "text/plain": [
       "' Functional '"
      ]
     },
     "metadata": {},
     "output_type": "display_data"
    },
    {
     "data": {
      "text/plain": [
       "array(['Typ', 'Min1', 'Maj1', 'Min2', 'Mod', 'Maj2', 'Sev'], dtype=object)"
      ]
     },
     "metadata": {},
     "output_type": "display_data"
    },
    {
     "data": {
      "text/plain": [
       "' Fireplaces '"
      ]
     },
     "metadata": {},
     "output_type": "display_data"
    },
    {
     "data": {
      "text/plain": [
       "array([0. , 1. , 2. , 2.5])"
      ]
     },
     "metadata": {},
     "output_type": "display_data"
    },
    {
     "data": {
      "text/plain": [
       "' FireplaceQu '"
      ]
     },
     "metadata": {},
     "output_type": "display_data"
    },
    {
     "data": {
      "text/plain": [
       "array(['Gd', 'TA', 'Fa', 'Ex', 'Po'], dtype=object)"
      ]
     },
     "metadata": {},
     "output_type": "display_data"
    },
    {
     "data": {
      "text/plain": [
       "' GarageType '"
      ]
     },
     "metadata": {},
     "output_type": "display_data"
    },
    {
     "data": {
      "text/plain": [
       "array(['Attchd', 'Detchd', 'BuiltIn', 'CarPort', 'Basment', '2Types'],\n",
       "      dtype=object)"
      ]
     },
     "metadata": {},
     "output_type": "display_data"
    },
    {
     "data": {
      "text/plain": [
       "' GarageYrBlt '"
      ]
     },
     "metadata": {},
     "output_type": "display_data"
    },
    {
     "data": {
      "text/plain": [
       "array([2003., 1976., 2001., 1998., 2000., 1993., 2004., 1973., 1931.,\n",
       "       1939., 1965., 2005., 1962., 2006., 1960., 1991., 1970., 1967.,\n",
       "       1958., 1930., 2002., 1968., 2007., 2008., 1957., 1927., 1920.,\n",
       "       1966., 1959., 1995., 1954., 1953., 1983., 1977., 1997., 1985.,\n",
       "       1963., 1981., 1964., 1999., 1935., 1990., 1945., 1987., 1989.,\n",
       "       1915., 1956., 1948., 1974., 2009., 1950., 1961., 1921., 1910.,\n",
       "       1979., 1951., 1969., 1936., 1975., 1971., 1923., 1984., 1926.,\n",
       "       1955., 1986., 1988., 1916., 1932., 1972., 1918., 1980., 1924.,\n",
       "       1996., 1940., 1949., 1994., 1978., 1982., 1992., 1925., 1941.,\n",
       "       2010., 1947., 1937., 1942., 1938., 1952., 1928., 1922., 1934.,\n",
       "       1906., 1914., 1946., 1908., 1929., 1933., 2014., 2017., 2016.,\n",
       "       2013., 2019., 2015.])"
      ]
     },
     "metadata": {},
     "output_type": "display_data"
    },
    {
     "data": {
      "text/plain": [
       "' GarageFinish '"
      ]
     },
     "metadata": {},
     "output_type": "display_data"
    },
    {
     "data": {
      "text/plain": [
       "array(['RFn', 'Unf', 'Fin'], dtype=object)"
      ]
     },
     "metadata": {},
     "output_type": "display_data"
    },
    {
     "data": {
      "text/plain": [
       "' GarageCars '"
      ]
     },
     "metadata": {},
     "output_type": "display_data"
    },
    {
     "data": {
      "text/plain": [
       "array([2. , 3. , 1. , 0. , 3.5])"
      ]
     },
     "metadata": {},
     "output_type": "display_data"
    },
    {
     "data": {
      "text/plain": [
       "' GarageArea '"
      ]
     },
     "metadata": {},
     "output_type": "display_data"
    },
    {
     "data": {
      "text/plain": [
       "array([548, 460, 608, 642, 836, 480, 636, 484, 468, 205, 384, 736, 352,\n",
       "       840, 576, 516, 294, 853, 280, 534, 572, 270, 890, 772, 319, 240,\n",
       "       250, 271, 447, 556, 691, 672, 498, 246,   0, 440, 308, 504, 300,\n",
       "       670, 826, 386, 388, 528, 894, 565, 641, 288, 645, 852, 558, 220,\n",
       "       667, 360, 427, 490, 379, 297, 283, 509, 405, 758, 461, 400, 462,\n",
       "       420, 432, 506, 684, 472, 366, 476, 410, 740, 648, 273, 546, 325,\n",
       "       792, 450, 180, 430, 594, 390, 540, 264, 530, 435, 453, 750, 487,\n",
       "       624, 471, 318, 766, 660, 470, 720, 577, 380, 434, 866, 495, 564,\n",
       "       312, 625, 680, 678, 726, 532, 216, 303, 789, 511, 616, 521, 451,\n",
       "       936, 252, 497, 682, 666, 786, 795, 856, 473, 398, 500, 349, 454,\n",
       "       644, 299, 210, 431, 438, 675, 721, 336, 810, 494, 457, 818, 463,\n",
       "       604, 389, 538, 520, 309, 429, 673, 884, 868, 492, 413, 924, 439,\n",
       "       671, 338, 573, 732, 505, 575, 626, 898, 529, 685, 281, 539, 418,\n",
       "       588, 282, 375, 683, 843, 552, 870, 888, 746, 708, 513, 656, 872,\n",
       "       292, 441, 189, 880, 676, 301, 474, 706, 617, 445, 200, 592, 566,\n",
       "       514, 296, 244, 610, 834, 639, 501, 846, 560, 596, 600, 373, 350,\n",
       "       396, 864, 304, 784, 696, 569, 628, 550, 493, 578, 198, 422, 228,\n",
       "       526, 525, 908, 499, 508, 694, 874, 164, 402, 515, 286, 603, 900,\n",
       "       583, 889, 858, 502, 392, 403, 527, 765, 367, 426, 615, 871, 570,\n",
       "       406, 590, 612, 650, 275, 452, 842, 816, 621, 544, 486, 230, 261,\n",
       "       531, 393, 774, 749, 364, 627, 260, 256, 478, 442, 562, 512, 839,\n",
       "       330, 711, 416, 779, 702, 567, 832, 326, 551, 606, 739, 408, 475,\n",
       "       704, 768, 632, 541, 320, 800, 831, 554, 878, 752, 614, 481, 496,\n",
       "       423, 841, 895, 412, 865, 630, 605, 602, 618, 444, 397, 455, 409,\n",
       "       820, 598, 857, 595, 433, 776, 458, 613, 456, 436, 812, 686, 611,\n",
       "       425, 343, 479, 619, 902, 574, 523, 414, 738, 354, 483, 327, 756,\n",
       "       690, 284, 833, 601, 533, 522, 788, 555, 689, 796, 808, 510, 255,\n",
       "       424, 305, 368, 824, 328, 160, 437, 665, 290, 912, 905, 542, 716,\n",
       "       586, 467, 582, 254, 712, 719, 862, 928, 782, 466, 714, 225, 234,\n",
       "       324, 306, 830, 807, 358, 186, 693, 482, 813, 757, 459, 701, 322,\n",
       "       315, 668, 404, 543, 850, 477, 276, 518, 753, 213, 844, 860, 748,\n",
       "       248, 287, 825, 647, 342, 770, 663, 377, 804, 722, 208, 662, 754,\n",
       "       622, 620, 370, 372, 923, 192], dtype=int64)"
      ]
     },
     "metadata": {},
     "output_type": "display_data"
    },
    {
     "data": {
      "text/plain": [
       "' GarageQual '"
      ]
     },
     "metadata": {},
     "output_type": "display_data"
    },
    {
     "data": {
      "text/plain": [
       "array(['TA', 'Fa', 'Gd', 'Ex', 'Po'], dtype=object)"
      ]
     },
     "metadata": {},
     "output_type": "display_data"
    },
    {
     "data": {
      "text/plain": [
       "' GarageCond '"
      ]
     },
     "metadata": {},
     "output_type": "display_data"
    },
    {
     "data": {
      "text/plain": [
       "array(['TA', 'Fa', 'Gd', 'Po', 'Ex'], dtype=object)"
      ]
     },
     "metadata": {},
     "output_type": "display_data"
    },
    {
     "data": {
      "text/plain": [
       "' PavedDrive '"
      ]
     },
     "metadata": {},
     "output_type": "display_data"
    },
    {
     "data": {
      "text/plain": [
       "array(['Y', 'N', 'P'], dtype=object)"
      ]
     },
     "metadata": {},
     "output_type": "display_data"
    },
    {
     "data": {
      "text/plain": [
       "' WoodDeckSF '"
      ]
     },
     "metadata": {},
     "output_type": "display_data"
    },
    {
     "data": {
      "text/plain": [
       "array([  0, 298, 192,  40, 255, 235,  90, 147, 140, 160,  48, 240, 171,\n",
       "       100, 406, 222, 288,  49, 203, 113, 392, 145, 196, 168, 112, 106,\n",
       "       420, 115, 120,  12, 301, 144, 300,  74, 127, 232, 158, 352, 182,\n",
       "       180, 166, 224,  80, 367,  53, 188, 105,  24,  98, 276, 200, 409,\n",
       "       239, 400, 178, 237, 210, 116, 280, 104,  87, 132, 238, 149, 355,\n",
       "        60, 139, 108, 351, 209, 216, 248, 143, 365, 370,  58, 197, 263,\n",
       "       123, 138, 333, 250, 292,  95, 262,  81, 289, 124, 172, 110, 208,\n",
       "       256, 302, 190, 340, 233, 184, 201, 142, 122, 155, 135, 306,  64,\n",
       "       364, 353,  66, 159, 146, 296, 125,  44, 215, 264,  88,  89,  96,\n",
       "       414, 206, 141, 260, 324, 156, 220,  38, 261, 126,  85, 270,  78,\n",
       "       169, 320, 268,  72, 349,  42,  35, 326, 382, 161, 179, 103, 253,\n",
       "       148, 335, 176, 390, 328, 312, 185, 269, 195,  57, 236, 304, 198,\n",
       "        28, 316, 322, 307, 257, 219, 416, 344, 380,  68, 114, 327, 165,\n",
       "       187, 181,  92, 228, 245, 315, 241, 303, 133, 403,  36,  52, 265,\n",
       "       207, 150, 290, 278,  70, 418, 234,  26, 342,  97, 272, 121, 243,\n",
       "       154, 164, 173, 384, 202,  56, 321,  86, 194, 305, 117, 153, 394,\n",
       "       371,  63, 252, 136, 186, 170, 214, 199,  55, 361, 362, 162, 229,\n",
       "       379, 356,  84, 325,  33, 212, 314, 242, 294,  30, 128,  45, 177,\n",
       "       227, 218, 309, 404, 402, 283, 183, 175, 295,  32, 366], dtype=int64)"
      ]
     },
     "metadata": {},
     "output_type": "display_data"
    },
    {
     "data": {
      "text/plain": [
       "' OpenPorchSF '"
      ]
     },
     "metadata": {},
     "output_type": "display_data"
    },
    {
     "data": {
      "text/plain": [
       "array([ 61. ,   0. ,  42. ,  35. ,  84. ,  30. ,  57. , 167.5,   4. ,\n",
       "        21. ,  33. , 112. , 102. , 154. , 159. , 110. ,  90. ,  56. ,\n",
       "        32. ,  50. ,  54. ,  65. ,  38. ,  47. ,  64. ,  52. , 138. ,\n",
       "       104. ,  82. ,  43. , 146. ,  75. ,  72. ,  70. ,  49. ,  11. ,\n",
       "        36. , 151. ,  29. ,  94. , 101. ,  99. , 162. ,  63. ,  68. ,\n",
       "        46. ,  45. , 122. , 120. ,  20. ,  24. , 130. , 108. ,  80. ,\n",
       "        66. ,  48. ,  25. ,  96. , 111. , 106. ,  40. , 114. ,   8. ,\n",
       "       136. , 132. ,  62. ,  60. ,  27. ,  74. ,  16. ,  26. ,  83. ,\n",
       "        34. ,  55. ,  22. ,  98. , 119. , 105. , 140. ,  28. ,  39. ,\n",
       "       148. ,  12. ,  51. , 150. , 117. ,  10. ,  81. ,  44. , 144. ,\n",
       "       128. ,  76. ,  17. ,  59. , 121. ,  53. , 134. , 123. ,  78. ,\n",
       "        85. , 133. , 113. , 137. , 125. , 100. ,  88. , 155. ,  73. ,\n",
       "       158. , 142. , 124. ,  87. ,  23. , 152. , 116. , 160. ,  18. ,\n",
       "       156. , 166. , 129. ,  77. ,  67. ,  69. , 131. ,  41. , 118. ,\n",
       "       135. ,  95. ,  58. ,  93. ,  92. , 103. ,  91. ,  86. , 141. ,\n",
       "        15. , 126. ])"
      ]
     },
     "metadata": {},
     "output_type": "display_data"
    },
    {
     "data": {
      "text/plain": [
       "' EnclosedPorch '"
      ]
     },
     "metadata": {},
     "output_type": "display_data"
    },
    {
     "data": {
      "text/plain": [
       "array([0], dtype=int64)"
      ]
     },
     "metadata": {},
     "output_type": "display_data"
    },
    {
     "data": {
      "text/plain": [
       "' 3SsnPorch '"
      ]
     },
     "metadata": {},
     "output_type": "display_data"
    },
    {
     "data": {
      "text/plain": [
       "array([0], dtype=int64)"
      ]
     },
     "metadata": {},
     "output_type": "display_data"
    },
    {
     "data": {
      "text/plain": [
       "' ScreenPorch '"
      ]
     },
     "metadata": {},
     "output_type": "display_data"
    },
    {
     "data": {
      "text/plain": [
       "array([0], dtype=int64)"
      ]
     },
     "metadata": {},
     "output_type": "display_data"
    },
    {
     "data": {
      "text/plain": [
       "' PoolArea '"
      ]
     },
     "metadata": {},
     "output_type": "display_data"
    },
    {
     "data": {
      "text/plain": [
       "array([0], dtype=int64)"
      ]
     },
     "metadata": {},
     "output_type": "display_data"
    },
    {
     "data": {
      "text/plain": [
       "' PoolQC '"
      ]
     },
     "metadata": {},
     "output_type": "display_data"
    },
    {
     "data": {
      "text/plain": [
       "array(['Gd', 'Ex', 'Fa'], dtype=object)"
      ]
     },
     "metadata": {},
     "output_type": "display_data"
    },
    {
     "data": {
      "text/plain": [
       "' Fence '"
      ]
     },
     "metadata": {},
     "output_type": "display_data"
    },
    {
     "data": {
      "text/plain": [
       "array(['MnPrv', 'GdWo', 'GdPrv', 'MnWw'], dtype=object)"
      ]
     },
     "metadata": {},
     "output_type": "display_data"
    },
    {
     "data": {
      "text/plain": [
       "' MiscFeature '"
      ]
     },
     "metadata": {},
     "output_type": "display_data"
    },
    {
     "data": {
      "text/plain": [
       "array(['Shed', 'Gar2', 'Othr', 'TenC'], dtype=object)"
      ]
     },
     "metadata": {},
     "output_type": "display_data"
    },
    {
     "data": {
      "text/plain": [
       "' MiscVal '"
      ]
     },
     "metadata": {},
     "output_type": "display_data"
    },
    {
     "data": {
      "text/plain": [
       "array([0], dtype=int64)"
      ]
     },
     "metadata": {},
     "output_type": "display_data"
    },
    {
     "data": {
      "text/plain": [
       "' MoSold '"
      ]
     },
     "metadata": {},
     "output_type": "display_data"
    },
    {
     "data": {
      "text/plain": [
       "array([ 2,  5,  9, 12, 10,  8, 11,  4,  1,  7,  3,  6], dtype=int64)"
      ]
     },
     "metadata": {},
     "output_type": "display_data"
    },
    {
     "data": {
      "text/plain": [
       "' YrSold '"
      ]
     },
     "metadata": {},
     "output_type": "display_data"
    },
    {
     "data": {
      "text/plain": [
       "array([2008, 2007, 2006, 2009, 2010], dtype=int64)"
      ]
     },
     "metadata": {},
     "output_type": "display_data"
    },
    {
     "data": {
      "text/plain": [
       "' SaleType '"
      ]
     },
     "metadata": {},
     "output_type": "display_data"
    },
    {
     "data": {
      "text/plain": [
       "array(['WD', 'New', 'COD', 'ConLD', 'ConLI', 'CWD', 'ConLw', 'Con', 'Oth'],\n",
       "      dtype=object)"
      ]
     },
     "metadata": {},
     "output_type": "display_data"
    },
    {
     "data": {
      "text/plain": [
       "' SaleCondition '"
      ]
     },
     "metadata": {},
     "output_type": "display_data"
    },
    {
     "data": {
      "text/plain": [
       "array(['Normal', 'Abnorml', 'Partial', 'AdjLand', 'Alloca', 'Family'],\n",
       "      dtype=object)"
      ]
     },
     "metadata": {},
     "output_type": "display_data"
    },
    {
     "data": {
      "text/plain": [
       "' Property_Sale_Price '"
      ]
     },
     "metadata": {},
     "output_type": "display_data"
    },
    {
     "data": {
      "text/plain": [
       "array([208500, 181500, 223500, 140000, 250000, 143000, 307000, 200000,\n",
       "       129900, 118000, 129500, 340000, 144000, 279500, 157000, 132000,\n",
       "       149000,  90000, 159000, 139000, 325300, 139400, 230000, 154000,\n",
       "       256300, 134800, 306000, 207500,  68500,  40000, 149350, 179900,\n",
       "       165500, 277500, 309000, 145000, 153000, 109000,  82000, 160000,\n",
       "       170000, 130250, 141000, 319900, 239686, 249700, 113000, 127000,\n",
       "       177000, 114500, 110000, 130000, 180500, 172500, 196500, 124900,\n",
       "       158000, 101000, 202500, 219500, 317000, 180000, 226000,  80000,\n",
       "       225000, 244000, 185000, 144900, 107400,  91000, 135750, 136500,\n",
       "       193500, 153500, 245000, 126500, 168500, 260000, 174000, 164500,\n",
       "        85000, 123600, 109900,  98600, 163500, 133900, 204750, 214000,\n",
       "        94750,  83000, 128950, 205000, 178000, 118964, 198900, 169500,\n",
       "       100000, 115000, 190000, 136900, 217000, 259500, 176000, 155000,\n",
       "       320000, 163990, 136000, 153900, 181000,  84500, 128000,  87000,\n",
       "       150000, 150750, 220000, 171000, 231500, 166000, 204000, 125000,\n",
       "       105000, 222500, 122000, 235000,  79000, 109500, 269500, 254900,\n",
       "       162500, 103200, 152000, 127500, 325624, 183500, 228000, 128500,\n",
       "       215000, 239000, 163000, 184000, 243000, 211000, 200100, 120000,\n",
       "       173000, 135000, 153337, 286000, 315000, 192000, 148500, 311872,\n",
       "       104000, 274900, 171500, 112000, 143900, 277000,  98000, 186000,\n",
       "       252678, 156000, 161750, 134450, 210000, 107000, 311500, 167240,\n",
       "       204900,  97000, 290000, 106000, 192500, 148000,  94500, 128200,\n",
       "       216500,  89500, 185500, 194500, 318000, 262500, 110500, 241500,\n",
       "       137000,  76500, 276000, 151000,  73000, 175500, 179500, 120500,\n",
       "       266000, 124500, 201000, 228500, 244600, 179200, 164700,  88000,\n",
       "       153575, 233230, 135900, 131000, 167000, 142500, 175000, 158500,\n",
       "       267000, 149900, 295000, 305900,  82500, 165600, 119900, 188500,\n",
       "       270000, 187500, 301000, 126175, 242000, 324000, 145250, 214500,\n",
       "        78000, 119000, 284000, 207000, 228950, 202900,  87500, 140200,\n",
       "       151500, 157500, 318061,  95000, 105900, 177500, 134000, 280000,\n",
       "       198500, 147000, 165000, 162000, 172400, 134432, 123000,  61000,\n",
       "       179000, 187750, 213500,  76000, 240000,  81000, 191000, 106500,\n",
       "       129000,  67000, 241000, 245500, 164990, 108000, 258000, 168000,\n",
       "       339750,  60000, 222000, 181134, 149500, 126000, 142000, 206300,\n",
       "       275000, 109008, 195400,  85400,  79900, 122500, 212000, 116000,\n",
       "        90350, 162900, 199900, 119500, 188000, 256000, 161000, 263435,\n",
       "        62383, 188700, 124000, 178740, 146500, 187000, 251000, 132500,\n",
       "       208900, 297000,  89471, 326000, 164000,  86000, 133000, 172785,\n",
       "        91300,  34900, 226700, 289000, 208300, 164900, 202665,  96500,\n",
       "       265000, 234000, 106250, 184750, 315750, 200624, 107500,  39300,\n",
       "       111250, 272000, 248000, 213250, 179665, 229000, 263000, 112500,\n",
       "       255500, 121500, 268000, 325000, 316600, 135960, 142600, 224500,\n",
       "       118500, 146000, 131500, 181900, 253293,  79500, 185900, 138000,\n",
       "       319000, 114504, 194201, 217500, 221000, 313000, 261500,  75500,\n",
       "       137500, 183200, 105500, 314813, 305000, 165150, 139900, 209500,\n",
       "        93000, 264561, 274000, 143250,  98300, 205950, 145500,  97500,\n",
       "       197900, 230500, 173500, 103600, 257500, 159434, 285000, 227875,\n",
       "       148800, 194700, 335000, 108480, 141500,  89000, 123500, 138500,\n",
       "       196000, 312500, 213000,  55000, 302000, 254000, 179540,  52000,\n",
       "       102776, 189000, 130500, 159500, 103000, 236500, 131400,  93500,\n",
       "       239900, 299800, 236000, 265979, 260400, 275500, 158900, 179400,\n",
       "       215200, 337000, 264132, 216837, 134900, 102000, 221500, 175900,\n",
       "       187100, 161500, 233000, 107900, 160200, 146800, 269790, 143500,\n",
       "       227680, 135500, 159950, 144500,  55993, 157900, 224900, 271000,\n",
       "       224000, 183000, 139500, 232600, 147400, 237000, 139950, 174900,\n",
       "       133500, 189950, 250580, 248900, 169000, 200500,  66500, 303477,\n",
       "       132250, 328900, 122900, 154500, 118858, 142953, 125500, 255000,\n",
       "       154300, 173733,  75000,  35311, 238000, 176500, 145900, 169990,\n",
       "       193000, 117500, 184900, 253000, 239799, 244400, 150900, 197500,\n",
       "       172000, 116500, 214900, 178900,  37900,  99500, 182000, 167500,\n",
       "        85500, 178400, 336000, 159895, 255900, 117000, 195000, 197000,\n",
       "       173900, 337500, 121600, 206000, 232000, 136905, 119200, 227000,\n",
       "       203000, 213490, 194000, 287000, 293077, 310000, 119750,  84000,\n",
       "       315500, 262280, 278000, 139600,  84900, 176485, 200141, 185850,\n",
       "       328000, 167900, 151400,  91500, 138800, 155900,  83500, 252000,\n",
       "        92900, 176432, 274725, 134500, 184100, 133700, 118400, 212900,\n",
       "       163900, 259000, 239500,  94000, 174500, 116900, 201800, 218000,\n",
       "       235128, 108959, 233170, 245350, 171900, 154900, 186700, 104900,\n",
       "       262000, 219210, 116050, 271900, 229456,  80500, 137900, 101800,\n",
       "       138887, 265900, 248328, 186500, 169900, 171750, 294000, 165400,\n",
       "       301500,  99900, 128900, 183900, 185750,  68400, 150500, 281000,\n",
       "       333168, 206900, 295493, 111000, 156500,  72500,  52500, 155835,\n",
       "       108500, 283463, 156932, 144152, 216000, 274300,  58500, 237500,\n",
       "       246578, 281213, 137450, 193879, 282922, 257000, 223000, 274970,\n",
       "       182900, 192140, 143750,  64500, 149700, 149300, 121000, 179600,\n",
       "        92000, 287090, 266500, 142125, 147500], dtype=int64)"
      ]
     },
     "metadata": {},
     "output_type": "display_data"
    },
    {
     "data": {
      "text/plain": [
       "(None, None)"
      ]
     },
     "execution_count": 21,
     "metadata": {},
     "output_type": "execute_result"
    }
   ],
   "source": [
    "display(' Dwell_Type ')  ,display(data['Dwell_Type'].unique())\n",
    "display(' Zone_Class ')  ,display(data['Zone_Class'].unique())\n",
    "display(' LotFrontage ')  ,display(data['LotFrontage'].unique())\n",
    "display(' LotArea ')  ,display(data['LotArea'].unique())\n",
    "display(' Road_Type ')  ,display(data['Road_Type'].unique())\n",
    "display(' Alley ')  ,display(data['Alley'].unique())\n",
    "display(' Property_Shape ')  ,display(data['Property_Shape'].unique())\n",
    "display(' LandContour ')  ,display(data['LandContour'].unique())\n",
    "display(' Utilities ')  ,display(data['Utilities'].unique())\n",
    "display(' LotConfig ')  ,display(data['LotConfig'].unique())\n",
    "display(' LandSlope ')  ,display(data['LandSlope'].unique())\n",
    "display(' Neighborhood ')  ,display(data['Neighborhood'].unique())\n",
    "display(' Condition1 ')  ,display(data['Condition1'].unique())\n",
    "display(' Condition2 ')  ,display(data['Condition2'].unique())\n",
    "display(' Dwelling_Type ')  ,display(data['Dwelling_Type'].unique())\n",
    "display(' HouseStyle ')  ,display(data['HouseStyle'].unique())\n",
    "display(' OverallQual ')  ,display(data['OverallQual'].unique())\n",
    "display(' OverallCond ')  ,display(data['OverallCond'].unique())\n",
    "display(' YearBuilt ')  ,display(data['YearBuilt'].unique())\n",
    "display(' YearRemodAdd ')  ,display(data['YearRemodAdd'].unique())\n",
    "display(' RoofStyle ')  ,display(data['RoofStyle'].unique())\n",
    "display(' RoofMatl ')  ,display(data['RoofMatl'].unique())\n",
    "display(' Exterior1st ')  ,display(data['Exterior1st'].unique())\n",
    "display(' Exterior2nd ')  ,display(data['Exterior2nd'].unique())\n",
    "display(' MasVnrType ')  ,display(data['MasVnrType'].unique())\n",
    "display(' MasVnrArea ')  ,display(data['MasVnrArea'].unique())\n",
    "display(' ExterQual ')  ,display(data['ExterQual'].unique())\n",
    "display(' ExterCond ')  ,display(data['ExterCond'].unique())\n",
    "display(' Foundation ')  ,display(data['Foundation'].unique())\n",
    "display(' BsmtQual ')  ,display(data['BsmtQual'].unique())\n",
    "display(' BsmtCond ')  ,display(data['BsmtCond'].unique())\n",
    "display(' BsmtExposure ')  ,display(data['BsmtExposure'].unique())\n",
    "display(' BsmtFinType1 ')  ,display(data['BsmtFinType1'].unique())\n",
    "display(' BsmtFinSF1 ')  ,display(data['BsmtFinSF1'].unique())\n",
    "display(' BsmtFinType2 ')  ,display(data['BsmtFinType2'].unique())\n",
    "display(' BsmtFinSF2 ')  ,display(data['BsmtFinSF2'].unique())\n",
    "display(' BsmtUnfSF ')  ,display(data['BsmtUnfSF'].unique())\n",
    "display(' TotalBsmtSF ')  ,display(data['TotalBsmtSF'].unique())\n",
    "display(' Heating ')  ,display(data['Heating'].unique())\n",
    "display(' HeatingQC ')  ,display(data['HeatingQC'].unique())\n",
    "display(' CentralAir ')  ,display(data['CentralAir'].unique())\n",
    "display(' Electrical ')  ,display(data['Electrical'].unique())\n",
    "display(' 1stFlrSF ')  ,display(data['1stFlrSF'].unique())\n",
    "display(' 2ndFlrSF ')  ,display(data['2ndFlrSF'].unique())\n",
    "display(' LowQualFinSF ')  ,display(data['LowQualFinSF'].unique())\n",
    "display(' GrLivArea ')  ,display(data['GrLivArea'].unique())\n",
    "display(' BsmtFullBath ')  ,display(data['BsmtFullBath'].unique())\n",
    "display(' BsmtHalfBath ')  ,display(data['BsmtHalfBath'].unique())\n",
    "display(' FullBath ')  ,display(data['FullBath'].unique())\n",
    "display(' HalfBath ')  ,display(data['HalfBath'].unique())\n",
    "display(' BedroomAbvGr ')  ,display(data['BedroomAbvGr'].unique())\n",
    "display(' KitchenAbvGr ')  ,display(data['KitchenAbvGr'].unique())\n",
    "display(' KitchenQual ')  ,display(data['KitchenQual'].unique())\n",
    "display(' TotRmsAbvGrd ')  ,display(data['TotRmsAbvGrd'].unique())\n",
    "display(' Functional ')  ,display(data['Functional'].unique())\n",
    "display(' Fireplaces ')  ,display(data['Fireplaces'].unique())\n",
    "display(' FireplaceQu ')  ,display(data['FireplaceQu'].unique())\n",
    "display(' GarageType ')  ,display(data['GarageType'].unique())\n",
    "display(' GarageYrBlt ')  ,display(data['GarageYrBlt'].unique())\n",
    "display(' GarageFinish ')  ,display(data['GarageFinish'].unique())\n",
    "display(' GarageCars ')  ,display(data['GarageCars'].unique())\n",
    "display(' GarageArea ')  ,display(data['GarageArea'].unique())\n",
    "display(' GarageQual ')  ,display(data['GarageQual'].unique())\n",
    "display(' GarageCond ')  ,display(data['GarageCond'].unique())\n",
    "display(' PavedDrive ')  ,display(data['PavedDrive'].unique())\n",
    "display(' WoodDeckSF ')  ,display(data['WoodDeckSF'].unique())\n",
    "display(' OpenPorchSF ')  ,display(data['OpenPorchSF'].unique())\n",
    "display(' EnclosedPorch ')  ,display(data['EnclosedPorch'].unique())\n",
    "display(' 3SsnPorch ')  ,display(data['3SsnPorch'].unique())\n",
    "display(' ScreenPorch ')  ,display(data['ScreenPorch'].unique())\n",
    "display(' PoolArea ')  ,display(data['PoolArea'].unique())\n",
    "display(' PoolQC ')  ,display(data['PoolQC'].unique())\n",
    "display(' Fence ')  ,display(data['Fence'].unique())\n",
    "display(' MiscFeature ')  ,display(data['MiscFeature'].unique())\n",
    "display(' MiscVal ')  ,display(data['MiscVal'].unique())\n",
    "display(' MoSold ')  ,display(data['MoSold'].unique())\n",
    "display(' YrSold ')  ,display(data['YrSold'].unique())\n",
    "display(' SaleType ')  ,display(data['SaleType'].unique())\n",
    "display(' SaleCondition ')  ,display(data['SaleCondition'].unique())\n",
    "display(' Property_Sale_Price ')  ,display(data['Property_Sale_Price'].unique())"
   ]
  },
  {
   "cell_type": "code",
   "execution_count": null,
   "id": "8689aa8d",
   "metadata": {},
   "outputs": [],
   "source": []
  },
  {
   "cell_type": "code",
   "execution_count": null,
   "id": "09a624fb",
   "metadata": {},
   "outputs": [],
   "source": []
  },
  {
   "cell_type": "code",
   "execution_count": 22,
   "id": "123fee6b",
   "metadata": {},
   "outputs": [],
   "source": [
    "from sklearn.preprocessing import LabelEncoder\n",
    "from sklearn import preprocessing"
   ]
  },
  {
   "cell_type": "code",
   "execution_count": 23,
   "id": "4c772442",
   "metadata": {},
   "outputs": [],
   "source": [
    "le=preprocessing.LabelEncoder()"
   ]
  },
  {
   "cell_type": "code",
   "execution_count": 24,
   "id": "e08088cc",
   "metadata": {},
   "outputs": [
    {
     "data": {
      "text/plain": [
       "['Dwell_Type',\n",
       " 'LotFrontage',\n",
       " 'LotArea',\n",
       " 'OverallQual',\n",
       " 'OverallCond',\n",
       " 'YearBuilt',\n",
       " 'YearRemodAdd',\n",
       " 'MasVnrArea',\n",
       " 'BsmtFinSF1',\n",
       " 'BsmtFinSF2',\n",
       " 'BsmtUnfSF',\n",
       " 'TotalBsmtSF',\n",
       " '1stFlrSF',\n",
       " '2ndFlrSF',\n",
       " 'LowQualFinSF',\n",
       " 'GrLivArea',\n",
       " 'BsmtFullBath',\n",
       " 'BsmtHalfBath',\n",
       " 'FullBath',\n",
       " 'HalfBath',\n",
       " 'BedroomAbvGr',\n",
       " 'KitchenAbvGr',\n",
       " 'TotRmsAbvGrd',\n",
       " 'Fireplaces',\n",
       " 'GarageYrBlt',\n",
       " 'GarageCars',\n",
       " 'GarageArea',\n",
       " 'WoodDeckSF',\n",
       " 'OpenPorchSF',\n",
       " 'EnclosedPorch',\n",
       " '3SsnPorch',\n",
       " 'ScreenPorch',\n",
       " 'PoolArea',\n",
       " 'MiscVal',\n",
       " 'MoSold',\n",
       " 'YrSold',\n",
       " 'Property_Sale_Price']"
      ]
     },
     "execution_count": 24,
     "metadata": {},
     "output_type": "execute_result"
    }
   ],
   "source": [
    "num"
   ]
  },
  {
   "cell_type": "code",
   "execution_count": 25,
   "id": "f9ada145",
   "metadata": {},
   "outputs": [],
   "source": [
    "for i in range(0,len(col)):\n",
    "    if(col[i]!='Dwell_Type',\n",
    " 'LotFrontage',\n",
    " 'LotArea',\n",
    " 'OverallQual',\n",
    " 'OverallCond',\n",
    " 'YearBuilt',\n",
    " 'YearRemodAdd',\n",
    " 'MasVnrArea',\n",
    " 'BsmtFinSF1',\n",
    " 'BsmtFinSF2',\n",
    " 'BsmtUnfSF',\n",
    " 'TotalBsmtSF',\n",
    " '1stFlrSF',\n",
    " '2ndFlrSF',\n",
    " 'LowQualFinSF',\n",
    " 'GrLivArea',\n",
    " 'BsmtFullBath',\n",
    " 'BsmtHalfBath',\n",
    " 'FullBath',\n",
    " 'HalfBath',\n",
    " 'BedroomAbvGr',\n",
    " 'KitchenAbvGr',\n",
    " 'TotRmsAbvGrd',\n",
    " 'Fireplaces',\n",
    " 'GarageYrBlt',\n",
    " 'GarageCars',\n",
    " 'GarageArea',\n",
    " 'WoodDeckSF',\n",
    " 'OpenPorchSF',\n",
    " 'EnclosedPorch',\n",
    " '3SsnPorch',\n",
    " 'ScreenPorch',\n",
    " 'PoolArea',\n",
    " 'MiscVal',\n",
    " 'MoSold',\n",
    " 'YrSold',\n",
    " 'Property_Sale_Price'):\n",
    "        data1 = le.fit(data[col[i]])\n",
    "        x2 = data1.transform(data[col[i]])\n",
    "        x2= pd.DataFrame(x2)\n",
    "        data[col[i]]=x2"
   ]
  },
  {
   "cell_type": "code",
   "execution_count": 26,
   "id": "465c29cc",
   "metadata": {},
   "outputs": [
    {
     "data": {
      "text/html": [
       "<div>\n",
       "<style scoped>\n",
       "    .dataframe tbody tr th:only-of-type {\n",
       "        vertical-align: middle;\n",
       "    }\n",
       "\n",
       "    .dataframe tbody tr th {\n",
       "        vertical-align: top;\n",
       "    }\n",
       "\n",
       "    .dataframe thead th {\n",
       "        text-align: right;\n",
       "    }\n",
       "</style>\n",
       "<table border=\"1\" class=\"dataframe\">\n",
       "  <thead>\n",
       "    <tr style=\"text-align: right;\">\n",
       "      <th></th>\n",
       "      <th>Dwell_Type</th>\n",
       "      <th>Zone_Class</th>\n",
       "      <th>LotFrontage</th>\n",
       "      <th>LotArea</th>\n",
       "      <th>Road_Type</th>\n",
       "      <th>Alley</th>\n",
       "      <th>Property_Shape</th>\n",
       "      <th>LandContour</th>\n",
       "      <th>Utilities</th>\n",
       "      <th>LotConfig</th>\n",
       "      <th>...</th>\n",
       "      <th>PoolArea</th>\n",
       "      <th>PoolQC</th>\n",
       "      <th>Fence</th>\n",
       "      <th>MiscFeature</th>\n",
       "      <th>MiscVal</th>\n",
       "      <th>MoSold</th>\n",
       "      <th>YrSold</th>\n",
       "      <th>SaleType</th>\n",
       "      <th>SaleCondition</th>\n",
       "      <th>Property_Sale_Price</th>\n",
       "    </tr>\n",
       "  </thead>\n",
       "  <tbody>\n",
       "    <tr>\n",
       "      <th>0</th>\n",
       "      <td>5</td>\n",
       "      <td>3</td>\n",
       "      <td>36</td>\n",
       "      <td>419</td>\n",
       "      <td>1</td>\n",
       "      <td>0</td>\n",
       "      <td>3</td>\n",
       "      <td>3</td>\n",
       "      <td>0</td>\n",
       "      <td>4</td>\n",
       "      <td>...</td>\n",
       "      <td>0</td>\n",
       "      <td>2</td>\n",
       "      <td>2</td>\n",
       "      <td>2</td>\n",
       "      <td>0</td>\n",
       "      <td>1</td>\n",
       "      <td>2</td>\n",
       "      <td>8</td>\n",
       "      <td>4</td>\n",
       "      <td>412</td>\n",
       "    </tr>\n",
       "    <tr>\n",
       "      <th>1</th>\n",
       "      <td>0</td>\n",
       "      <td>3</td>\n",
       "      <td>51</td>\n",
       "      <td>638</td>\n",
       "      <td>1</td>\n",
       "      <td>0</td>\n",
       "      <td>3</td>\n",
       "      <td>3</td>\n",
       "      <td>0</td>\n",
       "      <td>2</td>\n",
       "      <td>...</td>\n",
       "      <td>0</td>\n",
       "      <td>2</td>\n",
       "      <td>2</td>\n",
       "      <td>2</td>\n",
       "      <td>0</td>\n",
       "      <td>4</td>\n",
       "      <td>1</td>\n",
       "      <td>8</td>\n",
       "      <td>4</td>\n",
       "      <td>339</td>\n",
       "    </tr>\n",
       "    <tr>\n",
       "      <th>2</th>\n",
       "      <td>5</td>\n",
       "      <td>3</td>\n",
       "      <td>39</td>\n",
       "      <td>908</td>\n",
       "      <td>1</td>\n",
       "      <td>0</td>\n",
       "      <td>0</td>\n",
       "      <td>3</td>\n",
       "      <td>0</td>\n",
       "      <td>4</td>\n",
       "      <td>...</td>\n",
       "      <td>0</td>\n",
       "      <td>2</td>\n",
       "      <td>2</td>\n",
       "      <td>2</td>\n",
       "      <td>0</td>\n",
       "      <td>8</td>\n",
       "      <td>2</td>\n",
       "      <td>8</td>\n",
       "      <td>4</td>\n",
       "      <td>442</td>\n",
       "    </tr>\n",
       "    <tr>\n",
       "      <th>3</th>\n",
       "      <td>6</td>\n",
       "      <td>3</td>\n",
       "      <td>31</td>\n",
       "      <td>628</td>\n",
       "      <td>1</td>\n",
       "      <td>0</td>\n",
       "      <td>0</td>\n",
       "      <td>3</td>\n",
       "      <td>0</td>\n",
       "      <td>0</td>\n",
       "      <td>...</td>\n",
       "      <td>0</td>\n",
       "      <td>2</td>\n",
       "      <td>2</td>\n",
       "      <td>2</td>\n",
       "      <td>0</td>\n",
       "      <td>1</td>\n",
       "      <td>0</td>\n",
       "      <td>8</td>\n",
       "      <td>0</td>\n",
       "      <td>194</td>\n",
       "    </tr>\n",
       "    <tr>\n",
       "      <th>4</th>\n",
       "      <td>5</td>\n",
       "      <td>3</td>\n",
       "      <td>55</td>\n",
       "      <td>1166</td>\n",
       "      <td>1</td>\n",
       "      <td>0</td>\n",
       "      <td>0</td>\n",
       "      <td>3</td>\n",
       "      <td>0</td>\n",
       "      <td>2</td>\n",
       "      <td>...</td>\n",
       "      <td>0</td>\n",
       "      <td>2</td>\n",
       "      <td>2</td>\n",
       "      <td>2</td>\n",
       "      <td>0</td>\n",
       "      <td>11</td>\n",
       "      <td>2</td>\n",
       "      <td>8</td>\n",
       "      <td>4</td>\n",
       "      <td>494</td>\n",
       "    </tr>\n",
       "  </tbody>\n",
       "</table>\n",
       "<p>5 rows × 80 columns</p>\n",
       "</div>"
      ],
      "text/plain": [
       "   Dwell_Type  Zone_Class  LotFrontage  LotArea  Road_Type  Alley  \\\n",
       "0           5           3           36      419          1      0   \n",
       "1           0           3           51      638          1      0   \n",
       "2           5           3           39      908          1      0   \n",
       "3           6           3           31      628          1      0   \n",
       "4           5           3           55     1166          1      0   \n",
       "\n",
       "   Property_Shape  LandContour  Utilities  LotConfig  ...  PoolArea  PoolQC  \\\n",
       "0               3            3          0          4  ...         0       2   \n",
       "1               3            3          0          2  ...         0       2   \n",
       "2               0            3          0          4  ...         0       2   \n",
       "3               0            3          0          0  ...         0       2   \n",
       "4               0            3          0          2  ...         0       2   \n",
       "\n",
       "   Fence  MiscFeature  MiscVal  MoSold  YrSold  SaleType  SaleCondition  \\\n",
       "0      2            2        0       1       2         8              4   \n",
       "1      2            2        0       4       1         8              4   \n",
       "2      2            2        0       8       2         8              4   \n",
       "3      2            2        0       1       0         8              0   \n",
       "4      2            2        0      11       2         8              4   \n",
       "\n",
       "   Property_Sale_Price  \n",
       "0                  412  \n",
       "1                  339  \n",
       "2                  442  \n",
       "3                  194  \n",
       "4                  494  \n",
       "\n",
       "[5 rows x 80 columns]"
      ]
     },
     "execution_count": 26,
     "metadata": {},
     "output_type": "execute_result"
    }
   ],
   "source": [
    "data.head(5)"
   ]
  },
  {
   "cell_type": "code",
   "execution_count": 27,
   "id": "c914f45a",
   "metadata": {},
   "outputs": [
    {
     "data": {
      "text/plain": [
       "0       412\n",
       "1       339\n",
       "2       442\n",
       "3       194\n",
       "4       494\n",
       "       ... \n",
       "2068    423\n",
       "2069    231\n",
       "2070    203\n",
       "2071    182\n",
       "2072    136\n",
       "Name: Property_Sale_Price, Length: 2073, dtype: int64"
      ]
     },
     "execution_count": 27,
     "metadata": {},
     "output_type": "execute_result"
    }
   ],
   "source": [
    "y=data.Property_Sale_Price\n",
    "y"
   ]
  },
  {
   "cell_type": "code",
   "execution_count": 28,
   "id": "68dd3a3f",
   "metadata": {},
   "outputs": [
    {
     "data": {
      "text/html": [
       "<div>\n",
       "<style scoped>\n",
       "    .dataframe tbody tr th:only-of-type {\n",
       "        vertical-align: middle;\n",
       "    }\n",
       "\n",
       "    .dataframe tbody tr th {\n",
       "        vertical-align: top;\n",
       "    }\n",
       "\n",
       "    .dataframe thead th {\n",
       "        text-align: right;\n",
       "    }\n",
       "</style>\n",
       "<table border=\"1\" class=\"dataframe\">\n",
       "  <thead>\n",
       "    <tr style=\"text-align: right;\">\n",
       "      <th></th>\n",
       "      <th>Dwell_Type</th>\n",
       "      <th>Zone_Class</th>\n",
       "      <th>LotFrontage</th>\n",
       "      <th>LotArea</th>\n",
       "      <th>Road_Type</th>\n",
       "      <th>Alley</th>\n",
       "      <th>Property_Shape</th>\n",
       "      <th>LandContour</th>\n",
       "      <th>Utilities</th>\n",
       "      <th>LotConfig</th>\n",
       "      <th>...</th>\n",
       "      <th>ScreenPorch</th>\n",
       "      <th>PoolArea</th>\n",
       "      <th>PoolQC</th>\n",
       "      <th>Fence</th>\n",
       "      <th>MiscFeature</th>\n",
       "      <th>MiscVal</th>\n",
       "      <th>MoSold</th>\n",
       "      <th>YrSold</th>\n",
       "      <th>SaleType</th>\n",
       "      <th>SaleCondition</th>\n",
       "    </tr>\n",
       "  </thead>\n",
       "  <tbody>\n",
       "    <tr>\n",
       "      <th>0</th>\n",
       "      <td>5</td>\n",
       "      <td>3</td>\n",
       "      <td>36</td>\n",
       "      <td>419</td>\n",
       "      <td>1</td>\n",
       "      <td>0</td>\n",
       "      <td>3</td>\n",
       "      <td>3</td>\n",
       "      <td>0</td>\n",
       "      <td>4</td>\n",
       "      <td>...</td>\n",
       "      <td>0</td>\n",
       "      <td>0</td>\n",
       "      <td>2</td>\n",
       "      <td>2</td>\n",
       "      <td>2</td>\n",
       "      <td>0</td>\n",
       "      <td>1</td>\n",
       "      <td>2</td>\n",
       "      <td>8</td>\n",
       "      <td>4</td>\n",
       "    </tr>\n",
       "    <tr>\n",
       "      <th>1</th>\n",
       "      <td>0</td>\n",
       "      <td>3</td>\n",
       "      <td>51</td>\n",
       "      <td>638</td>\n",
       "      <td>1</td>\n",
       "      <td>0</td>\n",
       "      <td>3</td>\n",
       "      <td>3</td>\n",
       "      <td>0</td>\n",
       "      <td>2</td>\n",
       "      <td>...</td>\n",
       "      <td>0</td>\n",
       "      <td>0</td>\n",
       "      <td>2</td>\n",
       "      <td>2</td>\n",
       "      <td>2</td>\n",
       "      <td>0</td>\n",
       "      <td>4</td>\n",
       "      <td>1</td>\n",
       "      <td>8</td>\n",
       "      <td>4</td>\n",
       "    </tr>\n",
       "    <tr>\n",
       "      <th>2</th>\n",
       "      <td>5</td>\n",
       "      <td>3</td>\n",
       "      <td>39</td>\n",
       "      <td>908</td>\n",
       "      <td>1</td>\n",
       "      <td>0</td>\n",
       "      <td>0</td>\n",
       "      <td>3</td>\n",
       "      <td>0</td>\n",
       "      <td>4</td>\n",
       "      <td>...</td>\n",
       "      <td>0</td>\n",
       "      <td>0</td>\n",
       "      <td>2</td>\n",
       "      <td>2</td>\n",
       "      <td>2</td>\n",
       "      <td>0</td>\n",
       "      <td>8</td>\n",
       "      <td>2</td>\n",
       "      <td>8</td>\n",
       "      <td>4</td>\n",
       "    </tr>\n",
       "    <tr>\n",
       "      <th>3</th>\n",
       "      <td>6</td>\n",
       "      <td>3</td>\n",
       "      <td>31</td>\n",
       "      <td>628</td>\n",
       "      <td>1</td>\n",
       "      <td>0</td>\n",
       "      <td>0</td>\n",
       "      <td>3</td>\n",
       "      <td>0</td>\n",
       "      <td>0</td>\n",
       "      <td>...</td>\n",
       "      <td>0</td>\n",
       "      <td>0</td>\n",
       "      <td>2</td>\n",
       "      <td>2</td>\n",
       "      <td>2</td>\n",
       "      <td>0</td>\n",
       "      <td>1</td>\n",
       "      <td>0</td>\n",
       "      <td>8</td>\n",
       "      <td>0</td>\n",
       "    </tr>\n",
       "    <tr>\n",
       "      <th>4</th>\n",
       "      <td>5</td>\n",
       "      <td>3</td>\n",
       "      <td>55</td>\n",
       "      <td>1166</td>\n",
       "      <td>1</td>\n",
       "      <td>0</td>\n",
       "      <td>0</td>\n",
       "      <td>3</td>\n",
       "      <td>0</td>\n",
       "      <td>2</td>\n",
       "      <td>...</td>\n",
       "      <td>0</td>\n",
       "      <td>0</td>\n",
       "      <td>2</td>\n",
       "      <td>2</td>\n",
       "      <td>2</td>\n",
       "      <td>0</td>\n",
       "      <td>11</td>\n",
       "      <td>2</td>\n",
       "      <td>8</td>\n",
       "      <td>4</td>\n",
       "    </tr>\n",
       "    <tr>\n",
       "      <th>...</th>\n",
       "      <td>...</td>\n",
       "      <td>...</td>\n",
       "      <td>...</td>\n",
       "      <td>...</td>\n",
       "      <td>...</td>\n",
       "      <td>...</td>\n",
       "      <td>...</td>\n",
       "      <td>...</td>\n",
       "      <td>...</td>\n",
       "      <td>...</td>\n",
       "      <td>...</td>\n",
       "      <td>...</td>\n",
       "      <td>...</td>\n",
       "      <td>...</td>\n",
       "      <td>...</td>\n",
       "      <td>...</td>\n",
       "      <td>...</td>\n",
       "      <td>...</td>\n",
       "      <td>...</td>\n",
       "      <td>...</td>\n",
       "      <td>...</td>\n",
       "    </tr>\n",
       "    <tr>\n",
       "      <th>2068</th>\n",
       "      <td>5</td>\n",
       "      <td>3</td>\n",
       "      <td>41</td>\n",
       "      <td>471</td>\n",
       "      <td>1</td>\n",
       "      <td>0</td>\n",
       "      <td>0</td>\n",
       "      <td>3</td>\n",
       "      <td>0</td>\n",
       "      <td>2</td>\n",
       "      <td>...</td>\n",
       "      <td>0</td>\n",
       "      <td>0</td>\n",
       "      <td>2</td>\n",
       "      <td>0</td>\n",
       "      <td>2</td>\n",
       "      <td>0</td>\n",
       "      <td>5</td>\n",
       "      <td>3</td>\n",
       "      <td>8</td>\n",
       "      <td>4</td>\n",
       "    </tr>\n",
       "    <tr>\n",
       "      <th>2069</th>\n",
       "      <td>10</td>\n",
       "      <td>3</td>\n",
       "      <td>34</td>\n",
       "      <td>312</td>\n",
       "      <td>1</td>\n",
       "      <td>0</td>\n",
       "      <td>0</td>\n",
       "      <td>3</td>\n",
       "      <td>0</td>\n",
       "      <td>4</td>\n",
       "      <td>...</td>\n",
       "      <td>0</td>\n",
       "      <td>0</td>\n",
       "      <td>2</td>\n",
       "      <td>2</td>\n",
       "      <td>2</td>\n",
       "      <td>0</td>\n",
       "      <td>7</td>\n",
       "      <td>1</td>\n",
       "      <td>7</td>\n",
       "      <td>0</td>\n",
       "    </tr>\n",
       "    <tr>\n",
       "      <th>2070</th>\n",
       "      <td>10</td>\n",
       "      <td>3</td>\n",
       "      <td>81</td>\n",
       "      <td>1253</td>\n",
       "      <td>1</td>\n",
       "      <td>0</td>\n",
       "      <td>3</td>\n",
       "      <td>2</td>\n",
       "      <td>0</td>\n",
       "      <td>4</td>\n",
       "      <td>...</td>\n",
       "      <td>0</td>\n",
       "      <td>0</td>\n",
       "      <td>2</td>\n",
       "      <td>2</td>\n",
       "      <td>2</td>\n",
       "      <td>0</td>\n",
       "      <td>5</td>\n",
       "      <td>1</td>\n",
       "      <td>8</td>\n",
       "      <td>4</td>\n",
       "    </tr>\n",
       "    <tr>\n",
       "      <th>2071</th>\n",
       "      <td>0</td>\n",
       "      <td>3</td>\n",
       "      <td>23</td>\n",
       "      <td>1170</td>\n",
       "      <td>1</td>\n",
       "      <td>0</td>\n",
       "      <td>0</td>\n",
       "      <td>3</td>\n",
       "      <td>1</td>\n",
       "      <td>1</td>\n",
       "      <td>...</td>\n",
       "      <td>0</td>\n",
       "      <td>0</td>\n",
       "      <td>2</td>\n",
       "      <td>2</td>\n",
       "      <td>2</td>\n",
       "      <td>0</td>\n",
       "      <td>0</td>\n",
       "      <td>3</td>\n",
       "      <td>0</td>\n",
       "      <td>0</td>\n",
       "    </tr>\n",
       "    <tr>\n",
       "      <th>2072</th>\n",
       "      <td>4</td>\n",
       "      <td>4</td>\n",
       "      <td>69</td>\n",
       "      <td>489</td>\n",
       "      <td>1</td>\n",
       "      <td>0</td>\n",
       "      <td>3</td>\n",
       "      <td>3</td>\n",
       "      <td>0</td>\n",
       "      <td>0</td>\n",
       "      <td>...</td>\n",
       "      <td>0</td>\n",
       "      <td>0</td>\n",
       "      <td>2</td>\n",
       "      <td>3</td>\n",
       "      <td>2</td>\n",
       "      <td>0</td>\n",
       "      <td>8</td>\n",
       "      <td>3</td>\n",
       "      <td>8</td>\n",
       "      <td>4</td>\n",
       "    </tr>\n",
       "  </tbody>\n",
       "</table>\n",
       "<p>2073 rows × 79 columns</p>\n",
       "</div>"
      ],
      "text/plain": [
       "      Dwell_Type  Zone_Class  LotFrontage  LotArea  Road_Type  Alley  \\\n",
       "0              5           3           36      419          1      0   \n",
       "1              0           3           51      638          1      0   \n",
       "2              5           3           39      908          1      0   \n",
       "3              6           3           31      628          1      0   \n",
       "4              5           3           55     1166          1      0   \n",
       "...          ...         ...          ...      ...        ...    ...   \n",
       "2068           5           3           41      471          1      0   \n",
       "2069          10           3           34      312          1      0   \n",
       "2070          10           3           81     1253          1      0   \n",
       "2071           0           3           23     1170          1      0   \n",
       "2072           4           4           69      489          1      0   \n",
       "\n",
       "      Property_Shape  LandContour  Utilities  LotConfig  ...  ScreenPorch  \\\n",
       "0                  3            3          0          4  ...            0   \n",
       "1                  3            3          0          2  ...            0   \n",
       "2                  0            3          0          4  ...            0   \n",
       "3                  0            3          0          0  ...            0   \n",
       "4                  0            3          0          2  ...            0   \n",
       "...              ...          ...        ...        ...  ...          ...   \n",
       "2068               0            3          0          2  ...            0   \n",
       "2069               0            3          0          4  ...            0   \n",
       "2070               3            2          0          4  ...            0   \n",
       "2071               0            3          1          1  ...            0   \n",
       "2072               3            3          0          0  ...            0   \n",
       "\n",
       "      PoolArea  PoolQC  Fence  MiscFeature  MiscVal  MoSold  YrSold  SaleType  \\\n",
       "0            0       2      2            2        0       1       2         8   \n",
       "1            0       2      2            2        0       4       1         8   \n",
       "2            0       2      2            2        0       8       2         8   \n",
       "3            0       2      2            2        0       1       0         8   \n",
       "4            0       2      2            2        0      11       2         8   \n",
       "...        ...     ...    ...          ...      ...     ...     ...       ...   \n",
       "2068         0       2      0            2        0       5       3         8   \n",
       "2069         0       2      2            2        0       7       1         7   \n",
       "2070         0       2      2            2        0       5       1         8   \n",
       "2071         0       2      2            2        0       0       3         0   \n",
       "2072         0       2      3            2        0       8       3         8   \n",
       "\n",
       "      SaleCondition  \n",
       "0                 4  \n",
       "1                 4  \n",
       "2                 4  \n",
       "3                 0  \n",
       "4                 4  \n",
       "...             ...  \n",
       "2068              4  \n",
       "2069              0  \n",
       "2070              4  \n",
       "2071              0  \n",
       "2072              4  \n",
       "\n",
       "[2073 rows x 79 columns]"
      ]
     },
     "execution_count": 28,
     "metadata": {},
     "output_type": "execute_result"
    }
   ],
   "source": [
    "x=data.drop([\"Property_Sale_Price\"],axis=1)\n",
    "x"
   ]
  },
  {
   "cell_type": "code",
   "execution_count": 29,
   "id": "12d2dd53",
   "metadata": {},
   "outputs": [],
   "source": [
    "trainx,testx,trainy,testy = train_test_split(x,y,test_size = 0.2)"
   ]
  },
  {
   "cell_type": "code",
   "execution_count": 30,
   "id": "7ab38326",
   "metadata": {},
   "outputs": [],
   "source": [
    "linearreg= LinearRegression().fit(trainx,trainy)\n",
    "linearreg.predict(testx)\n",
    "linearrms=sqrt(mean_squared_error(testy,linearreg.predict(testx),squared=False))\n"
   ]
  },
  {
   "cell_type": "code",
   "execution_count": 36,
   "id": "1f4bdaf5",
   "metadata": {},
   "outputs": [
    {
     "name": "stdout",
     "output_type": "stream",
     "text": [
      "LinearRegression          =  0.8740367093152458\n",
      "LinearRegression    rms   =  7.759082114929239\n"
     ]
    }
   ],
   "source": [
    "print(\"LinearRegression          = \",linearreg.score(testx,testy))\n",
    "print(\"LinearRegression    rms   = \",linearrms)"
   ]
  },
  {
   "cell_type": "code",
   "execution_count": 32,
   "id": "e4fec1a2",
   "metadata": {},
   "outputs": [
    {
     "name": "stdout",
     "output_type": "stream",
     "text": [
      "                             OLS Regression Results                            \n",
      "===============================================================================\n",
      "Dep. Variable:     Property_Sale_Price   R-squared:                       0.897\n",
      "Model:                             OLS   Adj. R-squared:                  0.893\n",
      "Method:                  Least Squares   F-statistic:                     244.2\n",
      "Date:                 Tue, 16 Aug 2022   Prob (F-statistic):               0.00\n",
      "Time:                         21:38:42   Log-Likelihood:                -11200.\n",
      "No. Observations:                 2073   AIC:                         2.254e+04\n",
      "Df Residuals:                     2001   BIC:                         2.295e+04\n",
      "Df Model:                           71                                         \n",
      "Covariance Type:             nonrobust                                         \n",
      "==================================================================================\n",
      "                     coef    std err          t      P>|t|      [0.025      0.975]\n",
      "----------------------------------------------------------------------------------\n",
      "const            -33.5936     74.060     -0.454      0.650    -178.836     111.649\n",
      "Dwell_Type        -0.9196      0.624     -1.474      0.141      -2.143       0.304\n",
      "Zone_Class       -12.1003      2.193     -5.517      0.000     -16.402      -7.799\n",
      "LotFrontage       -0.1125      0.084     -1.338      0.181      -0.277       0.052\n",
      "LotArea            0.0124      0.004      3.013      0.003       0.004       0.020\n",
      "Road_Type         78.9283     19.176      4.116      0.000      41.322     116.535\n",
      "Alley             27.5793      8.576      3.216      0.001      10.760      44.398\n",
      "Property_Shape    -4.1108      0.958     -4.289      0.000      -5.990      -2.231\n",
      "LandContour       -0.2048      1.922     -0.107      0.915      -3.974       3.564\n",
      "Utilities        -34.8746     34.015     -1.025      0.305    -101.584      31.834\n",
      "LotConfig         -0.0381      0.786     -0.048      0.961      -1.580       1.504\n",
      "LandSlope         14.0876      5.279      2.668      0.008       3.734      24.441\n",
      "Neighborhood      -0.1252      0.224     -0.558      0.577      -0.565       0.315\n",
      "Condition1         3.2916      1.434      2.296      0.022       0.480       6.103\n",
      "Condition2       -10.1749      5.258     -1.935      0.053     -20.486       0.136\n",
      "Dwelling_Type     -6.1933      2.002     -3.093      0.002     -10.120      -2.267\n",
      "HouseStyle         0.7054      0.954      0.739      0.460      -1.166       2.577\n",
      "OverallQual        4.3217      0.979      4.414      0.000       2.402       6.242\n",
      "OverallCond        4.6077      0.997      4.620      0.000       2.652       6.564\n",
      "YearBuilt          0.2069      0.070      2.950      0.003       0.069       0.344\n",
      "YearRemodAdd       0.6494      0.095      6.867      0.000       0.464       0.835\n",
      "RoofStyle         -1.2338      1.593     -0.775      0.439      -4.357       1.889\n",
      "RoofMatl           6.6504      2.144      3.102      0.002       2.446      10.855\n",
      "Exterior1st       -2.0619      0.737     -2.797      0.005      -3.508      -0.616\n",
      "Exterior2nd        1.7467      0.661      2.641      0.008       0.450       3.044\n",
      "MasVnrType         3.1369      2.380      1.318      0.188      -1.531       7.805\n",
      "MasVnrArea         0.0250      0.018      1.389      0.165      -0.010       0.060\n",
      "ExterQual        -13.5053      2.769     -4.877      0.000     -18.936      -8.074\n",
      "ExterCond         -0.3189      1.816     -0.176      0.861      -3.880       3.242\n",
      "Foundation         3.2043      2.308      1.388      0.165      -1.322       7.731\n",
      "BsmtQual          -5.5554      2.079     -2.672      0.008      -9.632      -1.478\n",
      "BsmtCond           2.3578      1.977      1.192      0.233      -1.520       6.236\n",
      "BsmtExposure      -4.6133      1.270     -3.632      0.000      -7.104      -2.122\n",
      "BsmtFinType1      -1.3642      0.911     -1.497      0.135      -3.151       0.423\n",
      "BsmtFinSF1         0.0109      0.016      0.678      0.498      -0.021       0.042\n",
      "BsmtFinType2       1.2957      1.710      0.758      0.449      -2.059       4.650\n",
      "BsmtFinSF2     -5.346e-12    3.9e-12     -1.373      0.170    -1.3e-11    2.29e-12\n",
      "BsmtUnfSF         -0.0140      0.014     -0.992      0.322      -0.042       0.014\n",
      "TotalBsmtSF        0.1612      0.020      8.039      0.000       0.122       0.200\n",
      "Heating           -3.4546      4.387     -0.787      0.431     -12.059       5.149\n",
      "HeatingQC         -5.5919      0.886     -6.308      0.000      -7.330      -3.854\n",
      "CentralAir        25.3912      6.163      4.120      0.000      13.304      37.478\n",
      "Electrical         2.3679      1.352      1.752      0.080      -0.283       5.019\n",
      "1stFlrSF           0.0028      0.018      0.152      0.879      -0.033       0.039\n",
      "2ndFlrSF           0.1125      0.028      4.008      0.000       0.057       0.168\n",
      "LowQualFinSF   -6.664e-12   4.71e-12     -1.415      0.157   -1.59e-11    2.57e-12\n",
      "GrLivArea          0.2265      0.018     12.426      0.000       0.191       0.262\n",
      "BsmtFullBath      12.6158      3.342      3.775      0.000       6.062      19.170\n",
      "BsmtHalfBath    1.315e-12    8.7e-13      1.511      0.131   -3.91e-13    3.02e-12\n",
      "FullBath          17.8397      3.780      4.720      0.000      10.427      25.252\n",
      "HalfBath           8.1937      3.618      2.265      0.024       1.098      15.289\n",
      "BedroomAbvGr      -5.2861      2.497     -2.117      0.034     -10.184      -0.388\n",
      "KitchenAbvGr     -29.3502     41.380     -0.709      0.478    -110.502      51.802\n",
      "KitchenQual      -13.8586      2.091     -6.628      0.000     -17.959      -9.758\n",
      "TotRmsAbvGrd      -6.3570      1.710     -3.719      0.000      -9.710      -3.004\n",
      "Functional        12.0036      1.401      8.569      0.000       9.256      14.751\n",
      "Fireplaces        22.8767      2.560      8.936      0.000      17.856      27.898\n",
      "FireplaceQu       -0.6352      1.607     -0.395      0.693      -3.787       2.516\n",
      "GarageType        -4.3914      0.913     -4.808      0.000      -6.182      -2.600\n",
      "GarageYrBlt       -0.2345      0.087     -2.683      0.007      -0.406      -0.063\n",
      "GarageFinish     -10.4704      2.122     -4.933      0.000     -14.633      -6.308\n",
      "GarageCars        18.9219      3.605      5.249      0.000      11.852      25.992\n",
      "GarageArea         0.0722      0.023      3.138      0.002       0.027       0.117\n",
      "GarageQual         0.6737      2.641      0.255      0.799      -4.506       5.854\n",
      "GarageCond         4.1713      2.921      1.428      0.153      -1.556       9.899\n",
      "PavedDrive         6.6629      2.963      2.248      0.025       0.851      12.475\n",
      "WoodDeckSF         0.0729      0.019      3.864      0.000       0.036       0.110\n",
      "OpenPorchSF        0.0972      0.033      2.982      0.003       0.033       0.161\n",
      "EnclosedPorch   1.965e-13   9.21e-14      2.133      0.033    1.58e-14    3.77e-13\n",
      "3SsnPorch       1.926e-14    7.6e-15      2.533      0.011    4.35e-15    3.42e-14\n",
      "ScreenPorch             0          0        nan        nan           0           0\n",
      "PoolArea                0          0        nan        nan           0           0\n",
      "PoolQC            14.8893     18.097      0.823      0.411     -20.601      50.380\n",
      "Fence             -1.4350      2.839     -0.505      0.613      -7.003       4.133\n",
      "MiscFeature       -5.6182     16.395     -0.343      0.732     -37.772      26.535\n",
      "MiscVal                 0          0        nan        nan           0           0\n",
      "MoSold             0.0803      0.467      0.172      0.864      -0.836       0.997\n",
      "YrSold            -1.3021      0.957     -1.361      0.174      -3.179       0.575\n",
      "SaleType          -0.4570      0.821     -0.556      0.578      -2.068       1.154\n",
      "SaleCondition      6.5654      1.167      5.626      0.000       4.277       8.854\n",
      "==============================================================================\n",
      "Omnibus:                      477.650   Durbin-Watson:                   1.955\n",
      "Prob(Omnibus):                  0.000   Jarque-Bera (JB):             3647.880\n",
      "Skew:                          -0.872   Prob(JB):                         0.00\n",
      "Kurtosis:                       9.260   Cond. No.                     1.09e+16\n",
      "==============================================================================\n",
      "\n",
      "Notes:\n",
      "[1] Standard Errors assume that the covariance matrix of the errors is correctly specified.\n",
      "[2] The smallest eigenvalue is 1.96e-23. This might indicate that there are\n",
      "strong multicollinearity problems or that the design matrix is singular.\n"
     ]
    }
   ],
   "source": [
    "x = sm.add_constant(x)\n",
    " \n",
    "# performing the regression\n",
    "# and fitting the model\n",
    "result = sm.OLS(y, x).fit()\n",
    " \n",
    "# printing the summary table\n",
    "print(result.summary())"
   ]
  },
  {
   "cell_type": "code",
   "execution_count": 33,
   "id": "b9628f04",
   "metadata": {},
   "outputs": [
    {
     "name": "stdout",
     "output_type": "stream",
     "text": [
      "                             OLS Regression Results                            \n",
      "===============================================================================\n",
      "Dep. Variable:     Property_Sale_Price   R-squared:                       0.897\n",
      "Model:                             OLS   Adj. R-squared:                  0.893\n",
      "Method:                  Least Squares   F-statistic:                     244.2\n",
      "Date:                 Tue, 16 Aug 2022   Prob (F-statistic):               0.00\n",
      "Time:                         21:38:42   Log-Likelihood:                -11200.\n",
      "No. Observations:                 2073   AIC:                         2.254e+04\n",
      "Df Residuals:                     2001   BIC:                         2.295e+04\n",
      "Df Model:                           71                                         \n",
      "Covariance Type:             nonrobust                                         \n",
      "==================================================================================\n",
      "                     coef    std err          t      P>|t|      [0.025      0.975]\n",
      "----------------------------------------------------------------------------------\n",
      "const            -33.5936     74.060     -0.454      0.650    -178.836     111.649\n",
      "Dwell_Type        -0.9196      0.624     -1.474      0.141      -2.143       0.304\n",
      "Zone_Class       -12.1003      2.193     -5.517      0.000     -16.402      -7.799\n",
      "LotFrontage       -0.1125      0.084     -1.338      0.181      -0.277       0.052\n",
      "LotArea            0.0124      0.004      3.013      0.003       0.004       0.020\n",
      "Road_Type         78.9283     19.176      4.116      0.000      41.322     116.535\n",
      "Alley             27.5793      8.576      3.216      0.001      10.760      44.398\n",
      "Property_Shape    -4.1108      0.958     -4.289      0.000      -5.990      -2.231\n",
      "LandContour       -0.2048      1.922     -0.107      0.915      -3.974       3.564\n",
      "Utilities        -34.8746     34.015     -1.025      0.305    -101.584      31.834\n",
      "LotConfig         -0.0381      0.786     -0.048      0.961      -1.580       1.504\n",
      "LandSlope         14.0876      5.279      2.668      0.008       3.734      24.441\n",
      "Neighborhood      -0.1252      0.224     -0.558      0.577      -0.565       0.315\n",
      "Condition1         3.2916      1.434      2.296      0.022       0.480       6.103\n",
      "Condition2       -10.1749      5.258     -1.935      0.053     -20.486       0.136\n",
      "Dwelling_Type     -6.1933      2.002     -3.093      0.002     -10.120      -2.267\n",
      "HouseStyle         0.7054      0.954      0.739      0.460      -1.166       2.577\n",
      "OverallQual        4.3217      0.979      4.414      0.000       2.402       6.242\n",
      "OverallCond        4.6077      0.997      4.620      0.000       2.652       6.564\n",
      "YearBuilt          0.2069      0.070      2.950      0.003       0.069       0.344\n",
      "YearRemodAdd       0.6494      0.095      6.867      0.000       0.464       0.835\n",
      "RoofStyle         -1.2338      1.593     -0.775      0.439      -4.357       1.889\n",
      "RoofMatl           6.6504      2.144      3.102      0.002       2.446      10.855\n",
      "Exterior1st       -2.0619      0.737     -2.797      0.005      -3.508      -0.616\n",
      "Exterior2nd        1.7467      0.661      2.641      0.008       0.450       3.044\n",
      "MasVnrType         3.1369      2.380      1.318      0.188      -1.531       7.805\n",
      "MasVnrArea         0.0250      0.018      1.389      0.165      -0.010       0.060\n",
      "ExterQual        -13.5053      2.769     -4.877      0.000     -18.936      -8.074\n",
      "ExterCond         -0.3189      1.816     -0.176      0.861      -3.880       3.242\n",
      "Foundation         3.2043      2.308      1.388      0.165      -1.322       7.731\n",
      "BsmtQual          -5.5554      2.079     -2.672      0.008      -9.632      -1.478\n",
      "BsmtCond           2.3578      1.977      1.192      0.233      -1.520       6.236\n",
      "BsmtExposure      -4.6133      1.270     -3.632      0.000      -7.104      -2.122\n",
      "BsmtFinType1      -1.3642      0.911     -1.497      0.135      -3.151       0.423\n",
      "BsmtFinSF1         0.0109      0.016      0.678      0.498      -0.021       0.042\n",
      "BsmtFinType2       1.2957      1.710      0.758      0.449      -2.059       4.650\n",
      "BsmtFinSF2     -5.346e-12    3.9e-12     -1.373      0.170    -1.3e-11    2.29e-12\n",
      "BsmtUnfSF         -0.0140      0.014     -0.992      0.322      -0.042       0.014\n",
      "TotalBsmtSF        0.1612      0.020      8.039      0.000       0.122       0.200\n",
      "Heating           -3.4546      4.387     -0.787      0.431     -12.059       5.149\n",
      "HeatingQC         -5.5919      0.886     -6.308      0.000      -7.330      -3.854\n",
      "CentralAir        25.3912      6.163      4.120      0.000      13.304      37.478\n",
      "Electrical         2.3679      1.352      1.752      0.080      -0.283       5.019\n",
      "1stFlrSF           0.0028      0.018      0.152      0.879      -0.033       0.039\n",
      "2ndFlrSF           0.1125      0.028      4.008      0.000       0.057       0.168\n",
      "LowQualFinSF   -6.664e-12   4.71e-12     -1.415      0.157   -1.59e-11    2.57e-12\n",
      "GrLivArea          0.2265      0.018     12.426      0.000       0.191       0.262\n",
      "BsmtFullBath      12.6158      3.342      3.775      0.000       6.062      19.170\n",
      "BsmtHalfBath    1.315e-12    8.7e-13      1.511      0.131   -3.91e-13    3.02e-12\n",
      "FullBath          17.8397      3.780      4.720      0.000      10.427      25.252\n",
      "HalfBath           8.1937      3.618      2.265      0.024       1.098      15.289\n",
      "BedroomAbvGr      -5.2861      2.497     -2.117      0.034     -10.184      -0.388\n",
      "KitchenAbvGr     -29.3502     41.380     -0.709      0.478    -110.502      51.802\n",
      "KitchenQual      -13.8586      2.091     -6.628      0.000     -17.959      -9.758\n",
      "TotRmsAbvGrd      -6.3570      1.710     -3.719      0.000      -9.710      -3.004\n",
      "Functional        12.0036      1.401      8.569      0.000       9.256      14.751\n",
      "Fireplaces        22.8767      2.560      8.936      0.000      17.856      27.898\n",
      "FireplaceQu       -0.6352      1.607     -0.395      0.693      -3.787       2.516\n",
      "GarageType        -4.3914      0.913     -4.808      0.000      -6.182      -2.600\n",
      "GarageYrBlt       -0.2345      0.087     -2.683      0.007      -0.406      -0.063\n",
      "GarageFinish     -10.4704      2.122     -4.933      0.000     -14.633      -6.308\n",
      "GarageCars        18.9219      3.605      5.249      0.000      11.852      25.992\n",
      "GarageArea         0.0722      0.023      3.138      0.002       0.027       0.117\n",
      "GarageQual         0.6737      2.641      0.255      0.799      -4.506       5.854\n",
      "GarageCond         4.1713      2.921      1.428      0.153      -1.556       9.899\n",
      "PavedDrive         6.6629      2.963      2.248      0.025       0.851      12.475\n",
      "WoodDeckSF         0.0729      0.019      3.864      0.000       0.036       0.110\n",
      "OpenPorchSF        0.0972      0.033      2.982      0.003       0.033       0.161\n",
      "EnclosedPorch   1.965e-13   9.21e-14      2.133      0.033    1.58e-14    3.77e-13\n",
      "3SsnPorch       1.926e-14    7.6e-15      2.533      0.011    4.35e-15    3.42e-14\n",
      "ScreenPorch             0          0        nan        nan           0           0\n",
      "PoolArea                0          0        nan        nan           0           0\n",
      "PoolQC            14.8893     18.097      0.823      0.411     -20.601      50.380\n",
      "Fence             -1.4350      2.839     -0.505      0.613      -7.003       4.133\n",
      "MiscFeature       -5.6182     16.395     -0.343      0.732     -37.772      26.535\n",
      "MiscVal                 0          0        nan        nan           0           0\n",
      "MoSold             0.0803      0.467      0.172      0.864      -0.836       0.997\n",
      "YrSold            -1.3021      0.957     -1.361      0.174      -3.179       0.575\n",
      "SaleType          -0.4570      0.821     -0.556      0.578      -2.068       1.154\n",
      "SaleCondition      6.5654      1.167      5.626      0.000       4.277       8.854\n",
      "==============================================================================\n",
      "Omnibus:                      477.650   Durbin-Watson:                   1.955\n",
      "Prob(Omnibus):                  0.000   Jarque-Bera (JB):             3647.880\n",
      "Skew:                          -0.872   Prob(JB):                         0.00\n",
      "Kurtosis:                       9.260   Cond. No.                     1.09e+16\n",
      "==============================================================================\n",
      "\n",
      "Notes:\n",
      "[1] Standard Errors assume that the covariance matrix of the errors is correctly specified.\n",
      "[2] The smallest eigenvalue is 1.96e-23. This might indicate that there are\n",
      "strong multicollinearity problems or that the design matrix is singular.\n"
     ]
    }
   ],
   "source": [
    "print(sm.OLS(y, sm.add_constant(x)).fit().summary())"
   ]
  },
  {
   "cell_type": "code",
   "execution_count": 34,
   "id": "bf24ac4d",
   "metadata": {},
   "outputs": [
    {
     "data": {
      "text/plain": [
       "Index(['const', 'Dwell_Type', 'Zone_Class', 'LotFrontage', 'LotArea',\n",
       "       'Road_Type', 'Alley', 'Property_Shape', 'LandContour', 'Utilities',\n",
       "       'LotConfig', 'LandSlope', 'Neighborhood', 'Condition1', 'Condition2',\n",
       "       'Dwelling_Type', 'HouseStyle', 'OverallQual', 'OverallCond',\n",
       "       'YearBuilt', 'YearRemodAdd', 'RoofStyle', 'RoofMatl', 'Exterior1st',\n",
       "       'Exterior2nd', 'MasVnrType', 'MasVnrArea', 'ExterQual', 'ExterCond',\n",
       "       'Foundation', 'BsmtQual', 'BsmtCond', 'BsmtExposure', 'BsmtFinType1',\n",
       "       'BsmtFinSF1', 'BsmtFinType2', 'BsmtFinSF2', 'BsmtUnfSF', 'TotalBsmtSF',\n",
       "       'Heating', 'HeatingQC', 'CentralAir', 'Electrical', '1stFlrSF',\n",
       "       '2ndFlrSF', 'LowQualFinSF', 'GrLivArea', 'BsmtFullBath', 'BsmtHalfBath',\n",
       "       'FullBath', 'HalfBath', 'BedroomAbvGr', 'KitchenAbvGr', 'KitchenQual',\n",
       "       'TotRmsAbvGrd', 'Functional', 'Fireplaces', 'FireplaceQu', 'GarageType',\n",
       "       'GarageYrBlt', 'GarageFinish', 'GarageCars', 'GarageArea', 'GarageQual',\n",
       "       'GarageCond', 'PavedDrive', 'WoodDeckSF', 'OpenPorchSF',\n",
       "       'EnclosedPorch', '3SsnPorch', 'ScreenPorch', 'PoolArea', 'PoolQC',\n",
       "       'Fence', 'MiscFeature', 'MiscVal', 'MoSold', 'YrSold', 'SaleType',\n",
       "       'SaleCondition'],\n",
       "      dtype='object')"
      ]
     },
     "execution_count": 34,
     "metadata": {},
     "output_type": "execute_result"
    }
   ],
   "source": [
    "col=x.columns\n",
    "col"
   ]
  },
  {
   "cell_type": "code",
   "execution_count": 35,
   "id": "8769e984",
   "metadata": {},
   "outputs": [
    {
     "name": "stdout",
     "output_type": "stream",
     "text": [
      "                             OLS Regression Results                            \n",
      "===============================================================================\n",
      "Dep. Variable:     Property_Sale_Price   R-squared:                       0.001\n",
      "Model:                             OLS   Adj. R-squared:                  0.000\n",
      "Method:                  Least Squares   F-statistic:                     1.430\n",
      "Date:                 Tue, 16 Aug 2022   Prob (F-statistic):              0.232\n",
      "Time:                         21:38:43   Log-Likelihood:                -13551.\n",
      "No. Observations:                 2073   AIC:                         2.711e+04\n",
      "Df Residuals:                     2071   BIC:                         2.712e+04\n",
      "Df Model:                            1                                         \n",
      "Covariance Type:             nonrobust                                         \n",
      "==============================================================================\n",
      "                 coef    std err          t      P>|t|      [0.025      0.975]\n",
      "------------------------------------------------------------------------------\n",
      "const        297.1075      5.260     56.488      0.000     286.793     307.422\n",
      "Dwell_Type    -1.0814      0.904     -1.196      0.232      -2.855       0.692\n",
      "==============================================================================\n",
      "Omnibus:                      484.176   Durbin-Watson:                   1.984\n",
      "Prob(Omnibus):                  0.000   Jarque-Bera (JB):              108.232\n",
      "Skew:                           0.250   Prob(JB):                     3.15e-24\n",
      "Kurtosis:                       1.999   Cond. No.                         8.47\n",
      "==============================================================================\n",
      "\n",
      "Notes:\n",
      "[1] Standard Errors assume that the covariance matrix of the errors is correctly specified.\n",
      "                             OLS Regression Results                            \n",
      "===============================================================================\n",
      "Dep. Variable:     Property_Sale_Price   R-squared:                       0.099\n",
      "Model:                             OLS   Adj. R-squared:                  0.099\n",
      "Method:                  Least Squares   F-statistic:                     228.1\n",
      "Date:                 Tue, 16 Aug 2022   Prob (F-statistic):           5.69e-49\n",
      "Time:                         21:38:43   Log-Likelihood:                -13443.\n",
      "No. Observations:                 2073   AIC:                         2.689e+04\n",
      "Df Residuals:                     2071   BIC:                         2.690e+04\n",
      "Df Model:                            1                                         \n",
      "Covariance Type:             nonrobust                                         \n",
      "===============================================================================\n",
      "                  coef    std err          t      P>|t|      [0.025      0.975]\n",
      "-------------------------------------------------------------------------------\n",
      "const         173.3423      8.631     20.084      0.000     156.416     190.268\n",
      "LotFrontage     2.8758      0.190     15.103      0.000       2.502       3.249\n",
      "==============================================================================\n",
      "Omnibus:                      253.747   Durbin-Watson:                   1.964\n",
      "Prob(Omnibus):                  0.000   Jarque-Bera (JB):               80.054\n",
      "Skew:                           0.207   Prob(JB):                     4.14e-18\n",
      "Kurtosis:                       2.131   Cond. No.                         112.\n",
      "==============================================================================\n",
      "\n",
      "Notes:\n",
      "[1] Standard Errors assume that the covariance matrix of the errors is correctly specified.\n",
      "                             OLS Regression Results                            \n",
      "===============================================================================\n",
      "Dep. Variable:     Property_Sale_Price   R-squared:                       0.147\n",
      "Model:                             OLS   Adj. R-squared:                  0.147\n",
      "Method:                  Least Squares   F-statistic:                     357.1\n",
      "Date:                 Tue, 16 Aug 2022   Prob (F-statistic):           1.32e-73\n",
      "Time:                         21:38:43   Log-Likelihood:                -13387.\n",
      "No. Observations:                 2073   AIC:                         2.678e+04\n",
      "Df Residuals:                     2071   BIC:                         2.679e+04\n",
      "Df Model:                            1                                         \n",
      "Covariance Type:             nonrobust                                         \n",
      "==============================================================================\n",
      "                 coef    std err          t      P>|t|      [0.025      0.975]\n",
      "------------------------------------------------------------------------------\n",
      "const        186.0862      6.578     28.291      0.000     173.187     198.986\n",
      "LotArea        0.1689      0.009     18.897      0.000       0.151       0.186\n",
      "==============================================================================\n",
      "Omnibus:                      179.916   Durbin-Watson:                   1.954\n",
      "Prob(Omnibus):                  0.000   Jarque-Bera (JB):               64.365\n",
      "Skew:                           0.165   Prob(JB):                     1.06e-14\n",
      "Kurtosis:                       2.202   Cond. No.                     1.43e+03\n",
      "==============================================================================\n",
      "\n",
      "Notes:\n",
      "[1] Standard Errors assume that the covariance matrix of the errors is correctly specified.\n",
      "[2] The condition number is large, 1.43e+03. This might indicate that there are\n",
      "strong multicollinearity or other numerical problems.\n",
      "                             OLS Regression Results                            \n",
      "===============================================================================\n",
      "Dep. Variable:     Property_Sale_Price   R-squared:                       0.286\n",
      "Model:                             OLS   Adj. R-squared:                  0.285\n",
      "Method:                  Least Squares   F-statistic:                     828.3\n",
      "Date:                 Tue, 16 Aug 2022   Prob (F-statistic):          1.66e-153\n",
      "Time:                         21:38:43   Log-Likelihood:                -13203.\n",
      "No. Observations:                 2073   AIC:                         2.641e+04\n",
      "Df Residuals:                     2071   BIC:                         2.642e+04\n",
      "Df Model:                            1                                         \n",
      "Covariance Type:             nonrobust                                         \n",
      "===============================================================================\n",
      "                  coef    std err          t      P>|t|      [0.025      0.975]\n",
      "-------------------------------------------------------------------------------\n",
      "const         -15.4900     11.146     -1.390      0.165     -37.348       6.368\n",
      "OverallQual    58.8694      2.046     28.780      0.000      54.858      62.881\n",
      "==============================================================================\n",
      "Omnibus:                        3.381   Durbin-Watson:                   1.953\n",
      "Prob(Omnibus):                  0.184   Jarque-Bera (JB):                3.565\n",
      "Skew:                          -0.041   Prob(JB):                        0.168\n",
      "Kurtosis:                       3.186   Cond. No.                         20.2\n",
      "==============================================================================\n",
      "\n",
      "Notes:\n",
      "[1] Standard Errors assume that the covariance matrix of the errors is correctly specified.\n",
      "                             OLS Regression Results                            \n",
      "===============================================================================\n",
      "Dep. Variable:     Property_Sale_Price   R-squared:                       0.005\n",
      "Model:                             OLS   Adj. R-squared:                  0.004\n",
      "Method:                  Least Squares   F-statistic:                     9.375\n",
      "Date:                 Tue, 16 Aug 2022   Prob (F-statistic):            0.00223\n",
      "Time:                         21:38:43   Log-Likelihood:                -13547.\n",
      "No. Observations:                 2073   AIC:                         2.710e+04\n",
      "Df Residuals:                     2071   BIC:                         2.711e+04\n",
      "Df Model:                            1                                         \n",
      "Covariance Type:             nonrobust                                         \n",
      "===============================================================================\n",
      "                  coef    std err          t      P>|t|      [0.025      0.975]\n",
      "-------------------------------------------------------------------------------\n",
      "const         332.4744     13.528     24.578      0.000     305.945     359.003\n",
      "OverallCond    -8.2467      2.693     -3.062      0.002     -13.529      -2.965\n",
      "==============================================================================\n",
      "Omnibus:                      403.847   Durbin-Watson:                   1.980\n",
      "Prob(Omnibus):                  0.000   Jarque-Bera (JB):              100.934\n",
      "Skew:                           0.243   Prob(JB):                     1.21e-22\n",
      "Kurtosis:                       2.035   Cond. No.                         19.2\n",
      "==============================================================================\n",
      "\n",
      "Notes:\n",
      "[1] Standard Errors assume that the covariance matrix of the errors is correctly specified.\n",
      "                             OLS Regression Results                            \n",
      "===============================================================================\n",
      "Dep. Variable:     Property_Sale_Price   R-squared:                       0.260\n",
      "Model:                             OLS   Adj. R-squared:                  0.260\n",
      "Method:                  Least Squares   F-statistic:                     728.5\n",
      "Date:                 Tue, 16 Aug 2022   Prob (F-statistic):          9.91e-138\n",
      "Time:                         21:38:43   Log-Likelihood:                -13239.\n",
      "No. Observations:                 2073   AIC:                         2.648e+04\n",
      "Df Residuals:                     2071   BIC:                         2.649e+04\n",
      "Df Model:                            1                                         \n",
      "Covariance Type:             nonrobust                                         \n",
      "==============================================================================\n",
      "                 coef    std err          t      P>|t|      [0.025      0.975]\n",
      "------------------------------------------------------------------------------\n",
      "const         74.9325      8.661      8.652      0.000      57.948      91.917\n",
      "YearBuilt      2.8749      0.107     26.990      0.000       2.666       3.084\n",
      "==============================================================================\n",
      "Omnibus:                       62.024   Durbin-Watson:                   1.968\n",
      "Prob(Omnibus):                  0.000   Jarque-Bera (JB):               66.567\n",
      "Skew:                           0.431   Prob(JB):                     3.51e-15\n",
      "Kurtosis:                       2.836   Cond. No.                         223.\n",
      "==============================================================================\n",
      "\n",
      "Notes:\n",
      "[1] Standard Errors assume that the covariance matrix of the errors is correctly specified.\n",
      "                             OLS Regression Results                            \n",
      "===============================================================================\n",
      "Dep. Variable:     Property_Sale_Price   R-squared:                       0.299\n",
      "Model:                             OLS   Adj. R-squared:                  0.298\n",
      "Method:                  Least Squares   F-statistic:                     881.3\n",
      "Date:                 Tue, 16 Aug 2022   Prob (F-statistic):          1.16e-161\n",
      "Time:                         21:38:43   Log-Likelihood:                -13184.\n",
      "No. Observations:                 2073   AIC:                         2.637e+04\n",
      "Df Residuals:                     2071   BIC:                         2.638e+04\n",
      "Df Model:                            1                                         \n",
      "Covariance Type:             nonrobust                                         \n",
      "================================================================================\n",
      "                   coef    std err          t      P>|t|      [0.025      0.975]\n",
      "--------------------------------------------------------------------------------\n",
      "const          128.8319      6.316     20.399      0.000     116.446     141.217\n",
      "YearRemodAdd     4.4750      0.151     29.686      0.000       4.179       4.771\n",
      "==============================================================================\n",
      "Omnibus:                       15.766   Durbin-Watson:                   1.947\n",
      "Prob(Omnibus):                  0.000   Jarque-Bera (JB):               10.911\n",
      "Skew:                          -0.012   Prob(JB):                      0.00427\n",
      "Kurtosis:                       2.645   Cond. No.                         86.1\n",
      "==============================================================================\n",
      "\n",
      "Notes:\n",
      "[1] Standard Errors assume that the covariance matrix of the errors is correctly specified.\n",
      "                             OLS Regression Results                            \n",
      "===============================================================================\n",
      "Dep. Variable:     Property_Sale_Price   R-squared:                       0.184\n",
      "Model:                             OLS   Adj. R-squared:                  0.183\n",
      "Method:                  Least Squares   F-statistic:                     466.7\n",
      "Date:                 Tue, 16 Aug 2022   Prob (F-statistic):           1.68e-93\n",
      "Time:                         21:38:43   Log-Likelihood:                -13341.\n",
      "No. Observations:                 2073   AIC:                         2.669e+04\n",
      "Df Residuals:                     2071   BIC:                         2.670e+04\n",
      "Df Model:                            1                                         \n",
      "Covariance Type:             nonrobust                                         \n",
      "==============================================================================\n",
      "                 coef    std err          t      P>|t|      [0.025      0.975]\n",
      "------------------------------------------------------------------------------\n",
      "const        244.7528      3.988     61.373      0.000     236.932     252.574\n",
      "MasVnrArea     0.8018      0.037     21.602      0.000       0.729       0.875\n",
      "==============================================================================\n",
      "Omnibus:                      126.839   Durbin-Watson:                   1.944\n",
      "Prob(Omnibus):                  0.000   Jarque-Bera (JB):               58.083\n",
      "Skew:                           0.205   Prob(JB):                     2.44e-13\n",
      "Kurtosis:                       2.290   Cond. No.                         129.\n",
      "==============================================================================\n",
      "\n",
      "Notes:\n",
      "[1] Standard Errors assume that the covariance matrix of the errors is correctly specified.\n",
      "                             OLS Regression Results                            \n",
      "===============================================================================\n",
      "Dep. Variable:     Property_Sale_Price   R-squared:                       0.104\n",
      "Model:                             OLS   Adj. R-squared:                  0.104\n",
      "Method:                  Least Squares   F-statistic:                     240.3\n",
      "Date:                 Tue, 16 Aug 2022   Prob (F-statistic):           2.33e-51\n",
      "Time:                         21:38:43   Log-Likelihood:                -13438.\n",
      "No. Observations:                 2073   AIC:                         2.688e+04\n",
      "Df Residuals:                     2071   BIC:                         2.689e+04\n",
      "Df Model:                            1                                         \n",
      "Covariance Type:             nonrobust                                         \n",
      "==============================================================================\n",
      "                 coef    std err          t      P>|t|      [0.025      0.975]\n",
      "------------------------------------------------------------------------------\n",
      "const        238.7252      4.915     48.573      0.000     229.087     248.364\n",
      "BsmtFinSF1     0.2676      0.017     15.501      0.000       0.234       0.301\n",
      "==============================================================================\n",
      "Omnibus:                      387.000   Durbin-Watson:                   1.981\n",
      "Prob(Omnibus):                  0.000   Jarque-Bera (JB):              110.349\n",
      "Skew:                           0.306   Prob(JB):                     1.09e-24\n",
      "Kurtosis:                       2.050   Cond. No.                         403.\n",
      "==============================================================================\n",
      "\n",
      "Notes:\n",
      "[1] Standard Errors assume that the covariance matrix of the errors is correctly specified.\n",
      "                             OLS Regression Results                            \n",
      "===============================================================================\n",
      "Dep. Variable:     Property_Sale_Price   R-squared:                      -0.000\n",
      "Model:                             OLS   Adj. R-squared:                 -0.000\n",
      "Method:                  Least Squares   F-statistic:                       nan\n",
      "Date:                 Tue, 16 Aug 2022   Prob (F-statistic):                nan\n",
      "Time:                         21:38:43   Log-Likelihood:                -13552.\n",
      "No. Observations:                 2073   AIC:                         2.711e+04\n",
      "Df Residuals:                     2072   BIC:                         2.711e+04\n",
      "Df Model:                            0                                         \n",
      "Covariance Type:             nonrobust                                         \n",
      "==============================================================================\n",
      "                 coef    std err          t      P>|t|      [0.025      0.975]\n",
      "------------------------------------------------------------------------------\n",
      "const        292.6015      3.670     79.728      0.000     285.404     299.799\n",
      "BsmtFinSF2          0          0        nan        nan           0           0\n",
      "==============================================================================\n",
      "Omnibus:                      479.847   Durbin-Watson:                   1.986\n",
      "Prob(Omnibus):                  0.000   Jarque-Bera (JB):              109.185\n",
      "Skew:                           0.258   Prob(JB):                     1.95e-24\n",
      "Kurtosis:                       2.001   Cond. No.                          inf\n",
      "==============================================================================\n",
      "\n",
      "Notes:\n",
      "[1] Standard Errors assume that the covariance matrix of the errors is correctly specified.\n",
      "[2] The smallest eigenvalue is      0. This might indicate that there are\n",
      "strong multicollinearity problems or that the design matrix is singular.\n",
      "                             OLS Regression Results                            \n",
      "===============================================================================\n",
      "Dep. Variable:     Property_Sale_Price   R-squared:                       0.047\n",
      "Model:                             OLS   Adj. R-squared:                  0.047\n",
      "Method:                  Least Squares   F-statistic:                     103.2\n",
      "Date:                 Tue, 16 Aug 2022   Prob (F-statistic):           1.10e-23\n",
      "Time:                         21:38:43   Log-Likelihood:                -13501.\n",
      "No. Observations:                 2073   AIC:                         2.701e+04\n",
      "Df Residuals:                     2071   BIC:                         2.702e+04\n",
      "Df Model:                            1                                         \n",
      "Covariance Type:             nonrobust                                         \n",
      "==============================================================================\n",
      "                 coef    std err          t      P>|t|      [0.025      0.975]\n",
      "------------------------------------------------------------------------------\n",
      "const        241.7107      6.160     39.241      0.000     229.631     253.790\n",
      "BsmtUnfSF      0.1585      0.016     10.157      0.000       0.128       0.189\n",
      "==============================================================================\n",
      "Omnibus:                      196.406   Durbin-Watson:                   1.985\n",
      "Prob(Omnibus):                  0.000   Jarque-Bera (JB):               77.756\n",
      "Skew:                           0.253   Prob(JB):                     1.30e-17\n",
      "Kurtosis:                       2.197   Cond. No.                         679.\n",
      "==============================================================================\n",
      "\n",
      "Notes:\n",
      "[1] Standard Errors assume that the covariance matrix of the errors is correctly specified.\n",
      "                             OLS Regression Results                            \n",
      "===============================================================================\n",
      "Dep. Variable:     Property_Sale_Price   R-squared:                       0.398\n",
      "Model:                             OLS   Adj. R-squared:                  0.398\n",
      "Method:                  Least Squares   F-statistic:                     1370.\n",
      "Date:                 Tue, 16 Aug 2022   Prob (F-statistic):          1.22e-230\n",
      "Time:                         21:38:43   Log-Likelihood:                -13025.\n",
      "No. Observations:                 2073   AIC:                         2.605e+04\n",
      "Df Residuals:                     2071   BIC:                         2.607e+04\n",
      "Df Model:                            1                                         \n",
      "Covariance Type:             nonrobust                                         \n",
      "===============================================================================\n",
      "                  coef    std err          t      P>|t|      [0.025      0.975]\n",
      "-------------------------------------------------------------------------------\n",
      "const         132.4914      5.179     25.584      0.000     122.335     142.647\n",
      "TotalBsmtSF     0.5324      0.014     37.016      0.000       0.504       0.561\n",
      "==============================================================================\n",
      "Omnibus:                       82.361   Durbin-Watson:                   1.956\n",
      "Prob(Omnibus):                  0.000   Jarque-Bera (JB):               47.282\n",
      "Skew:                           0.214   Prob(JB):                     5.40e-11\n",
      "Kurtosis:                       2.397   Cond. No.                         655.\n",
      "==============================================================================\n",
      "\n",
      "Notes:\n",
      "[1] Standard Errors assume that the covariance matrix of the errors is correctly specified.\n",
      "                             OLS Regression Results                            \n",
      "===============================================================================\n",
      "Dep. Variable:     Property_Sale_Price   R-squared:                       0.345\n",
      "Model:                             OLS   Adj. R-squared:                  0.344\n",
      "Method:                  Least Squares   F-statistic:                     1089.\n",
      "Date:                 Tue, 16 Aug 2022   Prob (F-statistic):          2.86e-192\n",
      "Time:                         21:38:43   Log-Likelihood:                -13114.\n",
      "No. Observations:                 2073   AIC:                         2.623e+04\n",
      "Df Residuals:                     2071   BIC:                         2.624e+04\n",
      "Df Model:                            1                                         \n",
      "Covariance Type:             nonrobust                                         \n",
      "==============================================================================\n",
      "                 coef    std err          t      P>|t|      [0.025      0.975]\n",
      "------------------------------------------------------------------------------\n",
      "const        133.0854      5.674     23.454      0.000     121.957     144.213\n",
      "1stFlrSF       0.4803      0.015     33.000      0.000       0.452       0.509\n",
      "==============================================================================\n",
      "Omnibus:                       85.525   Durbin-Watson:                   1.981\n",
      "Prob(Omnibus):                  0.000   Jarque-Bera (JB):               41.471\n",
      "Skew:                           0.136   Prob(JB):                     9.88e-10\n",
      "Kurtosis:                       2.363   Cond. No.                         744.\n",
      "==============================================================================\n",
      "\n",
      "Notes:\n",
      "[1] Standard Errors assume that the covariance matrix of the errors is correctly specified.\n",
      "                             OLS Regression Results                            \n",
      "===============================================================================\n",
      "Dep. Variable:     Property_Sale_Price   R-squared:                       0.168\n",
      "Model:                             OLS   Adj. R-squared:                  0.167\n",
      "Method:                  Least Squares   F-statistic:                     416.8\n",
      "Date:                 Tue, 16 Aug 2022   Prob (F-statistic):           1.48e-84\n",
      "Time:                         21:38:43   Log-Likelihood:                -13362.\n",
      "No. Observations:                 2073   AIC:                         2.673e+04\n",
      "Df Residuals:                     2071   BIC:                         2.674e+04\n",
      "Df Model:                            1                                         \n",
      "Covariance Type:             nonrobust                                         \n",
      "==============================================================================\n",
      "                 coef    std err          t      P>|t|      [0.025      0.975]\n",
      "------------------------------------------------------------------------------\n",
      "const        244.9946      4.081     60.031      0.000     236.991     252.998\n",
      "2ndFlrSF       0.5566      0.027     20.415      0.000       0.503       0.610\n",
      "==============================================================================\n",
      "Omnibus:                       84.618   Durbin-Watson:                   2.042\n",
      "Prob(Omnibus):                  0.000   Jarque-Bera (JB):               82.184\n",
      "Skew:                           0.444   Prob(JB):                     1.43e-18\n",
      "Kurtosis:                       2.597   Cond. No.                         182.\n",
      "==============================================================================\n",
      "\n",
      "Notes:\n",
      "[1] Standard Errors assume that the covariance matrix of the errors is correctly specified.\n",
      "                             OLS Regression Results                            \n",
      "===============================================================================\n",
      "Dep. Variable:     Property_Sale_Price   R-squared:                      -0.000\n",
      "Model:                             OLS   Adj. R-squared:                 -0.000\n",
      "Method:                  Least Squares   F-statistic:                       nan\n",
      "Date:                 Tue, 16 Aug 2022   Prob (F-statistic):                nan\n",
      "Time:                         21:38:43   Log-Likelihood:                -13552.\n",
      "No. Observations:                 2073   AIC:                         2.711e+04\n",
      "Df Residuals:                     2072   BIC:                         2.711e+04\n",
      "Df Model:                            0                                         \n",
      "Covariance Type:             nonrobust                                         \n",
      "================================================================================\n",
      "                   coef    std err          t      P>|t|      [0.025      0.975]\n",
      "--------------------------------------------------------------------------------\n",
      "const          292.6015      3.670     79.728      0.000     285.404     299.799\n",
      "LowQualFinSF          0          0        nan        nan           0           0\n",
      "==============================================================================\n",
      "Omnibus:                      479.847   Durbin-Watson:                   1.986\n",
      "Prob(Omnibus):                  0.000   Jarque-Bera (JB):              109.185\n",
      "Skew:                           0.258   Prob(JB):                     1.95e-24\n",
      "Kurtosis:                       2.001   Cond. No.                          inf\n",
      "==============================================================================\n",
      "\n",
      "Notes:\n",
      "[1] Standard Errors assume that the covariance matrix of the errors is correctly specified.\n",
      "[2] The smallest eigenvalue is      0. This might indicate that there are\n",
      "strong multicollinearity problems or that the design matrix is singular.\n",
      "                             OLS Regression Results                            \n",
      "===============================================================================\n",
      "Dep. Variable:     Property_Sale_Price   R-squared:                       0.543\n",
      "Model:                             OLS   Adj. R-squared:                  0.542\n",
      "Method:                  Least Squares   F-statistic:                     2457.\n",
      "Date:                 Tue, 16 Aug 2022   Prob (F-statistic):               0.00\n",
      "Time:                         21:38:43   Log-Likelihood:                -12741.\n",
      "No. Observations:                 2073   AIC:                         2.549e+04\n",
      "Df Residuals:                     2071   BIC:                         2.550e+04\n",
      "Df Model:                            1                                         \n",
      "Covariance Type:             nonrobust                                         \n",
      "==============================================================================\n",
      "                 coef    std err          t      P>|t|      [0.025      0.975]\n",
      "------------------------------------------------------------------------------\n",
      "const         91.2414      4.761     19.164      0.000      81.904     100.579\n",
      "GrLivArea      0.5209      0.011     49.564      0.000       0.500       0.542\n",
      "==============================================================================\n",
      "Omnibus:                       80.742   Durbin-Watson:                   2.019\n",
      "Prob(Omnibus):                  0.000   Jarque-Bera (JB):               92.003\n",
      "Skew:                          -0.465   Prob(JB):                     1.05e-20\n",
      "Kurtosis:                       3.448   Cond. No.                         869.\n",
      "==============================================================================\n",
      "\n",
      "Notes:\n",
      "[1] Standard Errors assume that the covariance matrix of the errors is correctly specified.\n",
      "                             OLS Regression Results                            \n",
      "===============================================================================\n",
      "Dep. Variable:     Property_Sale_Price   R-squared:                       0.047\n",
      "Model:                             OLS   Adj. R-squared:                  0.047\n",
      "Method:                  Least Squares   F-statistic:                     102.8\n",
      "Date:                 Tue, 16 Aug 2022   Prob (F-statistic):           1.32e-23\n",
      "Time:                         21:38:43   Log-Likelihood:                -13502.\n",
      "No. Observations:                 2073   AIC:                         2.701e+04\n",
      "Df Residuals:                     2071   BIC:                         2.702e+04\n",
      "Df Model:                            1                                         \n",
      "Covariance Type:             nonrobust                                         \n",
      "================================================================================\n",
      "                   coef    std err          t      P>|t|      [0.025      0.975]\n",
      "--------------------------------------------------------------------------------\n",
      "const          262.7534      4.638     56.658      0.000     253.659     271.848\n",
      "BsmtFullBath    69.5226      6.858     10.138      0.000      56.074      82.972\n",
      "==============================================================================\n",
      "Omnibus:                      570.093   Durbin-Watson:                   1.983\n",
      "Prob(Omnibus):                  0.000   Jarque-Bera (JB):              111.912\n",
      "Skew:                           0.238   Prob(JB):                     5.00e-25\n",
      "Kurtosis:                       1.966   Cond. No.                         2.37\n",
      "==============================================================================\n",
      "\n",
      "Notes:\n",
      "[1] Standard Errors assume that the covariance matrix of the errors is correctly specified.\n",
      "                             OLS Regression Results                            \n",
      "===============================================================================\n",
      "Dep. Variable:     Property_Sale_Price   R-squared:                      -0.000\n",
      "Model:                             OLS   Adj. R-squared:                 -0.000\n",
      "Method:                  Least Squares   F-statistic:                       nan\n",
      "Date:                 Tue, 16 Aug 2022   Prob (F-statistic):                nan\n",
      "Time:                         21:38:43   Log-Likelihood:                -13552.\n",
      "No. Observations:                 2073   AIC:                         2.711e+04\n",
      "Df Residuals:                     2072   BIC:                         2.711e+04\n",
      "Df Model:                            0                                         \n",
      "Covariance Type:             nonrobust                                         \n",
      "================================================================================\n",
      "                   coef    std err          t      P>|t|      [0.025      0.975]\n",
      "--------------------------------------------------------------------------------\n",
      "const          292.6015      3.670     79.728      0.000     285.404     299.799\n",
      "BsmtHalfBath          0          0        nan        nan           0           0\n",
      "==============================================================================\n",
      "Omnibus:                      479.847   Durbin-Watson:                   1.986\n",
      "Prob(Omnibus):                  0.000   Jarque-Bera (JB):              109.185\n",
      "Skew:                           0.258   Prob(JB):                     1.95e-24\n",
      "Kurtosis:                       2.001   Cond. No.                          inf\n",
      "==============================================================================\n",
      "\n",
      "Notes:\n",
      "[1] Standard Errors assume that the covariance matrix of the errors is correctly specified.\n",
      "[2] The smallest eigenvalue is      0. This might indicate that there are\n",
      "strong multicollinearity problems or that the design matrix is singular.\n",
      "                             OLS Regression Results                            \n",
      "===============================================================================\n",
      "Dep. Variable:     Property_Sale_Price   R-squared:                       0.371\n",
      "Model:                             OLS   Adj. R-squared:                  0.370\n",
      "Method:                  Least Squares   F-statistic:                     1219.\n",
      "Date:                 Tue, 16 Aug 2022   Prob (F-statistic):          2.08e-210\n",
      "Time:                         21:38:43   Log-Likelihood:                -13072.\n",
      "No. Observations:                 2073   AIC:                         2.615e+04\n",
      "Df Residuals:                     2071   BIC:                         2.616e+04\n",
      "Df Model:                            1                                         \n",
      "Covariance Type:             nonrobust                                         \n",
      "==============================================================================\n",
      "                 coef    std err          t      P>|t|      [0.025      0.975]\n",
      "------------------------------------------------------------------------------\n",
      "const         -0.1840      8.877     -0.021      0.983     -17.594      17.226\n",
      "FullBath     186.2936      5.336     34.913      0.000     175.829     196.758\n",
      "==============================================================================\n",
      "Omnibus:                       47.988   Durbin-Watson:                   1.997\n",
      "Prob(Omnibus):                  0.000   Jarque-Bera (JB):               65.803\n",
      "Skew:                           0.262   Prob(JB):                     5.14e-15\n",
      "Kurtosis:                       3.698   Cond. No.                         6.76\n",
      "==============================================================================\n",
      "\n",
      "Notes:\n",
      "[1] Standard Errors assume that the covariance matrix of the errors is correctly specified.\n",
      "                             OLS Regression Results                            \n",
      "===============================================================================\n",
      "Dep. Variable:     Property_Sale_Price   R-squared:                       0.110\n",
      "Model:                             OLS   Adj. R-squared:                  0.110\n",
      "Method:                  Least Squares   F-statistic:                     255.9\n",
      "Date:                 Tue, 16 Aug 2022   Prob (F-statistic):           2.08e-54\n",
      "Time:                         21:38:43   Log-Likelihood:                -13431.\n",
      "No. Observations:                 2073   AIC:                         2.687e+04\n",
      "Df Residuals:                     2071   BIC:                         2.688e+04\n",
      "Df Model:                            1                                         \n",
      "Covariance Type:             nonrobust                                         \n",
      "==============================================================================\n",
      "                 coef    std err          t      P>|t|      [0.025      0.975]\n",
      "------------------------------------------------------------------------------\n",
      "const        250.6202      4.345     57.680      0.000     242.099     259.141\n",
      "HalfBath     110.8627      6.930     15.998      0.000      97.273     124.453\n",
      "==============================================================================\n",
      "Omnibus:                      164.669   Durbin-Watson:                   2.015\n",
      "Prob(Omnibus):                  0.000   Jarque-Bera (JB):               88.804\n",
      "Skew:                           0.352   Prob(JB):                     5.21e-20\n",
      "Kurtosis:                       2.270   Cond. No.                         2.36\n",
      "==============================================================================\n",
      "\n",
      "Notes:\n",
      "[1] Standard Errors assume that the covariance matrix of the errors is correctly specified.\n",
      "                             OLS Regression Results                            \n",
      "===============================================================================\n",
      "Dep. Variable:     Property_Sale_Price   R-squared:                       0.037\n",
      "Model:                             OLS   Adj. R-squared:                  0.036\n",
      "Method:                  Least Squares   F-statistic:                     78.63\n",
      "Date:                 Tue, 16 Aug 2022   Prob (F-statistic):           1.58e-18\n",
      "Time:                         21:38:43   Log-Likelihood:                -13513.\n",
      "No. Observations:                 2073   AIC:                         2.703e+04\n",
      "Df Residuals:                     2071   BIC:                         2.704e+04\n",
      "Df Model:                            1                                         \n",
      "Covariance Type:             nonrobust                                         \n",
      "================================================================================\n",
      "                   coef    std err          t      P>|t|      [0.025      0.975]\n",
      "--------------------------------------------------------------------------------\n",
      "const          177.3654     13.486     13.152      0.000     150.918     203.813\n",
      "BedroomAbvGr    40.1757      4.531      8.867      0.000      31.290      49.061\n",
      "==============================================================================\n",
      "Omnibus:                      297.019   Durbin-Watson:                   2.011\n",
      "Prob(Omnibus):                  0.000   Jarque-Bera (JB):              100.920\n",
      "Skew:                           0.306   Prob(JB):                     1.22e-22\n",
      "Kurtosis:                       2.109   Cond. No.                         12.3\n",
      "==============================================================================\n",
      "\n",
      "Notes:\n",
      "[1] Standard Errors assume that the covariance matrix of the errors is correctly specified.\n",
      "                             OLS Regression Results                            \n",
      "===============================================================================\n",
      "Dep. Variable:     Property_Sale_Price   R-squared:                       0.001\n",
      "Model:                             OLS   Adj. R-squared:                  0.000\n",
      "Method:                  Least Squares   F-statistic:                     1.605\n",
      "Date:                 Tue, 16 Aug 2022   Prob (F-statistic):              0.205\n",
      "Time:                         21:38:43   Log-Likelihood:                -13551.\n",
      "No. Observations:                 2073   AIC:                         2.711e+04\n",
      "Df Residuals:                     2071   BIC:                         2.712e+04\n",
      "Df Model:                            1                                         \n",
      "Covariance Type:             nonrobust                                         \n",
      "================================================================================\n",
      "                   coef    std err          t      P>|t|      [0.025      0.975]\n",
      "--------------------------------------------------------------------------------\n",
      "const          143.0000    118.137      1.210      0.226     -88.680     374.680\n",
      "KitchenAbvGr   149.7460    118.194      1.267      0.205     -82.046     381.538\n",
      "==============================================================================\n",
      "Omnibus:                      475.758   Durbin-Watson:                   1.987\n",
      "Prob(Omnibus):                  0.000   Jarque-Bera (JB):              108.626\n",
      "Skew:                           0.256   Prob(JB):                     2.58e-24\n",
      "Kurtosis:                       2.002   Cond. No.                         64.4\n",
      "==============================================================================\n",
      "\n",
      "Notes:\n",
      "[1] Standard Errors assume that the covariance matrix of the errors is correctly specified.\n",
      "                             OLS Regression Results                            \n",
      "===============================================================================\n",
      "Dep. Variable:     Property_Sale_Price   R-squared:                       0.267\n",
      "Model:                             OLS   Adj. R-squared:                  0.267\n",
      "Method:                  Least Squares   F-statistic:                     755.8\n",
      "Date:                 Tue, 16 Aug 2022   Prob (F-statistic):          4.17e-142\n",
      "Time:                         21:38:43   Log-Likelihood:                -13229.\n",
      "No. Observations:                 2073   AIC:                         2.646e+04\n",
      "Df Residuals:                     2071   BIC:                         2.647e+04\n",
      "Df Model:                            1                                         \n",
      "Covariance Type:             nonrobust                                         \n",
      "================================================================================\n",
      "                   coef    std err          t      P>|t|      [0.025      0.975]\n",
      "--------------------------------------------------------------------------------\n",
      "const           39.3579      9.733      4.044      0.000      20.271      58.445\n",
      "TotRmsAbvGrd    56.1950      2.044     27.492      0.000      52.186      60.204\n",
      "==============================================================================\n",
      "Omnibus:                        9.172   Durbin-Watson:                   1.991\n",
      "Prob(Omnibus):                  0.010   Jarque-Bera (JB):                7.369\n",
      "Skew:                           0.055   Prob(JB):                       0.0251\n",
      "Kurtosis:                       2.729   Cond. No.                         15.3\n",
      "==============================================================================\n",
      "\n",
      "Notes:\n",
      "[1] Standard Errors assume that the covariance matrix of the errors is correctly specified.\n",
      "                             OLS Regression Results                            \n",
      "===============================================================================\n",
      "Dep. Variable:     Property_Sale_Price   R-squared:                       0.247\n",
      "Model:                             OLS   Adj. R-squared:                  0.247\n",
      "Method:                  Least Squares   F-statistic:                     679.1\n",
      "Date:                 Tue, 16 Aug 2022   Prob (F-statistic):          1.01e-129\n",
      "Time:                         21:38:43   Log-Likelihood:                -13258.\n",
      "No. Observations:                 2073   AIC:                         2.652e+04\n",
      "Df Residuals:                     2071   BIC:                         2.653e+04\n",
      "Df Model:                            1                                         \n",
      "Covariance Type:             nonrobust                                         \n",
      "==============================================================================\n",
      "                 coef    std err          t      P>|t|      [0.025      0.975]\n",
      "------------------------------------------------------------------------------\n",
      "const        213.7460      4.394     48.649      0.000     205.130     222.363\n",
      "Fireplaces   130.9836      5.026     26.060      0.000     121.126     140.841\n",
      "==============================================================================\n",
      "Omnibus:                      135.535   Durbin-Watson:                   1.994\n",
      "Prob(Omnibus):                  0.000   Jarque-Bera (JB):               54.423\n",
      "Skew:                           0.147   Prob(JB):                     1.52e-12\n",
      "Kurtosis:                       2.263   Cond. No.                         2.36\n",
      "==============================================================================\n",
      "\n",
      "Notes:\n",
      "[1] Standard Errors assume that the covariance matrix of the errors is correctly specified.\n"
     ]
    },
    {
     "name": "stdout",
     "output_type": "stream",
     "text": [
      "                             OLS Regression Results                            \n",
      "===============================================================================\n",
      "Dep. Variable:     Property_Sale_Price   R-squared:                       0.188\n",
      "Model:                             OLS   Adj. R-squared:                  0.188\n",
      "Method:                  Least Squares   F-statistic:                     480.5\n",
      "Date:                 Tue, 16 Aug 2022   Prob (F-statistic):           5.83e-96\n",
      "Time:                         21:38:43   Log-Likelihood:                -13335.\n",
      "No. Observations:                 2073   AIC:                         2.667e+04\n",
      "Df Residuals:                     2071   BIC:                         2.669e+04\n",
      "Df Model:                            1                                         \n",
      "Covariance Type:             nonrobust                                         \n",
      "===============================================================================\n",
      "                  coef    std err          t      P>|t|      [0.025      0.975]\n",
      "-------------------------------------------------------------------------------\n",
      "const          87.8774      9.907      8.870      0.000      68.448     107.307\n",
      "GarageYrBlt     3.0587      0.140     21.921      0.000       2.785       3.332\n",
      "==============================================================================\n",
      "Omnibus:                       22.953   Durbin-Watson:                   1.985\n",
      "Prob(Omnibus):                  0.000   Jarque-Bera (JB):               15.689\n",
      "Skew:                           0.079   Prob(JB):                     0.000392\n",
      "Kurtosis:                       2.604   Cond. No.                         213.\n",
      "==============================================================================\n",
      "\n",
      "Notes:\n",
      "[1] Standard Errors assume that the covariance matrix of the errors is correctly specified.\n",
      "                             OLS Regression Results                            \n",
      "===============================================================================\n",
      "Dep. Variable:     Property_Sale_Price   R-squared:                       0.448\n",
      "Model:                             OLS   Adj. R-squared:                  0.448\n",
      "Method:                  Least Squares   F-statistic:                     1680.\n",
      "Date:                 Tue, 16 Aug 2022   Prob (F-statistic):          2.17e-269\n",
      "Time:                         21:38:43   Log-Likelihood:                -12936.\n",
      "No. Observations:                 2073   AIC:                         2.588e+04\n",
      "Df Residuals:                     2071   BIC:                         2.589e+04\n",
      "Df Model:                            1                                         \n",
      "Covariance Type:             nonrobust                                         \n",
      "==============================================================================\n",
      "                 coef    std err          t      P>|t|      [0.025      0.975]\n",
      "------------------------------------------------------------------------------\n",
      "const         24.9945      7.077      3.532      0.000      11.117      38.872\n",
      "GarageCars   150.7062      3.677     40.983      0.000     143.495     157.918\n",
      "==============================================================================\n",
      "Omnibus:                       11.223   Durbin-Watson:                   2.015\n",
      "Prob(Omnibus):                  0.004   Jarque-Bera (JB):               11.402\n",
      "Skew:                          -0.159   Prob(JB):                      0.00334\n",
      "Kurtosis:                       3.176   Cond. No.                         6.18\n",
      "==============================================================================\n",
      "\n",
      "Notes:\n",
      "[1] Standard Errors assume that the covariance matrix of the errors is correctly specified.\n",
      "                             OLS Regression Results                            \n",
      "===============================================================================\n",
      "Dep. Variable:     Property_Sale_Price   R-squared:                       0.431\n",
      "Model:                             OLS   Adj. R-squared:                  0.431\n",
      "Method:                  Least Squares   F-statistic:                     1569.\n",
      "Date:                 Tue, 16 Aug 2022   Prob (F-statistic):          6.16e-256\n",
      "Time:                         21:38:43   Log-Likelihood:                -12967.\n",
      "No. Observations:                 2073   AIC:                         2.594e+04\n",
      "Df Residuals:                     2071   BIC:                         2.595e+04\n",
      "Df Model:                            1                                         \n",
      "Covariance Type:             nonrobust                                         \n",
      "==============================================================================\n",
      "                 coef    std err          t      P>|t|      [0.025      0.975]\n",
      "------------------------------------------------------------------------------\n",
      "const        132.3589      4.902     27.001      0.000     122.745     141.972\n",
      "GarageArea     0.9465      0.024     39.613      0.000       0.900       0.993\n",
      "==============================================================================\n",
      "Omnibus:                       26.370   Durbin-Watson:                   1.990\n",
      "Prob(Omnibus):                  0.000   Jarque-Bera (JB):               30.092\n",
      "Skew:                          -0.217   Prob(JB):                     2.92e-07\n",
      "Kurtosis:                       3.399   Cond. No.                         363.\n",
      "==============================================================================\n",
      "\n",
      "Notes:\n",
      "[1] Standard Errors assume that the covariance matrix of the errors is correctly specified.\n",
      "                             OLS Regression Results                            \n",
      "===============================================================================\n",
      "Dep. Variable:     Property_Sale_Price   R-squared:                       0.115\n",
      "Model:                             OLS   Adj. R-squared:                  0.115\n",
      "Method:                  Least Squares   F-statistic:                     269.6\n",
      "Date:                 Tue, 16 Aug 2022   Prob (F-statistic):           4.71e-57\n",
      "Time:                         21:38:43   Log-Likelihood:                -13425.\n",
      "No. Observations:                 2073   AIC:                         2.685e+04\n",
      "Df Residuals:                     2071   BIC:                         2.687e+04\n",
      "Df Model:                            1                                         \n",
      "Covariance Type:             nonrobust                                         \n",
      "==============================================================================\n",
      "                 coef    std err          t      P>|t|      [0.025      0.975]\n",
      "------------------------------------------------------------------------------\n",
      "const        250.3912      4.305     58.166      0.000     241.949     258.833\n",
      "WoodDeckSF     0.7963      0.048     16.420      0.000       0.701       0.891\n",
      "==============================================================================\n",
      "Omnibus:                      239.764   Durbin-Watson:                   2.010\n",
      "Prob(Omnibus):                  0.000   Jarque-Bera (JB):               83.116\n",
      "Skew:                           0.244   Prob(JB):                     8.94e-19\n",
      "Kurtosis:                       2.149   Cond. No.                         111.\n",
      "==============================================================================\n",
      "\n",
      "Notes:\n",
      "[1] Standard Errors assume that the covariance matrix of the errors is correctly specified.\n",
      "                             OLS Regression Results                            \n",
      "===============================================================================\n",
      "Dep. Variable:     Property_Sale_Price   R-squared:                       0.185\n",
      "Model:                             OLS   Adj. R-squared:                  0.184\n",
      "Method:                  Least Squares   F-statistic:                     468.7\n",
      "Date:                 Tue, 16 Aug 2022   Prob (F-statistic):           7.26e-94\n",
      "Time:                         21:38:43   Log-Likelihood:                -13340.\n",
      "No. Observations:                 2073   AIC:                         2.668e+04\n",
      "Df Residuals:                     2071   BIC:                         2.670e+04\n",
      "Df Model:                            1                                         \n",
      "Covariance Type:             nonrobust                                         \n",
      "===============================================================================\n",
      "                  coef    std err          t      P>|t|      [0.025      0.975]\n",
      "-------------------------------------------------------------------------------\n",
      "const         236.5075      4.207     56.213      0.000     228.256     244.759\n",
      "OpenPorchSF     1.6642      0.077     21.650      0.000       1.513       1.815\n",
      "==============================================================================\n",
      "Omnibus:                       39.166   Durbin-Watson:                   1.943\n",
      "Prob(Omnibus):                  0.000   Jarque-Bera (JB):               27.443\n",
      "Skew:                           0.169   Prob(JB):                     1.10e-06\n",
      "Kurtosis:                       2.548   Cond. No.                         69.5\n",
      "==============================================================================\n",
      "\n",
      "Notes:\n",
      "[1] Standard Errors assume that the covariance matrix of the errors is correctly specified.\n",
      "                             OLS Regression Results                            \n",
      "===============================================================================\n",
      "Dep. Variable:     Property_Sale_Price   R-squared:                      -0.000\n",
      "Model:                             OLS   Adj. R-squared:                 -0.000\n",
      "Method:                  Least Squares   F-statistic:                       nan\n",
      "Date:                 Tue, 16 Aug 2022   Prob (F-statistic):                nan\n",
      "Time:                         21:38:43   Log-Likelihood:                -13552.\n",
      "No. Observations:                 2073   AIC:                         2.711e+04\n",
      "Df Residuals:                     2072   BIC:                         2.711e+04\n",
      "Df Model:                            0                                         \n",
      "Covariance Type:             nonrobust                                         \n",
      "=================================================================================\n",
      "                    coef    std err          t      P>|t|      [0.025      0.975]\n",
      "---------------------------------------------------------------------------------\n",
      "const           292.6015      3.670     79.728      0.000     285.404     299.799\n",
      "EnclosedPorch          0          0        nan        nan           0           0\n",
      "==============================================================================\n",
      "Omnibus:                      479.847   Durbin-Watson:                   1.986\n",
      "Prob(Omnibus):                  0.000   Jarque-Bera (JB):              109.185\n",
      "Skew:                           0.258   Prob(JB):                     1.95e-24\n",
      "Kurtosis:                       2.001   Cond. No.                          inf\n",
      "==============================================================================\n",
      "\n",
      "Notes:\n",
      "[1] Standard Errors assume that the covariance matrix of the errors is correctly specified.\n",
      "[2] The smallest eigenvalue is      0. This might indicate that there are\n",
      "strong multicollinearity problems or that the design matrix is singular.\n",
      "                             OLS Regression Results                            \n",
      "===============================================================================\n",
      "Dep. Variable:     Property_Sale_Price   R-squared:                      -0.000\n",
      "Model:                             OLS   Adj. R-squared:                 -0.000\n",
      "Method:                  Least Squares   F-statistic:                       nan\n",
      "Date:                 Tue, 16 Aug 2022   Prob (F-statistic):                nan\n",
      "Time:                         21:38:43   Log-Likelihood:                -13552.\n",
      "No. Observations:                 2073   AIC:                         2.711e+04\n",
      "Df Residuals:                     2072   BIC:                         2.711e+04\n",
      "Df Model:                            0                                         \n",
      "Covariance Type:             nonrobust                                         \n",
      "==============================================================================\n",
      "                 coef    std err          t      P>|t|      [0.025      0.975]\n",
      "------------------------------------------------------------------------------\n",
      "const        292.6015      3.670     79.728      0.000     285.404     299.799\n",
      "3SsnPorch           0          0        nan        nan           0           0\n",
      "==============================================================================\n",
      "Omnibus:                      479.847   Durbin-Watson:                   1.986\n",
      "Prob(Omnibus):                  0.000   Jarque-Bera (JB):              109.185\n",
      "Skew:                           0.258   Prob(JB):                     1.95e-24\n",
      "Kurtosis:                       2.001   Cond. No.                          inf\n",
      "==============================================================================\n",
      "\n",
      "Notes:\n",
      "[1] Standard Errors assume that the covariance matrix of the errors is correctly specified.\n",
      "[2] The smallest eigenvalue is      0. This might indicate that there are\n",
      "strong multicollinearity problems or that the design matrix is singular.\n",
      "                             OLS Regression Results                            \n",
      "===============================================================================\n",
      "Dep. Variable:     Property_Sale_Price   R-squared:                      -0.000\n",
      "Model:                             OLS   Adj. R-squared:                 -0.000\n",
      "Method:                  Least Squares   F-statistic:                       nan\n",
      "Date:                 Tue, 16 Aug 2022   Prob (F-statistic):                nan\n",
      "Time:                         21:38:43   Log-Likelihood:                -13552.\n",
      "No. Observations:                 2073   AIC:                         2.711e+04\n",
      "Df Residuals:                     2072   BIC:                         2.711e+04\n",
      "Df Model:                            0                                         \n",
      "Covariance Type:             nonrobust                                         \n",
      "===============================================================================\n",
      "                  coef    std err          t      P>|t|      [0.025      0.975]\n",
      "-------------------------------------------------------------------------------\n",
      "const         292.6015      3.670     79.728      0.000     285.404     299.799\n",
      "ScreenPorch          0          0        nan        nan           0           0\n",
      "==============================================================================\n",
      "Omnibus:                      479.847   Durbin-Watson:                   1.986\n",
      "Prob(Omnibus):                  0.000   Jarque-Bera (JB):              109.185\n",
      "Skew:                           0.258   Prob(JB):                     1.95e-24\n",
      "Kurtosis:                       2.001   Cond. No.                          inf\n",
      "==============================================================================\n",
      "\n",
      "Notes:\n",
      "[1] Standard Errors assume that the covariance matrix of the errors is correctly specified.\n",
      "[2] The smallest eigenvalue is      0. This might indicate that there are\n",
      "strong multicollinearity problems or that the design matrix is singular.\n",
      "                             OLS Regression Results                            \n",
      "===============================================================================\n",
      "Dep. Variable:     Property_Sale_Price   R-squared:                      -0.000\n",
      "Model:                             OLS   Adj. R-squared:                 -0.000\n",
      "Method:                  Least Squares   F-statistic:                       nan\n",
      "Date:                 Tue, 16 Aug 2022   Prob (F-statistic):                nan\n",
      "Time:                         21:38:43   Log-Likelihood:                -13552.\n",
      "No. Observations:                 2073   AIC:                         2.711e+04\n",
      "Df Residuals:                     2072   BIC:                         2.711e+04\n",
      "Df Model:                            0                                         \n",
      "Covariance Type:             nonrobust                                         \n",
      "==============================================================================\n",
      "                 coef    std err          t      P>|t|      [0.025      0.975]\n",
      "------------------------------------------------------------------------------\n",
      "const        292.6015      3.670     79.728      0.000     285.404     299.799\n",
      "PoolArea            0          0        nan        nan           0           0\n",
      "==============================================================================\n",
      "Omnibus:                      479.847   Durbin-Watson:                   1.986\n",
      "Prob(Omnibus):                  0.000   Jarque-Bera (JB):              109.185\n",
      "Skew:                           0.258   Prob(JB):                     1.95e-24\n",
      "Kurtosis:                       2.001   Cond. No.                          inf\n",
      "==============================================================================\n",
      "\n",
      "Notes:\n",
      "[1] Standard Errors assume that the covariance matrix of the errors is correctly specified.\n",
      "[2] The smallest eigenvalue is      0. This might indicate that there are\n",
      "strong multicollinearity problems or that the design matrix is singular.\n",
      "                             OLS Regression Results                            \n",
      "===============================================================================\n",
      "Dep. Variable:     Property_Sale_Price   R-squared:                      -0.000\n",
      "Model:                             OLS   Adj. R-squared:                 -0.000\n",
      "Method:                  Least Squares   F-statistic:                       nan\n",
      "Date:                 Tue, 16 Aug 2022   Prob (F-statistic):                nan\n",
      "Time:                         21:38:43   Log-Likelihood:                -13552.\n",
      "No. Observations:                 2073   AIC:                         2.711e+04\n",
      "Df Residuals:                     2072   BIC:                         2.711e+04\n",
      "Df Model:                            0                                         \n",
      "Covariance Type:             nonrobust                                         \n",
      "==============================================================================\n",
      "                 coef    std err          t      P>|t|      [0.025      0.975]\n",
      "------------------------------------------------------------------------------\n",
      "const        292.6015      3.670     79.728      0.000     285.404     299.799\n",
      "MiscVal             0          0        nan        nan           0           0\n",
      "==============================================================================\n",
      "Omnibus:                      479.847   Durbin-Watson:                   1.986\n",
      "Prob(Omnibus):                  0.000   Jarque-Bera (JB):              109.185\n",
      "Skew:                           0.258   Prob(JB):                     1.95e-24\n",
      "Kurtosis:                       2.001   Cond. No.                          inf\n",
      "==============================================================================\n",
      "\n",
      "Notes:\n",
      "[1] Standard Errors assume that the covariance matrix of the errors is correctly specified.\n",
      "[2] The smallest eigenvalue is      0. This might indicate that there are\n",
      "strong multicollinearity problems or that the design matrix is singular.\n",
      "                             OLS Regression Results                            \n",
      "===============================================================================\n",
      "Dep. Variable:     Property_Sale_Price   R-squared:                       0.004\n",
      "Model:                             OLS   Adj. R-squared:                  0.004\n",
      "Method:                  Least Squares   F-statistic:                     9.341\n",
      "Date:                 Tue, 16 Aug 2022   Prob (F-statistic):            0.00227\n",
      "Time:                         21:38:43   Log-Likelihood:                -13547.\n",
      "No. Observations:                 2073   AIC:                         2.710e+04\n",
      "Df Residuals:                     2071   BIC:                         2.711e+04\n",
      "Df Model:                            1                                         \n",
      "Covariance Type:             nonrobust                                         \n",
      "==============================================================================\n",
      "                 coef    std err          t      P>|t|      [0.025      0.975]\n",
      "------------------------------------------------------------------------------\n",
      "const        270.5936      8.079     33.495      0.000     254.750     286.437\n",
      "MoSold         4.1623      1.362      3.056      0.002       1.492       6.833\n",
      "==============================================================================\n",
      "Omnibus:                      441.615   Durbin-Watson:                   1.978\n",
      "Prob(Omnibus):                  0.000   Jarque-Bera (JB):              106.134\n",
      "Skew:                           0.257   Prob(JB):                     8.98e-24\n",
      "Kurtosis:                       2.017   Cond. No.                         13.4\n",
      "==============================================================================\n",
      "\n",
      "Notes:\n",
      "[1] Standard Errors assume that the covariance matrix of the errors is correctly specified.\n",
      "                             OLS Regression Results                            \n",
      "===============================================================================\n",
      "Dep. Variable:     Property_Sale_Price   R-squared:                       0.000\n",
      "Model:                             OLS   Adj. R-squared:                 -0.000\n",
      "Method:                  Least Squares   F-statistic:                   0.07247\n",
      "Date:                 Tue, 16 Aug 2022   Prob (F-statistic):              0.788\n",
      "Time:                         21:38:43   Log-Likelihood:                -13552.\n",
      "No. Observations:                 2073   AIC:                         2.711e+04\n",
      "Df Residuals:                     2071   BIC:                         2.712e+04\n",
      "Df Model:                            1                                         \n",
      "Covariance Type:             nonrobust                                         \n",
      "==============================================================================\n",
      "                 coef    std err          t      P>|t|      [0.025      0.975]\n",
      "------------------------------------------------------------------------------\n",
      "const        293.9782      6.295     46.702      0.000     281.633     306.323\n",
      "YrSold        -0.7434      2.761     -0.269      0.788      -6.159       4.672\n",
      "==============================================================================\n",
      "Omnibus:                      479.407   Durbin-Watson:                   1.987\n",
      "Prob(Omnibus):                  0.000   Jarque-Bera (JB):              109.193\n",
      "Skew:                           0.258   Prob(JB):                     1.95e-24\n",
      "Kurtosis:                       2.001   Cond. No.                         4.44\n",
      "==============================================================================\n",
      "\n",
      "Notes:\n",
      "[1] Standard Errors assume that the covariance matrix of the errors is correctly specified.\n"
     ]
    }
   ],
   "source": [
    "for o in num:\n",
    "    if o != 'Property_Sale_Price':\n",
    "        print(sm.OLS(y, sm.add_constant(x[o])).fit().summary())"
   ]
  },
  {
   "cell_type": "code",
   "execution_count": null,
   "id": "de3068e3",
   "metadata": {},
   "outputs": [],
   "source": []
  },
  {
   "cell_type": "markdown",
   "id": "6caeb935",
   "metadata": {},
   "source": [
    "import statsmodels.api as sm\n",
    "import pandas as pd\n",
    " \n",
    "# reading data from the csv\n",
    "data = pd.read_csv('train.csv')\n",
    " \n",
    "# defining the variables\n",
    "x = data['x'].tolist()\n",
    "y = data['y'].tolist()\n",
    " \n",
    "# adding the constant term\n",
    "x = sm.add_constant(x)\n",
    " \n",
    "# performing the regression\n",
    "# and fitting the model\n",
    "result = sm.OLS(y, x).fit()\n",
    " \n",
    "# printing the summary table\n",
    "print(result.summary())"
   ]
  },
  {
   "cell_type": "code",
   "execution_count": null,
   "id": "5f87a5b3",
   "metadata": {},
   "outputs": [],
   "source": []
  },
  {
   "cell_type": "code",
   "execution_count": null,
   "id": "97dd5337",
   "metadata": {},
   "outputs": [],
   "source": []
  }
 ],
 "metadata": {
  "kernelspec": {
   "display_name": "Python 3 (ipykernel)",
   "language": "python",
   "name": "python3"
  },
  "language_info": {
   "codemirror_mode": {
    "name": "ipython",
    "version": 3
   },
   "file_extension": ".py",
   "mimetype": "text/x-python",
   "name": "python",
   "nbconvert_exporter": "python",
   "pygments_lexer": "ipython3",
   "version": "3.9.12"
  }
 },
 "nbformat": 4,
 "nbformat_minor": 5
}
