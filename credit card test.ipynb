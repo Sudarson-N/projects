{
 "cells": [
  {
   "cell_type": "code",
   "execution_count": 90,
   "id": "4f6a9555",
   "metadata": {},
   "outputs": [],
   "source": [
    "import pandas as pd \n",
    "import numpy as np\n",
    "import scipy.stats as stats\n",
    "from scipy.stats import chisquare\n",
    "from sklearn.decomposition import PCA\n",
    "import matplotlib.pyplot as plt\n",
    "from sklearn.cluster import AgglomerativeClustering\n",
    "import seaborn as sns"
   ]
  },
  {
   "cell_type": "code",
   "execution_count": 14,
   "id": "9d4a6962",
   "metadata": {},
   "outputs": [],
   "source": [
    "data=pd.read_csv(r\"C:\\Users\\sudarson.SUDARSON\\Downloads\\test mach learn\\Paper2\\credit_card.csv\").replace(np.NaN,\"unknown\")"
   ]
  },
  {
   "cell_type": "code",
   "execution_count": 15,
   "id": "2d5e4900",
   "metadata": {},
   "outputs": [
    {
     "data": {
      "text/html": [
       "<div>\n",
       "<style scoped>\n",
       "    .dataframe tbody tr th:only-of-type {\n",
       "        vertical-align: middle;\n",
       "    }\n",
       "\n",
       "    .dataframe tbody tr th {\n",
       "        vertical-align: top;\n",
       "    }\n",
       "\n",
       "    .dataframe thead th {\n",
       "        text-align: right;\n",
       "    }\n",
       "</style>\n",
       "<table border=\"1\" class=\"dataframe\">\n",
       "  <thead>\n",
       "    <tr style=\"text-align: right;\">\n",
       "      <th></th>\n",
       "      <th>CUST_ID</th>\n",
       "      <th>BALANCE</th>\n",
       "      <th>BALANCE_FREQUENCY</th>\n",
       "      <th>PURCHASES</th>\n",
       "      <th>ONEOFF_PURCHASES</th>\n",
       "      <th>INSTALLMENTS_PURCHASES</th>\n",
       "      <th>CASH_ADVANCE</th>\n",
       "      <th>PURCHASES_FREQUENCY</th>\n",
       "      <th>ONEOFF_PURCHASES_FREQUENCY</th>\n",
       "      <th>PURCHASES_INSTALLMENTS_FREQUENCY</th>\n",
       "      <th>CASH_ADVANCE_FREQUENCY</th>\n",
       "      <th>CASH_ADVANCE_TRX</th>\n",
       "      <th>PURCHASES_TRX</th>\n",
       "      <th>CREDIT_LIMIT</th>\n",
       "      <th>PAYMENTS</th>\n",
       "      <th>MINIMUM_PAYMENTS</th>\n",
       "      <th>PRC_FULL_PAYMENT</th>\n",
       "      <th>TENURE</th>\n",
       "    </tr>\n",
       "  </thead>\n",
       "  <tbody>\n",
       "    <tr>\n",
       "      <th>0</th>\n",
       "      <td>C10001</td>\n",
       "      <td>40.900749</td>\n",
       "      <td>0.818182</td>\n",
       "      <td>95.40</td>\n",
       "      <td>0.00</td>\n",
       "      <td>95.4</td>\n",
       "      <td>0.000000</td>\n",
       "      <td>0.166667</td>\n",
       "      <td>0.000000</td>\n",
       "      <td>0.083333</td>\n",
       "      <td>0.000000</td>\n",
       "      <td>0</td>\n",
       "      <td>2</td>\n",
       "      <td>1000.0</td>\n",
       "      <td>201.802084</td>\n",
       "      <td>139.509787</td>\n",
       "      <td>0.000000</td>\n",
       "      <td>12</td>\n",
       "    </tr>\n",
       "    <tr>\n",
       "      <th>1</th>\n",
       "      <td>C10002</td>\n",
       "      <td>3202.467416</td>\n",
       "      <td>0.909091</td>\n",
       "      <td>0.00</td>\n",
       "      <td>0.00</td>\n",
       "      <td>0.0</td>\n",
       "      <td>6442.945483</td>\n",
       "      <td>0.000000</td>\n",
       "      <td>0.000000</td>\n",
       "      <td>0.000000</td>\n",
       "      <td>0.250000</td>\n",
       "      <td>4</td>\n",
       "      <td>0</td>\n",
       "      <td>7000.0</td>\n",
       "      <td>4103.032597</td>\n",
       "      <td>1072.340217</td>\n",
       "      <td>0.222222</td>\n",
       "      <td>12</td>\n",
       "    </tr>\n",
       "    <tr>\n",
       "      <th>2</th>\n",
       "      <td>C10003</td>\n",
       "      <td>2495.148862</td>\n",
       "      <td>1.000000</td>\n",
       "      <td>773.17</td>\n",
       "      <td>773.17</td>\n",
       "      <td>0.0</td>\n",
       "      <td>0.000000</td>\n",
       "      <td>1.000000</td>\n",
       "      <td>1.000000</td>\n",
       "      <td>0.000000</td>\n",
       "      <td>0.000000</td>\n",
       "      <td>0</td>\n",
       "      <td>12</td>\n",
       "      <td>7500.0</td>\n",
       "      <td>622.066742</td>\n",
       "      <td>627.284787</td>\n",
       "      <td>0.000000</td>\n",
       "      <td>12</td>\n",
       "    </tr>\n",
       "    <tr>\n",
       "      <th>3</th>\n",
       "      <td>C10004</td>\n",
       "      <td>1666.670542</td>\n",
       "      <td>0.636364</td>\n",
       "      <td>1499.00</td>\n",
       "      <td>1499.00</td>\n",
       "      <td>0.0</td>\n",
       "      <td>205.788017</td>\n",
       "      <td>0.083333</td>\n",
       "      <td>0.083333</td>\n",
       "      <td>0.000000</td>\n",
       "      <td>0.083333</td>\n",
       "      <td>1</td>\n",
       "      <td>1</td>\n",
       "      <td>7500.0</td>\n",
       "      <td>0.000000</td>\n",
       "      <td>unknown</td>\n",
       "      <td>0.000000</td>\n",
       "      <td>12</td>\n",
       "    </tr>\n",
       "    <tr>\n",
       "      <th>4</th>\n",
       "      <td>C10005</td>\n",
       "      <td>817.714335</td>\n",
       "      <td>1.000000</td>\n",
       "      <td>16.00</td>\n",
       "      <td>16.00</td>\n",
       "      <td>0.0</td>\n",
       "      <td>0.000000</td>\n",
       "      <td>0.083333</td>\n",
       "      <td>0.083333</td>\n",
       "      <td>0.000000</td>\n",
       "      <td>0.000000</td>\n",
       "      <td>0</td>\n",
       "      <td>1</td>\n",
       "      <td>1200.0</td>\n",
       "      <td>678.334763</td>\n",
       "      <td>244.791237</td>\n",
       "      <td>0.000000</td>\n",
       "      <td>12</td>\n",
       "    </tr>\n",
       "  </tbody>\n",
       "</table>\n",
       "</div>"
      ],
      "text/plain": [
       "  CUST_ID      BALANCE  BALANCE_FREQUENCY  PURCHASES  ONEOFF_PURCHASES  \\\n",
       "0  C10001    40.900749           0.818182      95.40              0.00   \n",
       "1  C10002  3202.467416           0.909091       0.00              0.00   \n",
       "2  C10003  2495.148862           1.000000     773.17            773.17   \n",
       "3  C10004  1666.670542           0.636364    1499.00           1499.00   \n",
       "4  C10005   817.714335           1.000000      16.00             16.00   \n",
       "\n",
       "   INSTALLMENTS_PURCHASES  CASH_ADVANCE  PURCHASES_FREQUENCY  \\\n",
       "0                    95.4      0.000000             0.166667   \n",
       "1                     0.0   6442.945483             0.000000   \n",
       "2                     0.0      0.000000             1.000000   \n",
       "3                     0.0    205.788017             0.083333   \n",
       "4                     0.0      0.000000             0.083333   \n",
       "\n",
       "   ONEOFF_PURCHASES_FREQUENCY  PURCHASES_INSTALLMENTS_FREQUENCY  \\\n",
       "0                    0.000000                          0.083333   \n",
       "1                    0.000000                          0.000000   \n",
       "2                    1.000000                          0.000000   \n",
       "3                    0.083333                          0.000000   \n",
       "4                    0.083333                          0.000000   \n",
       "\n",
       "   CASH_ADVANCE_FREQUENCY  CASH_ADVANCE_TRX  PURCHASES_TRX CREDIT_LIMIT  \\\n",
       "0                0.000000                 0              2       1000.0   \n",
       "1                0.250000                 4              0       7000.0   \n",
       "2                0.000000                 0             12       7500.0   \n",
       "3                0.083333                 1              1       7500.0   \n",
       "4                0.000000                 0              1       1200.0   \n",
       "\n",
       "      PAYMENTS MINIMUM_PAYMENTS  PRC_FULL_PAYMENT  TENURE  \n",
       "0   201.802084       139.509787          0.000000      12  \n",
       "1  4103.032597      1072.340217          0.222222      12  \n",
       "2   622.066742       627.284787          0.000000      12  \n",
       "3     0.000000          unknown          0.000000      12  \n",
       "4   678.334763       244.791237          0.000000      12  "
      ]
     },
     "execution_count": 15,
     "metadata": {},
     "output_type": "execute_result"
    }
   ],
   "source": [
    "data.head()"
   ]
  },
  {
   "cell_type": "code",
   "execution_count": 16,
   "id": "093da043",
   "metadata": {},
   "outputs": [
    {
     "data": {
      "text/plain": [
       "['CUST_ID',\n",
       " 'BALANCE',\n",
       " 'BALANCE_FREQUENCY',\n",
       " 'PURCHASES',\n",
       " 'ONEOFF_PURCHASES',\n",
       " 'INSTALLMENTS_PURCHASES',\n",
       " 'CASH_ADVANCE',\n",
       " 'PURCHASES_FREQUENCY',\n",
       " 'ONEOFF_PURCHASES_FREQUENCY',\n",
       " 'PURCHASES_INSTALLMENTS_FREQUENCY',\n",
       " 'CASH_ADVANCE_FREQUENCY',\n",
       " 'CASH_ADVANCE_TRX',\n",
       " 'PURCHASES_TRX',\n",
       " 'CREDIT_LIMIT',\n",
       " 'PAYMENTS',\n",
       " 'MINIMUM_PAYMENTS',\n",
       " 'PRC_FULL_PAYMENT',\n",
       " 'TENURE']"
      ]
     },
     "execution_count": 16,
     "metadata": {},
     "output_type": "execute_result"
    }
   ],
   "source": [
    "col = list(data.columns)\n",
    "col"
   ]
  },
  {
   "cell_type": "markdown",
   "id": "0306e3b4",
   "metadata": {},
   "source": [
    "<h1>missing value<h1>"
   ]
  },
  {
   "cell_type": "code",
   "execution_count": 17,
   "id": "f3a4192d",
   "metadata": {},
   "outputs": [
    {
     "name": "stdout",
     "output_type": "stream",
     "text": [
      "CREDIT_LIMIT 1\n",
      "MINIMUM_PAYMENTS 313\n"
     ]
    }
   ],
   "source": [
    "for i in range(0,len(col)):\n",
    "    if(data[data[col[i]]=='unknown'].shape[0]!=0):\n",
    "        print(col[i],data[data[col[i]]=='unknown'].shape[0])"
   ]
  },
  {
   "cell_type": "code",
   "execution_count": 18,
   "id": "68b22bd0",
   "metadata": {},
   "outputs": [
    {
     "data": {
      "text/plain": [
       "(8950, 18)"
      ]
     },
     "execution_count": 18,
     "metadata": {},
     "output_type": "execute_result"
    }
   ],
   "source": [
    "data.shape"
   ]
  },
  {
   "cell_type": "markdown",
   "id": "6085c740",
   "metadata": {},
   "source": [
    "<h1>zscore<h1>"
   ]
  },
  {
   "cell_type": "code",
   "execution_count": 19,
   "id": "a9907902",
   "metadata": {},
   "outputs": [],
   "source": [
    "data=pd.DataFrame(np.random.randint(0,10,size=(data.shape)),columns=col)"
   ]
  },
  {
   "cell_type": "code",
   "execution_count": 20,
   "id": "2b256384",
   "metadata": {},
   "outputs": [
    {
     "data": {
      "text/html": [
       "<div>\n",
       "<style scoped>\n",
       "    .dataframe tbody tr th:only-of-type {\n",
       "        vertical-align: middle;\n",
       "    }\n",
       "\n",
       "    .dataframe tbody tr th {\n",
       "        vertical-align: top;\n",
       "    }\n",
       "\n",
       "    .dataframe thead th {\n",
       "        text-align: right;\n",
       "    }\n",
       "</style>\n",
       "<table border=\"1\" class=\"dataframe\">\n",
       "  <thead>\n",
       "    <tr style=\"text-align: right;\">\n",
       "      <th></th>\n",
       "      <th>CUST_ID</th>\n",
       "      <th>BALANCE</th>\n",
       "      <th>BALANCE_FREQUENCY</th>\n",
       "      <th>PURCHASES</th>\n",
       "      <th>ONEOFF_PURCHASES</th>\n",
       "      <th>INSTALLMENTS_PURCHASES</th>\n",
       "      <th>CASH_ADVANCE</th>\n",
       "      <th>PURCHASES_FREQUENCY</th>\n",
       "      <th>ONEOFF_PURCHASES_FREQUENCY</th>\n",
       "      <th>PURCHASES_INSTALLMENTS_FREQUENCY</th>\n",
       "      <th>CASH_ADVANCE_FREQUENCY</th>\n",
       "      <th>CASH_ADVANCE_TRX</th>\n",
       "      <th>PURCHASES_TRX</th>\n",
       "      <th>CREDIT_LIMIT</th>\n",
       "      <th>PAYMENTS</th>\n",
       "      <th>MINIMUM_PAYMENTS</th>\n",
       "      <th>PRC_FULL_PAYMENT</th>\n",
       "      <th>TENURE</th>\n",
       "    </tr>\n",
       "  </thead>\n",
       "  <tbody>\n",
       "    <tr>\n",
       "      <th>0</th>\n",
       "      <td>0.864487</td>\n",
       "      <td>-1.566118</td>\n",
       "      <td>1.223868</td>\n",
       "      <td>-0.524651</td>\n",
       "      <td>-1.557307</td>\n",
       "      <td>-0.163954</td>\n",
       "      <td>-1.566369</td>\n",
       "      <td>0.863533</td>\n",
       "      <td>-1.218849</td>\n",
       "      <td>-1.553032</td>\n",
       "      <td>-0.202777</td>\n",
       "      <td>0.880762</td>\n",
       "      <td>0.166646</td>\n",
       "      <td>-0.179989</td>\n",
       "      <td>-0.183192</td>\n",
       "      <td>0.862537</td>\n",
       "      <td>0.169071</td>\n",
       "      <td>-1.238506</td>\n",
       "    </tr>\n",
       "    <tr>\n",
       "      <th>1</th>\n",
       "      <td>-1.220345</td>\n",
       "      <td>-1.566118</td>\n",
       "      <td>-1.566419</td>\n",
       "      <td>0.169814</td>\n",
       "      <td>0.177903</td>\n",
       "      <td>-0.512421</td>\n",
       "      <td>0.499147</td>\n",
       "      <td>0.518490</td>\n",
       "      <td>1.565226</td>\n",
       "      <td>1.572824</td>\n",
       "      <td>0.845059</td>\n",
       "      <td>0.182611</td>\n",
       "      <td>1.209882</td>\n",
       "      <td>-1.562443</td>\n",
       "      <td>-0.531739</td>\n",
       "      <td>1.562959</td>\n",
       "      <td>-1.228789</td>\n",
       "      <td>-0.180913</td>\n",
       "    </tr>\n",
       "    <tr>\n",
       "      <th>2</th>\n",
       "      <td>0.864487</td>\n",
       "      <td>0.875886</td>\n",
       "      <td>-1.217633</td>\n",
       "      <td>-0.524651</td>\n",
       "      <td>1.566070</td>\n",
       "      <td>-0.163954</td>\n",
       "      <td>-1.222117</td>\n",
       "      <td>-0.516640</td>\n",
       "      <td>0.521197</td>\n",
       "      <td>-0.511080</td>\n",
       "      <td>0.146502</td>\n",
       "      <td>1.578914</td>\n",
       "      <td>0.862137</td>\n",
       "      <td>-0.179989</td>\n",
       "      <td>0.165355</td>\n",
       "      <td>1.212748</td>\n",
       "      <td>1.566930</td>\n",
       "      <td>0.524148</td>\n",
       "    </tr>\n",
       "    <tr>\n",
       "      <th>3</th>\n",
       "      <td>-1.220345</td>\n",
       "      <td>-1.217260</td>\n",
       "      <td>-0.171275</td>\n",
       "      <td>-0.524651</td>\n",
       "      <td>-1.557307</td>\n",
       "      <td>0.532978</td>\n",
       "      <td>-0.189358</td>\n",
       "      <td>-1.206726</td>\n",
       "      <td>-1.218849</td>\n",
       "      <td>0.530872</td>\n",
       "      <td>1.543615</td>\n",
       "      <td>0.531687</td>\n",
       "      <td>-0.528845</td>\n",
       "      <td>-0.525603</td>\n",
       "      <td>-0.531739</td>\n",
       "      <td>-0.538308</td>\n",
       "      <td>-0.529859</td>\n",
       "      <td>-0.180913</td>\n",
       "    </tr>\n",
       "    <tr>\n",
       "      <th>4</th>\n",
       "      <td>0.864487</td>\n",
       "      <td>-0.868402</td>\n",
       "      <td>1.572654</td>\n",
       "      <td>-0.524651</td>\n",
       "      <td>-1.210265</td>\n",
       "      <td>-1.209354</td>\n",
       "      <td>-0.533611</td>\n",
       "      <td>0.173447</td>\n",
       "      <td>0.521197</td>\n",
       "      <td>0.530872</td>\n",
       "      <td>0.845059</td>\n",
       "      <td>-1.562766</td>\n",
       "      <td>0.514391</td>\n",
       "      <td>-0.525603</td>\n",
       "      <td>-0.183192</td>\n",
       "      <td>-1.238730</td>\n",
       "      <td>1.217465</td>\n",
       "      <td>0.171618</td>\n",
       "    </tr>\n",
       "    <tr>\n",
       "      <th>...</th>\n",
       "      <td>...</td>\n",
       "      <td>...</td>\n",
       "      <td>...</td>\n",
       "      <td>...</td>\n",
       "      <td>...</td>\n",
       "      <td>...</td>\n",
       "      <td>...</td>\n",
       "      <td>...</td>\n",
       "      <td>...</td>\n",
       "      <td>...</td>\n",
       "      <td>...</td>\n",
       "      <td>...</td>\n",
       "      <td>...</td>\n",
       "      <td>...</td>\n",
       "      <td>...</td>\n",
       "      <td>...</td>\n",
       "      <td>...</td>\n",
       "      <td>...</td>\n",
       "    </tr>\n",
       "    <tr>\n",
       "      <th>8945</th>\n",
       "      <td>-0.177929</td>\n",
       "      <td>-1.566118</td>\n",
       "      <td>-1.566419</td>\n",
       "      <td>-0.177418</td>\n",
       "      <td>0.871986</td>\n",
       "      <td>-1.209354</td>\n",
       "      <td>0.499147</td>\n",
       "      <td>-0.516640</td>\n",
       "      <td>1.565226</td>\n",
       "      <td>0.183554</td>\n",
       "      <td>1.543615</td>\n",
       "      <td>1.229838</td>\n",
       "      <td>-0.528845</td>\n",
       "      <td>-0.179989</td>\n",
       "      <td>-1.228833</td>\n",
       "      <td>-1.238730</td>\n",
       "      <td>1.217465</td>\n",
       "      <td>-1.591037</td>\n",
       "    </tr>\n",
       "    <tr>\n",
       "      <th>8946</th>\n",
       "      <td>0.864487</td>\n",
       "      <td>0.875886</td>\n",
       "      <td>1.572654</td>\n",
       "      <td>-0.871884</td>\n",
       "      <td>-0.169139</td>\n",
       "      <td>1.578378</td>\n",
       "      <td>0.154895</td>\n",
       "      <td>0.863533</td>\n",
       "      <td>-0.174821</td>\n",
       "      <td>-1.553032</td>\n",
       "      <td>-0.202777</td>\n",
       "      <td>-1.213691</td>\n",
       "      <td>-0.876591</td>\n",
       "      <td>-0.525603</td>\n",
       "      <td>-0.531739</td>\n",
       "      <td>0.862537</td>\n",
       "      <td>1.217465</td>\n",
       "      <td>-0.885975</td>\n",
       "    </tr>\n",
       "    <tr>\n",
       "      <th>8947</th>\n",
       "      <td>0.169543</td>\n",
       "      <td>0.527028</td>\n",
       "      <td>0.177511</td>\n",
       "      <td>1.558745</td>\n",
       "      <td>-1.557307</td>\n",
       "      <td>-0.860887</td>\n",
       "      <td>1.531906</td>\n",
       "      <td>-0.516640</td>\n",
       "      <td>-1.566859</td>\n",
       "      <td>-1.553032</td>\n",
       "      <td>-1.599890</td>\n",
       "      <td>-1.562766</td>\n",
       "      <td>1.209882</td>\n",
       "      <td>1.548077</td>\n",
       "      <td>-1.577380</td>\n",
       "      <td>-1.238730</td>\n",
       "      <td>0.169071</td>\n",
       "      <td>0.876679</td>\n",
       "    </tr>\n",
       "    <tr>\n",
       "      <th>8948</th>\n",
       "      <td>0.169543</td>\n",
       "      <td>1.573602</td>\n",
       "      <td>0.177511</td>\n",
       "      <td>-1.566349</td>\n",
       "      <td>-0.516181</td>\n",
       "      <td>-0.512421</td>\n",
       "      <td>-0.189358</td>\n",
       "      <td>-1.551769</td>\n",
       "      <td>-1.218849</td>\n",
       "      <td>0.183554</td>\n",
       "      <td>0.146502</td>\n",
       "      <td>0.880762</td>\n",
       "      <td>-1.572082</td>\n",
       "      <td>0.856851</td>\n",
       "      <td>-0.183192</td>\n",
       "      <td>-0.888519</td>\n",
       "      <td>-0.879324</td>\n",
       "      <td>1.581741</td>\n",
       "    </tr>\n",
       "    <tr>\n",
       "      <th>8949</th>\n",
       "      <td>-0.177929</td>\n",
       "      <td>0.178171</td>\n",
       "      <td>1.572654</td>\n",
       "      <td>-1.219116</td>\n",
       "      <td>-0.863223</td>\n",
       "      <td>0.184512</td>\n",
       "      <td>1.531906</td>\n",
       "      <td>-0.861683</td>\n",
       "      <td>0.869207</td>\n",
       "      <td>-0.511080</td>\n",
       "      <td>-0.552055</td>\n",
       "      <td>0.531687</td>\n",
       "      <td>0.166646</td>\n",
       "      <td>0.856851</td>\n",
       "      <td>-0.183192</td>\n",
       "      <td>0.162114</td>\n",
       "      <td>0.169071</td>\n",
       "      <td>-0.885975</td>\n",
       "    </tr>\n",
       "  </tbody>\n",
       "</table>\n",
       "<p>8950 rows × 18 columns</p>\n",
       "</div>"
      ],
      "text/plain": [
       "       CUST_ID   BALANCE  BALANCE_FREQUENCY  PURCHASES  ONEOFF_PURCHASES  \\\n",
       "0     0.864487 -1.566118           1.223868  -0.524651         -1.557307   \n",
       "1    -1.220345 -1.566118          -1.566419   0.169814          0.177903   \n",
       "2     0.864487  0.875886          -1.217633  -0.524651          1.566070   \n",
       "3    -1.220345 -1.217260          -0.171275  -0.524651         -1.557307   \n",
       "4     0.864487 -0.868402           1.572654  -0.524651         -1.210265   \n",
       "...        ...       ...                ...        ...               ...   \n",
       "8945 -0.177929 -1.566118          -1.566419  -0.177418          0.871986   \n",
       "8946  0.864487  0.875886           1.572654  -0.871884         -0.169139   \n",
       "8947  0.169543  0.527028           0.177511   1.558745         -1.557307   \n",
       "8948  0.169543  1.573602           0.177511  -1.566349         -0.516181   \n",
       "8949 -0.177929  0.178171           1.572654  -1.219116         -0.863223   \n",
       "\n",
       "      INSTALLMENTS_PURCHASES  CASH_ADVANCE  PURCHASES_FREQUENCY  \\\n",
       "0                  -0.163954     -1.566369             0.863533   \n",
       "1                  -0.512421      0.499147             0.518490   \n",
       "2                  -0.163954     -1.222117            -0.516640   \n",
       "3                   0.532978     -0.189358            -1.206726   \n",
       "4                  -1.209354     -0.533611             0.173447   \n",
       "...                      ...           ...                  ...   \n",
       "8945               -1.209354      0.499147            -0.516640   \n",
       "8946                1.578378      0.154895             0.863533   \n",
       "8947               -0.860887      1.531906            -0.516640   \n",
       "8948               -0.512421     -0.189358            -1.551769   \n",
       "8949                0.184512      1.531906            -0.861683   \n",
       "\n",
       "      ONEOFF_PURCHASES_FREQUENCY  PURCHASES_INSTALLMENTS_FREQUENCY  \\\n",
       "0                      -1.218849                         -1.553032   \n",
       "1                       1.565226                          1.572824   \n",
       "2                       0.521197                         -0.511080   \n",
       "3                      -1.218849                          0.530872   \n",
       "4                       0.521197                          0.530872   \n",
       "...                          ...                               ...   \n",
       "8945                    1.565226                          0.183554   \n",
       "8946                   -0.174821                         -1.553032   \n",
       "8947                   -1.566859                         -1.553032   \n",
       "8948                   -1.218849                          0.183554   \n",
       "8949                    0.869207                         -0.511080   \n",
       "\n",
       "      CASH_ADVANCE_FREQUENCY  CASH_ADVANCE_TRX  PURCHASES_TRX  CREDIT_LIMIT  \\\n",
       "0                  -0.202777          0.880762       0.166646     -0.179989   \n",
       "1                   0.845059          0.182611       1.209882     -1.562443   \n",
       "2                   0.146502          1.578914       0.862137     -0.179989   \n",
       "3                   1.543615          0.531687      -0.528845     -0.525603   \n",
       "4                   0.845059         -1.562766       0.514391     -0.525603   \n",
       "...                      ...               ...            ...           ...   \n",
       "8945                1.543615          1.229838      -0.528845     -0.179989   \n",
       "8946               -0.202777         -1.213691      -0.876591     -0.525603   \n",
       "8947               -1.599890         -1.562766       1.209882      1.548077   \n",
       "8948                0.146502          0.880762      -1.572082      0.856851   \n",
       "8949               -0.552055          0.531687       0.166646      0.856851   \n",
       "\n",
       "      PAYMENTS  MINIMUM_PAYMENTS  PRC_FULL_PAYMENT    TENURE  \n",
       "0    -0.183192          0.862537          0.169071 -1.238506  \n",
       "1    -0.531739          1.562959         -1.228789 -0.180913  \n",
       "2     0.165355          1.212748          1.566930  0.524148  \n",
       "3    -0.531739         -0.538308         -0.529859 -0.180913  \n",
       "4    -0.183192         -1.238730          1.217465  0.171618  \n",
       "...        ...               ...               ...       ...  \n",
       "8945 -1.228833         -1.238730          1.217465 -1.591037  \n",
       "8946 -0.531739          0.862537          1.217465 -0.885975  \n",
       "8947 -1.577380         -1.238730          0.169071  0.876679  \n",
       "8948 -0.183192         -0.888519         -0.879324  1.581741  \n",
       "8949 -0.183192          0.162114          0.169071 -0.885975  \n",
       "\n",
       "[8950 rows x 18 columns]"
      ]
     },
     "execution_count": 20,
     "metadata": {},
     "output_type": "execute_result"
    }
   ],
   "source": [
    "data.apply(stats.zscore)"
   ]
  },
  {
   "cell_type": "markdown",
   "id": "431fa873",
   "metadata": {},
   "source": [
    "<h1>correlation<h1>"
   ]
  },
  {
   "cell_type": "code",
   "execution_count": 98,
   "id": "a334db51",
   "metadata": {},
   "outputs": [
    {
     "data": {
      "text/plain": [
       "<AxesSubplot:>"
      ]
     },
     "execution_count": 98,
     "metadata": {},
     "output_type": "execute_result"
    },
    {
     "data": {
      "image/png": "[encoded data removed]",
      "text/plain": [
       "<Figure size 576x396 with 2 Axes>"
      ]
     },
     "metadata": {},
     "output_type": "display_data"
    }
   ],
   "source": [
    "corrmat = data.corr()\n",
    "\n",
    "sns.heatmap(corrmat,  cmap =\"YlGnBu\", linewidths = 0.1)"
   ]
  },
  {
   "cell_type": "code",
   "execution_count": 99,
   "id": "e18bf945",
   "metadata": {},
   "outputs": [
    {
     "data": {
      "text/plain": [
       "<AxesSubplot:>"
      ]
     },
     "execution_count": 99,
     "metadata": {},
     "output_type": "execute_result"
    },
    {
     "data": {
      "image/png": "[encoded data removed]",
      "text/plain": [
       "<Figure size 576x396 with 2 Axes>"
      ]
     },
     "metadata": {},
     "output_type": "display_data"
    }
   ],
   "source": [
    "sns.heatmap(corrmat )"
   ]
  },
  {
   "cell_type": "markdown",
   "id": "06a17739",
   "metadata": {},
   "source": [
    "<h1>The primary analysis of several categorical features reveal</h1>"
   ]
  },
  {
   "cell_type": "code",
   "execution_count": 21,
   "id": "ea4613cf",
   "metadata": {},
   "outputs": [
    {
     "name": "stdout",
     "output_type": "stream",
     "text": [
      "Power_divergenceResult(statistic=16428.87752271996, pvalue=0.0)\n"
     ]
    }
   ],
   "source": [
    "for i in range(0,len(col)):\n",
    "    if(col[i]==\"CUST_ID\"):\n",
    "        print(chisquare(data[col[i]]))"
   ]
  },
  {
   "cell_type": "code",
   "execution_count": 22,
   "id": "f1dc43aa",
   "metadata": {},
   "outputs": [
    {
     "data": {
      "text/plain": [
       "['CUST_ID',\n",
       " 'BALANCE',\n",
       " 'BALANCE_FREQUENCY',\n",
       " 'PURCHASES',\n",
       " 'ONEOFF_PURCHASES',\n",
       " 'INSTALLMENTS_PURCHASES',\n",
       " 'CASH_ADVANCE',\n",
       " 'PURCHASES_FREQUENCY',\n",
       " 'ONEOFF_PURCHASES_FREQUENCY',\n",
       " 'PURCHASES_INSTALLMENTS_FREQUENCY',\n",
       " 'CASH_ADVANCE_FREQUENCY',\n",
       " 'CASH_ADVANCE_TRX',\n",
       " 'PURCHASES_TRX',\n",
       " 'CREDIT_LIMIT',\n",
       " 'PAYMENTS',\n",
       " 'MINIMUM_PAYMENTS',\n",
       " 'PRC_FULL_PAYMENT',\n",
       " 'TENURE']"
      ]
     },
     "execution_count": 22,
     "metadata": {},
     "output_type": "execute_result"
    }
   ],
   "source": [
    "col = list(data.columns)\n",
    "col"
   ]
  },
  {
   "cell_type": "markdown",
   "id": "07b23f4c",
   "metadata": {},
   "source": [
    "<h1>pca<h1>"
   ]
  },
  {
   "cell_type": "code",
   "execution_count": 24,
   "id": "22f3030d",
   "metadata": {},
   "outputs": [],
   "source": [
    "pca = PCA()"
   ]
  },
  {
   "cell_type": "code",
   "execution_count": 25,
   "id": "5b3bac8a",
   "metadata": {},
   "outputs": [
    {
     "data": {
      "text/html": [
       "<style>#sk-container-id-1 {color: black;background-color: white;}#sk-container-id-1 pre{padding: 0;}#sk-container-id-1 div.sk-toggleable {background-color: white;}#sk-container-id-1 label.sk-toggleable__label {cursor: pointer;display: block;width: 100%;margin-bottom: 0;padding: 0.3em;box-sizing: border-box;text-align: center;}#sk-container-id-1 label.sk-toggleable__label-arrow:before {content: \"▸\";float: left;margin-right: 0.25em;color: #696969;}#sk-container-id-1 label.sk-toggleable__label-arrow:hover:before {color: black;}#sk-container-id-1 div.sk-estimator:hover label.sk-toggleable__label-arrow:before {color: black;}#sk-container-id-1 div.sk-toggleable__content {max-height: 0;max-width: 0;overflow: hidden;text-align: left;background-color: #f0f8ff;}#sk-container-id-1 div.sk-toggleable__content pre {margin: 0.2em;color: black;border-radius: 0.25em;background-color: #f0f8ff;}#sk-container-id-1 input.sk-toggleable__control:checked~div.sk-toggleable__content {max-height: 200px;max-width: 100%;overflow: auto;}#sk-container-id-1 input.sk-toggleable__control:checked~label.sk-toggleable__label-arrow:before {content: \"▾\";}#sk-container-id-1 div.sk-estimator input.sk-toggleable__control:checked~label.sk-toggleable__label {background-color: #d4ebff;}#sk-container-id-1 div.sk-label input.sk-toggleable__control:checked~label.sk-toggleable__label {background-color: #d4ebff;}#sk-container-id-1 input.sk-hidden--visually {border: 0;clip: rect(1px 1px 1px 1px);clip: rect(1px, 1px, 1px, 1px);height: 1px;margin: -1px;overflow: hidden;padding: 0;position: absolute;width: 1px;}#sk-container-id-1 div.sk-estimator {font-family: monospace;background-color: #f0f8ff;border: 1px dotted black;border-radius: 0.25em;box-sizing: border-box;margin-bottom: 0.5em;}#sk-container-id-1 div.sk-estimator:hover {background-color: #d4ebff;}#sk-container-id-1 div.sk-parallel-item::after {content: \"\";width: 100%;border-bottom: 1px solid gray;flex-grow: 1;}#sk-container-id-1 div.sk-label:hover label.sk-toggleable__label {background-color: #d4ebff;}#sk-container-id-1 div.sk-serial::before {content: \"\";position: absolute;border-left: 1px solid gray;box-sizing: border-box;top: 0;bottom: 0;left: 50%;z-index: 0;}#sk-container-id-1 div.sk-serial {display: flex;flex-direction: column;align-items: center;background-color: white;padding-right: 0.2em;padding-left: 0.2em;position: relative;}#sk-container-id-1 div.sk-item {position: relative;z-index: 1;}#sk-container-id-1 div.sk-parallel {display: flex;align-items: stretch;justify-content: center;background-color: white;position: relative;}#sk-container-id-1 div.sk-item::before, #sk-container-id-1 div.sk-parallel-item::before {content: \"\";position: absolute;border-left: 1px solid gray;box-sizing: border-box;top: 0;bottom: 0;left: 50%;z-index: -1;}#sk-container-id-1 div.sk-parallel-item {display: flex;flex-direction: column;z-index: 1;position: relative;background-color: white;}#sk-container-id-1 div.sk-parallel-item:first-child::after {align-self: flex-end;width: 50%;}#sk-container-id-1 div.sk-parallel-item:last-child::after {align-self: flex-start;width: 50%;}#sk-container-id-1 div.sk-parallel-item:only-child::after {width: 0;}#sk-container-id-1 div.sk-dashed-wrapped {border: 1px dashed gray;margin: 0 0.4em 0.5em 0.4em;box-sizing: border-box;padding-bottom: 0.4em;background-color: white;}#sk-container-id-1 div.sk-label label {font-family: monospace;font-weight: bold;display: inline-block;line-height: 1.2em;}#sk-container-id-1 div.sk-label-container {text-align: center;}#sk-container-id-1 div.sk-container {/* jupyter's `normalize.less` sets `[hidden] { display: none; }` but bootstrap.min.css set `[hidden] { display: none !important; }` so we also need the `!important` here to be able to override the default hidden behavior on the sphinx rendered scikit-learn.org. See: https://github.com/scikit-learn/scikit-learn/issues/21755 */display: inline-block !important;position: relative;}#sk-container-id-1 div.sk-text-repr-fallback {display: none;}</style><div id=\"sk-container-id-1\" class=\"sk-top-container\"><div class=\"sk-text-repr-fallback\"><pre>PCA()</pre><b>In a Jupyter environment, please rerun this cell to show the HTML representation or trust the notebook. <br />On GitHub, the HTML representation is unable to render, please try loading this page with nbviewer.org.</b></div><div class=\"sk-container\" hidden><div class=\"sk-item\"><div class=\"sk-estimator sk-toggleable\"><input class=\"sk-toggleable__control sk-hidden--visually\" id=\"sk-estimator-id-1\" type=\"checkbox\" checked><label for=\"sk-estimator-id-1\" class=\"sk-toggleable__label sk-toggleable__label-arrow\">PCA</label><div class=\"sk-toggleable__content\"><pre>PCA()</pre></div></div></div></div></div>"
      ],
      "text/plain": [
       "PCA()"
      ]
     },
     "execution_count": 25,
     "metadata": {},
     "output_type": "execute_result"
    }
   ],
   "source": [
    "pca.fit(data)"
   ]
  },
  {
   "cell_type": "code",
   "execution_count": 28,
   "id": "85df333e",
   "metadata": {},
   "outputs": [
    {
     "data": {
      "text/plain": [
       "[<matplotlib.lines.Line2D at 0x26cb940bdc0>]"
      ]
     },
     "execution_count": 28,
     "metadata": {},
     "output_type": "execute_result"
    },
    {
     "data": {
      "image/png": "[encoded data removed]",
      "text/plain": [
       "<Figure size 432x288 with 1 Axes>"
      ]
     },
     "metadata": {
      "needs_background": "light"
     },
     "output_type": "display_data"
    }
   ],
   "source": [
    "plt.plot(pca.explained_variance_ratio_)"
   ]
  },
  {
   "cell_type": "code",
   "execution_count": 29,
   "id": "8a22360c",
   "metadata": {},
   "outputs": [
    {
     "data": {
      "text/plain": [
       "[<matplotlib.lines.Line2D at 0x26cb9510550>]"
      ]
     },
     "execution_count": 29,
     "metadata": {},
     "output_type": "execute_result"
    },
    {
     "data": {
      "image/png": "[encoded data removed]",
      "text/plain": [
       "<Figure size 432x288 with 1 Axes>"
      ]
     },
     "metadata": {
      "needs_background": "light"
     },
     "output_type": "display_data"
    }
   ],
   "source": [
    "plt.plot(np.cumsum(pca.explained_variance_ratio_))"
   ]
  },
  {
   "cell_type": "markdown",
   "id": "ff8dfa1f",
   "metadata": {},
   "source": [
    "<h1>pca 95 %<h1>"
   ]
  },
  {
   "cell_type": "code",
   "execution_count": 31,
   "id": "7ae2aa1f",
   "metadata": {},
   "outputs": [],
   "source": [
    "pca=PCA(n_components=.95).fit(data)"
   ]
  },
  {
   "cell_type": "code",
   "execution_count": 32,
   "id": "195bc419",
   "metadata": {},
   "outputs": [],
   "source": [
    "cp=pca.transform(data)"
   ]
  },
  {
   "cell_type": "code",
   "execution_count": 33,
   "id": "1d16ff36",
   "metadata": {},
   "outputs": [],
   "source": [
    "cp=pd.DataFrame(cp)"
   ]
  },
  {
   "cell_type": "code",
   "execution_count": 34,
   "id": "57081faf",
   "metadata": {},
   "outputs": [
    {
     "data": {
      "text/html": [
       "<div>\n",
       "<style scoped>\n",
       "    .dataframe tbody tr th:only-of-type {\n",
       "        vertical-align: middle;\n",
       "    }\n",
       "\n",
       "    .dataframe tbody tr th {\n",
       "        vertical-align: top;\n",
       "    }\n",
       "\n",
       "    .dataframe thead th {\n",
       "        text-align: right;\n",
       "    }\n",
       "</style>\n",
       "<table border=\"1\" class=\"dataframe\">\n",
       "  <thead>\n",
       "    <tr style=\"text-align: right;\">\n",
       "      <th></th>\n",
       "      <th>0</th>\n",
       "      <th>1</th>\n",
       "      <th>2</th>\n",
       "      <th>3</th>\n",
       "      <th>4</th>\n",
       "      <th>5</th>\n",
       "      <th>6</th>\n",
       "      <th>7</th>\n",
       "      <th>8</th>\n",
       "      <th>9</th>\n",
       "      <th>10</th>\n",
       "      <th>11</th>\n",
       "      <th>12</th>\n",
       "      <th>13</th>\n",
       "      <th>14</th>\n",
       "      <th>15</th>\n",
       "      <th>16</th>\n",
       "      <th>17</th>\n",
       "    </tr>\n",
       "  </thead>\n",
       "  <tbody>\n",
       "    <tr>\n",
       "      <th>0</th>\n",
       "      <td>-3.826992</td>\n",
       "      <td>0.416108</td>\n",
       "      <td>1.225313</td>\n",
       "      <td>0.978365</td>\n",
       "      <td>-0.284793</td>\n",
       "      <td>-6.561662</td>\n",
       "      <td>-1.135631</td>\n",
       "      <td>-0.173083</td>\n",
       "      <td>-0.473455</td>\n",
       "      <td>3.326357</td>\n",
       "      <td>-1.773467</td>\n",
       "      <td>-3.477902</td>\n",
       "      <td>-5.293295</td>\n",
       "      <td>1.612167</td>\n",
       "      <td>-0.596511</td>\n",
       "      <td>-0.203772</td>\n",
       "      <td>3.915629</td>\n",
       "      <td>-3.469269</td>\n",
       "    </tr>\n",
       "    <tr>\n",
       "      <th>1</th>\n",
       "      <td>3.338962</td>\n",
       "      <td>5.787974</td>\n",
       "      <td>0.441102</td>\n",
       "      <td>2.146846</td>\n",
       "      <td>1.820649</td>\n",
       "      <td>3.185840</td>\n",
       "      <td>1.166048</td>\n",
       "      <td>0.429214</td>\n",
       "      <td>1.138619</td>\n",
       "      <td>1.708198</td>\n",
       "      <td>-0.611442</td>\n",
       "      <td>1.675074</td>\n",
       "      <td>-4.353076</td>\n",
       "      <td>-1.462200</td>\n",
       "      <td>5.611233</td>\n",
       "      <td>-6.026549</td>\n",
       "      <td>-3.325357</td>\n",
       "      <td>1.467891</td>\n",
       "    </tr>\n",
       "    <tr>\n",
       "      <th>2</th>\n",
       "      <td>-2.184196</td>\n",
       "      <td>0.269195</td>\n",
       "      <td>-1.489713</td>\n",
       "      <td>1.911627</td>\n",
       "      <td>-2.233761</td>\n",
       "      <td>2.741127</td>\n",
       "      <td>1.526116</td>\n",
       "      <td>-2.465354</td>\n",
       "      <td>-1.212199</td>\n",
       "      <td>6.844824</td>\n",
       "      <td>6.339595</td>\n",
       "      <td>1.802219</td>\n",
       "      <td>1.291339</td>\n",
       "      <td>0.984772</td>\n",
       "      <td>-0.363626</td>\n",
       "      <td>-0.714411</td>\n",
       "      <td>1.299021</td>\n",
       "      <td>-0.180188</td>\n",
       "    </tr>\n",
       "    <tr>\n",
       "      <th>3</th>\n",
       "      <td>1.931839</td>\n",
       "      <td>1.627457</td>\n",
       "      <td>-3.357490</td>\n",
       "      <td>-2.083417</td>\n",
       "      <td>2.238001</td>\n",
       "      <td>-5.531173</td>\n",
       "      <td>1.429949</td>\n",
       "      <td>0.233953</td>\n",
       "      <td>1.408718</td>\n",
       "      <td>-3.159829</td>\n",
       "      <td>1.337154</td>\n",
       "      <td>-2.503153</td>\n",
       "      <td>-3.318704</td>\n",
       "      <td>0.078451</td>\n",
       "      <td>-0.237749</td>\n",
       "      <td>-3.091826</td>\n",
       "      <td>0.421406</td>\n",
       "      <td>3.137388</td>\n",
       "    </tr>\n",
       "    <tr>\n",
       "      <th>4</th>\n",
       "      <td>-0.918910</td>\n",
       "      <td>-1.156624</td>\n",
       "      <td>2.976704</td>\n",
       "      <td>2.916302</td>\n",
       "      <td>3.113045</td>\n",
       "      <td>-1.594853</td>\n",
       "      <td>2.034173</td>\n",
       "      <td>0.870971</td>\n",
       "      <td>2.466410</td>\n",
       "      <td>0.242315</td>\n",
       "      <td>-5.443173</td>\n",
       "      <td>-0.555216</td>\n",
       "      <td>1.153240</td>\n",
       "      <td>3.250829</td>\n",
       "      <td>-4.109904</td>\n",
       "      <td>-2.459547</td>\n",
       "      <td>2.423524</td>\n",
       "      <td>2.920535</td>\n",
       "    </tr>\n",
       "  </tbody>\n",
       "</table>\n",
       "</div>"
      ],
      "text/plain": [
       "         0         1         2         3         4         5         6   \\\n",
       "0 -3.826992  0.416108  1.225313  0.978365 -0.284793 -6.561662 -1.135631   \n",
       "1  3.338962  5.787974  0.441102  2.146846  1.820649  3.185840  1.166048   \n",
       "2 -2.184196  0.269195 -1.489713  1.911627 -2.233761  2.741127  1.526116   \n",
       "3  1.931839  1.627457 -3.357490 -2.083417  2.238001 -5.531173  1.429949   \n",
       "4 -0.918910 -1.156624  2.976704  2.916302  3.113045 -1.594853  2.034173   \n",
       "\n",
       "         7         8         9         10        11        12        13  \\\n",
       "0 -0.173083 -0.473455  3.326357 -1.773467 -3.477902 -5.293295  1.612167   \n",
       "1  0.429214  1.138619  1.708198 -0.611442  1.675074 -4.353076 -1.462200   \n",
       "2 -2.465354 -1.212199  6.844824  6.339595  1.802219  1.291339  0.984772   \n",
       "3  0.233953  1.408718 -3.159829  1.337154 -2.503153 -3.318704  0.078451   \n",
       "4  0.870971  2.466410  0.242315 -5.443173 -0.555216  1.153240  3.250829   \n",
       "\n",
       "         14        15        16        17  \n",
       "0 -0.596511 -0.203772  3.915629 -3.469269  \n",
       "1  5.611233 -6.026549 -3.325357  1.467891  \n",
       "2 -0.363626 -0.714411  1.299021 -0.180188  \n",
       "3 -0.237749 -3.091826  0.421406  3.137388  \n",
       "4 -4.109904 -2.459547  2.423524  2.920535  "
      ]
     },
     "execution_count": 34,
     "metadata": {},
     "output_type": "execute_result"
    }
   ],
   "source": [
    "cp.head()"
   ]
  },
  {
   "cell_type": "code",
   "execution_count": null,
   "id": "f9000e41",
   "metadata": {},
   "outputs": [],
   "source": []
  },
  {
   "cell_type": "code",
   "execution_count": 68,
   "id": "5dd13a1c",
   "metadata": {},
   "outputs": [],
   "source": [
    "import matplotlib.pyplot as plt\n",
    "from matplotlib import style\n",
    "from sklearn.cluster import KMeans\n",
    "from sklearn.datasets import make_blobs\n",
    "from yellowbrick.cluster import SilhouetteVisualizer\n",
    "from sklearn.metrics import silhouette_samples,silhouette_score"
   ]
  },
  {
   "cell_type": "code",
   "execution_count": 50,
   "id": "4e26b6b7",
   "metadata": {},
   "outputs": [],
   "source": [
    "style.use(\"fivethirtyeight\")"
   ]
  },
  {
   "cell_type": "markdown",
   "id": "7e756a91",
   "metadata": {},
   "source": [
    "<h1>q4 elbow curve<h1>"
   ]
  },
  {
   "cell_type": "code",
   "execution_count": 52,
   "id": "e169792b",
   "metadata": {},
   "outputs": [
    {
     "data": {
      "image/png": "[encoded data removed]",
      "text/plain": [
       "<Figure size 432x288 with 1 Axes>"
      ]
     },
     "metadata": {},
     "output_type": "display_data"
    }
   ],
   "source": [
    "\n",
    "cost =[]\n",
    "for i in range(1, 11):\n",
    "    KM = KMeans(n_clusters = i, max_iter = 500)\n",
    "    KM.fit(data)\n",
    "     \n",
    "    # calculates squared error\n",
    "    # for the clustered points\n",
    "    cost.append(KM.inertia_)    \n",
    " \n",
    "# plot the cost against K values\n",
    "plt.plot(range(1, 11), cost, color ='g', linewidth ='3')\n",
    "plt.xlabel(\"Value of K\")\n",
    "plt.ylabel(\"Squared Error (Cost)\")\n",
    "plt.show() # clear the plot"
   ]
  },
  {
   "cell_type": "markdown",
   "id": "24c9e004",
   "metadata": {},
   "source": [
    "<h1>silhouttescore<h1>"
   ]
  },
  {
   "cell_type": "code",
   "execution_count": 80,
   "id": "8e6602e6",
   "metadata": {},
   "outputs": [
    {
     "data": {
      "text/plain": [
       "array([2, 1, 2, ..., 1, 1, 1])"
      ]
     },
     "execution_count": 80,
     "metadata": {},
     "output_type": "execute_result"
    }
   ],
   "source": [
    "km = KMeans(n_clusters=3, random_state=10)\n",
    "km.fit_predict(data)"
   ]
  },
  {
   "cell_type": "code",
   "execution_count": 81,
   "id": "9ee898e3",
   "metadata": {},
   "outputs": [],
   "source": [
    "score = silhouette_score(data, km.labels_,metric='euclidean')"
   ]
  },
  {
   "cell_type": "code",
   "execution_count": 82,
   "id": "6bd6bfda",
   "metadata": {},
   "outputs": [
    {
     "name": "stdout",
     "output_type": "stream",
     "text": [
      "Silhouetter Score: 0.036\n"
     ]
    }
   ],
   "source": [
    "print('Silhouetter Score: %.3f' % score)"
   ]
  },
  {
   "cell_type": "code",
   "execution_count": 85,
   "id": "bf557551",
   "metadata": {},
   "outputs": [
    {
     "data": {
      "text/html": [
       "<style>#sk-container-id-2 {color: black;background-color: white;}#sk-container-id-2 pre{padding: 0;}#sk-container-id-2 div.sk-toggleable {background-color: white;}#sk-container-id-2 label.sk-toggleable__label {cursor: pointer;display: block;width: 100%;margin-bottom: 0;padding: 0.3em;box-sizing: border-box;text-align: center;}#sk-container-id-2 label.sk-toggleable__label-arrow:before {content: \"▸\";float: left;margin-right: 0.25em;color: #696969;}#sk-container-id-2 label.sk-toggleable__label-arrow:hover:before {color: black;}#sk-container-id-2 div.sk-estimator:hover label.sk-toggleable__label-arrow:before {color: black;}#sk-container-id-2 div.sk-toggleable__content {max-height: 0;max-width: 0;overflow: hidden;text-align: left;background-color: #f0f8ff;}#sk-container-id-2 div.sk-toggleable__content pre {margin: 0.2em;color: black;border-radius: 0.25em;background-color: #f0f8ff;}#sk-container-id-2 input.sk-toggleable__control:checked~div.sk-toggleable__content {max-height: 200px;max-width: 100%;overflow: auto;}#sk-container-id-2 input.sk-toggleable__control:checked~label.sk-toggleable__label-arrow:before {content: \"▾\";}#sk-container-id-2 div.sk-estimator input.sk-toggleable__control:checked~label.sk-toggleable__label {background-color: #d4ebff;}#sk-container-id-2 div.sk-label input.sk-toggleable__control:checked~label.sk-toggleable__label {background-color: #d4ebff;}#sk-container-id-2 input.sk-hidden--visually {border: 0;clip: rect(1px 1px 1px 1px);clip: rect(1px, 1px, 1px, 1px);height: 1px;margin: -1px;overflow: hidden;padding: 0;position: absolute;width: 1px;}#sk-container-id-2 div.sk-estimator {font-family: monospace;background-color: #f0f8ff;border: 1px dotted black;border-radius: 0.25em;box-sizing: border-box;margin-bottom: 0.5em;}#sk-container-id-2 div.sk-estimator:hover {background-color: #d4ebff;}#sk-container-id-2 div.sk-parallel-item::after {content: \"\";width: 100%;border-bottom: 1px solid gray;flex-grow: 1;}#sk-container-id-2 div.sk-label:hover label.sk-toggleable__label {background-color: #d4ebff;}#sk-container-id-2 div.sk-serial::before {content: \"\";position: absolute;border-left: 1px solid gray;box-sizing: border-box;top: 0;bottom: 0;left: 50%;z-index: 0;}#sk-container-id-2 div.sk-serial {display: flex;flex-direction: column;align-items: center;background-color: white;padding-right: 0.2em;padding-left: 0.2em;position: relative;}#sk-container-id-2 div.sk-item {position: relative;z-index: 1;}#sk-container-id-2 div.sk-parallel {display: flex;align-items: stretch;justify-content: center;background-color: white;position: relative;}#sk-container-id-2 div.sk-item::before, #sk-container-id-2 div.sk-parallel-item::before {content: \"\";position: absolute;border-left: 1px solid gray;box-sizing: border-box;top: 0;bottom: 0;left: 50%;z-index: -1;}#sk-container-id-2 div.sk-parallel-item {display: flex;flex-direction: column;z-index: 1;position: relative;background-color: white;}#sk-container-id-2 div.sk-parallel-item:first-child::after {align-self: flex-end;width: 50%;}#sk-container-id-2 div.sk-parallel-item:last-child::after {align-self: flex-start;width: 50%;}#sk-container-id-2 div.sk-parallel-item:only-child::after {width: 0;}#sk-container-id-2 div.sk-dashed-wrapped {border: 1px dashed gray;margin: 0 0.4em 0.5em 0.4em;box-sizing: border-box;padding-bottom: 0.4em;background-color: white;}#sk-container-id-2 div.sk-label label {font-family: monospace;font-weight: bold;display: inline-block;line-height: 1.2em;}#sk-container-id-2 div.sk-label-container {text-align: center;}#sk-container-id-2 div.sk-container {/* jupyter's `normalize.less` sets `[hidden] { display: none; }` but bootstrap.min.css set `[hidden] { display: none !important; }` so we also need the `!important` here to be able to override the default hidden behavior on the sphinx rendered scikit-learn.org. See: https://github.com/scikit-learn/scikit-learn/issues/21755 */display: inline-block !important;position: relative;}#sk-container-id-2 div.sk-text-repr-fallback {display: none;}</style><div id=\"sk-container-id-2\" class=\"sk-top-container\"><div class=\"sk-text-repr-fallback\"><pre>AgglomerativeClustering(linkage=&#x27;single&#x27;, n_clusters=3)</pre><b>In a Jupyter environment, please rerun this cell to show the HTML representation or trust the notebook. <br />On GitHub, the HTML representation is unable to render, please try loading this page with nbviewer.org.</b></div><div class=\"sk-container\" hidden><div class=\"sk-item\"><div class=\"sk-estimator sk-toggleable\"><input class=\"sk-toggleable__control sk-hidden--visually\" id=\"sk-estimator-id-2\" type=\"checkbox\" checked><label for=\"sk-estimator-id-2\" class=\"sk-toggleable__label sk-toggleable__label-arrow\">AgglomerativeClustering</label><div class=\"sk-toggleable__content\"><pre>AgglomerativeClustering(linkage=&#x27;single&#x27;, n_clusters=3)</pre></div></div></div></div></div>"
      ],
      "text/plain": [
       "AgglomerativeClustering(linkage='single', n_clusters=3)"
      ]
     },
     "execution_count": 85,
     "metadata": {},
     "output_type": "execute_result"
    }
   ],
   "source": [
    "Cluster1= AgglomerativeClustering(n_clusters=3,affinity='euclidean',linkage='single')\n",
    "Cluster1.fit(data)"
   ]
  },
  {
   "cell_type": "code",
   "execution_count": null,
   "id": "3f041aa5",
   "metadata": {},
   "outputs": [],
   "source": []
  },
  {
   "cell_type": "code",
   "execution_count": null,
   "id": "bd0b0fc1",
   "metadata": {},
   "outputs": [],
   "source": []
  },
  {
   "cell_type": "code",
   "execution_count": null,
   "id": "efe3a7e7",
   "metadata": {},
   "outputs": [],
   "source": []
  }
 ],
 "metadata": {
  "kernelspec": {
   "display_name": "Python 3 (ipykernel)",
   "language": "python",
   "name": "python3"
  },
  "language_info": {
   "codemirror_mode": {
    "name": "ipython",
    "version": 3
   },
   "file_extension": ".py",
   "mimetype": "text/x-python",
   "name": "python",
   "nbconvert_exporter": "python",
   "pygments_lexer": "ipython3",
   "version": "3.9.7"
  }
 },
 "nbformat": 4,
 "nbformat_minor": 5
}
