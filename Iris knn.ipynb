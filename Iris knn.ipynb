{
 "cells": [
  {
   "cell_type": "code",
   "execution_count": 1,
   "id": "5fbc6e6b",
   "metadata": {},
   "outputs": [],
   "source": [
    "import pandas as pd\n",
    "from sklearn.svm import SVC\n",
    "from sklearn.neighbors import KNeighborsClassifier\n",
    "import numpy as np\n",
    "from sklearn.pipeline import make_pipeline\n",
    "from sklearn.preprocessing import StandardScaler,LabelEncoder\n",
    "from sklearn.svm import SVR,SVC\n",
    "from sklearn.model_selection import train_test_split\n",
    "import matplotlib.pyplot as plt\n",
    "from keras.models import Sequential\n",
    "import tensorflow as tf\n",
    "from tensorflow.keras import layers\n",
    "from tensorflow import keras\n",
    "from keras.layers import Dense,Activation\n"
   ]
  },
  {
   "cell_type": "code",
   "execution_count": 59,
   "id": "0ddb4798",
   "metadata": {},
   "outputs": [],
   "source": [
    "data=pd.read_csv(r\"C:\\Users\\sudarson.SUDARSON\\Downloads\\Iris.csv\")"
   ]
  },
  {
   "cell_type": "code",
   "execution_count": 60,
   "id": "fc784514",
   "metadata": {
    "scrolled": true
   },
   "outputs": [
    {
     "data": {
      "text/html": [
       "<div>\n",
       "<style scoped>\n",
       "    .dataframe tbody tr th:only-of-type {\n",
       "        vertical-align: middle;\n",
       "    }\n",
       "\n",
       "    .dataframe tbody tr th {\n",
       "        vertical-align: top;\n",
       "    }\n",
       "\n",
       "    .dataframe thead th {\n",
       "        text-align: right;\n",
       "    }\n",
       "</style>\n",
       "<table border=\"1\" class=\"dataframe\">\n",
       "  <thead>\n",
       "    <tr style=\"text-align: right;\">\n",
       "      <th></th>\n",
       "      <th>Id</th>\n",
       "      <th>SepalLengthCm</th>\n",
       "      <th>SepalWidthCm</th>\n",
       "      <th>PetalLengthCm</th>\n",
       "      <th>PetalWidthCm</th>\n",
       "      <th>Species</th>\n",
       "    </tr>\n",
       "  </thead>\n",
       "  <tbody>\n",
       "    <tr>\n",
       "      <th>0</th>\n",
       "      <td>1</td>\n",
       "      <td>5.1</td>\n",
       "      <td>3.5</td>\n",
       "      <td>1.4</td>\n",
       "      <td>0.2</td>\n",
       "      <td>Iris-setosa</td>\n",
       "    </tr>\n",
       "    <tr>\n",
       "      <th>1</th>\n",
       "      <td>2</td>\n",
       "      <td>4.9</td>\n",
       "      <td>3.0</td>\n",
       "      <td>1.4</td>\n",
       "      <td>0.2</td>\n",
       "      <td>Iris-setosa</td>\n",
       "    </tr>\n",
       "    <tr>\n",
       "      <th>2</th>\n",
       "      <td>3</td>\n",
       "      <td>4.7</td>\n",
       "      <td>3.2</td>\n",
       "      <td>1.3</td>\n",
       "      <td>0.2</td>\n",
       "      <td>Iris-setosa</td>\n",
       "    </tr>\n",
       "    <tr>\n",
       "      <th>3</th>\n",
       "      <td>4</td>\n",
       "      <td>4.6</td>\n",
       "      <td>3.1</td>\n",
       "      <td>1.5</td>\n",
       "      <td>0.2</td>\n",
       "      <td>Iris-setosa</td>\n",
       "    </tr>\n",
       "    <tr>\n",
       "      <th>4</th>\n",
       "      <td>5</td>\n",
       "      <td>5.0</td>\n",
       "      <td>3.6</td>\n",
       "      <td>1.4</td>\n",
       "      <td>0.2</td>\n",
       "      <td>Iris-setosa</td>\n",
       "    </tr>\n",
       "    <tr>\n",
       "      <th>...</th>\n",
       "      <td>...</td>\n",
       "      <td>...</td>\n",
       "      <td>...</td>\n",
       "      <td>...</td>\n",
       "      <td>...</td>\n",
       "      <td>...</td>\n",
       "    </tr>\n",
       "    <tr>\n",
       "      <th>145</th>\n",
       "      <td>146</td>\n",
       "      <td>6.7</td>\n",
       "      <td>3.0</td>\n",
       "      <td>5.2</td>\n",
       "      <td>2.3</td>\n",
       "      <td>Iris-virginica</td>\n",
       "    </tr>\n",
       "    <tr>\n",
       "      <th>146</th>\n",
       "      <td>147</td>\n",
       "      <td>6.3</td>\n",
       "      <td>2.5</td>\n",
       "      <td>5.0</td>\n",
       "      <td>1.9</td>\n",
       "      <td>Iris-virginica</td>\n",
       "    </tr>\n",
       "    <tr>\n",
       "      <th>147</th>\n",
       "      <td>148</td>\n",
       "      <td>6.5</td>\n",
       "      <td>3.0</td>\n",
       "      <td>5.2</td>\n",
       "      <td>2.0</td>\n",
       "      <td>Iris-virginica</td>\n",
       "    </tr>\n",
       "    <tr>\n",
       "      <th>148</th>\n",
       "      <td>149</td>\n",
       "      <td>6.2</td>\n",
       "      <td>3.4</td>\n",
       "      <td>5.4</td>\n",
       "      <td>2.3</td>\n",
       "      <td>Iris-virginica</td>\n",
       "    </tr>\n",
       "    <tr>\n",
       "      <th>149</th>\n",
       "      <td>150</td>\n",
       "      <td>5.9</td>\n",
       "      <td>3.0</td>\n",
       "      <td>5.1</td>\n",
       "      <td>1.8</td>\n",
       "      <td>Iris-virginica</td>\n",
       "    </tr>\n",
       "  </tbody>\n",
       "</table>\n",
       "<p>150 rows × 6 columns</p>\n",
       "</div>"
      ],
      "text/plain": [
       "      Id  SepalLengthCm  SepalWidthCm  PetalLengthCm  PetalWidthCm  \\\n",
       "0      1            5.1           3.5            1.4           0.2   \n",
       "1      2            4.9           3.0            1.4           0.2   \n",
       "2      3            4.7           3.2            1.3           0.2   \n",
       "3      4            4.6           3.1            1.5           0.2   \n",
       "4      5            5.0           3.6            1.4           0.2   \n",
       "..   ...            ...           ...            ...           ...   \n",
       "145  146            6.7           3.0            5.2           2.3   \n",
       "146  147            6.3           2.5            5.0           1.9   \n",
       "147  148            6.5           3.0            5.2           2.0   \n",
       "148  149            6.2           3.4            5.4           2.3   \n",
       "149  150            5.9           3.0            5.1           1.8   \n",
       "\n",
       "            Species  \n",
       "0       Iris-setosa  \n",
       "1       Iris-setosa  \n",
       "2       Iris-setosa  \n",
       "3       Iris-setosa  \n",
       "4       Iris-setosa  \n",
       "..              ...  \n",
       "145  Iris-virginica  \n",
       "146  Iris-virginica  \n",
       "147  Iris-virginica  \n",
       "148  Iris-virginica  \n",
       "149  Iris-virginica  \n",
       "\n",
       "[150 rows x 6 columns]"
      ]
     },
     "execution_count": 60,
     "metadata": {},
     "output_type": "execute_result"
    }
   ],
   "source": [
    "data"
   ]
  },
  {
   "cell_type": "code",
   "execution_count": 61,
   "id": "4c81ec41",
   "metadata": {},
   "outputs": [],
   "source": [
    "train=data.iloc[0:,[1,2,3,4]]\n",
    "test=data.Species"
   ]
  },
  {
   "cell_type": "code",
   "execution_count": 62,
   "id": "16a05d45",
   "metadata": {},
   "outputs": [
    {
     "data": {
      "text/html": [
       "<div>\n",
       "<style scoped>\n",
       "    .dataframe tbody tr th:only-of-type {\n",
       "        vertical-align: middle;\n",
       "    }\n",
       "\n",
       "    .dataframe tbody tr th {\n",
       "        vertical-align: top;\n",
       "    }\n",
       "\n",
       "    .dataframe thead th {\n",
       "        text-align: right;\n",
       "    }\n",
       "</style>\n",
       "<table border=\"1\" class=\"dataframe\">\n",
       "  <thead>\n",
       "    <tr style=\"text-align: right;\">\n",
       "      <th></th>\n",
       "      <th>SepalLengthCm</th>\n",
       "      <th>SepalWidthCm</th>\n",
       "      <th>PetalLengthCm</th>\n",
       "      <th>PetalWidthCm</th>\n",
       "    </tr>\n",
       "  </thead>\n",
       "  <tbody>\n",
       "    <tr>\n",
       "      <th>0</th>\n",
       "      <td>5.1</td>\n",
       "      <td>3.5</td>\n",
       "      <td>1.4</td>\n",
       "      <td>0.2</td>\n",
       "    </tr>\n",
       "    <tr>\n",
       "      <th>1</th>\n",
       "      <td>4.9</td>\n",
       "      <td>3.0</td>\n",
       "      <td>1.4</td>\n",
       "      <td>0.2</td>\n",
       "    </tr>\n",
       "    <tr>\n",
       "      <th>2</th>\n",
       "      <td>4.7</td>\n",
       "      <td>3.2</td>\n",
       "      <td>1.3</td>\n",
       "      <td>0.2</td>\n",
       "    </tr>\n",
       "    <tr>\n",
       "      <th>3</th>\n",
       "      <td>4.6</td>\n",
       "      <td>3.1</td>\n",
       "      <td>1.5</td>\n",
       "      <td>0.2</td>\n",
       "    </tr>\n",
       "    <tr>\n",
       "      <th>4</th>\n",
       "      <td>5.0</td>\n",
       "      <td>3.6</td>\n",
       "      <td>1.4</td>\n",
       "      <td>0.2</td>\n",
       "    </tr>\n",
       "  </tbody>\n",
       "</table>\n",
       "</div>"
      ],
      "text/plain": [
       "   SepalLengthCm  SepalWidthCm  PetalLengthCm  PetalWidthCm\n",
       "0            5.1           3.5            1.4           0.2\n",
       "1            4.9           3.0            1.4           0.2\n",
       "2            4.7           3.2            1.3           0.2\n",
       "3            4.6           3.1            1.5           0.2\n",
       "4            5.0           3.6            1.4           0.2"
      ]
     },
     "execution_count": 62,
     "metadata": {},
     "output_type": "execute_result"
    }
   ],
   "source": [
    "train.head()"
   ]
  },
  {
   "cell_type": "code",
   "execution_count": 63,
   "id": "fc319664",
   "metadata": {},
   "outputs": [
    {
     "data": {
      "text/plain": [
       "0    Iris-setosa\n",
       "1    Iris-setosa\n",
       "2    Iris-setosa\n",
       "3    Iris-setosa\n",
       "4    Iris-setosa\n",
       "Name: Species, dtype: object"
      ]
     },
     "execution_count": 63,
     "metadata": {},
     "output_type": "execute_result"
    }
   ],
   "source": [
    "test.head()"
   ]
  },
  {
   "cell_type": "code",
   "execution_count": 64,
   "id": "89b0012f",
   "metadata": {},
   "outputs": [],
   "source": [
    "trainx,testx = train_test_split(train,test_size = 0.2)\n",
    "trainy,testy = train_test_split(test ,test_size = 0.2)"
   ]
  },
  {
   "cell_type": "code",
   "execution_count": 65,
   "id": "103c81d6",
   "metadata": {},
   "outputs": [
    {
     "name": "stdout",
     "output_type": "stream",
     "text": [
      "[0.3, 0.36666666666666664, 0.4, 0.23333333333333334, 0.36666666666666664, 0.4, 0.36666666666666664, 0.5, 0.5, 0.43333333333333335, 0.5333333333333333, 0.43333333333333335, 0.5333333333333333, 0.4666666666666667, 0.5333333333333333, 0.5333333333333333, 0.4666666666666667, 0.5333333333333333, 0.5333333333333333, 0.5, 0.4, 0.5, 0.5, 0.4666666666666667, 0.43333333333333335, 0.43333333333333335, 0.4666666666666667, 0.4, 0.43333333333333335]\n"
     ]
    }
   ],
   "source": [
    "m=len(testx)\n",
    "score=[]\n",
    "for i in range(1,m):\n",
    "    neigh = KNeighborsClassifier(n_neighbors=i).fit(trainx,trainy)\n",
    "    score.append(neigh.score(testx,testy))\n",
    "print(score)\n"
   ]
  },
  {
   "cell_type": "code",
   "execution_count": null,
   "id": "5d8dfdbc",
   "metadata": {},
   "outputs": [],
   "source": []
  },
  {
   "cell_type": "code",
   "execution_count": 66,
   "id": "f3532e96",
   "metadata": {},
   "outputs": [
    {
     "data": {
      "text/plain": [
       "[<matplotlib.lines.Line2D at 0x2a6dc154250>]"
      ]
     },
     "execution_count": 66,
     "metadata": {},
     "output_type": "execute_result"
    },
    {
     "data": {
      "image/png": "[encoded data removed]",
      "text/plain": [
       "<Figure size 432x288 with 1 Axes>"
      ]
     },
     "metadata": {
      "needs_background": "light"
     },
     "output_type": "display_data"
    }
   ],
   "source": [
    "plt.plot(score)"
   ]
  },
  {
   "cell_type": "code",
   "execution_count": 67,
   "id": "8188cb5a",
   "metadata": {},
   "outputs": [],
   "source": [
    "neigh = KNeighborsClassifier(n_neighbors=15).fit(trainx,trainy)"
   ]
  },
  {
   "cell_type": "code",
   "execution_count": 68,
   "id": "c53c98ac",
   "metadata": {},
   "outputs": [
    {
     "data": {
      "text/plain": [
       "0.5333333333333333"
      ]
     },
     "execution_count": 68,
     "metadata": {},
     "output_type": "execute_result"
    }
   ],
   "source": [
    "neigh.score(testx,testy)"
   ]
  },
  {
   "cell_type": "code",
   "execution_count": 69,
   "id": "3ab15dae",
   "metadata": {},
   "outputs": [
    {
     "data": {
      "text/plain": [
       "Pipeline(steps=[('standardscaler', StandardScaler()),\n",
       "                ('svr', SVR(epsilon=0.2))])"
      ]
     },
     "execution_count": 69,
     "metadata": {},
     "output_type": "execute_result"
    }
   ],
   "source": [
    "n_samples, n_features = 10, 5\n",
    "rng = np.random.RandomState(0)\n",
    "y= rng.randn(n_samples)\n",
    "x= rng.randn(n_samples, n_features)\n",
    "svrr = make_pipeline(StandardScaler(), SVR(C=1.0, epsilon=0.2))\n",
    "svrr.fit(x, y)"
   ]
  },
  {
   "cell_type": "code",
   "execution_count": 70,
   "id": "e6c70b1c",
   "metadata": {},
   "outputs": [
    {
     "data": {
      "text/plain": [
       "\"\\nimport numpy as np\\nfrom sklearn.pipeline import make_pipeline\\nfrom sklearn.preprocessing import StandardScaler\\nX = np.array([[-1, -1], [-2, -1], [1, 1], [2, 1]])\\ny = np.array([1, 1, 2, 2])\\nfrom sklearn.svm import SVC\\nclf = make_pipeline(StandardScaler(), SVC(gamma='auto'))\\nclf.fit(X, y)\\nPipeline(steps=[('standardscaler', StandardScaler()),('svc', SVC(gamma='auto'))])\\n\""
      ]
     },
     "execution_count": 70,
     "metadata": {},
     "output_type": "execute_result"
    }
   ],
   "source": [
    "'''\n",
    ">>> import numpy as np\n",
    ">>> from sklearn.pipeline import make_pipeline\n",
    ">>> from sklearn.preprocessing import StandardScaler\n",
    ">>> X = np.array([[-1, -1], [-2, -1], [1, 1], [2, 1]])\n",
    ">>> y = np.array([1, 1, 2, 2])\n",
    ">>> from sklearn.svm import SVC\n",
    ">>> clf = make_pipeline(StandardScaler(), SVC(gamma='auto'))\n",
    ">>> clf.fit(X, y)\n",
    "Pipeline(steps=[('standardscaler', StandardScaler()),('svc', SVC(gamma='auto'))])\n",
    "'''"
   ]
  },
  {
   "cell_type": "code",
   "execution_count": 71,
   "id": "eda68879",
   "metadata": {},
   "outputs": [],
   "source": [
    "clf = make_pipeline(StandardScaler(), SVC(gamma='auto'))"
   ]
  },
  {
   "cell_type": "code",
   "execution_count": 72,
   "id": "23a59973",
   "metadata": {},
   "outputs": [
    {
     "data": {
      "text/plain": [
       "Pipeline(steps=[('standardscaler', StandardScaler()),\n",
       "                ('svc', SVC(gamma='auto'))])"
      ]
     },
     "execution_count": 72,
     "metadata": {},
     "output_type": "execute_result"
    }
   ],
   "source": [
    "clf.fit(trainx,trainy)"
   ]
  },
  {
   "cell_type": "code",
   "execution_count": 73,
   "id": "e2a833e3",
   "metadata": {},
   "outputs": [
    {
     "data": {
      "text/plain": [
       "array(['Iris-virginica', 'Iris-versicolor', 'Iris-setosa',\n",
       "       'Iris-versicolor', 'Iris-versicolor', 'Iris-setosa',\n",
       "       'Iris-virginica', 'Iris-virginica', 'Iris-virginica',\n",
       "       'Iris-versicolor', 'Iris-versicolor', 'Iris-virginica',\n",
       "       'Iris-versicolor', 'Iris-versicolor', 'Iris-virginica',\n",
       "       'Iris-versicolor', 'Iris-virginica', 'Iris-virginica',\n",
       "       'Iris-virginica', 'Iris-setosa', 'Iris-virginica',\n",
       "       'Iris-versicolor', 'Iris-virginica', 'Iris-virginica',\n",
       "       'Iris-virginica', 'Iris-virginica', 'Iris-virginica',\n",
       "       'Iris-virginica', 'Iris-setosa', 'Iris-versicolor'], dtype=object)"
      ]
     },
     "execution_count": 73,
     "metadata": {},
     "output_type": "execute_result"
    }
   ],
   "source": [
    "clf.predict(testx)"
   ]
  },
  {
   "cell_type": "code",
   "execution_count": 74,
   "id": "9c9212a6",
   "metadata": {},
   "outputs": [],
   "source": [
    "x=data.iloc[0:,1:5]\n",
    "y=data.iloc[0:,5]"
   ]
  },
  {
   "cell_type": "code",
   "execution_count": 75,
   "id": "53868d10",
   "metadata": {},
   "outputs": [],
   "source": [
    "y=LabelEncoder().fit_transform(y)"
   ]
  },
  {
   "cell_type": "code",
   "execution_count": null,
   "id": "05bfa9d0",
   "metadata": {},
   "outputs": [],
   "source": []
  },
  {
   "cell_type": "code",
   "execution_count": 76,
   "id": "aa06954b",
   "metadata": {},
   "outputs": [],
   "source": [
    "model = keras.Sequential()"
   ]
  },
  {
   "cell_type": "code",
   "execution_count": 77,
   "id": "c3ba7096",
   "metadata": {},
   "outputs": [],
   "source": [
    "model.add(Dense(10,input_dim=4,activation=\"relu\"))\n",
    "model.add(Dense(20,activation=\"relu\"))\n",
    "model.add(Dense(13,activation=\"relu\"))\n",
    "model.compile(loss='binary_crossentropy',optimizer='adam',metrics=['accuracy'])"
   ]
  },
  {
   "cell_type": "code",
   "execution_count": 78,
   "id": "dc5cdcaa",
   "metadata": {},
   "outputs": [
    {
     "name": "stdout",
     "output_type": "stream",
     "text": [
      "Epoch 1/50\n",
      "5/5 [==============================] - 1s 4ms/step - loss: 8.3243 - accuracy: 0.0000e+00\n",
      "Epoch 2/50\n",
      "5/5 [==============================] - 0s 2ms/step - loss: 7.6871 - accuracy: 0.0000e+00\n",
      "Epoch 3/50\n",
      "5/5 [==============================] - 0s 4ms/step - loss: 7.5543 - accuracy: 0.0000e+00\n",
      "Epoch 4/50\n",
      "5/5 [==============================] - 0s 4ms/step - loss: 7.3890 - accuracy: 0.0000e+00\n",
      "Epoch 5/50\n",
      "5/5 [==============================] - 0s 4ms/step - loss: 7.0893 - accuracy: 0.0000e+00\n",
      "Epoch 6/50\n",
      "5/5 [==============================] - 0s 2ms/step - loss: 6.9465 - accuracy: 0.0000e+00\n",
      "Epoch 7/50\n",
      "5/5 [==============================] - 0s 4ms/step - loss: 6.8716 - accuracy: 0.0000e+00\n",
      "Epoch 8/50\n",
      "5/5 [==============================] - 0s 2ms/step - loss: 6.7786 - accuracy: 0.0000e+00\n",
      "Epoch 9/50\n",
      "5/5 [==============================] - 0s 2ms/step - loss: 6.6524 - accuracy: 0.0000e+00\n",
      "Epoch 10/50\n",
      "5/5 [==============================] - 0s 4ms/step - loss: 6.5238 - accuracy: 0.0000e+00\n",
      "Epoch 11/50\n",
      "5/5 [==============================] - 0s 4ms/step - loss: 6.4502 - accuracy: 0.0000e+00\n",
      "Epoch 12/50\n",
      "5/5 [==============================] - 0s 2ms/step - loss: 6.3567 - accuracy: 0.0000e+00\n",
      "Epoch 13/50\n",
      "5/5 [==============================] - 0s 4ms/step - loss: 6.2190 - accuracy: 0.0000e+00\n",
      "Epoch 14/50\n",
      "5/5 [==============================] - 0s 2ms/step - loss: 6.0091 - accuracy: 0.0000e+00\n",
      "Epoch 15/50\n",
      "5/5 [==============================] - 0s 4ms/step - loss: 5.9122 - accuracy: 0.0000e+00\n",
      "Epoch 16/50\n",
      "5/5 [==============================] - 0s 2ms/step - loss: 5.8339 - accuracy: 0.0000e+00\n",
      "Epoch 17/50\n",
      "5/5 [==============================] - 0s 2ms/step - loss: 5.6231 - accuracy: 0.0000e+00\n",
      "Epoch 18/50\n",
      "5/5 [==============================] - 0s 4ms/step - loss: 5.4553 - accuracy: 0.0000e+00\n",
      "Epoch 19/50\n",
      "5/5 [==============================] - 0s 2ms/step - loss: 5.4204 - accuracy: 0.0000e+00\n",
      "Epoch 20/50\n",
      "5/5 [==============================] - 0s 4ms/step - loss: 5.3818 - accuracy: 0.0000e+00\n",
      "Epoch 21/50\n",
      "5/5 [==============================] - 0s 4ms/step - loss: 5.3655 - accuracy: 0.0000e+00\n",
      "Epoch 22/50\n",
      "5/5 [==============================] - 0s 2ms/step - loss: 5.3457 - accuracy: 0.0000e+00\n",
      "Epoch 23/50\n",
      "5/5 [==============================] - 0s 4ms/step - loss: 5.3279 - accuracy: 0.0000e+00\n",
      "Epoch 24/50\n",
      "5/5 [==============================] - 0s 2ms/step - loss: 5.3120 - accuracy: 0.0000e+00\n",
      "Epoch 25/50\n",
      "5/5 [==============================] - 0s 2ms/step - loss: 5.3021 - accuracy: 0.0000e+00\n",
      "Epoch 26/50\n",
      "5/5 [==============================] - 0s 4ms/step - loss: 5.2982 - accuracy: 0.0000e+00\n",
      "Epoch 27/50\n",
      "5/5 [==============================] - 0s 2ms/step - loss: 5.2945 - accuracy: 0.0000e+00\n",
      "Epoch 28/50\n",
      "5/5 [==============================] - 0s 4ms/step - loss: 5.3020 - accuracy: 0.0000e+00\n",
      "Epoch 29/50\n",
      "5/5 [==============================] - 0s 2ms/step - loss: 5.2945 - accuracy: 0.0000e+00\n",
      "Epoch 30/50\n",
      "5/5 [==============================] - 0s 4ms/step - loss: 5.2918 - accuracy: 0.0000e+00\n",
      "Epoch 31/50\n",
      "5/5 [==============================] - 0s 2ms/step - loss: 5.2854 - accuracy: 0.0000e+00\n",
      "Epoch 32/50\n",
      "5/5 [==============================] - 0s 4ms/step - loss: 5.2832 - accuracy: 0.0000e+00\n",
      "Epoch 33/50\n",
      "5/5 [==============================] - 0s 4ms/step - loss: 5.2827 - accuracy: 0.0000e+00\n",
      "Epoch 34/50\n",
      "5/5 [==============================] - 0s 4ms/step - loss: 5.2894 - accuracy: 0.0000e+00\n",
      "Epoch 35/50\n",
      "5/5 [==============================] - 0s 4ms/step - loss: 5.2944 - accuracy: 0.0000e+00\n",
      "Epoch 36/50\n",
      "5/5 [==============================] - 0s 2ms/step - loss: 5.2947 - accuracy: 0.0000e+00\n",
      "Epoch 37/50\n",
      "5/5 [==============================] - 0s 4ms/step - loss: 5.2886 - accuracy: 0.0000e+00\n",
      "Epoch 38/50\n",
      "5/5 [==============================] - 0s 2ms/step - loss: 5.2862 - accuracy: 0.0000e+00\n",
      "Epoch 39/50\n",
      "5/5 [==============================] - 0s 2ms/step - loss: 5.2834 - accuracy: 0.0000e+00\n",
      "Epoch 40/50\n",
      "5/5 [==============================] - 0s 4ms/step - loss: 5.2807 - accuracy: 0.0000e+00\n",
      "Epoch 41/50\n",
      "5/5 [==============================] - 0s 2ms/step - loss: 5.2819 - accuracy: 0.0000e+00\n",
      "Epoch 42/50\n",
      "5/5 [==============================] - 0s 4ms/step - loss: 5.2763 - accuracy: 0.0000e+00\n",
      "Epoch 43/50\n",
      "5/5 [==============================] - 0s 4ms/step - loss: 5.2751 - accuracy: 0.0000e+00\n",
      "Epoch 44/50\n",
      "5/5 [==============================] - 0s 2ms/step - loss: 5.2688 - accuracy: 0.0000e+00\n",
      "Epoch 45/50\n",
      "5/5 [==============================] - 0s 2ms/step - loss: 5.2720 - accuracy: 0.0000e+00\n",
      "Epoch 46/50\n",
      "5/5 [==============================] - 0s 4ms/step - loss: 5.2661 - accuracy: 0.0000e+00\n",
      "Epoch 47/50\n",
      "5/5 [==============================] - 0s 4ms/step - loss: 5.2642 - accuracy: 0.0000e+00\n",
      "Epoch 48/50\n",
      "5/5 [==============================] - 0s 2ms/step - loss: 5.2623 - accuracy: 0.0000e+00\n",
      "Epoch 49/50\n",
      "5/5 [==============================] - 0s 4ms/step - loss: 5.2601 - accuracy: 0.0000e+00\n",
      "Epoch 50/50\n",
      "5/5 [==============================] - 0s 4ms/step - loss: 5.2581 - accuracy: 0.0000e+00\n"
     ]
    },
    {
     "data": {
      "text/plain": [
       "<keras.callbacks.History at 0x2a6dd1f9eb0>"
      ]
     },
     "execution_count": 78,
     "metadata": {},
     "output_type": "execute_result"
    }
   ],
   "source": [
    "model.fit(x,y,epochs=50)"
   ]
  },
  {
   "cell_type": "code",
   "execution_count": 79,
   "id": "abfaa6b7",
   "metadata": {},
   "outputs": [
    {
     "name": "stdout",
     "output_type": "stream",
     "text": [
      "Model: \"sequential_2\"\n",
      "_________________________________________________________________\n",
      " Layer (type)                Output Shape              Param #   \n",
      "=================================================================\n",
      " dense_18 (Dense)            (None, 10)                50        \n",
      "                                                                 \n",
      " dense_19 (Dense)            (None, 20)                220       \n",
      "                                                                 \n",
      " dense_20 (Dense)            (None, 13)                273       \n",
      "                                                                 \n",
      " input_4 (InputLayer)        multiple                  0         \n",
      "                                                                 \n",
      " dense_21 (Dense)            (None, 8)                 112       \n",
      "                                                                 \n",
      "=================================================================\n",
      "Total params: 655\n",
      "Trainable params: 655\n",
      "Non-trainable params: 0\n",
      "_________________________________________________________________\n"
     ]
    }
   ],
   "source": [
    "model.add(keras.Input(shape=(4,)))\n",
    "model.add(layers.Dense(8, activation=\"relu\"))\n",
    "\n",
    "model.summary()"
   ]
  },
  {
   "cell_type": "code",
   "execution_count": 80,
   "id": "cce550b1",
   "metadata": {},
   "outputs": [
    {
     "name": "stdout",
     "output_type": "stream",
     "text": [
      "5/5 [==============================] - 0s 2ms/step - loss: 8.1010 - accuracy: 0.3333\n"
     ]
    },
    {
     "data": {
      "text/plain": [
       "[8.100994110107422, 0.3333333432674408]"
      ]
     },
     "execution_count": 80,
     "metadata": {},
     "output_type": "execute_result"
    }
   ],
   "source": [
    "model.evaluate(x,y)"
   ]
  },
  {
   "cell_type": "code",
   "execution_count": 81,
   "id": "ee03a546",
   "metadata": {},
   "outputs": [
    {
     "data": {
      "text/plain": [
       "'\\n\\nmodel.add(Dense(8,input_dim=4))\\nmodel.add(Activation(\"relu\"))\\n\\nmodel.add(Dense(32))\\nmodel.add(Activation(\"relu\"))\\n\\nmodel.add(Dense(8))\\nmodel.add(Activation(\"relu\"))\\n\\nmodel.compile(loss=\\'binary_crossentropy\\',optimizer=\\'adam\\',metrics=[\\'accuracy\\'])'"
      ]
     },
     "execution_count": 81,
     "metadata": {},
     "output_type": "execute_result"
    }
   ],
   "source": [
    "'''\n",
    "\n",
    "model.add(Dense(8,input_dim=4))\n",
    "model.add(Activation(\"relu\"))\n",
    "\n",
    "model.add(Dense(32))\n",
    "model.add(Activation(\"relu\"))\n",
    "\n",
    "model.add(Dense(8))\n",
    "model.add(Activation(\"relu\"))\n",
    "\n",
    "model.compile(loss='binary_crossentropy',optimizer='adam',metrics=['accuracy'])'''"
   ]
  },
  {
   "cell_type": "code",
   "execution_count": null,
   "id": "3d261ba7",
   "metadata": {},
   "outputs": [],
   "source": []
  },
  {
   "cell_type": "code",
   "execution_count": null,
   "id": "e9772f83",
   "metadata": {},
   "outputs": [],
   "source": []
  },
  {
   "cell_type": "code",
   "execution_count": null,
   "id": "7fd2ea12",
   "metadata": {},
   "outputs": [],
   "source": []
  }
 ],
 "metadata": {
  "kernelspec": {
   "display_name": "Python 3 (ipykernel)",
   "language": "python",
   "name": "python3"
  },
  "language_info": {
   "codemirror_mode": {
    "name": "ipython",
    "version": 3
   },
   "file_extension": ".py",
   "mimetype": "text/x-python",
   "name": "python",
   "nbconvert_exporter": "python",
   "pygments_lexer": "ipython3",
   "version": "3.9.7"
  }
 },
 "nbformat": 4,
 "nbformat_minor": 5
}
